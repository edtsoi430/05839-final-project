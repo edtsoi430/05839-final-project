{
 "cells": [
  {
   "cell_type": "markdown",
   "metadata": {
    "hideCode": false,
    "hidePrompt": false
   },
   "source": [
    "# 05839 Final Project - Part 1 EDA\n",
    "## Zhaoyi Ma, Ed Tsoi, Jiawei Ni, Yuzong Gao (Group 18)\n",
    "\n",
    "### Median rental price data across different states in the United States from 2014-2019\n",
    "\n",
    "\n",
    "### Goals of our work:\n",
    "- 2020-2021 is certainly a crazy year to be in. With the COVID-19 pandemic still ongoing, numerous lives have been lost and the world's economy has been hit extremely hard. To help people determine how the world's changing condition would affect the median rental price in the city that they want to live in, we have examined both the Federal Reserve's interest rate data and the zillow house price data (which includes median rental prices for different apartments). Through our work, we hope to:\n",
    "1. Help our audience visualize whether there is a correlation between federal reserve's interest rate and the median rental price.\n",
    "2. Help our audience determine what factors (e.g. state, metro, region, #of bedrooms) will affect rental price the most.\n",
    "3. Help our audience predict future median rental price in their city, using our pre-trained machine learning model.\n",
    "\n",
    "### Approach:\n",
    "1. We hope to use the story-telling techniques learned in class, and combine the two datasets below to draw compelling graphs that will help our audience understand the relationship between federal reserve interest rate and the median rental price.\n",
    "\n",
    "2. We used statistical analysis (feature selection) technique to help our audience understand how these external factors impact median rental price.\n",
    "\n",
    "3. We will use a pre-trained, machine learning model that will predict rental price based on information such as # of bedrooms, city, county, state, regionName etc.\n",
    "\n",
    "### Source - datasets used:\n",
    "1. Zillow house price data (https://www.kaggle.com/paultimothymooney/zillow-house-price-data)\n",
    "2. Federal Reserve Interest rates, 1954-Present (https://www.kaggle.com/federalreserve/interest-rates)"
   ]
  },
  {
   "cell_type": "markdown",
   "metadata": {
    "hideCode": false,
    "hidePrompt": false
   },
   "source": [
    "### Issues Summary:\n",
    "1. After carefully inspect the dataset, we found that column A contains 0-index of the entries(rows). However, this is not useful for our analysis so we decided to drop it.\n",
    "2. We also found that there are a lot of NaN values in our datasets. \n",
    "3. Based on the result from the univariate analysis below, among the top 15 states, states such as CA, FL and TX have more entries than others, which could lead to skewness on interpretation of the data"
   ]
  },
  {
   "cell_type": "code",
   "execution_count": 85,
   "metadata": {
    "hideCode": false,
    "hidePrompt": false
   },
   "outputs": [],
   "source": [
    "import numpy as np\n",
    "import pandas as pd\n",
    "import plotly.express as px\n",
    "import chart_studio\n",
    "import datetime\n",
    "from plotly.subplots import make_subplots\n",
    "import matplotlib.pyplot as plt\n",
    "import seaborn as sns\n",
    "from sklearn.feature_selection import chi2\n",
    "from sklearn.preprocessing import LabelEncoder\n",
    "from sklearn.linear_model import LinearRegression\n",
    "import plotly.graph_objects as go\n",
    "\n",
    "plt.style.use('fivethirtyeight')\n",
    "sns.set_style('white')\n",
    "\n",
    "# Login to chart_studio\n",
    "user_name, api_key = \"edtsoi430\", \"9AJEw9U4i66g6Ut85M3U\"\n",
    "chart_studio.tools.set_credentials_file(username=user_name, api_key=api_key)\n",
    "\n",
    "import chart_studio.plotly as py\n",
    "import chart_studio.tools as tls"
   ]
  },
  {
   "cell_type": "code",
   "execution_count": 30,
   "metadata": {
    "hideCode": false,
    "hidePrompt": false
   },
   "outputs": [],
   "source": [
    "# Colors for plotting:\n",
    "colors1 = ['#e6ccb2','#b08968','#7f5539'] \n",
    "colors2 = ['#ede0d4','#e6ccb2','#ddb892','#b08968','#7f5539','#9c6644','#dda15e']"
   ]
  },
  {
   "cell_type": "code",
   "execution_count": 31,
   "metadata": {
    "hideCode": false,
    "hidePrompt": false
   },
   "outputs": [
    {
     "data": {
      "text/html": [
       "<div>\n",
       "<style scoped>\n",
       "    .dataframe tbody tr th:only-of-type {\n",
       "        vertical-align: middle;\n",
       "    }\n",
       "\n",
       "    .dataframe tbody tr th {\n",
       "        vertical-align: top;\n",
       "    }\n",
       "\n",
       "    .dataframe thead th {\n",
       "        text-align: right;\n",
       "    }\n",
       "</style>\n",
       "<table border=\"1\" class=\"dataframe\">\n",
       "  <thead>\n",
       "    <tr style=\"text-align: right;\">\n",
       "      <th></th>\n",
       "      <th>Unnamed: 0 (int64)</th>\n",
       "      <th>RegionName (object)</th>\n",
       "      <th>State (object)</th>\n",
       "      <th>Metro (object)</th>\n",
       "      <th>CountyName (object)</th>\n",
       "      <th>SizeRank (int64)</th>\n",
       "      <th>2010-02 (float64)</th>\n",
       "      <th>2010-03 (float64)</th>\n",
       "      <th>2010-04 (float64)</th>\n",
       "      <th>2010-05 (float64)</th>\n",
       "      <th>...</th>\n",
       "      <th>2019-03 (float64)</th>\n",
       "      <th>2019-04 (float64)</th>\n",
       "      <th>2019-05 (float64)</th>\n",
       "      <th>2019-06 (float64)</th>\n",
       "      <th>2019-07 (float64)</th>\n",
       "      <th>2019-08 (float64)</th>\n",
       "      <th>2019-09 (float64)</th>\n",
       "      <th>2019-10 (float64)</th>\n",
       "      <th>2019-11 (float64)</th>\n",
       "      <th>2019-12 (float64)</th>\n",
       "    </tr>\n",
       "  </thead>\n",
       "  <tbody>\n",
       "    <tr>\n",
       "      <th>0</th>\n",
       "      <td>0</td>\n",
       "      <td>New York</td>\n",
       "      <td>NY</td>\n",
       "      <td>New York-Newark-Jersey City</td>\n",
       "      <td>Queens County</td>\n",
       "      <td>1</td>\n",
       "      <td>NaN</td>\n",
       "      <td>NaN</td>\n",
       "      <td>NaN</td>\n",
       "      <td>2250.0</td>\n",
       "      <td>...</td>\n",
       "      <td>2350.0</td>\n",
       "      <td>2400.0</td>\n",
       "      <td>2400.0</td>\n",
       "      <td>2450.0</td>\n",
       "      <td>2450.0</td>\n",
       "      <td>2475.0</td>\n",
       "      <td>2475.0</td>\n",
       "      <td>2400.0</td>\n",
       "      <td>2400.0</td>\n",
       "      <td>2425.0</td>\n",
       "    </tr>\n",
       "    <tr>\n",
       "      <th>1</th>\n",
       "      <td>1</td>\n",
       "      <td>Los Angeles</td>\n",
       "      <td>CA</td>\n",
       "      <td>Los Angeles-Long Beach-Anaheim</td>\n",
       "      <td>Los Angeles County</td>\n",
       "      <td>2</td>\n",
       "      <td>NaN</td>\n",
       "      <td>NaN</td>\n",
       "      <td>NaN</td>\n",
       "      <td>NaN</td>\n",
       "      <td>...</td>\n",
       "      <td>2360.0</td>\n",
       "      <td>2395.0</td>\n",
       "      <td>2370.0</td>\n",
       "      <td>2395.0</td>\n",
       "      <td>2395.0</td>\n",
       "      <td>2400.0</td>\n",
       "      <td>2425.0</td>\n",
       "      <td>2350.0</td>\n",
       "      <td>2330.0</td>\n",
       "      <td>2340.0</td>\n",
       "    </tr>\n",
       "    <tr>\n",
       "      <th>2</th>\n",
       "      <td>2</td>\n",
       "      <td>Houston</td>\n",
       "      <td>TX</td>\n",
       "      <td>Houston-The Woodlands-Sugar Land</td>\n",
       "      <td>Harris County</td>\n",
       "      <td>3</td>\n",
       "      <td>NaN</td>\n",
       "      <td>NaN</td>\n",
       "      <td>NaN</td>\n",
       "      <td>NaN</td>\n",
       "      <td>...</td>\n",
       "      <td>1265.0</td>\n",
       "      <td>1270.0</td>\n",
       "      <td>1269.0</td>\n",
       "      <td>1286.0</td>\n",
       "      <td>1275.0</td>\n",
       "      <td>1275.0</td>\n",
       "      <td>1270.0</td>\n",
       "      <td>1264.0</td>\n",
       "      <td>1245.0</td>\n",
       "      <td>1249.0</td>\n",
       "    </tr>\n",
       "    <tr>\n",
       "      <th>3</th>\n",
       "      <td>3</td>\n",
       "      <td>Chicago</td>\n",
       "      <td>IL</td>\n",
       "      <td>Chicago-Naperville-Elgin</td>\n",
       "      <td>Cook County</td>\n",
       "      <td>4</td>\n",
       "      <td>NaN</td>\n",
       "      <td>NaN</td>\n",
       "      <td>NaN</td>\n",
       "      <td>NaN</td>\n",
       "      <td>...</td>\n",
       "      <td>1695.0</td>\n",
       "      <td>1650.0</td>\n",
       "      <td>1650.0</td>\n",
       "      <td>1634.0</td>\n",
       "      <td>1600.0</td>\n",
       "      <td>1582.0</td>\n",
       "      <td>1595.0</td>\n",
       "      <td>1542.0</td>\n",
       "      <td>1550.0</td>\n",
       "      <td>1550.0</td>\n",
       "    </tr>\n",
       "    <tr>\n",
       "      <th>4</th>\n",
       "      <td>4</td>\n",
       "      <td>San Antonio</td>\n",
       "      <td>TX</td>\n",
       "      <td>San Antonio-New Braunfels</td>\n",
       "      <td>Bexar County</td>\n",
       "      <td>5</td>\n",
       "      <td>NaN</td>\n",
       "      <td>NaN</td>\n",
       "      <td>NaN</td>\n",
       "      <td>NaN</td>\n",
       "      <td>...</td>\n",
       "      <td>985.0</td>\n",
       "      <td>981.0</td>\n",
       "      <td>985.0</td>\n",
       "      <td>999.0</td>\n",
       "      <td>1000.0</td>\n",
       "      <td>1000.0</td>\n",
       "      <td>991.0</td>\n",
       "      <td>985.0</td>\n",
       "      <td>974.5</td>\n",
       "      <td>967.5</td>\n",
       "    </tr>\n",
       "  </tbody>\n",
       "</table>\n",
       "<p>5 rows × 125 columns</p>\n",
       "</div>"
      ],
      "text/plain": [
       "   Unnamed: 0 (int64) RegionName (object) State (object)  \\\n",
       "0                   0            New York             NY   \n",
       "1                   1         Los Angeles             CA   \n",
       "2                   2             Houston             TX   \n",
       "3                   3             Chicago             IL   \n",
       "4                   4         San Antonio             TX   \n",
       "\n",
       "                     Metro (object) CountyName (object)  SizeRank (int64)  \\\n",
       "0       New York-Newark-Jersey City       Queens County                 1   \n",
       "1    Los Angeles-Long Beach-Anaheim  Los Angeles County                 2   \n",
       "2  Houston-The Woodlands-Sugar Land       Harris County                 3   \n",
       "3          Chicago-Naperville-Elgin         Cook County                 4   \n",
       "4         San Antonio-New Braunfels        Bexar County                 5   \n",
       "\n",
       "   2010-02 (float64)  2010-03 (float64)  2010-04 (float64)  2010-05 (float64)  \\\n",
       "0                NaN                NaN                NaN             2250.0   \n",
       "1                NaN                NaN                NaN                NaN   \n",
       "2                NaN                NaN                NaN                NaN   \n",
       "3                NaN                NaN                NaN                NaN   \n",
       "4                NaN                NaN                NaN                NaN   \n",
       "\n",
       "   ...  2019-03 (float64)  2019-04 (float64)  2019-05 (float64)  \\\n",
       "0  ...             2350.0             2400.0             2400.0   \n",
       "1  ...             2360.0             2395.0             2370.0   \n",
       "2  ...             1265.0             1270.0             1269.0   \n",
       "3  ...             1695.0             1650.0             1650.0   \n",
       "4  ...              985.0              981.0              985.0   \n",
       "\n",
       "   2019-06 (float64)  2019-07 (float64)  2019-08 (float64)  2019-09 (float64)  \\\n",
       "0             2450.0             2450.0             2475.0             2475.0   \n",
       "1             2395.0             2395.0             2400.0             2425.0   \n",
       "2             1286.0             1275.0             1275.0             1270.0   \n",
       "3             1634.0             1600.0             1582.0             1595.0   \n",
       "4              999.0             1000.0             1000.0              991.0   \n",
       "\n",
       "   2019-10 (float64)  2019-11 (float64)  2019-12 (float64)  \n",
       "0             2400.0             2400.0             2425.0  \n",
       "1             2350.0             2330.0             2340.0  \n",
       "2             1264.0             1245.0             1249.0  \n",
       "3             1542.0             1550.0             1550.0  \n",
       "4              985.0              974.5              967.5  \n",
       "\n",
       "[5 rows x 125 columns]"
      ]
     },
     "execution_count": 31,
     "metadata": {},
     "output_type": "execute_result"
    }
   ],
   "source": [
    "# Loading data and converting column name to visualize data type easily.\n",
    "one_bed = pd.read_csv('dataset/City_MedianRentalPrice_1Bedroom.csv')\n",
    "one_bed.rename(columns = {\n",
    "    col : f\"{col} ({dtype})\"\n",
    "    for col, dtype in one_bed.dtypes.to_dict().items()\n",
    "}).head()"
   ]
  },
  {
   "cell_type": "markdown",
   "metadata": {
    "hideCode": false,
    "hidePrompt": false
   },
   "source": [
    "## Part A - Data Cleaning for One Bedroom dataset"
   ]
  },
  {
   "cell_type": "markdown",
   "metadata": {
    "hideCode": false,
    "hidePrompt": false
   },
   "source": [
    "### Data Cleaning:\n",
    "**Unnamed**: this column serves as an index column which is not necessarily needed and actually redundant as we can view and manipulate with the indice by using Jupyter's built-in features. So to keep the chart simple, it is dropped.\n",
    "\n",
    "**Data of Months**: As the scope of this project only covers data from Jan 2014 to Dec 2019, data prior to this range (2010 to 2013)is dropped. We also noticed that there are tons of *NaN*, we decided to skip them while calculating. The main reason for not using mean/median to fill them out is that they could potentially destruct the variance of the data and thus lead to an underestimate of standard errors, which is crucial for analysis.\n",
    "\n"
   ]
  },
  {
   "cell_type": "code",
   "execution_count": 32,
   "metadata": {
    "hideCode": false,
    "hidePrompt": false
   },
   "outputs": [
    {
     "data": {
      "text/plain": [
       "(818, 125)"
      ]
     },
     "execution_count": 32,
     "metadata": {},
     "output_type": "execute_result"
    }
   ],
   "source": [
    "# Print the number of rows and columns\n",
    "one_bed.shape"
   ]
  },
  {
   "cell_type": "code",
   "execution_count": 33,
   "metadata": {
    "hideCode": false,
    "hidePrompt": false
   },
   "outputs": [
    {
     "data": {
      "text/html": [
       "<div>\n",
       "<style scoped>\n",
       "    .dataframe tbody tr th:only-of-type {\n",
       "        vertical-align: middle;\n",
       "    }\n",
       "\n",
       "    .dataframe tbody tr th {\n",
       "        vertical-align: top;\n",
       "    }\n",
       "\n",
       "    .dataframe thead th {\n",
       "        text-align: right;\n",
       "    }\n",
       "</style>\n",
       "<table border=\"1\" class=\"dataframe\">\n",
       "  <thead>\n",
       "    <tr style=\"text-align: right;\">\n",
       "      <th></th>\n",
       "      <th>Unnamed: 0</th>\n",
       "      <th>RegionName</th>\n",
       "      <th>State</th>\n",
       "      <th>Metro</th>\n",
       "      <th>CountyName</th>\n",
       "      <th>SizeRank</th>\n",
       "      <th>2010-02</th>\n",
       "      <th>2010-03</th>\n",
       "      <th>2010-04</th>\n",
       "      <th>2010-05</th>\n",
       "      <th>...</th>\n",
       "      <th>2019-03</th>\n",
       "      <th>2019-04</th>\n",
       "      <th>2019-05</th>\n",
       "      <th>2019-06</th>\n",
       "      <th>2019-07</th>\n",
       "      <th>2019-08</th>\n",
       "      <th>2019-09</th>\n",
       "      <th>2019-10</th>\n",
       "      <th>2019-11</th>\n",
       "      <th>2019-12</th>\n",
       "    </tr>\n",
       "  </thead>\n",
       "  <tbody>\n",
       "    <tr>\n",
       "      <th>0</th>\n",
       "      <td>0</td>\n",
       "      <td>New York</td>\n",
       "      <td>NY</td>\n",
       "      <td>New York-Newark-Jersey City</td>\n",
       "      <td>Queens County</td>\n",
       "      <td>1</td>\n",
       "      <td>NaN</td>\n",
       "      <td>NaN</td>\n",
       "      <td>NaN</td>\n",
       "      <td>2250.0</td>\n",
       "      <td>...</td>\n",
       "      <td>2350.0</td>\n",
       "      <td>2400.0</td>\n",
       "      <td>2400.0</td>\n",
       "      <td>2450.0</td>\n",
       "      <td>2450.0</td>\n",
       "      <td>2475.0</td>\n",
       "      <td>2475.0</td>\n",
       "      <td>2400.0</td>\n",
       "      <td>2400.0</td>\n",
       "      <td>2425.0</td>\n",
       "    </tr>\n",
       "    <tr>\n",
       "      <th>1</th>\n",
       "      <td>1</td>\n",
       "      <td>Los Angeles</td>\n",
       "      <td>CA</td>\n",
       "      <td>Los Angeles-Long Beach-Anaheim</td>\n",
       "      <td>Los Angeles County</td>\n",
       "      <td>2</td>\n",
       "      <td>NaN</td>\n",
       "      <td>NaN</td>\n",
       "      <td>NaN</td>\n",
       "      <td>NaN</td>\n",
       "      <td>...</td>\n",
       "      <td>2360.0</td>\n",
       "      <td>2395.0</td>\n",
       "      <td>2370.0</td>\n",
       "      <td>2395.0</td>\n",
       "      <td>2395.0</td>\n",
       "      <td>2400.0</td>\n",
       "      <td>2425.0</td>\n",
       "      <td>2350.0</td>\n",
       "      <td>2330.0</td>\n",
       "      <td>2340.0</td>\n",
       "    </tr>\n",
       "    <tr>\n",
       "      <th>2</th>\n",
       "      <td>2</td>\n",
       "      <td>Houston</td>\n",
       "      <td>TX</td>\n",
       "      <td>Houston-The Woodlands-Sugar Land</td>\n",
       "      <td>Harris County</td>\n",
       "      <td>3</td>\n",
       "      <td>NaN</td>\n",
       "      <td>NaN</td>\n",
       "      <td>NaN</td>\n",
       "      <td>NaN</td>\n",
       "      <td>...</td>\n",
       "      <td>1265.0</td>\n",
       "      <td>1270.0</td>\n",
       "      <td>1269.0</td>\n",
       "      <td>1286.0</td>\n",
       "      <td>1275.0</td>\n",
       "      <td>1275.0</td>\n",
       "      <td>1270.0</td>\n",
       "      <td>1264.0</td>\n",
       "      <td>1245.0</td>\n",
       "      <td>1249.0</td>\n",
       "    </tr>\n",
       "    <tr>\n",
       "      <th>3</th>\n",
       "      <td>3</td>\n",
       "      <td>Chicago</td>\n",
       "      <td>IL</td>\n",
       "      <td>Chicago-Naperville-Elgin</td>\n",
       "      <td>Cook County</td>\n",
       "      <td>4</td>\n",
       "      <td>NaN</td>\n",
       "      <td>NaN</td>\n",
       "      <td>NaN</td>\n",
       "      <td>NaN</td>\n",
       "      <td>...</td>\n",
       "      <td>1695.0</td>\n",
       "      <td>1650.0</td>\n",
       "      <td>1650.0</td>\n",
       "      <td>1634.0</td>\n",
       "      <td>1600.0</td>\n",
       "      <td>1582.0</td>\n",
       "      <td>1595.0</td>\n",
       "      <td>1542.0</td>\n",
       "      <td>1550.0</td>\n",
       "      <td>1550.0</td>\n",
       "    </tr>\n",
       "    <tr>\n",
       "      <th>4</th>\n",
       "      <td>4</td>\n",
       "      <td>San Antonio</td>\n",
       "      <td>TX</td>\n",
       "      <td>San Antonio-New Braunfels</td>\n",
       "      <td>Bexar County</td>\n",
       "      <td>5</td>\n",
       "      <td>NaN</td>\n",
       "      <td>NaN</td>\n",
       "      <td>NaN</td>\n",
       "      <td>NaN</td>\n",
       "      <td>...</td>\n",
       "      <td>985.0</td>\n",
       "      <td>981.0</td>\n",
       "      <td>985.0</td>\n",
       "      <td>999.0</td>\n",
       "      <td>1000.0</td>\n",
       "      <td>1000.0</td>\n",
       "      <td>991.0</td>\n",
       "      <td>985.0</td>\n",
       "      <td>974.5</td>\n",
       "      <td>967.5</td>\n",
       "    </tr>\n",
       "  </tbody>\n",
       "</table>\n",
       "<p>5 rows × 125 columns</p>\n",
       "</div>"
      ],
      "text/plain": [
       "   Unnamed: 0   RegionName State                             Metro  \\\n",
       "0           0     New York    NY       New York-Newark-Jersey City   \n",
       "1           1  Los Angeles    CA    Los Angeles-Long Beach-Anaheim   \n",
       "2           2      Houston    TX  Houston-The Woodlands-Sugar Land   \n",
       "3           3      Chicago    IL          Chicago-Naperville-Elgin   \n",
       "4           4  San Antonio    TX         San Antonio-New Braunfels   \n",
       "\n",
       "           CountyName  SizeRank  2010-02  2010-03  2010-04  2010-05  ...  \\\n",
       "0       Queens County         1      NaN      NaN      NaN   2250.0  ...   \n",
       "1  Los Angeles County         2      NaN      NaN      NaN      NaN  ...   \n",
       "2       Harris County         3      NaN      NaN      NaN      NaN  ...   \n",
       "3         Cook County         4      NaN      NaN      NaN      NaN  ...   \n",
       "4        Bexar County         5      NaN      NaN      NaN      NaN  ...   \n",
       "\n",
       "   2019-03  2019-04  2019-05  2019-06  2019-07  2019-08  2019-09  2019-10  \\\n",
       "0   2350.0   2400.0   2400.0   2450.0   2450.0   2475.0   2475.0   2400.0   \n",
       "1   2360.0   2395.0   2370.0   2395.0   2395.0   2400.0   2425.0   2350.0   \n",
       "2   1265.0   1270.0   1269.0   1286.0   1275.0   1275.0   1270.0   1264.0   \n",
       "3   1695.0   1650.0   1650.0   1634.0   1600.0   1582.0   1595.0   1542.0   \n",
       "4    985.0    981.0    985.0    999.0   1000.0   1000.0    991.0    985.0   \n",
       "\n",
       "   2019-11  2019-12  \n",
       "0   2400.0   2425.0  \n",
       "1   2330.0   2340.0  \n",
       "2   1245.0   1249.0  \n",
       "3   1550.0   1550.0  \n",
       "4    974.5    967.5  \n",
       "\n",
       "[5 rows x 125 columns]"
      ]
     },
     "execution_count": 33,
     "metadata": {},
     "output_type": "execute_result"
    }
   ],
   "source": [
    "one_bed.head()"
   ]
  },
  {
   "cell_type": "code",
   "execution_count": 34,
   "metadata": {
    "hideCode": false,
    "hidePrompt": false
   },
   "outputs": [],
   "source": [
    "# Drop column A (unnamed)\n",
    "one_bed = one_bed.iloc[:, 1:]\n",
    "# Drop columns from 2010-02 to 2013-12\n",
    "dropped_columns = ['2010-02', '2010-03', '2010-04', '2010-05', '2010-06', '2010-07', '2010-08', '2010-09', '2010-10', '2010-11', '2010-12', \n",
    "                   '2011-01', '2011-02', '2011-03', '2011-04', '2011-05', '2011-06', '2011-07', '2011-08', '2011-09', '2011-10', '2011-11', '2011-12',\n",
    "                   '2012-01', '2012-02', '2012-03', '2012-04', '2012-05', '2012-06', '2012-07', '2012-08', '2012-09', '2012-10', '2012-11', '2012-12',\n",
    "                   '2013-01', '2013-02', '2013-03', '2013-04', '2013-05', '2013-06', '2013-07', '2013-08', '2013-09', '2013-10', '2013-11', '2013-12']\n",
    "one_bed = one_bed.drop(columns=dropped_columns)"
   ]
  },
  {
   "cell_type": "code",
   "execution_count": 35,
   "metadata": {
    "hideCode": false,
    "hidePrompt": false
   },
   "outputs": [
    {
     "data": {
      "text/html": [
       "<div>\n",
       "<style scoped>\n",
       "    .dataframe tbody tr th:only-of-type {\n",
       "        vertical-align: middle;\n",
       "    }\n",
       "\n",
       "    .dataframe tbody tr th {\n",
       "        vertical-align: top;\n",
       "    }\n",
       "\n",
       "    .dataframe thead th {\n",
       "        text-align: right;\n",
       "    }\n",
       "</style>\n",
       "<table border=\"1\" class=\"dataframe\">\n",
       "  <thead>\n",
       "    <tr style=\"text-align: right;\">\n",
       "      <th></th>\n",
       "      <th>RegionName</th>\n",
       "      <th>State</th>\n",
       "      <th>Metro</th>\n",
       "      <th>CountyName</th>\n",
       "      <th>SizeRank</th>\n",
       "      <th>2014-01</th>\n",
       "      <th>2014-02</th>\n",
       "      <th>2014-03</th>\n",
       "      <th>2014-04</th>\n",
       "      <th>2014-05</th>\n",
       "      <th>...</th>\n",
       "      <th>2019-03</th>\n",
       "      <th>2019-04</th>\n",
       "      <th>2019-05</th>\n",
       "      <th>2019-06</th>\n",
       "      <th>2019-07</th>\n",
       "      <th>2019-08</th>\n",
       "      <th>2019-09</th>\n",
       "      <th>2019-10</th>\n",
       "      <th>2019-11</th>\n",
       "      <th>2019-12</th>\n",
       "    </tr>\n",
       "  </thead>\n",
       "  <tbody>\n",
       "    <tr>\n",
       "      <th>0</th>\n",
       "      <td>New York</td>\n",
       "      <td>NY</td>\n",
       "      <td>New York-Newark-Jersey City</td>\n",
       "      <td>Queens County</td>\n",
       "      <td>1</td>\n",
       "      <td>2600.0</td>\n",
       "      <td>2600.0</td>\n",
       "      <td>2600.0</td>\n",
       "      <td>2600.0</td>\n",
       "      <td>2650.0</td>\n",
       "      <td>...</td>\n",
       "      <td>2350.0</td>\n",
       "      <td>2400.0</td>\n",
       "      <td>2400.0</td>\n",
       "      <td>2450.0</td>\n",
       "      <td>2450.0</td>\n",
       "      <td>2475.0</td>\n",
       "      <td>2475.0</td>\n",
       "      <td>2400.0</td>\n",
       "      <td>2400.0</td>\n",
       "      <td>2425.0</td>\n",
       "    </tr>\n",
       "    <tr>\n",
       "      <th>1</th>\n",
       "      <td>Los Angeles</td>\n",
       "      <td>CA</td>\n",
       "      <td>Los Angeles-Long Beach-Anaheim</td>\n",
       "      <td>Los Angeles County</td>\n",
       "      <td>2</td>\n",
       "      <td>1495.0</td>\n",
       "      <td>1490.0</td>\n",
       "      <td>1450.0</td>\n",
       "      <td>1495.0</td>\n",
       "      <td>1580.0</td>\n",
       "      <td>...</td>\n",
       "      <td>2360.0</td>\n",
       "      <td>2395.0</td>\n",
       "      <td>2370.0</td>\n",
       "      <td>2395.0</td>\n",
       "      <td>2395.0</td>\n",
       "      <td>2400.0</td>\n",
       "      <td>2425.0</td>\n",
       "      <td>2350.0</td>\n",
       "      <td>2330.0</td>\n",
       "      <td>2340.0</td>\n",
       "    </tr>\n",
       "    <tr>\n",
       "      <th>2</th>\n",
       "      <td>Houston</td>\n",
       "      <td>TX</td>\n",
       "      <td>Houston-The Woodlands-Sugar Land</td>\n",
       "      <td>Harris County</td>\n",
       "      <td>3</td>\n",
       "      <td>1224.0</td>\n",
       "      <td>1125.0</td>\n",
       "      <td>1072.0</td>\n",
       "      <td>1105.0</td>\n",
       "      <td>1210.0</td>\n",
       "      <td>...</td>\n",
       "      <td>1265.0</td>\n",
       "      <td>1270.0</td>\n",
       "      <td>1269.0</td>\n",
       "      <td>1286.0</td>\n",
       "      <td>1275.0</td>\n",
       "      <td>1275.0</td>\n",
       "      <td>1270.0</td>\n",
       "      <td>1264.0</td>\n",
       "      <td>1245.0</td>\n",
       "      <td>1249.0</td>\n",
       "    </tr>\n",
       "    <tr>\n",
       "      <th>3</th>\n",
       "      <td>Chicago</td>\n",
       "      <td>IL</td>\n",
       "      <td>Chicago-Naperville-Elgin</td>\n",
       "      <td>Cook County</td>\n",
       "      <td>4</td>\n",
       "      <td>1620.0</td>\n",
       "      <td>1549.0</td>\n",
       "      <td>1510.0</td>\n",
       "      <td>1498.0</td>\n",
       "      <td>1495.0</td>\n",
       "      <td>...</td>\n",
       "      <td>1695.0</td>\n",
       "      <td>1650.0</td>\n",
       "      <td>1650.0</td>\n",
       "      <td>1634.0</td>\n",
       "      <td>1600.0</td>\n",
       "      <td>1582.0</td>\n",
       "      <td>1595.0</td>\n",
       "      <td>1542.0</td>\n",
       "      <td>1550.0</td>\n",
       "      <td>1550.0</td>\n",
       "    </tr>\n",
       "    <tr>\n",
       "      <th>4</th>\n",
       "      <td>San Antonio</td>\n",
       "      <td>TX</td>\n",
       "      <td>San Antonio-New Braunfels</td>\n",
       "      <td>Bexar County</td>\n",
       "      <td>5</td>\n",
       "      <td>799.0</td>\n",
       "      <td>800.0</td>\n",
       "      <td>800.0</td>\n",
       "      <td>800.0</td>\n",
       "      <td>775.0</td>\n",
       "      <td>...</td>\n",
       "      <td>985.0</td>\n",
       "      <td>981.0</td>\n",
       "      <td>985.0</td>\n",
       "      <td>999.0</td>\n",
       "      <td>1000.0</td>\n",
       "      <td>1000.0</td>\n",
       "      <td>991.0</td>\n",
       "      <td>985.0</td>\n",
       "      <td>974.5</td>\n",
       "      <td>967.5</td>\n",
       "    </tr>\n",
       "    <tr>\n",
       "      <th>...</th>\n",
       "      <td>...</td>\n",
       "      <td>...</td>\n",
       "      <td>...</td>\n",
       "      <td>...</td>\n",
       "      <td>...</td>\n",
       "      <td>...</td>\n",
       "      <td>...</td>\n",
       "      <td>...</td>\n",
       "      <td>...</td>\n",
       "      <td>...</td>\n",
       "      <td>...</td>\n",
       "      <td>...</td>\n",
       "      <td>...</td>\n",
       "      <td>...</td>\n",
       "      <td>...</td>\n",
       "      <td>...</td>\n",
       "      <td>...</td>\n",
       "      <td>...</td>\n",
       "      <td>...</td>\n",
       "      <td>...</td>\n",
       "      <td>...</td>\n",
       "    </tr>\n",
       "    <tr>\n",
       "      <th>813</th>\n",
       "      <td>Bee Cave</td>\n",
       "      <td>TX</td>\n",
       "      <td>Austin-Round Rock</td>\n",
       "      <td>Travis County</td>\n",
       "      <td>814</td>\n",
       "      <td>NaN</td>\n",
       "      <td>NaN</td>\n",
       "      <td>NaN</td>\n",
       "      <td>NaN</td>\n",
       "      <td>NaN</td>\n",
       "      <td>...</td>\n",
       "      <td>1185.0</td>\n",
       "      <td>1202.0</td>\n",
       "      <td>1179.0</td>\n",
       "      <td>1203.0</td>\n",
       "      <td>1264.0</td>\n",
       "      <td>1304.0</td>\n",
       "      <td>1326.0</td>\n",
       "      <td>1299.0</td>\n",
       "      <td>1250.0</td>\n",
       "      <td>1315.5</td>\n",
       "    </tr>\n",
       "    <tr>\n",
       "      <th>814</th>\n",
       "      <td>Century Village</td>\n",
       "      <td>FL</td>\n",
       "      <td>Miami-Fort Lauderdale-West Palm Beach</td>\n",
       "      <td>Palm Beach County</td>\n",
       "      <td>815</td>\n",
       "      <td>NaN</td>\n",
       "      <td>NaN</td>\n",
       "      <td>NaN</td>\n",
       "      <td>NaN</td>\n",
       "      <td>NaN</td>\n",
       "      <td>...</td>\n",
       "      <td>900.0</td>\n",
       "      <td>900.0</td>\n",
       "      <td>900.0</td>\n",
       "      <td>900.0</td>\n",
       "      <td>900.0</td>\n",
       "      <td>925.0</td>\n",
       "      <td>925.0</td>\n",
       "      <td>925.0</td>\n",
       "      <td>925.0</td>\n",
       "      <td>950.0</td>\n",
       "    </tr>\n",
       "    <tr>\n",
       "      <th>815</th>\n",
       "      <td>Surfside</td>\n",
       "      <td>FL</td>\n",
       "      <td>Miami-Fort Lauderdale-West Palm Beach</td>\n",
       "      <td>Miami-Dade County</td>\n",
       "      <td>816</td>\n",
       "      <td>NaN</td>\n",
       "      <td>NaN</td>\n",
       "      <td>NaN</td>\n",
       "      <td>NaN</td>\n",
       "      <td>NaN</td>\n",
       "      <td>...</td>\n",
       "      <td>1875.0</td>\n",
       "      <td>1850.0</td>\n",
       "      <td>1750.0</td>\n",
       "      <td>1800.0</td>\n",
       "      <td>1800.0</td>\n",
       "      <td>1750.0</td>\n",
       "      <td>1750.0</td>\n",
       "      <td>1800.0</td>\n",
       "      <td>1800.0</td>\n",
       "      <td>1850.0</td>\n",
       "    </tr>\n",
       "    <tr>\n",
       "      <th>816</th>\n",
       "      <td>Bay Harbor Islands</td>\n",
       "      <td>FL</td>\n",
       "      <td>Miami-Fort Lauderdale-West Palm Beach</td>\n",
       "      <td>Miami-Dade County</td>\n",
       "      <td>817</td>\n",
       "      <td>NaN</td>\n",
       "      <td>NaN</td>\n",
       "      <td>NaN</td>\n",
       "      <td>NaN</td>\n",
       "      <td>NaN</td>\n",
       "      <td>...</td>\n",
       "      <td>1565.0</td>\n",
       "      <td>1550.0</td>\n",
       "      <td>1512.5</td>\n",
       "      <td>1537.5</td>\n",
       "      <td>1600.0</td>\n",
       "      <td>1597.5</td>\n",
       "      <td>1550.0</td>\n",
       "      <td>1550.0</td>\n",
       "      <td>1550.0</td>\n",
       "      <td>1595.0</td>\n",
       "    </tr>\n",
       "    <tr>\n",
       "      <th>817</th>\n",
       "      <td>Bal Harbour</td>\n",
       "      <td>FL</td>\n",
       "      <td>Miami-Fort Lauderdale-West Palm Beach</td>\n",
       "      <td>Miami-Dade County</td>\n",
       "      <td>818</td>\n",
       "      <td>NaN</td>\n",
       "      <td>NaN</td>\n",
       "      <td>NaN</td>\n",
       "      <td>NaN</td>\n",
       "      <td>NaN</td>\n",
       "      <td>...</td>\n",
       "      <td>2500.0</td>\n",
       "      <td>2500.0</td>\n",
       "      <td>2700.0</td>\n",
       "      <td>2550.0</td>\n",
       "      <td>2500.0</td>\n",
       "      <td>2675.0</td>\n",
       "      <td>2662.5</td>\n",
       "      <td>2700.0</td>\n",
       "      <td>2600.0</td>\n",
       "      <td>2700.0</td>\n",
       "    </tr>\n",
       "  </tbody>\n",
       "</table>\n",
       "<p>818 rows × 77 columns</p>\n",
       "</div>"
      ],
      "text/plain": [
       "             RegionName State                                  Metro  \\\n",
       "0              New York    NY            New York-Newark-Jersey City   \n",
       "1           Los Angeles    CA         Los Angeles-Long Beach-Anaheim   \n",
       "2               Houston    TX       Houston-The Woodlands-Sugar Land   \n",
       "3               Chicago    IL               Chicago-Naperville-Elgin   \n",
       "4           San Antonio    TX              San Antonio-New Braunfels   \n",
       "..                  ...   ...                                    ...   \n",
       "813            Bee Cave    TX                      Austin-Round Rock   \n",
       "814     Century Village    FL  Miami-Fort Lauderdale-West Palm Beach   \n",
       "815            Surfside    FL  Miami-Fort Lauderdale-West Palm Beach   \n",
       "816  Bay Harbor Islands    FL  Miami-Fort Lauderdale-West Palm Beach   \n",
       "817         Bal Harbour    FL  Miami-Fort Lauderdale-West Palm Beach   \n",
       "\n",
       "             CountyName  SizeRank  2014-01  2014-02  2014-03  2014-04  \\\n",
       "0         Queens County         1   2600.0   2600.0   2600.0   2600.0   \n",
       "1    Los Angeles County         2   1495.0   1490.0   1450.0   1495.0   \n",
       "2         Harris County         3   1224.0   1125.0   1072.0   1105.0   \n",
       "3           Cook County         4   1620.0   1549.0   1510.0   1498.0   \n",
       "4          Bexar County         5    799.0    800.0    800.0    800.0   \n",
       "..                  ...       ...      ...      ...      ...      ...   \n",
       "813       Travis County       814      NaN      NaN      NaN      NaN   \n",
       "814   Palm Beach County       815      NaN      NaN      NaN      NaN   \n",
       "815   Miami-Dade County       816      NaN      NaN      NaN      NaN   \n",
       "816   Miami-Dade County       817      NaN      NaN      NaN      NaN   \n",
       "817   Miami-Dade County       818      NaN      NaN      NaN      NaN   \n",
       "\n",
       "     2014-05  ...  2019-03  2019-04  2019-05  2019-06  2019-07  2019-08  \\\n",
       "0     2650.0  ...   2350.0   2400.0   2400.0   2450.0   2450.0   2475.0   \n",
       "1     1580.0  ...   2360.0   2395.0   2370.0   2395.0   2395.0   2400.0   \n",
       "2     1210.0  ...   1265.0   1270.0   1269.0   1286.0   1275.0   1275.0   \n",
       "3     1495.0  ...   1695.0   1650.0   1650.0   1634.0   1600.0   1582.0   \n",
       "4      775.0  ...    985.0    981.0    985.0    999.0   1000.0   1000.0   \n",
       "..       ...  ...      ...      ...      ...      ...      ...      ...   \n",
       "813      NaN  ...   1185.0   1202.0   1179.0   1203.0   1264.0   1304.0   \n",
       "814      NaN  ...    900.0    900.0    900.0    900.0    900.0    925.0   \n",
       "815      NaN  ...   1875.0   1850.0   1750.0   1800.0   1800.0   1750.0   \n",
       "816      NaN  ...   1565.0   1550.0   1512.5   1537.5   1600.0   1597.5   \n",
       "817      NaN  ...   2500.0   2500.0   2700.0   2550.0   2500.0   2675.0   \n",
       "\n",
       "     2019-09  2019-10  2019-11  2019-12  \n",
       "0     2475.0   2400.0   2400.0   2425.0  \n",
       "1     2425.0   2350.0   2330.0   2340.0  \n",
       "2     1270.0   1264.0   1245.0   1249.0  \n",
       "3     1595.0   1542.0   1550.0   1550.0  \n",
       "4      991.0    985.0    974.5    967.5  \n",
       "..       ...      ...      ...      ...  \n",
       "813   1326.0   1299.0   1250.0   1315.5  \n",
       "814    925.0    925.0    925.0    950.0  \n",
       "815   1750.0   1800.0   1800.0   1850.0  \n",
       "816   1550.0   1550.0   1550.0   1595.0  \n",
       "817   2662.5   2700.0   2600.0   2700.0  \n",
       "\n",
       "[818 rows x 77 columns]"
      ]
     },
     "execution_count": 35,
     "metadata": {},
     "output_type": "execute_result"
    }
   ],
   "source": [
    "# Drop all rows where elements are missing.\n",
    "one_bed.dropna(how=\"all\")"
   ]
  },
  {
   "cell_type": "code",
   "execution_count": 36,
   "metadata": {
    "hideCode": false,
    "hidePrompt": false
   },
   "outputs": [
    {
     "data": {
      "text/plain": [
       "RegionName    0\n",
       "State         0\n",
       "Metro         0\n",
       "CountyName    0\n",
       "SizeRank      0\n",
       "             ..\n",
       "2019-08       0\n",
       "2019-09       0\n",
       "2019-10       0\n",
       "2019-11       0\n",
       "2019-12       0\n",
       "Length: 77, dtype: int64"
      ]
     },
     "execution_count": 36,
     "metadata": {},
     "output_type": "execute_result"
    }
   ],
   "source": [
    "# Sanity Check: check whether there are null values in the dataset\n",
    "one_bed.isnull().sum().sum()\n",
    "one_bed.isnull().sum()"
   ]
  },
  {
   "cell_type": "code",
   "execution_count": 37,
   "metadata": {
    "hideCode": false,
    "hidePrompt": false
   },
   "outputs": [
    {
     "data": {
      "text/plain": [
       "(818, 77)"
      ]
     },
     "execution_count": 37,
     "metadata": {},
     "output_type": "execute_result"
    }
   ],
   "source": [
    "one_bed.shape"
   ]
  },
  {
   "cell_type": "markdown",
   "metadata": {
    "hideCode": false,
    "hidePrompt": false
   },
   "source": [
    "## Statistical Analysis 1 - Univariate Analysis"
   ]
  },
  {
   "cell_type": "code",
   "execution_count": 38,
   "metadata": {
    "hideCode": false,
    "hidePrompt": false
   },
   "outputs": [],
   "source": [
    "def univariate_analysis(data, feature):\n",
    "    data_ = data[feature].value_counts().sort_values(ascending=True)\n",
    "    plt.figure(figsize=(30,10), facecolor='white')\n",
    "    plt.barh(y=data_.index, width=data_.values, \n",
    "             height=1, color=colors2, edgecolor='k',linewidth=1)\n",
    "    sns.despine()\n",
    "    plt.suptitle(t=feature, x=0.5, y=1.1, fontfamily='serif', fontsize=40, color='k', fontweight='bold',alpha=0.9)\n",
    "    plt.show()"
   ]
  },
  {
   "cell_type": "code",
   "execution_count": 39,
   "metadata": {
    "hideCode": false,
    "hidePrompt": false
   },
   "outputs": [
    {
     "data": {
      "image/png": "[encoded data removed]",
      "text/plain": [
       "<Figure size 2160x720 with 1 Axes>"
      ]
     },
     "metadata": {},
     "output_type": "display_data"
    }
   ],
   "source": [
    "# Picking top 15 states from the dataset to do univariate analysis.\n",
    "one_bed_subsets = one_bed[one_bed['State'].isin(['CA', 'FL', 'TX', 'NJ', 'MA', 'MD', 'VA', 'WA', 'IL', 'GA', 'CO', 'CT', 'PA', 'NY', 'NC'])]\n",
    "univariate_analysis(one_bed_subsets, 'State')"
   ]
  },
  {
   "cell_type": "code",
   "execution_count": 40,
   "metadata": {
    "hideCode": false,
    "hidePrompt": false
   },
   "outputs": [
    {
     "data": {
      "text/plain": [
       "<matplotlib.axes._subplots.AxesSubplot at 0x12025c7b8>"
      ]
     },
     "execution_count": 40,
     "metadata": {},
     "output_type": "execute_result"
    },
    {
     "data": {
      "image/png": "[encoded data removed]",
      "text/plain": [
       "<Figure size 432x288 with 1 Axes>"
      ]
     },
     "metadata": {},
     "output_type": "display_data"
    }
   ],
   "source": [
    "# Alternatively.....\n",
    "one_bed['State'].value_counts().head(15).plot.bar()"
   ]
  },
  {
   "cell_type": "markdown",
   "metadata": {
    "hideCode": false,
    "hidePrompt": false
   },
   "source": [
    "## Statistical Analysis 2 - Feature Selection"
   ]
  },
  {
   "cell_type": "markdown",
   "metadata": {},
   "source": [
    "We are interested in the columns(features) will have most impact on rent. Therefore, here we analyze the correlations of each column and find the most relevant ones.  "
   ]
  },
  {
   "cell_type": "code",
   "execution_count": 41,
   "metadata": {},
   "outputs": [],
   "source": [
    "label_encoder = LabelEncoder()\n",
    "one_bed_latest = one_bed.iloc[: , :5]\n",
    "one_bed_latest['2019-12'] = one_bed['2019-12']\n",
    "one_bed_latest['State'] = label_encoder.fit_transform(one_bed_latest['State'])\n",
    "one_bed_latest['RegionName'] = label_encoder.fit_transform(one_bed_latest['RegionName'])\n",
    "one_bed_latest['Metro'] = label_encoder.fit_transform(one_bed_latest['Metro'])\n",
    "one_bed_latest['CountyName'] = label_encoder.fit_transform(one_bed_latest['CountyName'])"
   ]
  },
  {
   "cell_type": "code",
   "execution_count": 42,
   "metadata": {},
   "outputs": [
    {
     "data": {
      "image/png": "[encoded data removed]",
      "text/plain": [
       "<Figure size 864x720 with 2 Axes>"
      ]
     },
     "metadata": {},
     "output_type": "display_data"
    }
   ],
   "source": [
    "# using Pearson correlation and for simplicity we only consider the latest price here\n",
    "plt.figure(figsize=(12,10))\n",
    "cor = one_bed_latest.corr()\n",
    "sns.heatmap(cor, annot=True, cmap=plt.cm.Reds)\n",
    "plt.show()"
   ]
  },
  {
   "cell_type": "markdown",
   "metadata": {},
   "source": [
    "From the heatmap we learned that RegionName and State have negative correlation, whereas CountyName, Metro, and SizeRank have a positive correlation."
   ]
  },
  {
   "cell_type": "code",
   "execution_count": 43,
   "metadata": {},
   "outputs": [
    {
     "data": {
      "text/html": [
       "<div>\n",
       "<style scoped>\n",
       "    .dataframe tbody tr th:only-of-type {\n",
       "        vertical-align: middle;\n",
       "    }\n",
       "\n",
       "    .dataframe tbody tr th {\n",
       "        vertical-align: top;\n",
       "    }\n",
       "\n",
       "    .dataframe thead th {\n",
       "        text-align: right;\n",
       "    }\n",
       "</style>\n",
       "<table border=\"1\" class=\"dataframe\">\n",
       "  <thead>\n",
       "    <tr style=\"text-align: right;\">\n",
       "      <th></th>\n",
       "      <th>RegionName</th>\n",
       "      <th>State</th>\n",
       "      <th>Metro</th>\n",
       "      <th>CountyName</th>\n",
       "      <th>SizeRank</th>\n",
       "      <th>2019-12</th>\n",
       "    </tr>\n",
       "  </thead>\n",
       "  <tbody>\n",
       "    <tr>\n",
       "      <th>0</th>\n",
       "      <td>472</td>\n",
       "      <td>34</td>\n",
       "      <td>122</td>\n",
       "      <td>206</td>\n",
       "      <td>1</td>\n",
       "      <td>2</td>\n",
       "    </tr>\n",
       "    <tr>\n",
       "      <th>1</th>\n",
       "      <td>384</td>\n",
       "      <td>4</td>\n",
       "      <td>96</td>\n",
       "      <td>140</td>\n",
       "      <td>2</td>\n",
       "      <td>2</td>\n",
       "    </tr>\n",
       "    <tr>\n",
       "      <th>2</th>\n",
       "      <td>304</td>\n",
       "      <td>43</td>\n",
       "      <td>72</td>\n",
       "      <td>106</td>\n",
       "      <td>3</td>\n",
       "      <td>1</td>\n",
       "    </tr>\n",
       "    <tr>\n",
       "      <th>3</th>\n",
       "      <td>120</td>\n",
       "      <td>14</td>\n",
       "      <td>34</td>\n",
       "      <td>60</td>\n",
       "      <td>4</td>\n",
       "      <td>1</td>\n",
       "    </tr>\n",
       "    <tr>\n",
       "      <th>4</th>\n",
       "      <td>604</td>\n",
       "      <td>43</td>\n",
       "      <td>155</td>\n",
       "      <td>21</td>\n",
       "      <td>5</td>\n",
       "      <td>0</td>\n",
       "    </tr>\n",
       "  </tbody>\n",
       "</table>\n",
       "</div>"
      ],
      "text/plain": [
       "   RegionName  State  Metro  CountyName  SizeRank 2019-12\n",
       "0         472     34    122         206         1       2\n",
       "1         384      4     96         140         2       2\n",
       "2         304     43     72         106         3       1\n",
       "3         120     14     34          60         4       1\n",
       "4         604     43    155          21         5       0"
      ]
     },
     "execution_count": 43,
     "metadata": {},
     "output_type": "execute_result"
    }
   ],
   "source": [
    "# we can also try convert price into different categories (0-1000, 1000-2000, 2000-3000, >3000)\n",
    "one_bed_latest['2019-12'] = pd.cut(one_bed['2019-12'], bins=[0, 1000, 2000, 3000, 10000], labels=[0,1,2,3])\n",
    "one_bed_latest.head()"
   ]
  },
  {
   "cell_type": "code",
   "execution_count": 44,
   "metadata": {},
   "outputs": [
    {
     "data": {
      "text/plain": [
       "(array([  95.0732215 ,  437.02414697,  508.63068088,  314.27216947,\n",
       "        2742.10240932]),\n",
       " array([1.78065364e-020, 2.11152097e-094, 6.43048409e-110, 8.10277695e-068,\n",
       "        0.00000000e+000]))"
      ]
     },
     "execution_count": 44,
     "metadata": {},
     "output_type": "execute_result"
    }
   ],
   "source": [
    "X = one_bed_latest.drop('2019-12',axis=1)\n",
    "y = one_bed_latest['2019-12']\n",
    "chi_scores = chi2(X,y)\n",
    "chi_scores"
   ]
  },
  {
   "cell_type": "code",
   "execution_count": 45,
   "metadata": {},
   "outputs": [],
   "source": [
    "p_values = pd.Series(chi_scores[1],index = X.columns)\n",
    "p_values.sort_values(ascending = False , inplace = True)"
   ]
  },
  {
   "cell_type": "code",
   "execution_count": 46,
   "metadata": {},
   "outputs": [
    {
     "data": {
      "text/plain": [
       "<matplotlib.axes._subplots.AxesSubplot at 0x1202afcf8>"
      ]
     },
     "execution_count": 46,
     "metadata": {},
     "output_type": "execute_result"
    },
    {
     "data": {
      "image/png": "[encoded data removed]",
      "text/plain": [
       "<Figure size 432x288 with 1 Axes>"
      ]
     },
     "metadata": {},
     "output_type": "display_data"
    }
   ],
   "source": [
    "p_values.plot.bar()\n"
   ]
  },
  {
   "cell_type": "markdown",
   "metadata": {},
   "source": [
    "From the above graph we know that RegionName has higher p-value. Therefore, it is the most independent variable and should have least impact on the housing price."
   ]
  },
  {
   "cell_type": "code",
   "execution_count": 47,
   "metadata": {
    "hideCode": false,
    "hidePrompt": false
   },
   "outputs": [],
   "source": [
    "'''\n",
    "Below is a helper function that can help us load zillow housing data.\n",
    "'''\n",
    "def load_zillow_data(state=None,county=None,region=None,city=None):\n",
    "    dictionary_with_file_paths = {'dataset/DaysOnZillow_City.csv' : 'DaysOnZillow_City',\n",
    "    'dataset/Sale_Prices_City.csv' : 'Sale_Prices_City',\n",
    "    'dataset/City_MedianRentalPrice_Studio.csv' : 'Studio',\n",
    "    'dataset/City_MedianRentalPrice_1Bedroom.csv' : '1 Bedroom',\n",
    "    'dataset/City_MedianRentalPrice_2Bedroom.csv' : '2 Bedrooms',\n",
    "    'dataset/City_MedianRentalPrice_3Bedroom.csv' : '3 Bedrooms',\n",
    "    'dataset/City_MedianRentalPrice_4Bedroom.csv' : '4 Bedrooms',\n",
    "    'dataset/City_MedianRentalPrice_5BedroomOrMore.csv' : '5+ Bedrooms'}\n",
    "\n",
    "    # Load files into dataframe.\n",
    "    dictionary_with_dataframes = {}\n",
    "    for file_path, file_name in dictionary_with_file_paths.items():\n",
    "        name_of_dataframe = str(file_name)\n",
    "        dictionary_with_dataframes[name_of_dataframe] = pd.read_csv(file_path)\n",
    "        dictionary_with_dataframes[name_of_dataframe].rename(columns={'Unnamed: 0':'which_measurement'}, inplace=True)\n",
    "        dictionary_with_dataframes[name_of_dataframe]['which_measurement'] = name_of_dataframe\n",
    "\n",
    "    # Combine the dataframes into one large dataframe that has a new column that labels each subsection\n",
    "    filtered_dataframe = pd.concat(dictionary_with_dataframes.values(), ignore_index=True, sort=True)\n",
    "\n",
    "    # Filter data based on parameters.\n",
    "    states_to_keep, counties_to_keep = [state], [county]\n",
    "    regions_to_keep, cities_to_keep = [region], [city]\n",
    "    \n",
    "    if state is not None:\n",
    "        filtered_dataframe = filtered_dataframe[filtered_dataframe.State.isin(states_to_keep)]\n",
    "    if county is not None:\n",
    "        filtered_dataframe = filtered_dataframe[filtered_dataframe.CountyName.isin(counties_to_keep)]\n",
    "    if region is not None: \n",
    "        filtered_dataframe = filtered_dataframe[filtered_dataframe.RegionName.isin(regions_to_keep)]\n",
    "    if city is not None:   \n",
    "        filtered_dataframe = filtered_dataframe[filtered_dataframe.Metro.isin(cities_to_keep)]\n",
    "\n",
    "    for row in filtered_dataframe:\n",
    "        final_df = filtered_dataframe[[\n",
    "               '2014-02', '2014-03', '2014-04', '2014-05', '2014-06',\n",
    "               '2014-07', '2014-08', '2014-09', '2014-10', '2014-11', '2014-12',\n",
    "               '2015-01', '2015-02', '2015-03', '2015-04', '2015-05', '2015-06',\n",
    "               '2015-07', '2015-08', '2015-09', '2015-10', '2015-11', '2015-12',\n",
    "               '2016-01', '2016-02', '2016-03', '2016-04', '2016-05', '2016-06',\n",
    "               '2016-07', '2016-08', '2016-09', '2016-10', '2016-11', '2016-12',\n",
    "               '2017-01', '2017-02', '2017-03', '2017-04', '2017-05', '2017-06',\n",
    "               '2017-07', '2017-08', '2017-09', '2017-10', '2017-11', '2017-12',\n",
    "               '2018-01', '2018-02', '2018-03', '2018-04', '2018-05', '2018-06',\n",
    "               '2018-07', '2018-08', '2018-09', '2018-10', '2018-11', '2018-12',\n",
    "               '2019-01', '2019-02', '2019-03', '2019-04', '2019-05', '2019-06',\n",
    "               '2019-07', '2019-08', '2019-09', '2019-10', '2019-11','which_measurement']]\n",
    "        column_title = final_df['which_measurement'].values\n",
    "        final_df = final_df.T[:-1]\n",
    "        final_df.columns = [column_title]\n",
    "    final_df.columns = ['Sale_Prices_City','Studio','1 Bedroom',\n",
    "                          '2 Bedrooms','3 Bedrooms']\n",
    "    final_df['Date'] = final_df.index\n",
    "    return final_df\n",
    "\n",
    "def plot_four_columns_using_plotly_express(dataframe,column_one,column_two,column_three,column_four,title,lower_axis_limit,upper_axis_limit):\n",
    "    '''\n",
    "    This function plots four numerical columns against a date column.\n",
    "    It using the plotly express library instead of the normal plotly library.\n",
    "    '''\n",
    "    df_melt = dataframe.melt(id_vars='Date', value_vars=[column_one,column_two,column_three,column_four])\n",
    "    fig = px.line(df_melt, x=\"Date\", y=\"value\", color=\"variable\",title=title).update(layout=dict(xaxis_title='Date',yaxis_title='Median Rent ($USD)',legend_orientation=\"h\",showlegend=True))\n",
    "    fig.update_xaxes(range=[lower_axis_limit,upper_axis_limit])\n",
    "    fig.show()\n",
    "    \n",
    "def plotly_double_y_axes(dataframe, df_interest_rate, column_one,column_two,column_three,column_four,title,lower_axis_limit,upper_axis_limit):\n",
    "    df_melt = dataframe.melt(id_vars='Date', value_vars=[column_one,column_two,column_three,column_four])\n",
    "    fig = px.line(df_melt, x=\"Date\", y=\"value\", color=\"variable\",title=title, render_mode = \"webgl\").update(layout=dict(xaxis_title='Date',yaxis_title='Median Rent ($USD)',legend_orientation=\"h\",showlegend=True))\n",
    "    fig2 = px.line(df_interest_rate, x=\"Date\", y=df_interest_rate.filter(regex=\"Effective_Federal_Funds_Rate\").columns, render_mode = \"webgl\")\n",
    "    fig2.update_traces(yaxis=\"y2\")\n",
    "    subfig = make_subplots(specs=[[{\"secondary_y\": True}]])\n",
    "    subfig.add_traces(fig.data + fig2.data)\n",
    "#     subfig.add_trace(fig.data, secondary_y=False)\n",
    "#     subfig.add_trace(fig2.data, secondary_y=True)\n",
    "    subfig.layout.xaxis.title=\"Date\"\n",
    "\n",
    "    subfig.update_layout(\n",
    "        title_text=title\n",
    "    )\n",
    "    subfig.update_yaxes(title_text=\"Median Rent ($ USD)\", secondary_y=False)\n",
    "    subfig.update_yaxes(title_text=\"Federal Interest Rate (%)\", secondary_y=True)\n",
    "    subfig.for_each_trace(lambda t: t.update(line=dict(color=t.marker.color)))\n",
    "    subfig.update_xaxes(range=[lower_axis_limit,upper_axis_limit])\n",
    "    subfig.show()\n",
    "    return subfig"
   ]
  },
  {
   "cell_type": "code",
   "execution_count": 48,
   "metadata": {},
   "outputs": [],
   "source": [
    "# [Commented out after cleaning]\n",
    "\n",
    "# Cleaning: Only select rows from 2014-02 to 2019-12.\n",
    "# df_rate = pd.read_csv('dataset/interest_rate.csv')\n",
    "# df_rate.columns = df_rate.columns.str.replace(' ', '_')\n",
    "# cols = [\"Year\",\"Month\", \"Day\"]\n",
    "# # Combine year month into \"Date\"\n",
    "# df_rate['Date'] = df_rate[cols].apply(lambda x: '-'.join(x.values.astype(str)), axis=\"columns\")\n",
    "# # Convert \"date\" into date type.\n",
    "# df_rate[\"Date\"] = pd.to_datetime(df_rate[\"Date\"]).dt.date\n",
    "\n",
    "# mask = (df_rate['Date'] >= datetime.date(2014, 2, 1)) & (df_rate['Date'] <= datetime.date(2019, 12, 31)) & (df_rate['Day'] == 1)\n",
    "# df_rate = df_rate.loc[mask]\n",
    "# df_rate = df_rate[[\"Year\", \"Month\", \"Day\", \"Effective_Federal_Funds_Rate\", \"Date\"]]\n",
    "# df_rate.to_excel(\"interest_rate_cleaned.xlsx\")\n",
    "\n",
    "\n",
    "# df_rate = pd.read_csv('dataset/interest_rate_cleaned.csv')\n",
    "# df_rate = df_rate.dropna(subset=[\"Year\"])\n",
    "# df_rate.dtypes\n",
    "\n",
    "# cols = [\"Year\",\"Month\", \"Day\"]\n",
    "# df_rate[cols] = df_rate[cols].astype(np.int64)\n",
    "# # Combine year month into \"Date\"\n",
    "# df_rate['Date'] = df_rate[cols].apply(lambda x: '-'.join(x.values.astype(str)), axis=\"columns\")\n",
    "# df_rate[\"Date\"] = pd.to_datetime(df_rate[\"Date\"]).dt.date\n",
    "# df_rate = df_rate.drop(columns=['Unnamed: 0'])\n",
    "# df_rate\n",
    "# df_rate.to_csv('dataset/interest-rate-cleaned.csv')\n",
    "# df_rate['Date'] = df_rate[cols].apply(lambda x: '-'.join(x.values.astype(str)), axis=\"columns\")\n",
    "# df_rate\n",
    "# plotly_double_y_axes(sanfrancisco_df, df_rate, 'Studio','1 Bedroom','2 Bedrooms','3 Bedrooms',\n",
    "#                                        'Median Rental Prices in San Francisco, CA','2014-02-01','2019-12-31')"
   ]
  },
  {
   "cell_type": "code",
   "execution_count": 49,
   "metadata": {
    "hideCode": false,
    "hidePrompt": false
   },
   "outputs": [
    {
     "data": {
      "text/plain": [
       "<matplotlib.axes._subplots.AxesSubplot at 0x121698a58>"
      ]
     },
     "execution_count": 49,
     "metadata": {},
     "output_type": "execute_result"
    },
    {
     "data": {
      "image/png": "[encoded data removed]",
      "text/plain": [
       "<Figure size 936x648 with 1 Axes>"
      ]
     },
     "metadata": {},
     "output_type": "display_data"
    }
   ],
   "source": [
    "# Plot median rental prices\n",
    "plot_data = sanfrancisco_df = load_zillow_data(state='CA',county='San Francisco County',\n",
    "                              region='San Francisco',city='San Francisco-Oakland-Hayward')\n",
    "sanfrancisco_df.plot(title='Median Prices of Homes and Rental Units in San Francisco, CA',figsize=(13,9), grid=True)"
   ]
  },
  {
   "cell_type": "code",
   "execution_count": 50,
   "metadata": {},
   "outputs": [
    {
     "data": {
      "text/html": [
       "<div>\n",
       "<style scoped>\n",
       "    .dataframe tbody tr th:only-of-type {\n",
       "        vertical-align: middle;\n",
       "    }\n",
       "\n",
       "    .dataframe tbody tr th {\n",
       "        vertical-align: top;\n",
       "    }\n",
       "\n",
       "    .dataframe thead th {\n",
       "        text-align: right;\n",
       "    }\n",
       "</style>\n",
       "<table border=\"1\" class=\"dataframe\">\n",
       "  <thead>\n",
       "    <tr style=\"text-align: right;\">\n",
       "      <th></th>\n",
       "      <th>Sale_Prices_City</th>\n",
       "      <th>Studio</th>\n",
       "      <th>1 Bedroom</th>\n",
       "      <th>2 Bedrooms</th>\n",
       "      <th>3 Bedrooms</th>\n",
       "      <th>Date</th>\n",
       "    </tr>\n",
       "  </thead>\n",
       "  <tbody>\n",
       "    <tr>\n",
       "      <th>2014-02</th>\n",
       "      <td>2574.0</td>\n",
       "      <td>3000.0</td>\n",
       "      <td>4100.0</td>\n",
       "      <td>5195.0</td>\n",
       "      <td>NaN</td>\n",
       "      <td>2014-02</td>\n",
       "    </tr>\n",
       "    <tr>\n",
       "      <th>2014-03</th>\n",
       "      <td>2500.0</td>\n",
       "      <td>2995.0</td>\n",
       "      <td>4100.0</td>\n",
       "      <td>5000.0</td>\n",
       "      <td>NaN</td>\n",
       "      <td>2014-03</td>\n",
       "    </tr>\n",
       "    <tr>\n",
       "      <th>2014-04</th>\n",
       "      <td>2595.0</td>\n",
       "      <td>3064.0</td>\n",
       "      <td>4250.0</td>\n",
       "      <td>5172.5</td>\n",
       "      <td>NaN</td>\n",
       "      <td>2014-04</td>\n",
       "    </tr>\n",
       "    <tr>\n",
       "      <th>2014-05</th>\n",
       "      <td>2714.0</td>\n",
       "      <td>3250.0</td>\n",
       "      <td>4339.5</td>\n",
       "      <td>5500.0</td>\n",
       "      <td>NaN</td>\n",
       "      <td>2014-05</td>\n",
       "    </tr>\n",
       "    <tr>\n",
       "      <th>2014-06</th>\n",
       "      <td>2751.5</td>\n",
       "      <td>3295.0</td>\n",
       "      <td>4400.0</td>\n",
       "      <td>4995.0</td>\n",
       "      <td>NaN</td>\n",
       "      <td>2014-06</td>\n",
       "    </tr>\n",
       "    <tr>\n",
       "      <th>...</th>\n",
       "      <td>...</td>\n",
       "      <td>...</td>\n",
       "      <td>...</td>\n",
       "      <td>...</td>\n",
       "      <td>...</td>\n",
       "      <td>...</td>\n",
       "    </tr>\n",
       "    <tr>\n",
       "      <th>2019-07</th>\n",
       "      <td>2979.0</td>\n",
       "      <td>3615.0</td>\n",
       "      <td>4800.0</td>\n",
       "      <td>5788.5</td>\n",
       "      <td>6999.5</td>\n",
       "      <td>2019-07</td>\n",
       "    </tr>\n",
       "    <tr>\n",
       "      <th>2019-08</th>\n",
       "      <td>2995.0</td>\n",
       "      <td>3600.0</td>\n",
       "      <td>4750.0</td>\n",
       "      <td>5800.0</td>\n",
       "      <td>6995.0</td>\n",
       "      <td>2019-08</td>\n",
       "    </tr>\n",
       "    <tr>\n",
       "      <th>2019-09</th>\n",
       "      <td>2995.0</td>\n",
       "      <td>3650.0</td>\n",
       "      <td>4799.0</td>\n",
       "      <td>5744.5</td>\n",
       "      <td>7195.0</td>\n",
       "      <td>2019-09</td>\n",
       "    </tr>\n",
       "    <tr>\n",
       "      <th>2019-10</th>\n",
       "      <td>2943.0</td>\n",
       "      <td>3580.0</td>\n",
       "      <td>4600.0</td>\n",
       "      <td>5585.0</td>\n",
       "      <td>6850.0</td>\n",
       "      <td>2019-10</td>\n",
       "    </tr>\n",
       "    <tr>\n",
       "      <th>2019-11</th>\n",
       "      <td>2869.5</td>\n",
       "      <td>3499.0</td>\n",
       "      <td>4535.0</td>\n",
       "      <td>5495.0</td>\n",
       "      <td>6500.0</td>\n",
       "      <td>2019-11</td>\n",
       "    </tr>\n",
       "  </tbody>\n",
       "</table>\n",
       "<p>70 rows × 6 columns</p>\n",
       "</div>"
      ],
      "text/plain": [
       "        Sale_Prices_City  Studio 1 Bedroom 2 Bedrooms 3 Bedrooms     Date\n",
       "2014-02           2574.0  3000.0    4100.0     5195.0        NaN  2014-02\n",
       "2014-03           2500.0  2995.0    4100.0     5000.0        NaN  2014-03\n",
       "2014-04           2595.0  3064.0    4250.0     5172.5        NaN  2014-04\n",
       "2014-05           2714.0  3250.0    4339.5     5500.0        NaN  2014-05\n",
       "2014-06           2751.5  3295.0    4400.0     4995.0        NaN  2014-06\n",
       "...                  ...     ...       ...        ...        ...      ...\n",
       "2019-07           2979.0  3615.0    4800.0     5788.5     6999.5  2019-07\n",
       "2019-08           2995.0  3600.0    4750.0     5800.0     6995.0  2019-08\n",
       "2019-09           2995.0  3650.0    4799.0     5744.5     7195.0  2019-09\n",
       "2019-10           2943.0  3580.0    4600.0     5585.0     6850.0  2019-10\n",
       "2019-11           2869.5  3499.0    4535.0     5495.0     6500.0  2019-11\n",
       "\n",
       "[70 rows x 6 columns]"
      ]
     },
     "execution_count": 50,
     "metadata": {},
     "output_type": "execute_result"
    }
   ],
   "source": [
    "sanfrancisco_df"
   ]
  },
  {
   "cell_type": "code",
   "execution_count": 314,
   "metadata": {},
   "outputs": [
    {
     "data": {
      "application/vnd.plotly.v1+json": {
       "config": {
        "plotlyServerURL": "https://plotly.com"
       },
       "data": [
        {
         "hovertemplate": "variable=Studio<br>Date=%{x}<br>value=%{y}<extra></extra>",
         "legendgroup": "Studio",
         "line": {
          "color": "#636efa",
          "dash": "solid"
         },
         "mode": "lines",
         "name": "Studio",
         "orientation": "v",
         "showlegend": true,
         "type": "scatter",
         "x": [
          "2014-02",
          "2014-03",
          "2014-04",
          "2014-05",
          "2014-06",
          "2014-07",
          "2014-08",
          "2014-09",
          "2014-10",
          "2014-11",
          "2014-12",
          "2015-01",
          "2015-02",
          "2015-03",
          "2015-04",
          "2015-05",
          "2015-06",
          "2015-07",
          "2015-08",
          "2015-09",
          "2015-10",
          "2015-11",
          "2015-12",
          "2016-01",
          "2016-02",
          "2016-03",
          "2016-04",
          "2016-05",
          "2016-06",
          "2016-07",
          "2016-08",
          "2016-09",
          "2016-10",
          "2016-11",
          "2016-12",
          "2017-01",
          "2017-02",
          "2017-03",
          "2017-04",
          "2017-05",
          "2017-06",
          "2017-07",
          "2017-08",
          "2017-09",
          "2017-10",
          "2017-11",
          "2017-12",
          "2018-01",
          "2018-02",
          "2018-03",
          "2018-04",
          "2018-05",
          "2018-06",
          "2018-07",
          "2018-08",
          "2018-09",
          "2018-10",
          "2018-11",
          "2018-12",
          "2019-01",
          "2019-02",
          "2019-03",
          "2019-04",
          "2019-05",
          "2019-06",
          "2019-07",
          "2019-08",
          "2019-09",
          "2019-10",
          "2019-11"
         ],
         "xaxis": "x",
         "y": [
          3000,
          2995,
          3064,
          3250,
          3295,
          3270,
          3315.5,
          3350,
          3379.5,
          3379,
          3419,
          3500,
          3500,
          3495,
          3500,
          3500,
          3600,
          3495,
          3552.5,
          3507,
          3500,
          3495,
          3402.5,
          3632,
          3638,
          3600,
          3600,
          3601,
          3518,
          3450,
          3338,
          3300,
          3223,
          3223.5,
          3100,
          3250,
          3295,
          3295,
          3306,
          3376,
          3400,
          3433,
          3387,
          3312,
          3295,
          3349,
          3303.5,
          3300,
          3395,
          3400,
          3405,
          3429.5,
          3475,
          3476.5,
          3495,
          3495,
          3495,
          3474,
          3426,
          3495,
          3500,
          3500,
          3534,
          3600,
          3641.5,
          3615,
          3600,
          3650,
          3580,
          3499
         ],
         "yaxis": "y"
        },
        {
         "hovertemplate": "variable=1 Bedroom<br>Date=%{x}<br>value=%{y}<extra></extra>",
         "legendgroup": "1 Bedroom",
         "line": {
          "color": "#EF553B",
          "dash": "solid"
         },
         "mode": "lines",
         "name": "1 Bedroom",
         "orientation": "v",
         "showlegend": true,
         "type": "scatter",
         "x": [
          "2014-02",
          "2014-03",
          "2014-04",
          "2014-05",
          "2014-06",
          "2014-07",
          "2014-08",
          "2014-09",
          "2014-10",
          "2014-11",
          "2014-12",
          "2015-01",
          "2015-02",
          "2015-03",
          "2015-04",
          "2015-05",
          "2015-06",
          "2015-07",
          "2015-08",
          "2015-09",
          "2015-10",
          "2015-11",
          "2015-12",
          "2016-01",
          "2016-02",
          "2016-03",
          "2016-04",
          "2016-05",
          "2016-06",
          "2016-07",
          "2016-08",
          "2016-09",
          "2016-10",
          "2016-11",
          "2016-12",
          "2017-01",
          "2017-02",
          "2017-03",
          "2017-04",
          "2017-05",
          "2017-06",
          "2017-07",
          "2017-08",
          "2017-09",
          "2017-10",
          "2017-11",
          "2017-12",
          "2018-01",
          "2018-02",
          "2018-03",
          "2018-04",
          "2018-05",
          "2018-06",
          "2018-07",
          "2018-08",
          "2018-09",
          "2018-10",
          "2018-11",
          "2018-12",
          "2019-01",
          "2019-02",
          "2019-03",
          "2019-04",
          "2019-05",
          "2019-06",
          "2019-07",
          "2019-08",
          "2019-09",
          "2019-10",
          "2019-11"
         ],
         "xaxis": "x",
         "y": [
          4100,
          4100,
          4250,
          4339.5,
          4400,
          4450,
          4550,
          4600,
          4600,
          4550,
          4695,
          4700,
          4705,
          4600,
          4635,
          4700,
          4754.5,
          4718,
          4947,
          4800,
          4785,
          4698,
          4692.5,
          4900,
          4900,
          4809,
          4724,
          4709,
          4600,
          4550,
          4500,
          4500,
          4462.5,
          4355,
          4355,
          4495,
          4495,
          4400,
          4500,
          4500,
          4450,
          4500,
          4500,
          4395,
          4375,
          4450,
          4385,
          4459,
          4495,
          4500,
          4500,
          4500,
          4500,
          4599.5,
          4650,
          4694.5,
          4598,
          4500,
          4500,
          4500,
          4500,
          4500,
          4579.5,
          4656,
          4709,
          4800,
          4750,
          4799,
          4600,
          4535
         ],
         "yaxis": "y"
        },
        {
         "hovertemplate": "variable=2 Bedrooms<br>Date=%{x}<br>value=%{y}<extra></extra>",
         "legendgroup": "2 Bedrooms",
         "line": {
          "color": "#00cc96",
          "dash": "solid"
         },
         "mode": "lines",
         "name": "2 Bedrooms",
         "orientation": "v",
         "showlegend": true,
         "type": "scatter",
         "x": [
          "2014-02",
          "2014-03",
          "2014-04",
          "2014-05",
          "2014-06",
          "2014-07",
          "2014-08",
          "2014-09",
          "2014-10",
          "2014-11",
          "2014-12",
          "2015-01",
          "2015-02",
          "2015-03",
          "2015-04",
          "2015-05",
          "2015-06",
          "2015-07",
          "2015-08",
          "2015-09",
          "2015-10",
          "2015-11",
          "2015-12",
          "2016-01",
          "2016-02",
          "2016-03",
          "2016-04",
          "2016-05",
          "2016-06",
          "2016-07",
          "2016-08",
          "2016-09",
          "2016-10",
          "2016-11",
          "2016-12",
          "2017-01",
          "2017-02",
          "2017-03",
          "2017-04",
          "2017-05",
          "2017-06",
          "2017-07",
          "2017-08",
          "2017-09",
          "2017-10",
          "2017-11",
          "2017-12",
          "2018-01",
          "2018-02",
          "2018-03",
          "2018-04",
          "2018-05",
          "2018-06",
          "2018-07",
          "2018-08",
          "2018-09",
          "2018-10",
          "2018-11",
          "2018-12",
          "2019-01",
          "2019-02",
          "2019-03",
          "2019-04",
          "2019-05",
          "2019-06",
          "2019-07",
          "2019-08",
          "2019-09",
          "2019-10",
          "2019-11"
         ],
         "xaxis": "x",
         "y": [
          5195,
          5000,
          5172.5,
          5500,
          4995,
          4950,
          5800,
          5500,
          5800,
          5500,
          5950,
          5995,
          5999,
          5975,
          5722.5,
          5650,
          5920,
          6147.5,
          6500,
          6250,
          5900,
          5800,
          5886,
          5995,
          5935.5,
          5897,
          5687.5,
          5975,
          5595,
          5675,
          5700,
          5600,
          5400,
          5547.5,
          5132,
          5000,
          5450,
          5500,
          5395,
          5495,
          5495,
          5500,
          5495,
          5495,
          5495,
          5495,
          5495,
          5495,
          5395,
          5500,
          5500,
          5499,
          5500,
          5500,
          5500,
          5697.5,
          5495,
          5397.5,
          5495,
          5400,
          5350,
          5300,
          5350,
          5400,
          5600,
          5788.5,
          5800,
          5744.5,
          5585,
          5495
         ],
         "yaxis": "y"
        },
        {
         "hovertemplate": "variable=3 Bedrooms<br>Date=%{x}<br>value=%{y}<extra></extra>",
         "legendgroup": "3 Bedrooms",
         "line": {
          "color": "#ab63fa",
          "dash": "solid"
         },
         "mode": "lines",
         "name": "3 Bedrooms",
         "orientation": "v",
         "showlegend": true,
         "type": "scatter",
         "x": [
          "2014-02",
          "2014-03",
          "2014-04",
          "2014-05",
          "2014-06",
          "2014-07",
          "2014-08",
          "2014-09",
          "2014-10",
          "2014-11",
          "2014-12",
          "2015-01",
          "2015-02",
          "2015-03",
          "2015-04",
          "2015-05",
          "2015-06",
          "2015-07",
          "2015-08",
          "2015-09",
          "2015-10",
          "2015-11",
          "2015-12",
          "2016-01",
          "2016-02",
          "2016-03",
          "2016-04",
          "2016-05",
          "2016-06",
          "2016-07",
          "2016-08",
          "2016-09",
          "2016-10",
          "2016-11",
          "2016-12",
          "2017-01",
          "2017-02",
          "2017-03",
          "2017-04",
          "2017-05",
          "2017-06",
          "2017-07",
          "2017-08",
          "2017-09",
          "2017-10",
          "2017-11",
          "2017-12",
          "2018-01",
          "2018-02",
          "2018-03",
          "2018-04",
          "2018-05",
          "2018-06",
          "2018-07",
          "2018-08",
          "2018-09",
          "2018-10",
          "2018-11",
          "2018-12",
          "2019-01",
          "2019-02",
          "2019-03",
          "2019-04",
          "2019-05",
          "2019-06",
          "2019-07",
          "2019-08",
          "2019-09",
          "2019-10",
          "2019-11"
         ],
         "xaxis": "x",
         "y": [
          null,
          null,
          null,
          null,
          null,
          null,
          null,
          null,
          null,
          null,
          null,
          null,
          null,
          null,
          null,
          null,
          null,
          7600,
          7200,
          6995,
          6350,
          6200,
          6500,
          7000,
          6995,
          6499,
          6697.5,
          6797.5,
          6972.5,
          6947.5,
          6350,
          6700,
          5750,
          6742.5,
          6200,
          6500,
          6150,
          6200,
          5900,
          6200,
          6500,
          6500,
          6495,
          6397.5,
          6200,
          5997.5,
          6472.5,
          6495,
          6200,
          6200,
          6500,
          6650,
          6800,
          6850,
          6800,
          6795,
          6497.5,
          6747.5,
          6495,
          6899.5,
          7000,
          6595,
          6850,
          6825,
          6872.5,
          6999.5,
          6995,
          7195,
          6850,
          6500
         ],
         "yaxis": "y"
        }
       ],
       "layout": {
        "legend": {
         "orientation": "h",
         "title": {
          "text": "variable"
         },
         "tracegroupgap": 0
        },
        "showlegend": true,
        "template": {
         "data": {
          "bar": [
           {
            "error_x": {
             "color": "#2a3f5f"
            },
            "error_y": {
             "color": "#2a3f5f"
            },
            "marker": {
             "line": {
              "color": "#E5ECF6",
              "width": 0.5
             },
             "pattern": {
              "fillmode": "overlay",
              "size": 10,
              "solidity": 0.2
             }
            },
            "type": "bar"
           }
          ],
          "barpolar": [
           {
            "marker": {
             "line": {
              "color": "#E5ECF6",
              "width": 0.5
             },
             "pattern": {
              "fillmode": "overlay",
              "size": 10,
              "solidity": 0.2
             }
            },
            "type": "barpolar"
           }
          ],
          "carpet": [
           {
            "aaxis": {
             "endlinecolor": "#2a3f5f",
             "gridcolor": "white",
             "linecolor": "white",
             "minorgridcolor": "white",
             "startlinecolor": "#2a3f5f"
            },
            "baxis": {
             "endlinecolor": "#2a3f5f",
             "gridcolor": "white",
             "linecolor": "white",
             "minorgridcolor": "white",
             "startlinecolor": "#2a3f5f"
            },
            "type": "carpet"
           }
          ],
          "choropleth": [
           {
            "colorbar": {
             "outlinewidth": 0,
             "ticks": ""
            },
            "type": "choropleth"
           }
          ],
          "contour": [
           {
            "colorbar": {
             "outlinewidth": 0,
             "ticks": ""
            },
            "colorscale": [
             [
              0,
              "#0d0887"
             ],
             [
              0.1111111111111111,
              "#46039f"
             ],
             [
              0.2222222222222222,
              "#7201a8"
             ],
             [
              0.3333333333333333,
              "#9c179e"
             ],
             [
              0.4444444444444444,
              "#bd3786"
             ],
             [
              0.5555555555555556,
              "#d8576b"
             ],
             [
              0.6666666666666666,
              "#ed7953"
             ],
             [
              0.7777777777777778,
              "#fb9f3a"
             ],
             [
              0.8888888888888888,
              "#fdca26"
             ],
             [
              1,
              "#f0f921"
             ]
            ],
            "type": "contour"
           }
          ],
          "contourcarpet": [
           {
            "colorbar": {
             "outlinewidth": 0,
             "ticks": ""
            },
            "type": "contourcarpet"
           }
          ],
          "heatmap": [
           {
            "colorbar": {
             "outlinewidth": 0,
             "ticks": ""
            },
            "colorscale": [
             [
              0,
              "#0d0887"
             ],
             [
              0.1111111111111111,
              "#46039f"
             ],
             [
              0.2222222222222222,
              "#7201a8"
             ],
             [
              0.3333333333333333,
              "#9c179e"
             ],
             [
              0.4444444444444444,
              "#bd3786"
             ],
             [
              0.5555555555555556,
              "#d8576b"
             ],
             [
              0.6666666666666666,
              "#ed7953"
             ],
             [
              0.7777777777777778,
              "#fb9f3a"
             ],
             [
              0.8888888888888888,
              "#fdca26"
             ],
             [
              1,
              "#f0f921"
             ]
            ],
            "type": "heatmap"
           }
          ],
          "heatmapgl": [
           {
            "colorbar": {
             "outlinewidth": 0,
             "ticks": ""
            },
            "colorscale": [
             [
              0,
              "#0d0887"
             ],
             [
              0.1111111111111111,
              "#46039f"
             ],
             [
              0.2222222222222222,
              "#7201a8"
             ],
             [
              0.3333333333333333,
              "#9c179e"
             ],
             [
              0.4444444444444444,
              "#bd3786"
             ],
             [
              0.5555555555555556,
              "#d8576b"
             ],
             [
              0.6666666666666666,
              "#ed7953"
             ],
             [
              0.7777777777777778,
              "#fb9f3a"
             ],
             [
              0.8888888888888888,
              "#fdca26"
             ],
             [
              1,
              "#f0f921"
             ]
            ],
            "type": "heatmapgl"
           }
          ],
          "histogram": [
           {
            "marker": {
             "pattern": {
              "fillmode": "overlay",
              "size": 10,
              "solidity": 0.2
             }
            },
            "type": "histogram"
           }
          ],
          "histogram2d": [
           {
            "colorbar": {
             "outlinewidth": 0,
             "ticks": ""
            },
            "colorscale": [
             [
              0,
              "#0d0887"
             ],
             [
              0.1111111111111111,
              "#46039f"
             ],
             [
              0.2222222222222222,
              "#7201a8"
             ],
             [
              0.3333333333333333,
              "#9c179e"
             ],
             [
              0.4444444444444444,
              "#bd3786"
             ],
             [
              0.5555555555555556,
              "#d8576b"
             ],
             [
              0.6666666666666666,
              "#ed7953"
             ],
             [
              0.7777777777777778,
              "#fb9f3a"
             ],
             [
              0.8888888888888888,
              "#fdca26"
             ],
             [
              1,
              "#f0f921"
             ]
            ],
            "type": "histogram2d"
           }
          ],
          "histogram2dcontour": [
           {
            "colorbar": {
             "outlinewidth": 0,
             "ticks": ""
            },
            "colorscale": [
             [
              0,
              "#0d0887"
             ],
             [
              0.1111111111111111,
              "#46039f"
             ],
             [
              0.2222222222222222,
              "#7201a8"
             ],
             [
              0.3333333333333333,
              "#9c179e"
             ],
             [
              0.4444444444444444,
              "#bd3786"
             ],
             [
              0.5555555555555556,
              "#d8576b"
             ],
             [
              0.6666666666666666,
              "#ed7953"
             ],
             [
              0.7777777777777778,
              "#fb9f3a"
             ],
             [
              0.8888888888888888,
              "#fdca26"
             ],
             [
              1,
              "#f0f921"
             ]
            ],
            "type": "histogram2dcontour"
           }
          ],
          "mesh3d": [
           {
            "colorbar": {
             "outlinewidth": 0,
             "ticks": ""
            },
            "type": "mesh3d"
           }
          ],
          "parcoords": [
           {
            "line": {
             "colorbar": {
              "outlinewidth": 0,
              "ticks": ""
             }
            },
            "type": "parcoords"
           }
          ],
          "pie": [
           {
            "automargin": true,
            "type": "pie"
           }
          ],
          "scatter": [
           {
            "marker": {
             "colorbar": {
              "outlinewidth": 0,
              "ticks": ""
             }
            },
            "type": "scatter"
           }
          ],
          "scatter3d": [
           {
            "line": {
             "colorbar": {
              "outlinewidth": 0,
              "ticks": ""
             }
            },
            "marker": {
             "colorbar": {
              "outlinewidth": 0,
              "ticks": ""
             }
            },
            "type": "scatter3d"
           }
          ],
          "scattercarpet": [
           {
            "marker": {
             "colorbar": {
              "outlinewidth": 0,
              "ticks": ""
             }
            },
            "type": "scattercarpet"
           }
          ],
          "scattergeo": [
           {
            "marker": {
             "colorbar": {
              "outlinewidth": 0,
              "ticks": ""
             }
            },
            "type": "scattergeo"
           }
          ],
          "scattergl": [
           {
            "marker": {
             "colorbar": {
              "outlinewidth": 0,
              "ticks": ""
             }
            },
            "type": "scattergl"
           }
          ],
          "scattermapbox": [
           {
            "marker": {
             "colorbar": {
              "outlinewidth": 0,
              "ticks": ""
             }
            },
            "type": "scattermapbox"
           }
          ],
          "scatterpolar": [
           {
            "marker": {
             "colorbar": {
              "outlinewidth": 0,
              "ticks": ""
             }
            },
            "type": "scatterpolar"
           }
          ],
          "scatterpolargl": [
           {
            "marker": {
             "colorbar": {
              "outlinewidth": 0,
              "ticks": ""
             }
            },
            "type": "scatterpolargl"
           }
          ],
          "scatterternary": [
           {
            "marker": {
             "colorbar": {
              "outlinewidth": 0,
              "ticks": ""
             }
            },
            "type": "scatterternary"
           }
          ],
          "surface": [
           {
            "colorbar": {
             "outlinewidth": 0,
             "ticks": ""
            },
            "colorscale": [
             [
              0,
              "#0d0887"
             ],
             [
              0.1111111111111111,
              "#46039f"
             ],
             [
              0.2222222222222222,
              "#7201a8"
             ],
             [
              0.3333333333333333,
              "#9c179e"
             ],
             [
              0.4444444444444444,
              "#bd3786"
             ],
             [
              0.5555555555555556,
              "#d8576b"
             ],
             [
              0.6666666666666666,
              "#ed7953"
             ],
             [
              0.7777777777777778,
              "#fb9f3a"
             ],
             [
              0.8888888888888888,
              "#fdca26"
             ],
             [
              1,
              "#f0f921"
             ]
            ],
            "type": "surface"
           }
          ],
          "table": [
           {
            "cells": {
             "fill": {
              "color": "#EBF0F8"
             },
             "line": {
              "color": "white"
             }
            },
            "header": {
             "fill": {
              "color": "#C8D4E3"
             },
             "line": {
              "color": "white"
             }
            },
            "type": "table"
           }
          ]
         },
         "layout": {
          "annotationdefaults": {
           "arrowcolor": "#2a3f5f",
           "arrowhead": 0,
           "arrowwidth": 1
          },
          "autotypenumbers": "strict",
          "coloraxis": {
           "colorbar": {
            "outlinewidth": 0,
            "ticks": ""
           }
          },
          "colorscale": {
           "diverging": [
            [
             0,
             "#8e0152"
            ],
            [
             0.1,
             "#c51b7d"
            ],
            [
             0.2,
             "#de77ae"
            ],
            [
             0.3,
             "#f1b6da"
            ],
            [
             0.4,
             "#fde0ef"
            ],
            [
             0.5,
             "#f7f7f7"
            ],
            [
             0.6,
             "#e6f5d0"
            ],
            [
             0.7,
             "#b8e186"
            ],
            [
             0.8,
             "#7fbc41"
            ],
            [
             0.9,
             "#4d9221"
            ],
            [
             1,
             "#276419"
            ]
           ],
           "sequential": [
            [
             0,
             "#0d0887"
            ],
            [
             0.1111111111111111,
             "#46039f"
            ],
            [
             0.2222222222222222,
             "#7201a8"
            ],
            [
             0.3333333333333333,
             "#9c179e"
            ],
            [
             0.4444444444444444,
             "#bd3786"
            ],
            [
             0.5555555555555556,
             "#d8576b"
            ],
            [
             0.6666666666666666,
             "#ed7953"
            ],
            [
             0.7777777777777778,
             "#fb9f3a"
            ],
            [
             0.8888888888888888,
             "#fdca26"
            ],
            [
             1,
             "#f0f921"
            ]
           ],
           "sequentialminus": [
            [
             0,
             "#0d0887"
            ],
            [
             0.1111111111111111,
             "#46039f"
            ],
            [
             0.2222222222222222,
             "#7201a8"
            ],
            [
             0.3333333333333333,
             "#9c179e"
            ],
            [
             0.4444444444444444,
             "#bd3786"
            ],
            [
             0.5555555555555556,
             "#d8576b"
            ],
            [
             0.6666666666666666,
             "#ed7953"
            ],
            [
             0.7777777777777778,
             "#fb9f3a"
            ],
            [
             0.8888888888888888,
             "#fdca26"
            ],
            [
             1,
             "#f0f921"
            ]
           ]
          },
          "colorway": [
           "#636efa",
           "#EF553B",
           "#00cc96",
           "#ab63fa",
           "#FFA15A",
           "#19d3f3",
           "#FF6692",
           "#B6E880",
           "#FF97FF",
           "#FECB52"
          ],
          "font": {
           "color": "#2a3f5f"
          },
          "geo": {
           "bgcolor": "white",
           "lakecolor": "white",
           "landcolor": "#E5ECF6",
           "showlakes": true,
           "showland": true,
           "subunitcolor": "white"
          },
          "hoverlabel": {
           "align": "left"
          },
          "hovermode": "closest",
          "mapbox": {
           "style": "light"
          },
          "paper_bgcolor": "white",
          "plot_bgcolor": "#E5ECF6",
          "polar": {
           "angularaxis": {
            "gridcolor": "white",
            "linecolor": "white",
            "ticks": ""
           },
           "bgcolor": "#E5ECF6",
           "radialaxis": {
            "gridcolor": "white",
            "linecolor": "white",
            "ticks": ""
           }
          },
          "scene": {
           "xaxis": {
            "backgroundcolor": "#E5ECF6",
            "gridcolor": "white",
            "gridwidth": 2,
            "linecolor": "white",
            "showbackground": true,
            "ticks": "",
            "zerolinecolor": "white"
           },
           "yaxis": {
            "backgroundcolor": "#E5ECF6",
            "gridcolor": "white",
            "gridwidth": 2,
            "linecolor": "white",
            "showbackground": true,
            "ticks": "",
            "zerolinecolor": "white"
           },
           "zaxis": {
            "backgroundcolor": "#E5ECF6",
            "gridcolor": "white",
            "gridwidth": 2,
            "linecolor": "white",
            "showbackground": true,
            "ticks": "",
            "zerolinecolor": "white"
           }
          },
          "shapedefaults": {
           "line": {
            "color": "#2a3f5f"
           }
          },
          "ternary": {
           "aaxis": {
            "gridcolor": "white",
            "linecolor": "white",
            "ticks": ""
           },
           "baxis": {
            "gridcolor": "white",
            "linecolor": "white",
            "ticks": ""
           },
           "bgcolor": "#E5ECF6",
           "caxis": {
            "gridcolor": "white",
            "linecolor": "white",
            "ticks": ""
           }
          },
          "title": {
           "x": 0.05
          },
          "xaxis": {
           "automargin": true,
           "gridcolor": "white",
           "linecolor": "white",
           "ticks": "",
           "title": {
            "standoff": 15
           },
           "zerolinecolor": "white",
           "zerolinewidth": 2
          },
          "yaxis": {
           "automargin": true,
           "gridcolor": "white",
           "linecolor": "white",
           "ticks": "",
           "title": {
            "standoff": 15
           },
           "zerolinecolor": "white",
           "zerolinewidth": 2
          }
         }
        },
        "title": {
         "text": "Median Rental Prices in San Francisco, CA"
        },
        "xaxis": {
         "anchor": "y",
         "domain": [
          0,
          1
         ],
         "range": [
          "2014-02-01",
          "2019-12-31"
         ],
         "title": {
          "text": "Date"
         }
        },
        "yaxis": {
         "anchor": "x",
         "domain": [
          0,
          1
         ],
         "title": {
          "text": "Median Rent ($USD)"
         }
        }
       }
      },
      "text/html": [
       "<div>                            <div id=\"296a2bd4-dc3f-4e58-9ff9-9d39cc92d817\" class=\"plotly-graph-div\" style=\"height:525px; width:100%;\"></div>            <script type=\"text/javascript\">                require([\"plotly\"], function(Plotly) {                    window.PLOTLYENV=window.PLOTLYENV || {};                                    if (document.getElementById(\"296a2bd4-dc3f-4e58-9ff9-9d39cc92d817\")) {                    Plotly.newPlot(                        \"296a2bd4-dc3f-4e58-9ff9-9d39cc92d817\",                        [{\"hovertemplate\":\"variable=Studio<br>Date=%{x}<br>value=%{y}<extra></extra>\",\"legendgroup\":\"Studio\",\"line\":{\"color\":\"#636efa\",\"dash\":\"solid\"},\"mode\":\"lines\",\"name\":\"Studio\",\"orientation\":\"v\",\"showlegend\":true,\"type\":\"scatter\",\"x\":[\"2014-02\",\"2014-03\",\"2014-04\",\"2014-05\",\"2014-06\",\"2014-07\",\"2014-08\",\"2014-09\",\"2014-10\",\"2014-11\",\"2014-12\",\"2015-01\",\"2015-02\",\"2015-03\",\"2015-04\",\"2015-05\",\"2015-06\",\"2015-07\",\"2015-08\",\"2015-09\",\"2015-10\",\"2015-11\",\"2015-12\",\"2016-01\",\"2016-02\",\"2016-03\",\"2016-04\",\"2016-05\",\"2016-06\",\"2016-07\",\"2016-08\",\"2016-09\",\"2016-10\",\"2016-11\",\"2016-12\",\"2017-01\",\"2017-02\",\"2017-03\",\"2017-04\",\"2017-05\",\"2017-06\",\"2017-07\",\"2017-08\",\"2017-09\",\"2017-10\",\"2017-11\",\"2017-12\",\"2018-01\",\"2018-02\",\"2018-03\",\"2018-04\",\"2018-05\",\"2018-06\",\"2018-07\",\"2018-08\",\"2018-09\",\"2018-10\",\"2018-11\",\"2018-12\",\"2019-01\",\"2019-02\",\"2019-03\",\"2019-04\",\"2019-05\",\"2019-06\",\"2019-07\",\"2019-08\",\"2019-09\",\"2019-10\",\"2019-11\"],\"xaxis\":\"x\",\"y\":[3000.0,2995.0,3064.0,3250.0,3295.0,3270.0,3315.5,3350.0,3379.5,3379.0,3419.0,3500.0,3500.0,3495.0,3500.0,3500.0,3600.0,3495.0,3552.5,3507.0,3500.0,3495.0,3402.5,3632.0,3638.0,3600.0,3600.0,3601.0,3518.0,3450.0,3338.0,3300.0,3223.0,3223.5,3100.0,3250.0,3295.0,3295.0,3306.0,3376.0,3400.0,3433.0,3387.0,3312.0,3295.0,3349.0,3303.5,3300.0,3395.0,3400.0,3405.0,3429.5,3475.0,3476.5,3495.0,3495.0,3495.0,3474.0,3426.0,3495.0,3500.0,3500.0,3534.0,3600.0,3641.5,3615.0,3600.0,3650.0,3580.0,3499.0],\"yaxis\":\"y\"},{\"hovertemplate\":\"variable=1 Bedroom<br>Date=%{x}<br>value=%{y}<extra></extra>\",\"legendgroup\":\"1 Bedroom\",\"line\":{\"color\":\"#EF553B\",\"dash\":\"solid\"},\"mode\":\"lines\",\"name\":\"1 Bedroom\",\"orientation\":\"v\",\"showlegend\":true,\"type\":\"scatter\",\"x\":[\"2014-02\",\"2014-03\",\"2014-04\",\"2014-05\",\"2014-06\",\"2014-07\",\"2014-08\",\"2014-09\",\"2014-10\",\"2014-11\",\"2014-12\",\"2015-01\",\"2015-02\",\"2015-03\",\"2015-04\",\"2015-05\",\"2015-06\",\"2015-07\",\"2015-08\",\"2015-09\",\"2015-10\",\"2015-11\",\"2015-12\",\"2016-01\",\"2016-02\",\"2016-03\",\"2016-04\",\"2016-05\",\"2016-06\",\"2016-07\",\"2016-08\",\"2016-09\",\"2016-10\",\"2016-11\",\"2016-12\",\"2017-01\",\"2017-02\",\"2017-03\",\"2017-04\",\"2017-05\",\"2017-06\",\"2017-07\",\"2017-08\",\"2017-09\",\"2017-10\",\"2017-11\",\"2017-12\",\"2018-01\",\"2018-02\",\"2018-03\",\"2018-04\",\"2018-05\",\"2018-06\",\"2018-07\",\"2018-08\",\"2018-09\",\"2018-10\",\"2018-11\",\"2018-12\",\"2019-01\",\"2019-02\",\"2019-03\",\"2019-04\",\"2019-05\",\"2019-06\",\"2019-07\",\"2019-08\",\"2019-09\",\"2019-10\",\"2019-11\"],\"xaxis\":\"x\",\"y\":[4100.0,4100.0,4250.0,4339.5,4400.0,4450.0,4550.0,4600.0,4600.0,4550.0,4695.0,4700.0,4705.0,4600.0,4635.0,4700.0,4754.5,4718.0,4947.0,4800.0,4785.0,4698.0,4692.5,4900.0,4900.0,4809.0,4724.0,4709.0,4600.0,4550.0,4500.0,4500.0,4462.5,4355.0,4355.0,4495.0,4495.0,4400.0,4500.0,4500.0,4450.0,4500.0,4500.0,4395.0,4375.0,4450.0,4385.0,4459.0,4495.0,4500.0,4500.0,4500.0,4500.0,4599.5,4650.0,4694.5,4598.0,4500.0,4500.0,4500.0,4500.0,4500.0,4579.5,4656.0,4709.0,4800.0,4750.0,4799.0,4600.0,4535.0],\"yaxis\":\"y\"},{\"hovertemplate\":\"variable=2 Bedrooms<br>Date=%{x}<br>value=%{y}<extra></extra>\",\"legendgroup\":\"2 Bedrooms\",\"line\":{\"color\":\"#00cc96\",\"dash\":\"solid\"},\"mode\":\"lines\",\"name\":\"2 Bedrooms\",\"orientation\":\"v\",\"showlegend\":true,\"type\":\"scatter\",\"x\":[\"2014-02\",\"2014-03\",\"2014-04\",\"2014-05\",\"2014-06\",\"2014-07\",\"2014-08\",\"2014-09\",\"2014-10\",\"2014-11\",\"2014-12\",\"2015-01\",\"2015-02\",\"2015-03\",\"2015-04\",\"2015-05\",\"2015-06\",\"2015-07\",\"2015-08\",\"2015-09\",\"2015-10\",\"2015-11\",\"2015-12\",\"2016-01\",\"2016-02\",\"2016-03\",\"2016-04\",\"2016-05\",\"2016-06\",\"2016-07\",\"2016-08\",\"2016-09\",\"2016-10\",\"2016-11\",\"2016-12\",\"2017-01\",\"2017-02\",\"2017-03\",\"2017-04\",\"2017-05\",\"2017-06\",\"2017-07\",\"2017-08\",\"2017-09\",\"2017-10\",\"2017-11\",\"2017-12\",\"2018-01\",\"2018-02\",\"2018-03\",\"2018-04\",\"2018-05\",\"2018-06\",\"2018-07\",\"2018-08\",\"2018-09\",\"2018-10\",\"2018-11\",\"2018-12\",\"2019-01\",\"2019-02\",\"2019-03\",\"2019-04\",\"2019-05\",\"2019-06\",\"2019-07\",\"2019-08\",\"2019-09\",\"2019-10\",\"2019-11\"],\"xaxis\":\"x\",\"y\":[5195.0,5000.0,5172.5,5500.0,4995.0,4950.0,5800.0,5500.0,5800.0,5500.0,5950.0,5995.0,5999.0,5975.0,5722.5,5650.0,5920.0,6147.5,6500.0,6250.0,5900.0,5800.0,5886.0,5995.0,5935.5,5897.0,5687.5,5975.0,5595.0,5675.0,5700.0,5600.0,5400.0,5547.5,5132.0,5000.0,5450.0,5500.0,5395.0,5495.0,5495.0,5500.0,5495.0,5495.0,5495.0,5495.0,5495.0,5495.0,5395.0,5500.0,5500.0,5499.0,5500.0,5500.0,5500.0,5697.5,5495.0,5397.5,5495.0,5400.0,5350.0,5300.0,5350.0,5400.0,5600.0,5788.5,5800.0,5744.5,5585.0,5495.0],\"yaxis\":\"y\"},{\"hovertemplate\":\"variable=3 Bedrooms<br>Date=%{x}<br>value=%{y}<extra></extra>\",\"legendgroup\":\"3 Bedrooms\",\"line\":{\"color\":\"#ab63fa\",\"dash\":\"solid\"},\"mode\":\"lines\",\"name\":\"3 Bedrooms\",\"orientation\":\"v\",\"showlegend\":true,\"type\":\"scatter\",\"x\":[\"2014-02\",\"2014-03\",\"2014-04\",\"2014-05\",\"2014-06\",\"2014-07\",\"2014-08\",\"2014-09\",\"2014-10\",\"2014-11\",\"2014-12\",\"2015-01\",\"2015-02\",\"2015-03\",\"2015-04\",\"2015-05\",\"2015-06\",\"2015-07\",\"2015-08\",\"2015-09\",\"2015-10\",\"2015-11\",\"2015-12\",\"2016-01\",\"2016-02\",\"2016-03\",\"2016-04\",\"2016-05\",\"2016-06\",\"2016-07\",\"2016-08\",\"2016-09\",\"2016-10\",\"2016-11\",\"2016-12\",\"2017-01\",\"2017-02\",\"2017-03\",\"2017-04\",\"2017-05\",\"2017-06\",\"2017-07\",\"2017-08\",\"2017-09\",\"2017-10\",\"2017-11\",\"2017-12\",\"2018-01\",\"2018-02\",\"2018-03\",\"2018-04\",\"2018-05\",\"2018-06\",\"2018-07\",\"2018-08\",\"2018-09\",\"2018-10\",\"2018-11\",\"2018-12\",\"2019-01\",\"2019-02\",\"2019-03\",\"2019-04\",\"2019-05\",\"2019-06\",\"2019-07\",\"2019-08\",\"2019-09\",\"2019-10\",\"2019-11\"],\"xaxis\":\"x\",\"y\":[null,null,null,null,null,null,null,null,null,null,null,null,null,null,null,null,null,7600.0,7200.0,6995.0,6350.0,6200.0,6500.0,7000.0,6995.0,6499.0,6697.5,6797.5,6972.5,6947.5,6350.0,6700.0,5750.0,6742.5,6200.0,6500.0,6150.0,6200.0,5900.0,6200.0,6500.0,6500.0,6495.0,6397.5,6200.0,5997.5,6472.5,6495.0,6200.0,6200.0,6500.0,6650.0,6800.0,6850.0,6800.0,6795.0,6497.5,6747.5,6495.0,6899.5,7000.0,6595.0,6850.0,6825.0,6872.5,6999.5,6995.0,7195.0,6850.0,6500.0],\"yaxis\":\"y\"}],                        {\"legend\":{\"orientation\":\"h\",\"title\":{\"text\":\"variable\"},\"tracegroupgap\":0},\"showlegend\":true,\"template\":{\"data\":{\"bar\":[{\"error_x\":{\"color\":\"#2a3f5f\"},\"error_y\":{\"color\":\"#2a3f5f\"},\"marker\":{\"line\":{\"color\":\"#E5ECF6\",\"width\":0.5},\"pattern\":{\"fillmode\":\"overlay\",\"size\":10,\"solidity\":0.2}},\"type\":\"bar\"}],\"barpolar\":[{\"marker\":{\"line\":{\"color\":\"#E5ECF6\",\"width\":0.5},\"pattern\":{\"fillmode\":\"overlay\",\"size\":10,\"solidity\":0.2}},\"type\":\"barpolar\"}],\"carpet\":[{\"aaxis\":{\"endlinecolor\":\"#2a3f5f\",\"gridcolor\":\"white\",\"linecolor\":\"white\",\"minorgridcolor\":\"white\",\"startlinecolor\":\"#2a3f5f\"},\"baxis\":{\"endlinecolor\":\"#2a3f5f\",\"gridcolor\":\"white\",\"linecolor\":\"white\",\"minorgridcolor\":\"white\",\"startlinecolor\":\"#2a3f5f\"},\"type\":\"carpet\"}],\"choropleth\":[{\"colorbar\":{\"outlinewidth\":0,\"ticks\":\"\"},\"type\":\"choropleth\"}],\"contour\":[{\"colorbar\":{\"outlinewidth\":0,\"ticks\":\"\"},\"colorscale\":[[0.0,\"#0d0887\"],[0.1111111111111111,\"#46039f\"],[0.2222222222222222,\"#7201a8\"],[0.3333333333333333,\"#9c179e\"],[0.4444444444444444,\"#bd3786\"],[0.5555555555555556,\"#d8576b\"],[0.6666666666666666,\"#ed7953\"],[0.7777777777777778,\"#fb9f3a\"],[0.8888888888888888,\"#fdca26\"],[1.0,\"#f0f921\"]],\"type\":\"contour\"}],\"contourcarpet\":[{\"colorbar\":{\"outlinewidth\":0,\"ticks\":\"\"},\"type\":\"contourcarpet\"}],\"heatmap\":[{\"colorbar\":{\"outlinewidth\":0,\"ticks\":\"\"},\"colorscale\":[[0.0,\"#0d0887\"],[0.1111111111111111,\"#46039f\"],[0.2222222222222222,\"#7201a8\"],[0.3333333333333333,\"#9c179e\"],[0.4444444444444444,\"#bd3786\"],[0.5555555555555556,\"#d8576b\"],[0.6666666666666666,\"#ed7953\"],[0.7777777777777778,\"#fb9f3a\"],[0.8888888888888888,\"#fdca26\"],[1.0,\"#f0f921\"]],\"type\":\"heatmap\"}],\"heatmapgl\":[{\"colorbar\":{\"outlinewidth\":0,\"ticks\":\"\"},\"colorscale\":[[0.0,\"#0d0887\"],[0.1111111111111111,\"#46039f\"],[0.2222222222222222,\"#7201a8\"],[0.3333333333333333,\"#9c179e\"],[0.4444444444444444,\"#bd3786\"],[0.5555555555555556,\"#d8576b\"],[0.6666666666666666,\"#ed7953\"],[0.7777777777777778,\"#fb9f3a\"],[0.8888888888888888,\"#fdca26\"],[1.0,\"#f0f921\"]],\"type\":\"heatmapgl\"}],\"histogram\":[{\"marker\":{\"pattern\":{\"fillmode\":\"overlay\",\"size\":10,\"solidity\":0.2}},\"type\":\"histogram\"}],\"histogram2d\":[{\"colorbar\":{\"outlinewidth\":0,\"ticks\":\"\"},\"colorscale\":[[0.0,\"#0d0887\"],[0.1111111111111111,\"#46039f\"],[0.2222222222222222,\"#7201a8\"],[0.3333333333333333,\"#9c179e\"],[0.4444444444444444,\"#bd3786\"],[0.5555555555555556,\"#d8576b\"],[0.6666666666666666,\"#ed7953\"],[0.7777777777777778,\"#fb9f3a\"],[0.8888888888888888,\"#fdca26\"],[1.0,\"#f0f921\"]],\"type\":\"histogram2d\"}],\"histogram2dcontour\":[{\"colorbar\":{\"outlinewidth\":0,\"ticks\":\"\"},\"colorscale\":[[0.0,\"#0d0887\"],[0.1111111111111111,\"#46039f\"],[0.2222222222222222,\"#7201a8\"],[0.3333333333333333,\"#9c179e\"],[0.4444444444444444,\"#bd3786\"],[0.5555555555555556,\"#d8576b\"],[0.6666666666666666,\"#ed7953\"],[0.7777777777777778,\"#fb9f3a\"],[0.8888888888888888,\"#fdca26\"],[1.0,\"#f0f921\"]],\"type\":\"histogram2dcontour\"}],\"mesh3d\":[{\"colorbar\":{\"outlinewidth\":0,\"ticks\":\"\"},\"type\":\"mesh3d\"}],\"parcoords\":[{\"line\":{\"colorbar\":{\"outlinewidth\":0,\"ticks\":\"\"}},\"type\":\"parcoords\"}],\"pie\":[{\"automargin\":true,\"type\":\"pie\"}],\"scatter\":[{\"marker\":{\"colorbar\":{\"outlinewidth\":0,\"ticks\":\"\"}},\"type\":\"scatter\"}],\"scatter3d\":[{\"line\":{\"colorbar\":{\"outlinewidth\":0,\"ticks\":\"\"}},\"marker\":{\"colorbar\":{\"outlinewidth\":0,\"ticks\":\"\"}},\"type\":\"scatter3d\"}],\"scattercarpet\":[{\"marker\":{\"colorbar\":{\"outlinewidth\":0,\"ticks\":\"\"}},\"type\":\"scattercarpet\"}],\"scattergeo\":[{\"marker\":{\"colorbar\":{\"outlinewidth\":0,\"ticks\":\"\"}},\"type\":\"scattergeo\"}],\"scattergl\":[{\"marker\":{\"colorbar\":{\"outlinewidth\":0,\"ticks\":\"\"}},\"type\":\"scattergl\"}],\"scattermapbox\":[{\"marker\":{\"colorbar\":{\"outlinewidth\":0,\"ticks\":\"\"}},\"type\":\"scattermapbox\"}],\"scatterpolar\":[{\"marker\":{\"colorbar\":{\"outlinewidth\":0,\"ticks\":\"\"}},\"type\":\"scatterpolar\"}],\"scatterpolargl\":[{\"marker\":{\"colorbar\":{\"outlinewidth\":0,\"ticks\":\"\"}},\"type\":\"scatterpolargl\"}],\"scatterternary\":[{\"marker\":{\"colorbar\":{\"outlinewidth\":0,\"ticks\":\"\"}},\"type\":\"scatterternary\"}],\"surface\":[{\"colorbar\":{\"outlinewidth\":0,\"ticks\":\"\"},\"colorscale\":[[0.0,\"#0d0887\"],[0.1111111111111111,\"#46039f\"],[0.2222222222222222,\"#7201a8\"],[0.3333333333333333,\"#9c179e\"],[0.4444444444444444,\"#bd3786\"],[0.5555555555555556,\"#d8576b\"],[0.6666666666666666,\"#ed7953\"],[0.7777777777777778,\"#fb9f3a\"],[0.8888888888888888,\"#fdca26\"],[1.0,\"#f0f921\"]],\"type\":\"surface\"}],\"table\":[{\"cells\":{\"fill\":{\"color\":\"#EBF0F8\"},\"line\":{\"color\":\"white\"}},\"header\":{\"fill\":{\"color\":\"#C8D4E3\"},\"line\":{\"color\":\"white\"}},\"type\":\"table\"}]},\"layout\":{\"annotationdefaults\":{\"arrowcolor\":\"#2a3f5f\",\"arrowhead\":0,\"arrowwidth\":1},\"autotypenumbers\":\"strict\",\"coloraxis\":{\"colorbar\":{\"outlinewidth\":0,\"ticks\":\"\"}},\"colorscale\":{\"diverging\":[[0,\"#8e0152\"],[0.1,\"#c51b7d\"],[0.2,\"#de77ae\"],[0.3,\"#f1b6da\"],[0.4,\"#fde0ef\"],[0.5,\"#f7f7f7\"],[0.6,\"#e6f5d0\"],[0.7,\"#b8e186\"],[0.8,\"#7fbc41\"],[0.9,\"#4d9221\"],[1,\"#276419\"]],\"sequential\":[[0.0,\"#0d0887\"],[0.1111111111111111,\"#46039f\"],[0.2222222222222222,\"#7201a8\"],[0.3333333333333333,\"#9c179e\"],[0.4444444444444444,\"#bd3786\"],[0.5555555555555556,\"#d8576b\"],[0.6666666666666666,\"#ed7953\"],[0.7777777777777778,\"#fb9f3a\"],[0.8888888888888888,\"#fdca26\"],[1.0,\"#f0f921\"]],\"sequentialminus\":[[0.0,\"#0d0887\"],[0.1111111111111111,\"#46039f\"],[0.2222222222222222,\"#7201a8\"],[0.3333333333333333,\"#9c179e\"],[0.4444444444444444,\"#bd3786\"],[0.5555555555555556,\"#d8576b\"],[0.6666666666666666,\"#ed7953\"],[0.7777777777777778,\"#fb9f3a\"],[0.8888888888888888,\"#fdca26\"],[1.0,\"#f0f921\"]]},\"colorway\":[\"#636efa\",\"#EF553B\",\"#00cc96\",\"#ab63fa\",\"#FFA15A\",\"#19d3f3\",\"#FF6692\",\"#B6E880\",\"#FF97FF\",\"#FECB52\"],\"font\":{\"color\":\"#2a3f5f\"},\"geo\":{\"bgcolor\":\"white\",\"lakecolor\":\"white\",\"landcolor\":\"#E5ECF6\",\"showlakes\":true,\"showland\":true,\"subunitcolor\":\"white\"},\"hoverlabel\":{\"align\":\"left\"},\"hovermode\":\"closest\",\"mapbox\":{\"style\":\"light\"},\"paper_bgcolor\":\"white\",\"plot_bgcolor\":\"#E5ECF6\",\"polar\":{\"angularaxis\":{\"gridcolor\":\"white\",\"linecolor\":\"white\",\"ticks\":\"\"},\"bgcolor\":\"#E5ECF6\",\"radialaxis\":{\"gridcolor\":\"white\",\"linecolor\":\"white\",\"ticks\":\"\"}},\"scene\":{\"xaxis\":{\"backgroundcolor\":\"#E5ECF6\",\"gridcolor\":\"white\",\"gridwidth\":2,\"linecolor\":\"white\",\"showbackground\":true,\"ticks\":\"\",\"zerolinecolor\":\"white\"},\"yaxis\":{\"backgroundcolor\":\"#E5ECF6\",\"gridcolor\":\"white\",\"gridwidth\":2,\"linecolor\":\"white\",\"showbackground\":true,\"ticks\":\"\",\"zerolinecolor\":\"white\"},\"zaxis\":{\"backgroundcolor\":\"#E5ECF6\",\"gridcolor\":\"white\",\"gridwidth\":2,\"linecolor\":\"white\",\"showbackground\":true,\"ticks\":\"\",\"zerolinecolor\":\"white\"}},\"shapedefaults\":{\"line\":{\"color\":\"#2a3f5f\"}},\"ternary\":{\"aaxis\":{\"gridcolor\":\"white\",\"linecolor\":\"white\",\"ticks\":\"\"},\"baxis\":{\"gridcolor\":\"white\",\"linecolor\":\"white\",\"ticks\":\"\"},\"bgcolor\":\"#E5ECF6\",\"caxis\":{\"gridcolor\":\"white\",\"linecolor\":\"white\",\"ticks\":\"\"}},\"title\":{\"x\":0.05},\"xaxis\":{\"automargin\":true,\"gridcolor\":\"white\",\"linecolor\":\"white\",\"ticks\":\"\",\"title\":{\"standoff\":15},\"zerolinecolor\":\"white\",\"zerolinewidth\":2},\"yaxis\":{\"automargin\":true,\"gridcolor\":\"white\",\"linecolor\":\"white\",\"ticks\":\"\",\"title\":{\"standoff\":15},\"zerolinecolor\":\"white\",\"zerolinewidth\":2}}},\"title\":{\"text\":\"Median Rental Prices in San Francisco, CA\"},\"xaxis\":{\"anchor\":\"y\",\"domain\":[0.0,1.0],\"range\":[\"2014-02-01\",\"2019-12-31\"],\"title\":{\"text\":\"Date\"}},\"yaxis\":{\"anchor\":\"x\",\"domain\":[0.0,1.0],\"title\":{\"text\":\"Median Rent ($USD)\"}}},                        {\"responsive\": true}                    ).then(function(){\n",
       "                            \n",
       "var gd = document.getElementById('296a2bd4-dc3f-4e58-9ff9-9d39cc92d817');\n",
       "var x = new MutationObserver(function (mutations, observer) {{\n",
       "        var display = window.getComputedStyle(gd).display;\n",
       "        if (!display || display === 'none') {{\n",
       "            console.log([gd, 'removed!']);\n",
       "            Plotly.purge(gd);\n",
       "            observer.disconnect();\n",
       "        }}\n",
       "}});\n",
       "\n",
       "// Listen for the removal of the full notebook cells\n",
       "var notebookContainer = gd.closest('#notebook-container');\n",
       "if (notebookContainer) {{\n",
       "    x.observe(notebookContainer, {childList: true});\n",
       "}}\n",
       "\n",
       "// Listen for the clearing of the current output cell\n",
       "var outputEl = gd.closest('.output');\n",
       "if (outputEl) {{\n",
       "    x.observe(outputEl, {childList: true});\n",
       "}}\n",
       "\n",
       "                        })                };                });            </script>        </div>"
      ]
     },
     "metadata": {},
     "output_type": "display_data"
    }
   ],
   "source": [
    "plot_four_columns_using_plotly_express(sanfrancisco_df,'Studio','1 Bedroom','2 Bedrooms','3 Bedrooms',\n",
    "                                       'Median Rental Prices in San Francisco, CA','2014-02-01','2019-12-31')"
   ]
  },
  {
   "cell_type": "code",
   "execution_count": null,
   "metadata": {},
   "outputs": [],
   "source": []
  },
  {
   "cell_type": "markdown",
   "metadata": {},
   "source": [
    "# Potential Research Questions\n",
    "1. Is there a relationship between median rental price and federal interest rate?\n",
    "2. In general, are inflation rate and median house prices in the United States correlated?\n",
    "3. Could we predict median rental price in San Francisco in 2025 using a machine learning model?"
   ]
  },
  {
   "cell_type": "markdown",
   "metadata": {
    "hideCode": false,
    "hidePrompt": false
   },
   "source": [
    "### Relationship Between Price and Interest Rate"
   ]
  },
  {
   "cell_type": "code",
   "execution_count": 315,
   "metadata": {},
   "outputs": [],
   "source": [
    "interest_rate = pd.read_csv('dataset/interest_rate.csv')\n",
    "interest_rate.columns = interest_rate.columns.str.replace(' ', '_')"
   ]
  },
  {
   "cell_type": "code",
   "execution_count": 316,
   "metadata": {},
   "outputs": [
    {
     "data": {
      "text/html": [
       "<div>\n",
       "<style scoped>\n",
       "    .dataframe tbody tr th:only-of-type {\n",
       "        vertical-align: middle;\n",
       "    }\n",
       "\n",
       "    .dataframe tbody tr th {\n",
       "        vertical-align: top;\n",
       "    }\n",
       "\n",
       "    .dataframe thead th {\n",
       "        text-align: right;\n",
       "    }\n",
       "</style>\n",
       "<table border=\"1\" class=\"dataframe\">\n",
       "  <thead>\n",
       "    <tr style=\"text-align: right;\">\n",
       "      <th></th>\n",
       "      <th>Year</th>\n",
       "      <th>Month</th>\n",
       "      <th>Day</th>\n",
       "      <th>Federal_Funds_Target_Rate</th>\n",
       "      <th>Federal_Funds_Upper_Target</th>\n",
       "      <th>Federal_Funds_Lower_Target</th>\n",
       "      <th>Effective_Federal_Funds_Rate</th>\n",
       "      <th>Real_GDP_(Percent_Change)</th>\n",
       "      <th>Unemployment_Rate</th>\n",
       "      <th>Inflation_Rate</th>\n",
       "    </tr>\n",
       "  </thead>\n",
       "  <tbody>\n",
       "    <tr>\n",
       "      <th>0</th>\n",
       "      <td>1954</td>\n",
       "      <td>7</td>\n",
       "      <td>1</td>\n",
       "      <td>NaN</td>\n",
       "      <td>NaN</td>\n",
       "      <td>NaN</td>\n",
       "      <td>0.80</td>\n",
       "      <td>4.6</td>\n",
       "      <td>5.8</td>\n",
       "      <td>NaN</td>\n",
       "    </tr>\n",
       "    <tr>\n",
       "      <th>1</th>\n",
       "      <td>1954</td>\n",
       "      <td>8</td>\n",
       "      <td>1</td>\n",
       "      <td>NaN</td>\n",
       "      <td>NaN</td>\n",
       "      <td>NaN</td>\n",
       "      <td>1.22</td>\n",
       "      <td>NaN</td>\n",
       "      <td>6.0</td>\n",
       "      <td>NaN</td>\n",
       "    </tr>\n",
       "    <tr>\n",
       "      <th>2</th>\n",
       "      <td>1954</td>\n",
       "      <td>9</td>\n",
       "      <td>1</td>\n",
       "      <td>NaN</td>\n",
       "      <td>NaN</td>\n",
       "      <td>NaN</td>\n",
       "      <td>1.06</td>\n",
       "      <td>NaN</td>\n",
       "      <td>6.1</td>\n",
       "      <td>NaN</td>\n",
       "    </tr>\n",
       "    <tr>\n",
       "      <th>3</th>\n",
       "      <td>1954</td>\n",
       "      <td>10</td>\n",
       "      <td>1</td>\n",
       "      <td>NaN</td>\n",
       "      <td>NaN</td>\n",
       "      <td>NaN</td>\n",
       "      <td>0.85</td>\n",
       "      <td>8.0</td>\n",
       "      <td>5.7</td>\n",
       "      <td>NaN</td>\n",
       "    </tr>\n",
       "    <tr>\n",
       "      <th>4</th>\n",
       "      <td>1954</td>\n",
       "      <td>11</td>\n",
       "      <td>1</td>\n",
       "      <td>NaN</td>\n",
       "      <td>NaN</td>\n",
       "      <td>NaN</td>\n",
       "      <td>0.83</td>\n",
       "      <td>NaN</td>\n",
       "      <td>5.3</td>\n",
       "      <td>NaN</td>\n",
       "    </tr>\n",
       "    <tr>\n",
       "      <th>...</th>\n",
       "      <td>...</td>\n",
       "      <td>...</td>\n",
       "      <td>...</td>\n",
       "      <td>...</td>\n",
       "      <td>...</td>\n",
       "      <td>...</td>\n",
       "      <td>...</td>\n",
       "      <td>...</td>\n",
       "      <td>...</td>\n",
       "      <td>...</td>\n",
       "    </tr>\n",
       "    <tr>\n",
       "      <th>899</th>\n",
       "      <td>2016</td>\n",
       "      <td>12</td>\n",
       "      <td>14</td>\n",
       "      <td>NaN</td>\n",
       "      <td>0.75</td>\n",
       "      <td>0.50</td>\n",
       "      <td>NaN</td>\n",
       "      <td>NaN</td>\n",
       "      <td>NaN</td>\n",
       "      <td>NaN</td>\n",
       "    </tr>\n",
       "    <tr>\n",
       "      <th>900</th>\n",
       "      <td>2017</td>\n",
       "      <td>1</td>\n",
       "      <td>1</td>\n",
       "      <td>NaN</td>\n",
       "      <td>0.75</td>\n",
       "      <td>0.50</td>\n",
       "      <td>0.65</td>\n",
       "      <td>NaN</td>\n",
       "      <td>4.8</td>\n",
       "      <td>2.3</td>\n",
       "    </tr>\n",
       "    <tr>\n",
       "      <th>901</th>\n",
       "      <td>2017</td>\n",
       "      <td>2</td>\n",
       "      <td>1</td>\n",
       "      <td>NaN</td>\n",
       "      <td>0.75</td>\n",
       "      <td>0.50</td>\n",
       "      <td>0.66</td>\n",
       "      <td>NaN</td>\n",
       "      <td>4.7</td>\n",
       "      <td>2.2</td>\n",
       "    </tr>\n",
       "    <tr>\n",
       "      <th>902</th>\n",
       "      <td>2017</td>\n",
       "      <td>3</td>\n",
       "      <td>1</td>\n",
       "      <td>NaN</td>\n",
       "      <td>0.75</td>\n",
       "      <td>0.50</td>\n",
       "      <td>NaN</td>\n",
       "      <td>NaN</td>\n",
       "      <td>NaN</td>\n",
       "      <td>NaN</td>\n",
       "    </tr>\n",
       "    <tr>\n",
       "      <th>903</th>\n",
       "      <td>2017</td>\n",
       "      <td>3</td>\n",
       "      <td>16</td>\n",
       "      <td>NaN</td>\n",
       "      <td>1.00</td>\n",
       "      <td>0.75</td>\n",
       "      <td>NaN</td>\n",
       "      <td>NaN</td>\n",
       "      <td>NaN</td>\n",
       "      <td>NaN</td>\n",
       "    </tr>\n",
       "  </tbody>\n",
       "</table>\n",
       "<p>904 rows × 10 columns</p>\n",
       "</div>"
      ],
      "text/plain": [
       "     Year  Month  Day  Federal_Funds_Target_Rate  Federal_Funds_Upper_Target  \\\n",
       "0    1954      7    1                        NaN                         NaN   \n",
       "1    1954      8    1                        NaN                         NaN   \n",
       "2    1954      9    1                        NaN                         NaN   \n",
       "3    1954     10    1                        NaN                         NaN   \n",
       "4    1954     11    1                        NaN                         NaN   \n",
       "..    ...    ...  ...                        ...                         ...   \n",
       "899  2016     12   14                        NaN                        0.75   \n",
       "900  2017      1    1                        NaN                        0.75   \n",
       "901  2017      2    1                        NaN                        0.75   \n",
       "902  2017      3    1                        NaN                        0.75   \n",
       "903  2017      3   16                        NaN                        1.00   \n",
       "\n",
       "     Federal_Funds_Lower_Target  Effective_Federal_Funds_Rate  \\\n",
       "0                           NaN                          0.80   \n",
       "1                           NaN                          1.22   \n",
       "2                           NaN                          1.06   \n",
       "3                           NaN                          0.85   \n",
       "4                           NaN                          0.83   \n",
       "..                          ...                           ...   \n",
       "899                        0.50                           NaN   \n",
       "900                        0.50                          0.65   \n",
       "901                        0.50                          0.66   \n",
       "902                        0.50                           NaN   \n",
       "903                        0.75                           NaN   \n",
       "\n",
       "     Real_GDP_(Percent_Change)  Unemployment_Rate  Inflation_Rate  \n",
       "0                          4.6                5.8             NaN  \n",
       "1                          NaN                6.0             NaN  \n",
       "2                          NaN                6.1             NaN  \n",
       "3                          8.0                5.7             NaN  \n",
       "4                          NaN                5.3             NaN  \n",
       "..                         ...                ...             ...  \n",
       "899                        NaN                NaN             NaN  \n",
       "900                        NaN                4.8             2.3  \n",
       "901                        NaN                4.7             2.2  \n",
       "902                        NaN                NaN             NaN  \n",
       "903                        NaN                NaN             NaN  \n",
       "\n",
       "[904 rows x 10 columns]"
      ]
     },
     "execution_count": 316,
     "metadata": {},
     "output_type": "execute_result"
    }
   ],
   "source": [
    "interest_rate"
   ]
  },
  {
   "cell_type": "code",
   "execution_count": 317,
   "metadata": {},
   "outputs": [],
   "source": [
    "interest_rate = interest_rate.loc[(interest_rate['Year'] >= 2014) & (interest_rate['Year'] <= 2019)]"
   ]
  },
  {
   "cell_type": "code",
   "execution_count": 318,
   "metadata": {},
   "outputs": [],
   "source": [
    "interest_rate = interest_rate.drop(\"Federal_Funds_Target_Rate\", axis=1)"
   ]
  },
  {
   "cell_type": "code",
   "execution_count": 319,
   "metadata": {},
   "outputs": [],
   "source": [
    "interest_rate = interest_rate.dropna(subset=[\"Inflation_Rate\"])"
   ]
  },
  {
   "cell_type": "code",
   "execution_count": 320,
   "metadata": {},
   "outputs": [
    {
     "data": {
      "text/html": [
       "<div>\n",
       "<style scoped>\n",
       "    .dataframe tbody tr th:only-of-type {\n",
       "        vertical-align: middle;\n",
       "    }\n",
       "\n",
       "    .dataframe tbody tr th {\n",
       "        vertical-align: top;\n",
       "    }\n",
       "\n",
       "    .dataframe thead th {\n",
       "        text-align: right;\n",
       "    }\n",
       "</style>\n",
       "<table border=\"1\" class=\"dataframe\">\n",
       "  <thead>\n",
       "    <tr style=\"text-align: right;\">\n",
       "      <th></th>\n",
       "      <th>Year (int64)</th>\n",
       "      <th>Month (int64)</th>\n",
       "      <th>Day (int64)</th>\n",
       "      <th>Federal_Funds_Upper_Target (float64)</th>\n",
       "      <th>Federal_Funds_Lower_Target (float64)</th>\n",
       "      <th>Effective_Federal_Funds_Rate (float64)</th>\n",
       "      <th>Real_GDP_(Percent_Change) (float64)</th>\n",
       "      <th>Unemployment_Rate (float64)</th>\n",
       "      <th>Inflation_Rate (float64)</th>\n",
       "    </tr>\n",
       "  </thead>\n",
       "  <tbody>\n",
       "    <tr>\n",
       "      <th>862</th>\n",
       "      <td>2014</td>\n",
       "      <td>1</td>\n",
       "      <td>1</td>\n",
       "      <td>0.25</td>\n",
       "      <td>0.00</td>\n",
       "      <td>0.07</td>\n",
       "      <td>-1.2</td>\n",
       "      <td>6.6</td>\n",
       "      <td>1.6</td>\n",
       "    </tr>\n",
       "    <tr>\n",
       "      <th>863</th>\n",
       "      <td>2014</td>\n",
       "      <td>2</td>\n",
       "      <td>1</td>\n",
       "      <td>0.25</td>\n",
       "      <td>0.00</td>\n",
       "      <td>0.07</td>\n",
       "      <td>NaN</td>\n",
       "      <td>6.7</td>\n",
       "      <td>1.6</td>\n",
       "    </tr>\n",
       "    <tr>\n",
       "      <th>864</th>\n",
       "      <td>2014</td>\n",
       "      <td>3</td>\n",
       "      <td>1</td>\n",
       "      <td>0.25</td>\n",
       "      <td>0.00</td>\n",
       "      <td>0.08</td>\n",
       "      <td>NaN</td>\n",
       "      <td>6.7</td>\n",
       "      <td>1.7</td>\n",
       "    </tr>\n",
       "    <tr>\n",
       "      <th>865</th>\n",
       "      <td>2014</td>\n",
       "      <td>4</td>\n",
       "      <td>1</td>\n",
       "      <td>0.25</td>\n",
       "      <td>0.00</td>\n",
       "      <td>0.09</td>\n",
       "      <td>4.0</td>\n",
       "      <td>6.2</td>\n",
       "      <td>1.8</td>\n",
       "    </tr>\n",
       "    <tr>\n",
       "      <th>866</th>\n",
       "      <td>2014</td>\n",
       "      <td>5</td>\n",
       "      <td>1</td>\n",
       "      <td>0.25</td>\n",
       "      <td>0.00</td>\n",
       "      <td>0.09</td>\n",
       "      <td>NaN</td>\n",
       "      <td>6.3</td>\n",
       "      <td>2.0</td>\n",
       "    </tr>\n",
       "    <tr>\n",
       "      <th>867</th>\n",
       "      <td>2014</td>\n",
       "      <td>6</td>\n",
       "      <td>1</td>\n",
       "      <td>0.25</td>\n",
       "      <td>0.00</td>\n",
       "      <td>0.10</td>\n",
       "      <td>NaN</td>\n",
       "      <td>6.1</td>\n",
       "      <td>1.9</td>\n",
       "    </tr>\n",
       "    <tr>\n",
       "      <th>868</th>\n",
       "      <td>2014</td>\n",
       "      <td>7</td>\n",
       "      <td>1</td>\n",
       "      <td>0.25</td>\n",
       "      <td>0.00</td>\n",
       "      <td>0.09</td>\n",
       "      <td>5.0</td>\n",
       "      <td>6.2</td>\n",
       "      <td>1.9</td>\n",
       "    </tr>\n",
       "    <tr>\n",
       "      <th>869</th>\n",
       "      <td>2014</td>\n",
       "      <td>8</td>\n",
       "      <td>1</td>\n",
       "      <td>0.25</td>\n",
       "      <td>0.00</td>\n",
       "      <td>0.09</td>\n",
       "      <td>NaN</td>\n",
       "      <td>6.2</td>\n",
       "      <td>1.7</td>\n",
       "    </tr>\n",
       "    <tr>\n",
       "      <th>870</th>\n",
       "      <td>2014</td>\n",
       "      <td>9</td>\n",
       "      <td>1</td>\n",
       "      <td>0.25</td>\n",
       "      <td>0.00</td>\n",
       "      <td>0.09</td>\n",
       "      <td>NaN</td>\n",
       "      <td>5.9</td>\n",
       "      <td>1.7</td>\n",
       "    </tr>\n",
       "    <tr>\n",
       "      <th>871</th>\n",
       "      <td>2014</td>\n",
       "      <td>10</td>\n",
       "      <td>1</td>\n",
       "      <td>0.25</td>\n",
       "      <td>0.00</td>\n",
       "      <td>0.09</td>\n",
       "      <td>2.3</td>\n",
       "      <td>5.7</td>\n",
       "      <td>1.8</td>\n",
       "    </tr>\n",
       "    <tr>\n",
       "      <th>872</th>\n",
       "      <td>2014</td>\n",
       "      <td>11</td>\n",
       "      <td>1</td>\n",
       "      <td>0.25</td>\n",
       "      <td>0.00</td>\n",
       "      <td>0.09</td>\n",
       "      <td>NaN</td>\n",
       "      <td>5.8</td>\n",
       "      <td>1.7</td>\n",
       "    </tr>\n",
       "    <tr>\n",
       "      <th>873</th>\n",
       "      <td>2014</td>\n",
       "      <td>12</td>\n",
       "      <td>1</td>\n",
       "      <td>0.25</td>\n",
       "      <td>0.00</td>\n",
       "      <td>0.12</td>\n",
       "      <td>NaN</td>\n",
       "      <td>5.6</td>\n",
       "      <td>1.6</td>\n",
       "    </tr>\n",
       "    <tr>\n",
       "      <th>874</th>\n",
       "      <td>2015</td>\n",
       "      <td>1</td>\n",
       "      <td>1</td>\n",
       "      <td>0.25</td>\n",
       "      <td>0.00</td>\n",
       "      <td>0.11</td>\n",
       "      <td>2.0</td>\n",
       "      <td>5.7</td>\n",
       "      <td>1.6</td>\n",
       "    </tr>\n",
       "    <tr>\n",
       "      <th>875</th>\n",
       "      <td>2015</td>\n",
       "      <td>2</td>\n",
       "      <td>1</td>\n",
       "      <td>0.25</td>\n",
       "      <td>0.00</td>\n",
       "      <td>0.11</td>\n",
       "      <td>NaN</td>\n",
       "      <td>5.5</td>\n",
       "      <td>1.7</td>\n",
       "    </tr>\n",
       "    <tr>\n",
       "      <th>876</th>\n",
       "      <td>2015</td>\n",
       "      <td>3</td>\n",
       "      <td>1</td>\n",
       "      <td>0.25</td>\n",
       "      <td>0.00</td>\n",
       "      <td>0.11</td>\n",
       "      <td>NaN</td>\n",
       "      <td>5.4</td>\n",
       "      <td>1.8</td>\n",
       "    </tr>\n",
       "    <tr>\n",
       "      <th>877</th>\n",
       "      <td>2015</td>\n",
       "      <td>4</td>\n",
       "      <td>1</td>\n",
       "      <td>0.25</td>\n",
       "      <td>0.00</td>\n",
       "      <td>0.12</td>\n",
       "      <td>2.6</td>\n",
       "      <td>5.4</td>\n",
       "      <td>1.8</td>\n",
       "    </tr>\n",
       "    <tr>\n",
       "      <th>878</th>\n",
       "      <td>2015</td>\n",
       "      <td>5</td>\n",
       "      <td>1</td>\n",
       "      <td>0.25</td>\n",
       "      <td>0.00</td>\n",
       "      <td>0.12</td>\n",
       "      <td>NaN</td>\n",
       "      <td>5.5</td>\n",
       "      <td>1.7</td>\n",
       "    </tr>\n",
       "    <tr>\n",
       "      <th>879</th>\n",
       "      <td>2015</td>\n",
       "      <td>6</td>\n",
       "      <td>1</td>\n",
       "      <td>0.25</td>\n",
       "      <td>0.00</td>\n",
       "      <td>0.13</td>\n",
       "      <td>NaN</td>\n",
       "      <td>5.3</td>\n",
       "      <td>1.8</td>\n",
       "    </tr>\n",
       "    <tr>\n",
       "      <th>880</th>\n",
       "      <td>2015</td>\n",
       "      <td>7</td>\n",
       "      <td>1</td>\n",
       "      <td>0.25</td>\n",
       "      <td>0.00</td>\n",
       "      <td>0.13</td>\n",
       "      <td>2.0</td>\n",
       "      <td>5.2</td>\n",
       "      <td>1.8</td>\n",
       "    </tr>\n",
       "    <tr>\n",
       "      <th>881</th>\n",
       "      <td>2015</td>\n",
       "      <td>8</td>\n",
       "      <td>1</td>\n",
       "      <td>0.25</td>\n",
       "      <td>0.00</td>\n",
       "      <td>0.14</td>\n",
       "      <td>NaN</td>\n",
       "      <td>5.1</td>\n",
       "      <td>1.8</td>\n",
       "    </tr>\n",
       "    <tr>\n",
       "      <th>882</th>\n",
       "      <td>2015</td>\n",
       "      <td>9</td>\n",
       "      <td>1</td>\n",
       "      <td>0.25</td>\n",
       "      <td>0.00</td>\n",
       "      <td>0.14</td>\n",
       "      <td>NaN</td>\n",
       "      <td>5.0</td>\n",
       "      <td>1.9</td>\n",
       "    </tr>\n",
       "    <tr>\n",
       "      <th>883</th>\n",
       "      <td>2015</td>\n",
       "      <td>10</td>\n",
       "      <td>1</td>\n",
       "      <td>0.25</td>\n",
       "      <td>0.00</td>\n",
       "      <td>0.12</td>\n",
       "      <td>0.9</td>\n",
       "      <td>5.0</td>\n",
       "      <td>1.9</td>\n",
       "    </tr>\n",
       "    <tr>\n",
       "      <th>884</th>\n",
       "      <td>2015</td>\n",
       "      <td>11</td>\n",
       "      <td>1</td>\n",
       "      <td>0.25</td>\n",
       "      <td>0.00</td>\n",
       "      <td>0.12</td>\n",
       "      <td>NaN</td>\n",
       "      <td>5.0</td>\n",
       "      <td>2.0</td>\n",
       "    </tr>\n",
       "    <tr>\n",
       "      <th>885</th>\n",
       "      <td>2015</td>\n",
       "      <td>12</td>\n",
       "      <td>1</td>\n",
       "      <td>0.25</td>\n",
       "      <td>0.00</td>\n",
       "      <td>0.24</td>\n",
       "      <td>NaN</td>\n",
       "      <td>5.0</td>\n",
       "      <td>2.1</td>\n",
       "    </tr>\n",
       "    <tr>\n",
       "      <th>887</th>\n",
       "      <td>2016</td>\n",
       "      <td>1</td>\n",
       "      <td>1</td>\n",
       "      <td>0.50</td>\n",
       "      <td>0.25</td>\n",
       "      <td>0.34</td>\n",
       "      <td>0.8</td>\n",
       "      <td>4.9</td>\n",
       "      <td>2.2</td>\n",
       "    </tr>\n",
       "    <tr>\n",
       "      <th>888</th>\n",
       "      <td>2016</td>\n",
       "      <td>2</td>\n",
       "      <td>1</td>\n",
       "      <td>0.50</td>\n",
       "      <td>0.25</td>\n",
       "      <td>0.38</td>\n",
       "      <td>NaN</td>\n",
       "      <td>4.9</td>\n",
       "      <td>2.3</td>\n",
       "    </tr>\n",
       "    <tr>\n",
       "      <th>889</th>\n",
       "      <td>2016</td>\n",
       "      <td>3</td>\n",
       "      <td>1</td>\n",
       "      <td>0.50</td>\n",
       "      <td>0.25</td>\n",
       "      <td>0.36</td>\n",
       "      <td>NaN</td>\n",
       "      <td>5.0</td>\n",
       "      <td>2.2</td>\n",
       "    </tr>\n",
       "    <tr>\n",
       "      <th>890</th>\n",
       "      <td>2016</td>\n",
       "      <td>4</td>\n",
       "      <td>1</td>\n",
       "      <td>0.50</td>\n",
       "      <td>0.25</td>\n",
       "      <td>0.37</td>\n",
       "      <td>1.4</td>\n",
       "      <td>5.0</td>\n",
       "      <td>2.1</td>\n",
       "    </tr>\n",
       "    <tr>\n",
       "      <th>891</th>\n",
       "      <td>2016</td>\n",
       "      <td>5</td>\n",
       "      <td>1</td>\n",
       "      <td>0.50</td>\n",
       "      <td>0.25</td>\n",
       "      <td>0.37</td>\n",
       "      <td>NaN</td>\n",
       "      <td>4.7</td>\n",
       "      <td>2.2</td>\n",
       "    </tr>\n",
       "    <tr>\n",
       "      <th>892</th>\n",
       "      <td>2016</td>\n",
       "      <td>6</td>\n",
       "      <td>1</td>\n",
       "      <td>0.50</td>\n",
       "      <td>0.25</td>\n",
       "      <td>0.38</td>\n",
       "      <td>NaN</td>\n",
       "      <td>4.9</td>\n",
       "      <td>2.2</td>\n",
       "    </tr>\n",
       "    <tr>\n",
       "      <th>893</th>\n",
       "      <td>2016</td>\n",
       "      <td>7</td>\n",
       "      <td>1</td>\n",
       "      <td>0.50</td>\n",
       "      <td>0.25</td>\n",
       "      <td>0.39</td>\n",
       "      <td>3.5</td>\n",
       "      <td>4.9</td>\n",
       "      <td>2.2</td>\n",
       "    </tr>\n",
       "    <tr>\n",
       "      <th>894</th>\n",
       "      <td>2016</td>\n",
       "      <td>8</td>\n",
       "      <td>1</td>\n",
       "      <td>0.50</td>\n",
       "      <td>0.25</td>\n",
       "      <td>0.40</td>\n",
       "      <td>NaN</td>\n",
       "      <td>4.9</td>\n",
       "      <td>2.3</td>\n",
       "    </tr>\n",
       "    <tr>\n",
       "      <th>895</th>\n",
       "      <td>2016</td>\n",
       "      <td>9</td>\n",
       "      <td>1</td>\n",
       "      <td>0.50</td>\n",
       "      <td>0.25</td>\n",
       "      <td>0.40</td>\n",
       "      <td>NaN</td>\n",
       "      <td>4.9</td>\n",
       "      <td>2.2</td>\n",
       "    </tr>\n",
       "    <tr>\n",
       "      <th>896</th>\n",
       "      <td>2016</td>\n",
       "      <td>10</td>\n",
       "      <td>1</td>\n",
       "      <td>0.50</td>\n",
       "      <td>0.25</td>\n",
       "      <td>0.40</td>\n",
       "      <td>1.9</td>\n",
       "      <td>4.8</td>\n",
       "      <td>2.1</td>\n",
       "    </tr>\n",
       "    <tr>\n",
       "      <th>897</th>\n",
       "      <td>2016</td>\n",
       "      <td>11</td>\n",
       "      <td>1</td>\n",
       "      <td>0.50</td>\n",
       "      <td>0.25</td>\n",
       "      <td>0.41</td>\n",
       "      <td>NaN</td>\n",
       "      <td>4.6</td>\n",
       "      <td>2.1</td>\n",
       "    </tr>\n",
       "    <tr>\n",
       "      <th>898</th>\n",
       "      <td>2016</td>\n",
       "      <td>12</td>\n",
       "      <td>1</td>\n",
       "      <td>0.50</td>\n",
       "      <td>0.25</td>\n",
       "      <td>0.54</td>\n",
       "      <td>NaN</td>\n",
       "      <td>4.7</td>\n",
       "      <td>2.2</td>\n",
       "    </tr>\n",
       "    <tr>\n",
       "      <th>900</th>\n",
       "      <td>2017</td>\n",
       "      <td>1</td>\n",
       "      <td>1</td>\n",
       "      <td>0.75</td>\n",
       "      <td>0.50</td>\n",
       "      <td>0.65</td>\n",
       "      <td>NaN</td>\n",
       "      <td>4.8</td>\n",
       "      <td>2.3</td>\n",
       "    </tr>\n",
       "    <tr>\n",
       "      <th>901</th>\n",
       "      <td>2017</td>\n",
       "      <td>2</td>\n",
       "      <td>1</td>\n",
       "      <td>0.75</td>\n",
       "      <td>0.50</td>\n",
       "      <td>0.66</td>\n",
       "      <td>NaN</td>\n",
       "      <td>4.7</td>\n",
       "      <td>2.2</td>\n",
       "    </tr>\n",
       "  </tbody>\n",
       "</table>\n",
       "</div>"
      ],
      "text/plain": [
       "     Year (int64)  Month (int64)  Day (int64)  \\\n",
       "862          2014              1            1   \n",
       "863          2014              2            1   \n",
       "864          2014              3            1   \n",
       "865          2014              4            1   \n",
       "866          2014              5            1   \n",
       "867          2014              6            1   \n",
       "868          2014              7            1   \n",
       "869          2014              8            1   \n",
       "870          2014              9            1   \n",
       "871          2014             10            1   \n",
       "872          2014             11            1   \n",
       "873          2014             12            1   \n",
       "874          2015              1            1   \n",
       "875          2015              2            1   \n",
       "876          2015              3            1   \n",
       "877          2015              4            1   \n",
       "878          2015              5            1   \n",
       "879          2015              6            1   \n",
       "880          2015              7            1   \n",
       "881          2015              8            1   \n",
       "882          2015              9            1   \n",
       "883          2015             10            1   \n",
       "884          2015             11            1   \n",
       "885          2015             12            1   \n",
       "887          2016              1            1   \n",
       "888          2016              2            1   \n",
       "889          2016              3            1   \n",
       "890          2016              4            1   \n",
       "891          2016              5            1   \n",
       "892          2016              6            1   \n",
       "893          2016              7            1   \n",
       "894          2016              8            1   \n",
       "895          2016              9            1   \n",
       "896          2016             10            1   \n",
       "897          2016             11            1   \n",
       "898          2016             12            1   \n",
       "900          2017              1            1   \n",
       "901          2017              2            1   \n",
       "\n",
       "     Federal_Funds_Upper_Target (float64)  \\\n",
       "862                                  0.25   \n",
       "863                                  0.25   \n",
       "864                                  0.25   \n",
       "865                                  0.25   \n",
       "866                                  0.25   \n",
       "867                                  0.25   \n",
       "868                                  0.25   \n",
       "869                                  0.25   \n",
       "870                                  0.25   \n",
       "871                                  0.25   \n",
       "872                                  0.25   \n",
       "873                                  0.25   \n",
       "874                                  0.25   \n",
       "875                                  0.25   \n",
       "876                                  0.25   \n",
       "877                                  0.25   \n",
       "878                                  0.25   \n",
       "879                                  0.25   \n",
       "880                                  0.25   \n",
       "881                                  0.25   \n",
       "882                                  0.25   \n",
       "883                                  0.25   \n",
       "884                                  0.25   \n",
       "885                                  0.25   \n",
       "887                                  0.50   \n",
       "888                                  0.50   \n",
       "889                                  0.50   \n",
       "890                                  0.50   \n",
       "891                                  0.50   \n",
       "892                                  0.50   \n",
       "893                                  0.50   \n",
       "894                                  0.50   \n",
       "895                                  0.50   \n",
       "896                                  0.50   \n",
       "897                                  0.50   \n",
       "898                                  0.50   \n",
       "900                                  0.75   \n",
       "901                                  0.75   \n",
       "\n",
       "     Federal_Funds_Lower_Target (float64)  \\\n",
       "862                                  0.00   \n",
       "863                                  0.00   \n",
       "864                                  0.00   \n",
       "865                                  0.00   \n",
       "866                                  0.00   \n",
       "867                                  0.00   \n",
       "868                                  0.00   \n",
       "869                                  0.00   \n",
       "870                                  0.00   \n",
       "871                                  0.00   \n",
       "872                                  0.00   \n",
       "873                                  0.00   \n",
       "874                                  0.00   \n",
       "875                                  0.00   \n",
       "876                                  0.00   \n",
       "877                                  0.00   \n",
       "878                                  0.00   \n",
       "879                                  0.00   \n",
       "880                                  0.00   \n",
       "881                                  0.00   \n",
       "882                                  0.00   \n",
       "883                                  0.00   \n",
       "884                                  0.00   \n",
       "885                                  0.00   \n",
       "887                                  0.25   \n",
       "888                                  0.25   \n",
       "889                                  0.25   \n",
       "890                                  0.25   \n",
       "891                                  0.25   \n",
       "892                                  0.25   \n",
       "893                                  0.25   \n",
       "894                                  0.25   \n",
       "895                                  0.25   \n",
       "896                                  0.25   \n",
       "897                                  0.25   \n",
       "898                                  0.25   \n",
       "900                                  0.50   \n",
       "901                                  0.50   \n",
       "\n",
       "     Effective_Federal_Funds_Rate (float64)  \\\n",
       "862                                    0.07   \n",
       "863                                    0.07   \n",
       "864                                    0.08   \n",
       "865                                    0.09   \n",
       "866                                    0.09   \n",
       "867                                    0.10   \n",
       "868                                    0.09   \n",
       "869                                    0.09   \n",
       "870                                    0.09   \n",
       "871                                    0.09   \n",
       "872                                    0.09   \n",
       "873                                    0.12   \n",
       "874                                    0.11   \n",
       "875                                    0.11   \n",
       "876                                    0.11   \n",
       "877                                    0.12   \n",
       "878                                    0.12   \n",
       "879                                    0.13   \n",
       "880                                    0.13   \n",
       "881                                    0.14   \n",
       "882                                    0.14   \n",
       "883                                    0.12   \n",
       "884                                    0.12   \n",
       "885                                    0.24   \n",
       "887                                    0.34   \n",
       "888                                    0.38   \n",
       "889                                    0.36   \n",
       "890                                    0.37   \n",
       "891                                    0.37   \n",
       "892                                    0.38   \n",
       "893                                    0.39   \n",
       "894                                    0.40   \n",
       "895                                    0.40   \n",
       "896                                    0.40   \n",
       "897                                    0.41   \n",
       "898                                    0.54   \n",
       "900                                    0.65   \n",
       "901                                    0.66   \n",
       "\n",
       "     Real_GDP_(Percent_Change) (float64)  Unemployment_Rate (float64)  \\\n",
       "862                                 -1.2                          6.6   \n",
       "863                                  NaN                          6.7   \n",
       "864                                  NaN                          6.7   \n",
       "865                                  4.0                          6.2   \n",
       "866                                  NaN                          6.3   \n",
       "867                                  NaN                          6.1   \n",
       "868                                  5.0                          6.2   \n",
       "869                                  NaN                          6.2   \n",
       "870                                  NaN                          5.9   \n",
       "871                                  2.3                          5.7   \n",
       "872                                  NaN                          5.8   \n",
       "873                                  NaN                          5.6   \n",
       "874                                  2.0                          5.7   \n",
       "875                                  NaN                          5.5   \n",
       "876                                  NaN                          5.4   \n",
       "877                                  2.6                          5.4   \n",
       "878                                  NaN                          5.5   \n",
       "879                                  NaN                          5.3   \n",
       "880                                  2.0                          5.2   \n",
       "881                                  NaN                          5.1   \n",
       "882                                  NaN                          5.0   \n",
       "883                                  0.9                          5.0   \n",
       "884                                  NaN                          5.0   \n",
       "885                                  NaN                          5.0   \n",
       "887                                  0.8                          4.9   \n",
       "888                                  NaN                          4.9   \n",
       "889                                  NaN                          5.0   \n",
       "890                                  1.4                          5.0   \n",
       "891                                  NaN                          4.7   \n",
       "892                                  NaN                          4.9   \n",
       "893                                  3.5                          4.9   \n",
       "894                                  NaN                          4.9   \n",
       "895                                  NaN                          4.9   \n",
       "896                                  1.9                          4.8   \n",
       "897                                  NaN                          4.6   \n",
       "898                                  NaN                          4.7   \n",
       "900                                  NaN                          4.8   \n",
       "901                                  NaN                          4.7   \n",
       "\n",
       "     Inflation_Rate (float64)  \n",
       "862                       1.6  \n",
       "863                       1.6  \n",
       "864                       1.7  \n",
       "865                       1.8  \n",
       "866                       2.0  \n",
       "867                       1.9  \n",
       "868                       1.9  \n",
       "869                       1.7  \n",
       "870                       1.7  \n",
       "871                       1.8  \n",
       "872                       1.7  \n",
       "873                       1.6  \n",
       "874                       1.6  \n",
       "875                       1.7  \n",
       "876                       1.8  \n",
       "877                       1.8  \n",
       "878                       1.7  \n",
       "879                       1.8  \n",
       "880                       1.8  \n",
       "881                       1.8  \n",
       "882                       1.9  \n",
       "883                       1.9  \n",
       "884                       2.0  \n",
       "885                       2.1  \n",
       "887                       2.2  \n",
       "888                       2.3  \n",
       "889                       2.2  \n",
       "890                       2.1  \n",
       "891                       2.2  \n",
       "892                       2.2  \n",
       "893                       2.2  \n",
       "894                       2.3  \n",
       "895                       2.2  \n",
       "896                       2.1  \n",
       "897                       2.1  \n",
       "898                       2.2  \n",
       "900                       2.3  \n",
       "901                       2.2  "
      ]
     },
     "execution_count": 320,
     "metadata": {},
     "output_type": "execute_result"
    }
   ],
   "source": [
    "interest_rate.rename(columns = {\n",
    "    col : f\"{col} ({dtype})\"\n",
    "    for col, dtype in interest_rate.dtypes.to_dict().items()\n",
    "})"
   ]
  },
  {
   "cell_type": "code",
   "execution_count": 321,
   "metadata": {},
   "outputs": [],
   "source": [
    "dropped_columns = ['2017-04', '2017-05', '2017-06', '2017-07', '2017-08', '2017-09', '2017-10', '2017-11', '2017-12',\n",
    "                   '2018-01', '2018-02', '2018-03', '2018-04', '2018-05', '2018-06', '2018-07', '2018-08', '2018-09', '2018-10', '2018-11', '2018-12',\n",
    "                   '2019-01', '2019-02', '2019-03', '2019-04', '2019-05', '2019-06', '2019-07', '2019-08', '2019-09', '2019-10', '2019-11', '2019-12']\n",
    "one_bed_subset = one_bed.drop(columns=dropped_columns)"
   ]
  },
  {
   "cell_type": "code",
   "execution_count": 322,
   "metadata": {},
   "outputs": [],
   "source": [
    "one_bed_subset = one_bed_subset.loc[(one_bed_subset['State'] == 'CA') & (one_bed_subset['CountyName'] == 'San Francisco County') & (one_bed_subset['RegionName'] == 'San Francisco') & (one_bed_subset['Metro'] == 'San Francisco-Oakland-Hayward')]"
   ]
  },
  {
   "cell_type": "code",
   "execution_count": 323,
   "metadata": {},
   "outputs": [],
   "source": [
    "effective_Federal_Funds_Rate = interest_rate[\"Effective_Federal_Funds_Rate\"]\n",
    "one_bed_by_city = one_bed_subset.iloc[:, 5:].squeeze()"
   ]
  },
  {
   "cell_type": "markdown",
   "metadata": {},
   "source": [
    "### Based on our initial analysis, there's no correlation between federal interest rate and the median price of one bedroom units in San Francisco."
   ]
  },
  {
   "cell_type": "code",
   "execution_count": 324,
   "metadata": {},
   "outputs": [
    {
     "data": {
      "text/plain": [
       "nan"
      ]
     },
     "execution_count": 324,
     "metadata": {},
     "output_type": "execute_result"
    }
   ],
   "source": [
    "effective_Federal_Funds_Rate.corr(one_bed_by_city)"
   ]
  },
  {
   "cell_type": "code",
   "execution_count": 15,
   "metadata": {},
   "outputs": [],
   "source": [
    "df_rate = pd.read_csv('dataset/interest_rate_cleaned.csv')\n",
    "df_rate_subset = df_rate[df_rate.Year!=2020]\n",
    "df_rate_subset = df_rate_subset[df_rate_subset.Date!=\"2019-12-01\"]"
   ]
  },
  {
   "cell_type": "code",
   "execution_count": 16,
   "metadata": {},
   "outputs": [
    {
     "data": {
      "text/html": [
       "<div>\n",
       "<style scoped>\n",
       "    .dataframe tbody tr th:only-of-type {\n",
       "        vertical-align: middle;\n",
       "    }\n",
       "\n",
       "    .dataframe tbody tr th {\n",
       "        vertical-align: top;\n",
       "    }\n",
       "\n",
       "    .dataframe thead th {\n",
       "        text-align: right;\n",
       "    }\n",
       "</style>\n",
       "<table border=\"1\" class=\"dataframe\">\n",
       "  <thead>\n",
       "    <tr style=\"text-align: right;\">\n",
       "      <th></th>\n",
       "      <th>Unnamed: 0</th>\n",
       "      <th>Year</th>\n",
       "      <th>Month</th>\n",
       "      <th>Day</th>\n",
       "      <th>Effective_Federal_Funds_Rate</th>\n",
       "      <th>Date</th>\n",
       "    </tr>\n",
       "  </thead>\n",
       "  <tbody>\n",
       "    <tr>\n",
       "      <th>0</th>\n",
       "      <td>0</td>\n",
       "      <td>2014</td>\n",
       "      <td>2</td>\n",
       "      <td>1</td>\n",
       "      <td>0.07</td>\n",
       "      <td>2014-02-01</td>\n",
       "    </tr>\n",
       "    <tr>\n",
       "      <th>1</th>\n",
       "      <td>1</td>\n",
       "      <td>2014</td>\n",
       "      <td>3</td>\n",
       "      <td>1</td>\n",
       "      <td>0.08</td>\n",
       "      <td>2014-03-01</td>\n",
       "    </tr>\n",
       "    <tr>\n",
       "      <th>2</th>\n",
       "      <td>2</td>\n",
       "      <td>2014</td>\n",
       "      <td>4</td>\n",
       "      <td>1</td>\n",
       "      <td>0.09</td>\n",
       "      <td>2014-04-01</td>\n",
       "    </tr>\n",
       "    <tr>\n",
       "      <th>3</th>\n",
       "      <td>3</td>\n",
       "      <td>2014</td>\n",
       "      <td>5</td>\n",
       "      <td>1</td>\n",
       "      <td>0.09</td>\n",
       "      <td>2014-05-01</td>\n",
       "    </tr>\n",
       "    <tr>\n",
       "      <th>4</th>\n",
       "      <td>4</td>\n",
       "      <td>2014</td>\n",
       "      <td>6</td>\n",
       "      <td>1</td>\n",
       "      <td>0.10</td>\n",
       "      <td>2014-06-01</td>\n",
       "    </tr>\n",
       "    <tr>\n",
       "      <th>...</th>\n",
       "      <td>...</td>\n",
       "      <td>...</td>\n",
       "      <td>...</td>\n",
       "      <td>...</td>\n",
       "      <td>...</td>\n",
       "      <td>...</td>\n",
       "    </tr>\n",
       "    <tr>\n",
       "      <th>65</th>\n",
       "      <td>65</td>\n",
       "      <td>2019</td>\n",
       "      <td>7</td>\n",
       "      <td>1</td>\n",
       "      <td>2.40</td>\n",
       "      <td>2019-07-01</td>\n",
       "    </tr>\n",
       "    <tr>\n",
       "      <th>66</th>\n",
       "      <td>66</td>\n",
       "      <td>2019</td>\n",
       "      <td>8</td>\n",
       "      <td>1</td>\n",
       "      <td>2.13</td>\n",
       "      <td>2019-08-01</td>\n",
       "    </tr>\n",
       "    <tr>\n",
       "      <th>67</th>\n",
       "      <td>67</td>\n",
       "      <td>2019</td>\n",
       "      <td>9</td>\n",
       "      <td>1</td>\n",
       "      <td>2.04</td>\n",
       "      <td>2019-09-01</td>\n",
       "    </tr>\n",
       "    <tr>\n",
       "      <th>68</th>\n",
       "      <td>68</td>\n",
       "      <td>2019</td>\n",
       "      <td>10</td>\n",
       "      <td>1</td>\n",
       "      <td>1.83</td>\n",
       "      <td>2019-10-01</td>\n",
       "    </tr>\n",
       "    <tr>\n",
       "      <th>69</th>\n",
       "      <td>69</td>\n",
       "      <td>2019</td>\n",
       "      <td>11</td>\n",
       "      <td>1</td>\n",
       "      <td>1.55</td>\n",
       "      <td>2019-11-01</td>\n",
       "    </tr>\n",
       "  </tbody>\n",
       "</table>\n",
       "<p>70 rows × 6 columns</p>\n",
       "</div>"
      ],
      "text/plain": [
       "    Unnamed: 0  Year  Month  Day  Effective_Federal_Funds_Rate        Date\n",
       "0            0  2014      2    1                          0.07  2014-02-01\n",
       "1            1  2014      3    1                          0.08  2014-03-01\n",
       "2            2  2014      4    1                          0.09  2014-04-01\n",
       "3            3  2014      5    1                          0.09  2014-05-01\n",
       "4            4  2014      6    1                          0.10  2014-06-01\n",
       "..         ...   ...    ...  ...                           ...         ...\n",
       "65          65  2019      7    1                          2.40  2019-07-01\n",
       "66          66  2019      8    1                          2.13  2019-08-01\n",
       "67          67  2019      9    1                          2.04  2019-09-01\n",
       "68          68  2019     10    1                          1.83  2019-10-01\n",
       "69          69  2019     11    1                          1.55  2019-11-01\n",
       "\n",
       "[70 rows x 6 columns]"
      ]
     },
     "execution_count": 16,
     "metadata": {},
     "output_type": "execute_result"
    }
   ],
   "source": [
    "df_rate_subset"
   ]
  },
  {
   "cell_type": "code",
   "execution_count": 81,
   "metadata": {},
   "outputs": [],
   "source": [
    "sf_rent = sanfrancisco_df[\"Studio\"].tolist()\n",
    "rate_fund = df_rate_subset[\"Effective_Federal_Funds_Rate\"].tolist()"
   ]
  },
  {
   "cell_type": "code",
   "execution_count": 65,
   "metadata": {},
   "outputs": [
    {
     "data": {
      "text/plain": [
       "LinearRegression(copy_X=True, fit_intercept=True, n_jobs=None, normalize=False)"
      ]
     },
     "execution_count": 65,
     "metadata": {},
     "output_type": "execute_result"
    }
   ],
   "source": [
    "regressor = LinearRegression()\n",
    "regressor.fit(rate_fund, sf_rent)"
   ]
  },
  {
   "cell_type": "code",
   "execution_count": 66,
   "metadata": {},
   "outputs": [
    {
     "data": {
      "image/png": "[encoded data removed]",
      "text/plain": [
       "<Figure size 432x288 with 1 Axes>"
      ]
     },
     "metadata": {},
     "output_type": "display_data"
    }
   ],
   "source": [
    "sf_rent_pred = regressor.predict(rate_fund)\n",
    "plt.scatter(rate_fund, sf_rent, color = 'red')\n",
    "plt.plot(rate_fund, regressor.predict(rate_fund), color = 'blue')\n",
    "plt.title('rate_fund vs sf_rent')\n",
    "plt.xlabel('rate_fund')\n",
    "plt.ylabel('sf_rent')\n",
    "plt.show()"
   ]
  },
  {
   "cell_type": "code",
   "execution_count": 102,
   "metadata": {},
   "outputs": [
    {
     "data": {
      "application/vnd.plotly.v1+json": {
       "config": {
        "plotlyServerURL": "https://plotly.com"
       },
       "data": [
        {
         "mode": "markers",
         "name": "Interest rate vs Median rent",
         "type": "scatter",
         "x": [
          0.07,
          0.08,
          0.09,
          0.09,
          0.1,
          0.09,
          0.09,
          0.09,
          0.09,
          0.09,
          0.12,
          0.11,
          0.11,
          0.11,
          0.12,
          0.12,
          0.13,
          0.13,
          0.14,
          0.14,
          0.12,
          0.12,
          0.24,
          0.34,
          0.38,
          0.36,
          0.37,
          0.37,
          0.38,
          0.39,
          0.4,
          0.4,
          0.4,
          0.41,
          0.54,
          0.65,
          0.66,
          0.79,
          0.9,
          0.91,
          1.04,
          1.15,
          1.16,
          1.15,
          1.15,
          1.16,
          1.3,
          1.41,
          1.42,
          1.51,
          1.67,
          1.7,
          1.82,
          1.91,
          1.91,
          1.95,
          2.19,
          2.2,
          2.27,
          2.4,
          2.4,
          2.41,
          2.42,
          2.39,
          2.38,
          2.4,
          2.13,
          2.04,
          1.83,
          1.55
         ],
         "y": [
          3000,
          2995,
          3064,
          3250,
          3295,
          3270,
          3315.5,
          3350,
          3379.5,
          3379,
          3419,
          3500,
          3500,
          3495,
          3500,
          3500,
          3600,
          3495,
          3552.5,
          3507,
          3500,
          3495,
          3402.5,
          3632,
          3638,
          3600,
          3600,
          3601,
          3518,
          3450,
          3338,
          3300,
          3223,
          3223.5,
          3100,
          3250,
          3295,
          3295,
          3306,
          3376,
          3400,
          3433,
          3387,
          3312,
          3295,
          3349,
          3303.5,
          3300,
          3395,
          3400,
          3405,
          3429.5,
          3475,
          3476.5,
          3495,
          3495,
          3495,
          3474,
          3426,
          3495,
          3500,
          3500,
          3534,
          3600,
          3641.5,
          3615,
          3600,
          3650,
          3580,
          3499
         ]
        },
        {
         "mode": "lines",
         "name": "line of best fit",
         "type": "scatter",
         "x": [
          0.07,
          0.08,
          0.09,
          0.09,
          0.1,
          0.09,
          0.09,
          0.09,
          0.09,
          0.09,
          0.12,
          0.11,
          0.11,
          0.11,
          0.12,
          0.12,
          0.13,
          0.13,
          0.14,
          0.14,
          0.12,
          0.12,
          0.24,
          0.34,
          0.38,
          0.36,
          0.37,
          0.37,
          0.38,
          0.39,
          0.4,
          0.4,
          0.4,
          0.41,
          0.54,
          0.65,
          0.66,
          0.79,
          0.9,
          0.91,
          1.04,
          1.15,
          1.16,
          1.15,
          1.15,
          1.16,
          1.3,
          1.41,
          1.42,
          1.51,
          1.67,
          1.7,
          1.82,
          1.91,
          1.91,
          1.95,
          2.19,
          2.2,
          2.27,
          2.4,
          2.4,
          2.41,
          2.42,
          2.39,
          2.38,
          2.4,
          2.13,
          2.04,
          1.83,
          1.55
         ],
         "y": [
          3368.1218211626224,
          3368.730934480367,
          3369.3400477981118,
          3369.3400477981118,
          3369.9491611158564,
          3369.3400477981118,
          3369.3400477981118,
          3369.3400477981118,
          3369.3400477981118,
          3369.3400477981118,
          3371.167387751346,
          3370.558274433601,
          3370.558274433601,
          3370.558274433601,
          3371.167387751346,
          3371.167387751346,
          3371.7765010690905,
          3371.7765010690905,
          3372.385614386835,
          3372.385614386835,
          3371.167387751346,
          3371.167387751346,
          3378.4767475642816,
          3384.567880741728,
          3387.0043340127063,
          3385.786107377217,
          3386.3952206949616,
          3386.3952206949616,
          3387.0043340127063,
          3387.613447330451,
          3388.2225606481957,
          3388.2225606481957,
          3388.2225606481957,
          3388.8316739659404,
          3396.750147096621,
          3403.4503935918115,
          3404.059506909556,
          3411.9779800402366,
          3418.6782265354277,
          3419.2873398531724,
          3427.2058129838524,
          3433.9060594790435,
          3434.515172796788,
          3433.9060594790435,
          3433.9060594790435,
          3434.515172796788,
          3443.0427592452133,
          3449.7430057404044,
          3450.352119058149,
          3455.834138917851,
          3465.579952001765,
          3467.407291954999,
          3474.7166517679348,
          3480.1986716276365,
          3480.1986716276365,
          3482.635124898615,
          3497.2538445244863,
          3497.862957842231,
          3502.1267510664434,
          3510.045224197124,
          3510.045224197124,
          3510.6543375148685,
          3511.2634508326128,
          3509.436110879379,
          3508.8269975616345,
          3510.045224197124,
          3493.599164618018,
          3488.1171447583165,
          3475.325765085679,
          3458.270592188829
         ]
        }
       ],
       "layout": {
        "template": {
         "data": {
          "bar": [
           {
            "error_x": {
             "color": "#2a3f5f"
            },
            "error_y": {
             "color": "#2a3f5f"
            },
            "marker": {
             "line": {
              "color": "#E5ECF6",
              "width": 0.5
             },
             "pattern": {
              "fillmode": "overlay",
              "size": 10,
              "solidity": 0.2
             }
            },
            "type": "bar"
           }
          ],
          "barpolar": [
           {
            "marker": {
             "line": {
              "color": "#E5ECF6",
              "width": 0.5
             },
             "pattern": {
              "fillmode": "overlay",
              "size": 10,
              "solidity": 0.2
             }
            },
            "type": "barpolar"
           }
          ],
          "carpet": [
           {
            "aaxis": {
             "endlinecolor": "#2a3f5f",
             "gridcolor": "white",
             "linecolor": "white",
             "minorgridcolor": "white",
             "startlinecolor": "#2a3f5f"
            },
            "baxis": {
             "endlinecolor": "#2a3f5f",
             "gridcolor": "white",
             "linecolor": "white",
             "minorgridcolor": "white",
             "startlinecolor": "#2a3f5f"
            },
            "type": "carpet"
           }
          ],
          "choropleth": [
           {
            "colorbar": {
             "outlinewidth": 0,
             "ticks": ""
            },
            "type": "choropleth"
           }
          ],
          "contour": [
           {
            "colorbar": {
             "outlinewidth": 0,
             "ticks": ""
            },
            "colorscale": [
             [
              0,
              "#0d0887"
             ],
             [
              0.1111111111111111,
              "#46039f"
             ],
             [
              0.2222222222222222,
              "#7201a8"
             ],
             [
              0.3333333333333333,
              "#9c179e"
             ],
             [
              0.4444444444444444,
              "#bd3786"
             ],
             [
              0.5555555555555556,
              "#d8576b"
             ],
             [
              0.6666666666666666,
              "#ed7953"
             ],
             [
              0.7777777777777778,
              "#fb9f3a"
             ],
             [
              0.8888888888888888,
              "#fdca26"
             ],
             [
              1,
              "#f0f921"
             ]
            ],
            "type": "contour"
           }
          ],
          "contourcarpet": [
           {
            "colorbar": {
             "outlinewidth": 0,
             "ticks": ""
            },
            "type": "contourcarpet"
           }
          ],
          "heatmap": [
           {
            "colorbar": {
             "outlinewidth": 0,
             "ticks": ""
            },
            "colorscale": [
             [
              0,
              "#0d0887"
             ],
             [
              0.1111111111111111,
              "#46039f"
             ],
             [
              0.2222222222222222,
              "#7201a8"
             ],
             [
              0.3333333333333333,
              "#9c179e"
             ],
             [
              0.4444444444444444,
              "#bd3786"
             ],
             [
              0.5555555555555556,
              "#d8576b"
             ],
             [
              0.6666666666666666,
              "#ed7953"
             ],
             [
              0.7777777777777778,
              "#fb9f3a"
             ],
             [
              0.8888888888888888,
              "#fdca26"
             ],
             [
              1,
              "#f0f921"
             ]
            ],
            "type": "heatmap"
           }
          ],
          "heatmapgl": [
           {
            "colorbar": {
             "outlinewidth": 0,
             "ticks": ""
            },
            "colorscale": [
             [
              0,
              "#0d0887"
             ],
             [
              0.1111111111111111,
              "#46039f"
             ],
             [
              0.2222222222222222,
              "#7201a8"
             ],
             [
              0.3333333333333333,
              "#9c179e"
             ],
             [
              0.4444444444444444,
              "#bd3786"
             ],
             [
              0.5555555555555556,
              "#d8576b"
             ],
             [
              0.6666666666666666,
              "#ed7953"
             ],
             [
              0.7777777777777778,
              "#fb9f3a"
             ],
             [
              0.8888888888888888,
              "#fdca26"
             ],
             [
              1,
              "#f0f921"
             ]
            ],
            "type": "heatmapgl"
           }
          ],
          "histogram": [
           {
            "marker": {
             "pattern": {
              "fillmode": "overlay",
              "size": 10,
              "solidity": 0.2
             }
            },
            "type": "histogram"
           }
          ],
          "histogram2d": [
           {
            "colorbar": {
             "outlinewidth": 0,
             "ticks": ""
            },
            "colorscale": [
             [
              0,
              "#0d0887"
             ],
             [
              0.1111111111111111,
              "#46039f"
             ],
             [
              0.2222222222222222,
              "#7201a8"
             ],
             [
              0.3333333333333333,
              "#9c179e"
             ],
             [
              0.4444444444444444,
              "#bd3786"
             ],
             [
              0.5555555555555556,
              "#d8576b"
             ],
             [
              0.6666666666666666,
              "#ed7953"
             ],
             [
              0.7777777777777778,
              "#fb9f3a"
             ],
             [
              0.8888888888888888,
              "#fdca26"
             ],
             [
              1,
              "#f0f921"
             ]
            ],
            "type": "histogram2d"
           }
          ],
          "histogram2dcontour": [
           {
            "colorbar": {
             "outlinewidth": 0,
             "ticks": ""
            },
            "colorscale": [
             [
              0,
              "#0d0887"
             ],
             [
              0.1111111111111111,
              "#46039f"
             ],
             [
              0.2222222222222222,
              "#7201a8"
             ],
             [
              0.3333333333333333,
              "#9c179e"
             ],
             [
              0.4444444444444444,
              "#bd3786"
             ],
             [
              0.5555555555555556,
              "#d8576b"
             ],
             [
              0.6666666666666666,
              "#ed7953"
             ],
             [
              0.7777777777777778,
              "#fb9f3a"
             ],
             [
              0.8888888888888888,
              "#fdca26"
             ],
             [
              1,
              "#f0f921"
             ]
            ],
            "type": "histogram2dcontour"
           }
          ],
          "mesh3d": [
           {
            "colorbar": {
             "outlinewidth": 0,
             "ticks": ""
            },
            "type": "mesh3d"
           }
          ],
          "parcoords": [
           {
            "line": {
             "colorbar": {
              "outlinewidth": 0,
              "ticks": ""
             }
            },
            "type": "parcoords"
           }
          ],
          "pie": [
           {
            "automargin": true,
            "type": "pie"
           }
          ],
          "scatter": [
           {
            "marker": {
             "colorbar": {
              "outlinewidth": 0,
              "ticks": ""
             }
            },
            "type": "scatter"
           }
          ],
          "scatter3d": [
           {
            "line": {
             "colorbar": {
              "outlinewidth": 0,
              "ticks": ""
             }
            },
            "marker": {
             "colorbar": {
              "outlinewidth": 0,
              "ticks": ""
             }
            },
            "type": "scatter3d"
           }
          ],
          "scattercarpet": [
           {
            "marker": {
             "colorbar": {
              "outlinewidth": 0,
              "ticks": ""
             }
            },
            "type": "scattercarpet"
           }
          ],
          "scattergeo": [
           {
            "marker": {
             "colorbar": {
              "outlinewidth": 0,
              "ticks": ""
             }
            },
            "type": "scattergeo"
           }
          ],
          "scattergl": [
           {
            "marker": {
             "colorbar": {
              "outlinewidth": 0,
              "ticks": ""
             }
            },
            "type": "scattergl"
           }
          ],
          "scattermapbox": [
           {
            "marker": {
             "colorbar": {
              "outlinewidth": 0,
              "ticks": ""
             }
            },
            "type": "scattermapbox"
           }
          ],
          "scatterpolar": [
           {
            "marker": {
             "colorbar": {
              "outlinewidth": 0,
              "ticks": ""
             }
            },
            "type": "scatterpolar"
           }
          ],
          "scatterpolargl": [
           {
            "marker": {
             "colorbar": {
              "outlinewidth": 0,
              "ticks": ""
             }
            },
            "type": "scatterpolargl"
           }
          ],
          "scatterternary": [
           {
            "marker": {
             "colorbar": {
              "outlinewidth": 0,
              "ticks": ""
             }
            },
            "type": "scatterternary"
           }
          ],
          "surface": [
           {
            "colorbar": {
             "outlinewidth": 0,
             "ticks": ""
            },
            "colorscale": [
             [
              0,
              "#0d0887"
             ],
             [
              0.1111111111111111,
              "#46039f"
             ],
             [
              0.2222222222222222,
              "#7201a8"
             ],
             [
              0.3333333333333333,
              "#9c179e"
             ],
             [
              0.4444444444444444,
              "#bd3786"
             ],
             [
              0.5555555555555556,
              "#d8576b"
             ],
             [
              0.6666666666666666,
              "#ed7953"
             ],
             [
              0.7777777777777778,
              "#fb9f3a"
             ],
             [
              0.8888888888888888,
              "#fdca26"
             ],
             [
              1,
              "#f0f921"
             ]
            ],
            "type": "surface"
           }
          ],
          "table": [
           {
            "cells": {
             "fill": {
              "color": "#EBF0F8"
             },
             "line": {
              "color": "white"
             }
            },
            "header": {
             "fill": {
              "color": "#C8D4E3"
             },
             "line": {
              "color": "white"
             }
            },
            "type": "table"
           }
          ]
         },
         "layout": {
          "annotationdefaults": {
           "arrowcolor": "#2a3f5f",
           "arrowhead": 0,
           "arrowwidth": 1
          },
          "autotypenumbers": "strict",
          "coloraxis": {
           "colorbar": {
            "outlinewidth": 0,
            "ticks": ""
           }
          },
          "colorscale": {
           "diverging": [
            [
             0,
             "#8e0152"
            ],
            [
             0.1,
             "#c51b7d"
            ],
            [
             0.2,
             "#de77ae"
            ],
            [
             0.3,
             "#f1b6da"
            ],
            [
             0.4,
             "#fde0ef"
            ],
            [
             0.5,
             "#f7f7f7"
            ],
            [
             0.6,
             "#e6f5d0"
            ],
            [
             0.7,
             "#b8e186"
            ],
            [
             0.8,
             "#7fbc41"
            ],
            [
             0.9,
             "#4d9221"
            ],
            [
             1,
             "#276419"
            ]
           ],
           "sequential": [
            [
             0,
             "#0d0887"
            ],
            [
             0.1111111111111111,
             "#46039f"
            ],
            [
             0.2222222222222222,
             "#7201a8"
            ],
            [
             0.3333333333333333,
             "#9c179e"
            ],
            [
             0.4444444444444444,
             "#bd3786"
            ],
            [
             0.5555555555555556,
             "#d8576b"
            ],
            [
             0.6666666666666666,
             "#ed7953"
            ],
            [
             0.7777777777777778,
             "#fb9f3a"
            ],
            [
             0.8888888888888888,
             "#fdca26"
            ],
            [
             1,
             "#f0f921"
            ]
           ],
           "sequentialminus": [
            [
             0,
             "#0d0887"
            ],
            [
             0.1111111111111111,
             "#46039f"
            ],
            [
             0.2222222222222222,
             "#7201a8"
            ],
            [
             0.3333333333333333,
             "#9c179e"
            ],
            [
             0.4444444444444444,
             "#bd3786"
            ],
            [
             0.5555555555555556,
             "#d8576b"
            ],
            [
             0.6666666666666666,
             "#ed7953"
            ],
            [
             0.7777777777777778,
             "#fb9f3a"
            ],
            [
             0.8888888888888888,
             "#fdca26"
            ],
            [
             1,
             "#f0f921"
            ]
           ]
          },
          "colorway": [
           "#636efa",
           "#EF553B",
           "#00cc96",
           "#ab63fa",
           "#FFA15A",
           "#19d3f3",
           "#FF6692",
           "#B6E880",
           "#FF97FF",
           "#FECB52"
          ],
          "font": {
           "color": "#2a3f5f"
          },
          "geo": {
           "bgcolor": "white",
           "lakecolor": "white",
           "landcolor": "#E5ECF6",
           "showlakes": true,
           "showland": true,
           "subunitcolor": "white"
          },
          "hoverlabel": {
           "align": "left"
          },
          "hovermode": "closest",
          "mapbox": {
           "style": "light"
          },
          "paper_bgcolor": "white",
          "plot_bgcolor": "#E5ECF6",
          "polar": {
           "angularaxis": {
            "gridcolor": "white",
            "linecolor": "white",
            "ticks": ""
           },
           "bgcolor": "#E5ECF6",
           "radialaxis": {
            "gridcolor": "white",
            "linecolor": "white",
            "ticks": ""
           }
          },
          "scene": {
           "xaxis": {
            "backgroundcolor": "#E5ECF6",
            "gridcolor": "white",
            "gridwidth": 2,
            "linecolor": "white",
            "showbackground": true,
            "ticks": "",
            "zerolinecolor": "white"
           },
           "yaxis": {
            "backgroundcolor": "#E5ECF6",
            "gridcolor": "white",
            "gridwidth": 2,
            "linecolor": "white",
            "showbackground": true,
            "ticks": "",
            "zerolinecolor": "white"
           },
           "zaxis": {
            "backgroundcolor": "#E5ECF6",
            "gridcolor": "white",
            "gridwidth": 2,
            "linecolor": "white",
            "showbackground": true,
            "ticks": "",
            "zerolinecolor": "white"
           }
          },
          "shapedefaults": {
           "line": {
            "color": "#2a3f5f"
           }
          },
          "ternary": {
           "aaxis": {
            "gridcolor": "white",
            "linecolor": "white",
            "ticks": ""
           },
           "baxis": {
            "gridcolor": "white",
            "linecolor": "white",
            "ticks": ""
           },
           "bgcolor": "#E5ECF6",
           "caxis": {
            "gridcolor": "white",
            "linecolor": "white",
            "ticks": ""
           }
          },
          "title": {
           "x": 0.05
          },
          "xaxis": {
           "automargin": true,
           "gridcolor": "white",
           "linecolor": "white",
           "ticks": "",
           "title": {
            "standoff": 15
           },
           "zerolinecolor": "white",
           "zerolinewidth": 2
          },
          "yaxis": {
           "automargin": true,
           "gridcolor": "white",
           "linecolor": "white",
           "ticks": "",
           "title": {
            "standoff": 15
           },
           "zerolinecolor": "white",
           "zerolinewidth": 2
          }
         }
        },
        "title": {
         "text": "Interest rate vs median rent Linear Regression in San Francisco, CA, from 2014-02 to 2019-12"
        },
        "xaxis": {
         "title": {
          "text": "Effective Federal Funds Rate"
         }
        },
        "yaxis": {
         "title": {
          "text": "San Francisco Rent"
         }
        }
       }
      },
      "text/html": [
       "<div>                            <div id=\"b4868f44-98d5-4875-bde1-6d2bf29abfe1\" class=\"plotly-graph-div\" style=\"height:525px; width:100%;\"></div>            <script type=\"text/javascript\">                require([\"plotly\"], function(Plotly) {                    window.PLOTLYENV=window.PLOTLYENV || {};                                    if (document.getElementById(\"b4868f44-98d5-4875-bde1-6d2bf29abfe1\")) {                    Plotly.newPlot(                        \"b4868f44-98d5-4875-bde1-6d2bf29abfe1\",                        [{\"mode\":\"markers\",\"name\":\"Interest rate vs Median rent\",\"x\":[0.07,0.08,0.09,0.09,0.1,0.09,0.09,0.09,0.09,0.09,0.12,0.11,0.11,0.11,0.12,0.12,0.13,0.13,0.14,0.14,0.12,0.12,0.24,0.34,0.38,0.36,0.37,0.37,0.38,0.39,0.4,0.4,0.4,0.41,0.54,0.65,0.66,0.79,0.9,0.91,1.04,1.15,1.16,1.15,1.15,1.16,1.3,1.41,1.42,1.51,1.67,1.7,1.82,1.91,1.91,1.95,2.19,2.2,2.27,2.4,2.4,2.41,2.42,2.39,2.38,2.4,2.13,2.04,1.83,1.55],\"y\":[3000.0,2995.0,3064.0,3250.0,3295.0,3270.0,3315.5,3350.0,3379.5,3379.0,3419.0,3500.0,3500.0,3495.0,3500.0,3500.0,3600.0,3495.0,3552.5,3507.0,3500.0,3495.0,3402.5,3632.0,3638.0,3600.0,3600.0,3601.0,3518.0,3450.0,3338.0,3300.0,3223.0,3223.5,3100.0,3250.0,3295.0,3295.0,3306.0,3376.0,3400.0,3433.0,3387.0,3312.0,3295.0,3349.0,3303.5,3300.0,3395.0,3400.0,3405.0,3429.5,3475.0,3476.5,3495.0,3495.0,3495.0,3474.0,3426.0,3495.0,3500.0,3500.0,3534.0,3600.0,3641.5,3615.0,3600.0,3650.0,3580.0,3499.0],\"type\":\"scatter\"},{\"mode\":\"lines\",\"name\":\"line of best fit\",\"x\":[0.07,0.08,0.09,0.09,0.1,0.09,0.09,0.09,0.09,0.09,0.12,0.11,0.11,0.11,0.12,0.12,0.13,0.13,0.14,0.14,0.12,0.12,0.24,0.34,0.38,0.36,0.37,0.37,0.38,0.39,0.4,0.4,0.4,0.41,0.54,0.65,0.66,0.79,0.9,0.91,1.04,1.15,1.16,1.15,1.15,1.16,1.3,1.41,1.42,1.51,1.67,1.7,1.82,1.91,1.91,1.95,2.19,2.2,2.27,2.4,2.4,2.41,2.42,2.39,2.38,2.4,2.13,2.04,1.83,1.55],\"y\":[3368.1218211626224,3368.730934480367,3369.3400477981118,3369.3400477981118,3369.9491611158564,3369.3400477981118,3369.3400477981118,3369.3400477981118,3369.3400477981118,3369.3400477981118,3371.167387751346,3370.558274433601,3370.558274433601,3370.558274433601,3371.167387751346,3371.167387751346,3371.7765010690905,3371.7765010690905,3372.385614386835,3372.385614386835,3371.167387751346,3371.167387751346,3378.4767475642816,3384.567880741728,3387.0043340127063,3385.786107377217,3386.3952206949616,3386.3952206949616,3387.0043340127063,3387.613447330451,3388.2225606481957,3388.2225606481957,3388.2225606481957,3388.8316739659404,3396.750147096621,3403.4503935918115,3404.059506909556,3411.9779800402366,3418.6782265354277,3419.2873398531724,3427.2058129838524,3433.9060594790435,3434.515172796788,3433.9060594790435,3433.9060594790435,3434.515172796788,3443.0427592452133,3449.7430057404044,3450.352119058149,3455.834138917851,3465.579952001765,3467.407291954999,3474.7166517679348,3480.1986716276365,3480.1986716276365,3482.635124898615,3497.2538445244863,3497.862957842231,3502.1267510664434,3510.045224197124,3510.045224197124,3510.6543375148685,3511.2634508326128,3509.436110879379,3508.8269975616345,3510.045224197124,3493.599164618018,3488.1171447583165,3475.325765085679,3458.270592188829],\"type\":\"scatter\"}],                        {\"template\":{\"data\":{\"bar\":[{\"error_x\":{\"color\":\"#2a3f5f\"},\"error_y\":{\"color\":\"#2a3f5f\"},\"marker\":{\"line\":{\"color\":\"#E5ECF6\",\"width\":0.5},\"pattern\":{\"fillmode\":\"overlay\",\"size\":10,\"solidity\":0.2}},\"type\":\"bar\"}],\"barpolar\":[{\"marker\":{\"line\":{\"color\":\"#E5ECF6\",\"width\":0.5},\"pattern\":{\"fillmode\":\"overlay\",\"size\":10,\"solidity\":0.2}},\"type\":\"barpolar\"}],\"carpet\":[{\"aaxis\":{\"endlinecolor\":\"#2a3f5f\",\"gridcolor\":\"white\",\"linecolor\":\"white\",\"minorgridcolor\":\"white\",\"startlinecolor\":\"#2a3f5f\"},\"baxis\":{\"endlinecolor\":\"#2a3f5f\",\"gridcolor\":\"white\",\"linecolor\":\"white\",\"minorgridcolor\":\"white\",\"startlinecolor\":\"#2a3f5f\"},\"type\":\"carpet\"}],\"choropleth\":[{\"colorbar\":{\"outlinewidth\":0,\"ticks\":\"\"},\"type\":\"choropleth\"}],\"contour\":[{\"colorbar\":{\"outlinewidth\":0,\"ticks\":\"\"},\"colorscale\":[[0.0,\"#0d0887\"],[0.1111111111111111,\"#46039f\"],[0.2222222222222222,\"#7201a8\"],[0.3333333333333333,\"#9c179e\"],[0.4444444444444444,\"#bd3786\"],[0.5555555555555556,\"#d8576b\"],[0.6666666666666666,\"#ed7953\"],[0.7777777777777778,\"#fb9f3a\"],[0.8888888888888888,\"#fdca26\"],[1.0,\"#f0f921\"]],\"type\":\"contour\"}],\"contourcarpet\":[{\"colorbar\":{\"outlinewidth\":0,\"ticks\":\"\"},\"type\":\"contourcarpet\"}],\"heatmap\":[{\"colorbar\":{\"outlinewidth\":0,\"ticks\":\"\"},\"colorscale\":[[0.0,\"#0d0887\"],[0.1111111111111111,\"#46039f\"],[0.2222222222222222,\"#7201a8\"],[0.3333333333333333,\"#9c179e\"],[0.4444444444444444,\"#bd3786\"],[0.5555555555555556,\"#d8576b\"],[0.6666666666666666,\"#ed7953\"],[0.7777777777777778,\"#fb9f3a\"],[0.8888888888888888,\"#fdca26\"],[1.0,\"#f0f921\"]],\"type\":\"heatmap\"}],\"heatmapgl\":[{\"colorbar\":{\"outlinewidth\":0,\"ticks\":\"\"},\"colorscale\":[[0.0,\"#0d0887\"],[0.1111111111111111,\"#46039f\"],[0.2222222222222222,\"#7201a8\"],[0.3333333333333333,\"#9c179e\"],[0.4444444444444444,\"#bd3786\"],[0.5555555555555556,\"#d8576b\"],[0.6666666666666666,\"#ed7953\"],[0.7777777777777778,\"#fb9f3a\"],[0.8888888888888888,\"#fdca26\"],[1.0,\"#f0f921\"]],\"type\":\"heatmapgl\"}],\"histogram\":[{\"marker\":{\"pattern\":{\"fillmode\":\"overlay\",\"size\":10,\"solidity\":0.2}},\"type\":\"histogram\"}],\"histogram2d\":[{\"colorbar\":{\"outlinewidth\":0,\"ticks\":\"\"},\"colorscale\":[[0.0,\"#0d0887\"],[0.1111111111111111,\"#46039f\"],[0.2222222222222222,\"#7201a8\"],[0.3333333333333333,\"#9c179e\"],[0.4444444444444444,\"#bd3786\"],[0.5555555555555556,\"#d8576b\"],[0.6666666666666666,\"#ed7953\"],[0.7777777777777778,\"#fb9f3a\"],[0.8888888888888888,\"#fdca26\"],[1.0,\"#f0f921\"]],\"type\":\"histogram2d\"}],\"histogram2dcontour\":[{\"colorbar\":{\"outlinewidth\":0,\"ticks\":\"\"},\"colorscale\":[[0.0,\"#0d0887\"],[0.1111111111111111,\"#46039f\"],[0.2222222222222222,\"#7201a8\"],[0.3333333333333333,\"#9c179e\"],[0.4444444444444444,\"#bd3786\"],[0.5555555555555556,\"#d8576b\"],[0.6666666666666666,\"#ed7953\"],[0.7777777777777778,\"#fb9f3a\"],[0.8888888888888888,\"#fdca26\"],[1.0,\"#f0f921\"]],\"type\":\"histogram2dcontour\"}],\"mesh3d\":[{\"colorbar\":{\"outlinewidth\":0,\"ticks\":\"\"},\"type\":\"mesh3d\"}],\"parcoords\":[{\"line\":{\"colorbar\":{\"outlinewidth\":0,\"ticks\":\"\"}},\"type\":\"parcoords\"}],\"pie\":[{\"automargin\":true,\"type\":\"pie\"}],\"scatter\":[{\"marker\":{\"colorbar\":{\"outlinewidth\":0,\"ticks\":\"\"}},\"type\":\"scatter\"}],\"scatter3d\":[{\"line\":{\"colorbar\":{\"outlinewidth\":0,\"ticks\":\"\"}},\"marker\":{\"colorbar\":{\"outlinewidth\":0,\"ticks\":\"\"}},\"type\":\"scatter3d\"}],\"scattercarpet\":[{\"marker\":{\"colorbar\":{\"outlinewidth\":0,\"ticks\":\"\"}},\"type\":\"scattercarpet\"}],\"scattergeo\":[{\"marker\":{\"colorbar\":{\"outlinewidth\":0,\"ticks\":\"\"}},\"type\":\"scattergeo\"}],\"scattergl\":[{\"marker\":{\"colorbar\":{\"outlinewidth\":0,\"ticks\":\"\"}},\"type\":\"scattergl\"}],\"scattermapbox\":[{\"marker\":{\"colorbar\":{\"outlinewidth\":0,\"ticks\":\"\"}},\"type\":\"scattermapbox\"}],\"scatterpolar\":[{\"marker\":{\"colorbar\":{\"outlinewidth\":0,\"ticks\":\"\"}},\"type\":\"scatterpolar\"}],\"scatterpolargl\":[{\"marker\":{\"colorbar\":{\"outlinewidth\":0,\"ticks\":\"\"}},\"type\":\"scatterpolargl\"}],\"scatterternary\":[{\"marker\":{\"colorbar\":{\"outlinewidth\":0,\"ticks\":\"\"}},\"type\":\"scatterternary\"}],\"surface\":[{\"colorbar\":{\"outlinewidth\":0,\"ticks\":\"\"},\"colorscale\":[[0.0,\"#0d0887\"],[0.1111111111111111,\"#46039f\"],[0.2222222222222222,\"#7201a8\"],[0.3333333333333333,\"#9c179e\"],[0.4444444444444444,\"#bd3786\"],[0.5555555555555556,\"#d8576b\"],[0.6666666666666666,\"#ed7953\"],[0.7777777777777778,\"#fb9f3a\"],[0.8888888888888888,\"#fdca26\"],[1.0,\"#f0f921\"]],\"type\":\"surface\"}],\"table\":[{\"cells\":{\"fill\":{\"color\":\"#EBF0F8\"},\"line\":{\"color\":\"white\"}},\"header\":{\"fill\":{\"color\":\"#C8D4E3\"},\"line\":{\"color\":\"white\"}},\"type\":\"table\"}]},\"layout\":{\"annotationdefaults\":{\"arrowcolor\":\"#2a3f5f\",\"arrowhead\":0,\"arrowwidth\":1},\"autotypenumbers\":\"strict\",\"coloraxis\":{\"colorbar\":{\"outlinewidth\":0,\"ticks\":\"\"}},\"colorscale\":{\"diverging\":[[0,\"#8e0152\"],[0.1,\"#c51b7d\"],[0.2,\"#de77ae\"],[0.3,\"#f1b6da\"],[0.4,\"#fde0ef\"],[0.5,\"#f7f7f7\"],[0.6,\"#e6f5d0\"],[0.7,\"#b8e186\"],[0.8,\"#7fbc41\"],[0.9,\"#4d9221\"],[1,\"#276419\"]],\"sequential\":[[0.0,\"#0d0887\"],[0.1111111111111111,\"#46039f\"],[0.2222222222222222,\"#7201a8\"],[0.3333333333333333,\"#9c179e\"],[0.4444444444444444,\"#bd3786\"],[0.5555555555555556,\"#d8576b\"],[0.6666666666666666,\"#ed7953\"],[0.7777777777777778,\"#fb9f3a\"],[0.8888888888888888,\"#fdca26\"],[1.0,\"#f0f921\"]],\"sequentialminus\":[[0.0,\"#0d0887\"],[0.1111111111111111,\"#46039f\"],[0.2222222222222222,\"#7201a8\"],[0.3333333333333333,\"#9c179e\"],[0.4444444444444444,\"#bd3786\"],[0.5555555555555556,\"#d8576b\"],[0.6666666666666666,\"#ed7953\"],[0.7777777777777778,\"#fb9f3a\"],[0.8888888888888888,\"#fdca26\"],[1.0,\"#f0f921\"]]},\"colorway\":[\"#636efa\",\"#EF553B\",\"#00cc96\",\"#ab63fa\",\"#FFA15A\",\"#19d3f3\",\"#FF6692\",\"#B6E880\",\"#FF97FF\",\"#FECB52\"],\"font\":{\"color\":\"#2a3f5f\"},\"geo\":{\"bgcolor\":\"white\",\"lakecolor\":\"white\",\"landcolor\":\"#E5ECF6\",\"showlakes\":true,\"showland\":true,\"subunitcolor\":\"white\"},\"hoverlabel\":{\"align\":\"left\"},\"hovermode\":\"closest\",\"mapbox\":{\"style\":\"light\"},\"paper_bgcolor\":\"white\",\"plot_bgcolor\":\"#E5ECF6\",\"polar\":{\"angularaxis\":{\"gridcolor\":\"white\",\"linecolor\":\"white\",\"ticks\":\"\"},\"bgcolor\":\"#E5ECF6\",\"radialaxis\":{\"gridcolor\":\"white\",\"linecolor\":\"white\",\"ticks\":\"\"}},\"scene\":{\"xaxis\":{\"backgroundcolor\":\"#E5ECF6\",\"gridcolor\":\"white\",\"gridwidth\":2,\"linecolor\":\"white\",\"showbackground\":true,\"ticks\":\"\",\"zerolinecolor\":\"white\"},\"yaxis\":{\"backgroundcolor\":\"#E5ECF6\",\"gridcolor\":\"white\",\"gridwidth\":2,\"linecolor\":\"white\",\"showbackground\":true,\"ticks\":\"\",\"zerolinecolor\":\"white\"},\"zaxis\":{\"backgroundcolor\":\"#E5ECF6\",\"gridcolor\":\"white\",\"gridwidth\":2,\"linecolor\":\"white\",\"showbackground\":true,\"ticks\":\"\",\"zerolinecolor\":\"white\"}},\"shapedefaults\":{\"line\":{\"color\":\"#2a3f5f\"}},\"ternary\":{\"aaxis\":{\"gridcolor\":\"white\",\"linecolor\":\"white\",\"ticks\":\"\"},\"baxis\":{\"gridcolor\":\"white\",\"linecolor\":\"white\",\"ticks\":\"\"},\"bgcolor\":\"#E5ECF6\",\"caxis\":{\"gridcolor\":\"white\",\"linecolor\":\"white\",\"ticks\":\"\"}},\"title\":{\"x\":0.05},\"xaxis\":{\"automargin\":true,\"gridcolor\":\"white\",\"linecolor\":\"white\",\"ticks\":\"\",\"title\":{\"standoff\":15},\"zerolinecolor\":\"white\",\"zerolinewidth\":2},\"yaxis\":{\"automargin\":true,\"gridcolor\":\"white\",\"linecolor\":\"white\",\"ticks\":\"\",\"title\":{\"standoff\":15},\"zerolinecolor\":\"white\",\"zerolinewidth\":2}}},\"title\":{\"text\":\"Interest rate vs median rent Linear Regression in San Francisco, CA, from 2014-02 to 2019-12\"},\"xaxis\":{\"title\":{\"text\":\"Effective Federal Funds Rate\"}},\"yaxis\":{\"title\":{\"text\":\"San Francisco Rent\"}}},                        {\"responsive\": true}                    ).then(function(){\n",
       "                            \n",
       "var gd = document.getElementById('b4868f44-98d5-4875-bde1-6d2bf29abfe1');\n",
       "var x = new MutationObserver(function (mutations, observer) {{\n",
       "        var display = window.getComputedStyle(gd).display;\n",
       "        if (!display || display === 'none') {{\n",
       "            console.log([gd, 'removed!']);\n",
       "            Plotly.purge(gd);\n",
       "            observer.disconnect();\n",
       "        }}\n",
       "}});\n",
       "\n",
       "// Listen for the removal of the full notebook cells\n",
       "var notebookContainer = gd.closest('#notebook-container');\n",
       "if (notebookContainer) {{\n",
       "    x.observe(notebookContainer, {childList: true});\n",
       "}}\n",
       "\n",
       "// Listen for the clearing of the current output cell\n",
       "var outputEl = gd.closest('.output');\n",
       "if (outputEl) {{\n",
       "    x.observe(outputEl, {childList: true});\n",
       "}}\n",
       "\n",
       "                        })                };                });            </script>        </div>"
      ]
     },
     "metadata": {},
     "output_type": "display_data"
    }
   ],
   "source": [
    "df = pd.DataFrame({'X': rate_fund, 'Y':sf_rent})\n",
    "reg = LinearRegression().fit(np.vstack(df['X']), sf_rent)\n",
    "df['bestfit'] = reg.predict(np.vstack(df['X']))\n",
    "fig=go.Figure()\n",
    "fig.add_trace(go.Scatter(name='Interest rate vs Median rent', x=df['X'], y=df['Y'].values, mode='markers'))\n",
    "fig.add_trace(go.Scatter(name='line of best fit', x=rate_fund, y=df['bestfit'], mode='lines'))\n",
    "\n",
    "fig.update_layout(title_text = 'Interest rate vs median rent Linear Regression in San Francisco, CA, from 2014-02 to 2019-12', xaxis_title = 'Effective Federal Funds Rate', yaxis_title = 'San Francisco Rent')\n",
    "\n",
    "fig.show()\n",
    "\n",
    "sf_ml = fig"
   ]
  },
  {
   "cell_type": "code",
   "execution_count": 103,
   "metadata": {},
   "outputs": [
    {
     "data": {
      "text/plain": [
       "'https://plotly.com/~edtsoi430/21/'"
      ]
     },
     "execution_count": 103,
     "metadata": {},
     "output_type": "execute_result"
    }
   ],
   "source": [
    "py.plot(sf_ml, filename=\"Interest rate vs median rent Linear Regression in San Francisco, CA, from 2014-02 to 2019-12\", auto_open=False)"
   ]
  },
  {
   "cell_type": "markdown",
   "metadata": {},
   "source": [
    "# (Part 2) - More plots"
   ]
  },
  {
   "cell_type": "markdown",
   "metadata": {},
   "source": [
    "## 1. Interest rate and rent in San Francisco, CA from 2014-02 to 2019-12"
   ]
  },
  {
   "cell_type": "code",
   "execution_count": 325,
   "metadata": {},
   "outputs": [
    {
     "data": {
      "application/vnd.plotly.v1+json": {
       "config": {
        "plotlyServerURL": "https://plotly.com"
       },
       "data": [
        {
         "hovertemplate": "variable=Studio<br>Date=%{x}<br>value=%{y}<extra></extra>",
         "legendgroup": "Studio",
         "line": {
          "dash": "solid"
         },
         "mode": "lines",
         "name": "Studio",
         "showlegend": true,
         "type": "scattergl",
         "x": [
          "2014-02",
          "2014-03",
          "2014-04",
          "2014-05",
          "2014-06",
          "2014-07",
          "2014-08",
          "2014-09",
          "2014-10",
          "2014-11",
          "2014-12",
          "2015-01",
          "2015-02",
          "2015-03",
          "2015-04",
          "2015-05",
          "2015-06",
          "2015-07",
          "2015-08",
          "2015-09",
          "2015-10",
          "2015-11",
          "2015-12",
          "2016-01",
          "2016-02",
          "2016-03",
          "2016-04",
          "2016-05",
          "2016-06",
          "2016-07",
          "2016-08",
          "2016-09",
          "2016-10",
          "2016-11",
          "2016-12",
          "2017-01",
          "2017-02",
          "2017-03",
          "2017-04",
          "2017-05",
          "2017-06",
          "2017-07",
          "2017-08",
          "2017-09",
          "2017-10",
          "2017-11",
          "2017-12",
          "2018-01",
          "2018-02",
          "2018-03",
          "2018-04",
          "2018-05",
          "2018-06",
          "2018-07",
          "2018-08",
          "2018-09",
          "2018-10",
          "2018-11",
          "2018-12",
          "2019-01",
          "2019-02",
          "2019-03",
          "2019-04",
          "2019-05",
          "2019-06",
          "2019-07",
          "2019-08",
          "2019-09",
          "2019-10",
          "2019-11"
         ],
         "xaxis": "x",
         "y": [
          3000,
          2995,
          3064,
          3250,
          3295,
          3270,
          3315.5,
          3350,
          3379.5,
          3379,
          3419,
          3500,
          3500,
          3495,
          3500,
          3500,
          3600,
          3495,
          3552.5,
          3507,
          3500,
          3495,
          3402.5,
          3632,
          3638,
          3600,
          3600,
          3601,
          3518,
          3450,
          3338,
          3300,
          3223,
          3223.5,
          3100,
          3250,
          3295,
          3295,
          3306,
          3376,
          3400,
          3433,
          3387,
          3312,
          3295,
          3349,
          3303.5,
          3300,
          3395,
          3400,
          3405,
          3429.5,
          3475,
          3476.5,
          3495,
          3495,
          3495,
          3474,
          3426,
          3495,
          3500,
          3500,
          3534,
          3600,
          3641.5,
          3615,
          3600,
          3650,
          3580,
          3499
         ],
         "yaxis": "y"
        },
        {
         "hovertemplate": "variable=1 Bedroom<br>Date=%{x}<br>value=%{y}<extra></extra>",
         "legendgroup": "1 Bedroom",
         "line": {
          "dash": "solid"
         },
         "mode": "lines",
         "name": "1 Bedroom",
         "showlegend": true,
         "type": "scattergl",
         "x": [
          "2014-02",
          "2014-03",
          "2014-04",
          "2014-05",
          "2014-06",
          "2014-07",
          "2014-08",
          "2014-09",
          "2014-10",
          "2014-11",
          "2014-12",
          "2015-01",
          "2015-02",
          "2015-03",
          "2015-04",
          "2015-05",
          "2015-06",
          "2015-07",
          "2015-08",
          "2015-09",
          "2015-10",
          "2015-11",
          "2015-12",
          "2016-01",
          "2016-02",
          "2016-03",
          "2016-04",
          "2016-05",
          "2016-06",
          "2016-07",
          "2016-08",
          "2016-09",
          "2016-10",
          "2016-11",
          "2016-12",
          "2017-01",
          "2017-02",
          "2017-03",
          "2017-04",
          "2017-05",
          "2017-06",
          "2017-07",
          "2017-08",
          "2017-09",
          "2017-10",
          "2017-11",
          "2017-12",
          "2018-01",
          "2018-02",
          "2018-03",
          "2018-04",
          "2018-05",
          "2018-06",
          "2018-07",
          "2018-08",
          "2018-09",
          "2018-10",
          "2018-11",
          "2018-12",
          "2019-01",
          "2019-02",
          "2019-03",
          "2019-04",
          "2019-05",
          "2019-06",
          "2019-07",
          "2019-08",
          "2019-09",
          "2019-10",
          "2019-11"
         ],
         "xaxis": "x",
         "y": [
          4100,
          4100,
          4250,
          4339.5,
          4400,
          4450,
          4550,
          4600,
          4600,
          4550,
          4695,
          4700,
          4705,
          4600,
          4635,
          4700,
          4754.5,
          4718,
          4947,
          4800,
          4785,
          4698,
          4692.5,
          4900,
          4900,
          4809,
          4724,
          4709,
          4600,
          4550,
          4500,
          4500,
          4462.5,
          4355,
          4355,
          4495,
          4495,
          4400,
          4500,
          4500,
          4450,
          4500,
          4500,
          4395,
          4375,
          4450,
          4385,
          4459,
          4495,
          4500,
          4500,
          4500,
          4500,
          4599.5,
          4650,
          4694.5,
          4598,
          4500,
          4500,
          4500,
          4500,
          4500,
          4579.5,
          4656,
          4709,
          4800,
          4750,
          4799,
          4600,
          4535
         ],
         "yaxis": "y"
        },
        {
         "hovertemplate": "variable=2 Bedrooms<br>Date=%{x}<br>value=%{y}<extra></extra>",
         "legendgroup": "2 Bedrooms",
         "line": {
          "dash": "solid"
         },
         "mode": "lines",
         "name": "2 Bedrooms",
         "showlegend": true,
         "type": "scattergl",
         "x": [
          "2014-02",
          "2014-03",
          "2014-04",
          "2014-05",
          "2014-06",
          "2014-07",
          "2014-08",
          "2014-09",
          "2014-10",
          "2014-11",
          "2014-12",
          "2015-01",
          "2015-02",
          "2015-03",
          "2015-04",
          "2015-05",
          "2015-06",
          "2015-07",
          "2015-08",
          "2015-09",
          "2015-10",
          "2015-11",
          "2015-12",
          "2016-01",
          "2016-02",
          "2016-03",
          "2016-04",
          "2016-05",
          "2016-06",
          "2016-07",
          "2016-08",
          "2016-09",
          "2016-10",
          "2016-11",
          "2016-12",
          "2017-01",
          "2017-02",
          "2017-03",
          "2017-04",
          "2017-05",
          "2017-06",
          "2017-07",
          "2017-08",
          "2017-09",
          "2017-10",
          "2017-11",
          "2017-12",
          "2018-01",
          "2018-02",
          "2018-03",
          "2018-04",
          "2018-05",
          "2018-06",
          "2018-07",
          "2018-08",
          "2018-09",
          "2018-10",
          "2018-11",
          "2018-12",
          "2019-01",
          "2019-02",
          "2019-03",
          "2019-04",
          "2019-05",
          "2019-06",
          "2019-07",
          "2019-08",
          "2019-09",
          "2019-10",
          "2019-11"
         ],
         "xaxis": "x",
         "y": [
          5195,
          5000,
          5172.5,
          5500,
          4995,
          4950,
          5800,
          5500,
          5800,
          5500,
          5950,
          5995,
          5999,
          5975,
          5722.5,
          5650,
          5920,
          6147.5,
          6500,
          6250,
          5900,
          5800,
          5886,
          5995,
          5935.5,
          5897,
          5687.5,
          5975,
          5595,
          5675,
          5700,
          5600,
          5400,
          5547.5,
          5132,
          5000,
          5450,
          5500,
          5395,
          5495,
          5495,
          5500,
          5495,
          5495,
          5495,
          5495,
          5495,
          5495,
          5395,
          5500,
          5500,
          5499,
          5500,
          5500,
          5500,
          5697.5,
          5495,
          5397.5,
          5495,
          5400,
          5350,
          5300,
          5350,
          5400,
          5600,
          5788.5,
          5800,
          5744.5,
          5585,
          5495
         ],
         "yaxis": "y"
        },
        {
         "hovertemplate": "variable=3 Bedrooms<br>Date=%{x}<br>value=%{y}<extra></extra>",
         "legendgroup": "3 Bedrooms",
         "line": {
          "dash": "solid"
         },
         "mode": "lines",
         "name": "3 Bedrooms",
         "showlegend": true,
         "type": "scattergl",
         "x": [
          "2014-02",
          "2014-03",
          "2014-04",
          "2014-05",
          "2014-06",
          "2014-07",
          "2014-08",
          "2014-09",
          "2014-10",
          "2014-11",
          "2014-12",
          "2015-01",
          "2015-02",
          "2015-03",
          "2015-04",
          "2015-05",
          "2015-06",
          "2015-07",
          "2015-08",
          "2015-09",
          "2015-10",
          "2015-11",
          "2015-12",
          "2016-01",
          "2016-02",
          "2016-03",
          "2016-04",
          "2016-05",
          "2016-06",
          "2016-07",
          "2016-08",
          "2016-09",
          "2016-10",
          "2016-11",
          "2016-12",
          "2017-01",
          "2017-02",
          "2017-03",
          "2017-04",
          "2017-05",
          "2017-06",
          "2017-07",
          "2017-08",
          "2017-09",
          "2017-10",
          "2017-11",
          "2017-12",
          "2018-01",
          "2018-02",
          "2018-03",
          "2018-04",
          "2018-05",
          "2018-06",
          "2018-07",
          "2018-08",
          "2018-09",
          "2018-10",
          "2018-11",
          "2018-12",
          "2019-01",
          "2019-02",
          "2019-03",
          "2019-04",
          "2019-05",
          "2019-06",
          "2019-07",
          "2019-08",
          "2019-09",
          "2019-10",
          "2019-11"
         ],
         "xaxis": "x",
         "y": [
          null,
          null,
          null,
          null,
          null,
          null,
          null,
          null,
          null,
          null,
          null,
          null,
          null,
          null,
          null,
          null,
          null,
          7600,
          7200,
          6995,
          6350,
          6200,
          6500,
          7000,
          6995,
          6499,
          6697.5,
          6797.5,
          6972.5,
          6947.5,
          6350,
          6700,
          5750,
          6742.5,
          6200,
          6500,
          6150,
          6200,
          5900,
          6200,
          6500,
          6500,
          6495,
          6397.5,
          6200,
          5997.5,
          6472.5,
          6495,
          6200,
          6200,
          6500,
          6650,
          6800,
          6850,
          6800,
          6795,
          6497.5,
          6747.5,
          6495,
          6899.5,
          7000,
          6595,
          6850,
          6825,
          6872.5,
          6999.5,
          6995,
          7195,
          6850,
          6500
         ],
         "yaxis": "y"
        },
        {
         "hovertemplate": "variable=Effective_Federal_Funds_Rate<br>Date=%{x}<br>value=%{y}<extra></extra>",
         "legendgroup": "Effective_Federal_Funds_Rate",
         "line": {
          "dash": "solid"
         },
         "mode": "lines",
         "name": "Effective_Federal_Funds_Rate",
         "showlegend": true,
         "type": "scattergl",
         "x": [
          "2014-02-01",
          "2014-03-01",
          "2014-04-01",
          "2014-05-01",
          "2014-06-01",
          "2014-07-01",
          "2014-08-01",
          "2014-09-01",
          "2014-10-01",
          "2014-11-01",
          "2014-12-01",
          "2015-01-01",
          "2015-02-01",
          "2015-03-01",
          "2015-04-01",
          "2015-05-01",
          "2015-06-01",
          "2015-07-01",
          "2015-08-01",
          "2015-09-01",
          "2015-10-01",
          "2015-11-01",
          "2015-12-01",
          "2016-01-01",
          "2016-02-01",
          "2016-03-01",
          "2016-04-01",
          "2016-05-01",
          "2016-06-01",
          "2016-07-01",
          "2016-08-01",
          "2016-09-01",
          "2016-10-01",
          "2016-11-01",
          "2016-12-01",
          "2017-01-01",
          "2017-02-01",
          "2017-03-01",
          "2017-04-01",
          "2017-05-01",
          "2017-06-01",
          "2017-07-01",
          "2017-08-01",
          "2017-09-01",
          "2017-10-01",
          "2017-11-01",
          "2017-12-01",
          "2018-01-01",
          "2018-02-01",
          "2018-03-01",
          "2018-04-01",
          "2018-05-01",
          "2018-06-01",
          "2018-07-01",
          "2018-08-01",
          "2018-09-01",
          "2018-10-01",
          "2018-11-01",
          "2018-12-01",
          "2019-01-01",
          "2019-02-01",
          "2019-03-01",
          "2019-04-01",
          "2019-05-01",
          "2019-06-01",
          "2019-07-01",
          "2019-08-01",
          "2019-09-01",
          "2019-10-01",
          "2019-11-01",
          "2019-12-01",
          "2020-01-01",
          "2020-02-01",
          "2020-03-01",
          "2020-04-01",
          "2020-05-01",
          "2020-06-01",
          "2020-07-01",
          "2020-08-01",
          "2020-09-01",
          "2020-10-01",
          "2020-11-01",
          "2020-12-01"
         ],
         "xaxis": "x",
         "y": [
          0.07,
          0.08,
          0.09,
          0.09,
          0.1,
          0.09,
          0.09,
          0.09,
          0.09,
          0.09,
          0.12,
          0.11,
          0.11,
          0.11,
          0.12,
          0.12,
          0.13,
          0.13,
          0.14,
          0.14,
          0.12,
          0.12,
          0.24,
          0.34,
          0.38,
          0.36,
          0.37,
          0.37,
          0.38,
          0.39,
          0.4,
          0.4,
          0.4,
          0.41,
          0.54,
          0.65,
          0.66,
          0.79,
          0.9,
          0.91,
          1.04,
          1.15,
          1.16,
          1.15,
          1.15,
          1.16,
          1.3,
          1.41,
          1.42,
          1.51,
          1.67,
          1.7,
          1.82,
          1.91,
          1.91,
          1.95,
          2.19,
          2.2,
          2.27,
          2.4,
          2.4,
          2.41,
          2.42,
          2.39,
          2.38,
          2.4,
          2.13,
          2.04,
          1.83,
          1.55,
          1.55,
          1.55,
          1.58,
          0.65,
          0.05,
          0.05,
          0.08,
          0.09,
          0.1,
          0.09,
          0.09,
          0.09,
          0.09
         ],
         "yaxis": "y2"
        }
       ],
       "layout": {
        "template": {
         "data": {
          "bar": [
           {
            "error_x": {
             "color": "#2a3f5f"
            },
            "error_y": {
             "color": "#2a3f5f"
            },
            "marker": {
             "line": {
              "color": "#E5ECF6",
              "width": 0.5
             },
             "pattern": {
              "fillmode": "overlay",
              "size": 10,
              "solidity": 0.2
             }
            },
            "type": "bar"
           }
          ],
          "barpolar": [
           {
            "marker": {
             "line": {
              "color": "#E5ECF6",
              "width": 0.5
             },
             "pattern": {
              "fillmode": "overlay",
              "size": 10,
              "solidity": 0.2
             }
            },
            "type": "barpolar"
           }
          ],
          "carpet": [
           {
            "aaxis": {
             "endlinecolor": "#2a3f5f",
             "gridcolor": "white",
             "linecolor": "white",
             "minorgridcolor": "white",
             "startlinecolor": "#2a3f5f"
            },
            "baxis": {
             "endlinecolor": "#2a3f5f",
             "gridcolor": "white",
             "linecolor": "white",
             "minorgridcolor": "white",
             "startlinecolor": "#2a3f5f"
            },
            "type": "carpet"
           }
          ],
          "choropleth": [
           {
            "colorbar": {
             "outlinewidth": 0,
             "ticks": ""
            },
            "type": "choropleth"
           }
          ],
          "contour": [
           {
            "colorbar": {
             "outlinewidth": 0,
             "ticks": ""
            },
            "colorscale": [
             [
              0,
              "#0d0887"
             ],
             [
              0.1111111111111111,
              "#46039f"
             ],
             [
              0.2222222222222222,
              "#7201a8"
             ],
             [
              0.3333333333333333,
              "#9c179e"
             ],
             [
              0.4444444444444444,
              "#bd3786"
             ],
             [
              0.5555555555555556,
              "#d8576b"
             ],
             [
              0.6666666666666666,
              "#ed7953"
             ],
             [
              0.7777777777777778,
              "#fb9f3a"
             ],
             [
              0.8888888888888888,
              "#fdca26"
             ],
             [
              1,
              "#f0f921"
             ]
            ],
            "type": "contour"
           }
          ],
          "contourcarpet": [
           {
            "colorbar": {
             "outlinewidth": 0,
             "ticks": ""
            },
            "type": "contourcarpet"
           }
          ],
          "heatmap": [
           {
            "colorbar": {
             "outlinewidth": 0,
             "ticks": ""
            },
            "colorscale": [
             [
              0,
              "#0d0887"
             ],
             [
              0.1111111111111111,
              "#46039f"
             ],
             [
              0.2222222222222222,
              "#7201a8"
             ],
             [
              0.3333333333333333,
              "#9c179e"
             ],
             [
              0.4444444444444444,
              "#bd3786"
             ],
             [
              0.5555555555555556,
              "#d8576b"
             ],
             [
              0.6666666666666666,
              "#ed7953"
             ],
             [
              0.7777777777777778,
              "#fb9f3a"
             ],
             [
              0.8888888888888888,
              "#fdca26"
             ],
             [
              1,
              "#f0f921"
             ]
            ],
            "type": "heatmap"
           }
          ],
          "heatmapgl": [
           {
            "colorbar": {
             "outlinewidth": 0,
             "ticks": ""
            },
            "colorscale": [
             [
              0,
              "#0d0887"
             ],
             [
              0.1111111111111111,
              "#46039f"
             ],
             [
              0.2222222222222222,
              "#7201a8"
             ],
             [
              0.3333333333333333,
              "#9c179e"
             ],
             [
              0.4444444444444444,
              "#bd3786"
             ],
             [
              0.5555555555555556,
              "#d8576b"
             ],
             [
              0.6666666666666666,
              "#ed7953"
             ],
             [
              0.7777777777777778,
              "#fb9f3a"
             ],
             [
              0.8888888888888888,
              "#fdca26"
             ],
             [
              1,
              "#f0f921"
             ]
            ],
            "type": "heatmapgl"
           }
          ],
          "histogram": [
           {
            "marker": {
             "pattern": {
              "fillmode": "overlay",
              "size": 10,
              "solidity": 0.2
             }
            },
            "type": "histogram"
           }
          ],
          "histogram2d": [
           {
            "colorbar": {
             "outlinewidth": 0,
             "ticks": ""
            },
            "colorscale": [
             [
              0,
              "#0d0887"
             ],
             [
              0.1111111111111111,
              "#46039f"
             ],
             [
              0.2222222222222222,
              "#7201a8"
             ],
             [
              0.3333333333333333,
              "#9c179e"
             ],
             [
              0.4444444444444444,
              "#bd3786"
             ],
             [
              0.5555555555555556,
              "#d8576b"
             ],
             [
              0.6666666666666666,
              "#ed7953"
             ],
             [
              0.7777777777777778,
              "#fb9f3a"
             ],
             [
              0.8888888888888888,
              "#fdca26"
             ],
             [
              1,
              "#f0f921"
             ]
            ],
            "type": "histogram2d"
           }
          ],
          "histogram2dcontour": [
           {
            "colorbar": {
             "outlinewidth": 0,
             "ticks": ""
            },
            "colorscale": [
             [
              0,
              "#0d0887"
             ],
             [
              0.1111111111111111,
              "#46039f"
             ],
             [
              0.2222222222222222,
              "#7201a8"
             ],
             [
              0.3333333333333333,
              "#9c179e"
             ],
             [
              0.4444444444444444,
              "#bd3786"
             ],
             [
              0.5555555555555556,
              "#d8576b"
             ],
             [
              0.6666666666666666,
              "#ed7953"
             ],
             [
              0.7777777777777778,
              "#fb9f3a"
             ],
             [
              0.8888888888888888,
              "#fdca26"
             ],
             [
              1,
              "#f0f921"
             ]
            ],
            "type": "histogram2dcontour"
           }
          ],
          "mesh3d": [
           {
            "colorbar": {
             "outlinewidth": 0,
             "ticks": ""
            },
            "type": "mesh3d"
           }
          ],
          "parcoords": [
           {
            "line": {
             "colorbar": {
              "outlinewidth": 0,
              "ticks": ""
             }
            },
            "type": "parcoords"
           }
          ],
          "pie": [
           {
            "automargin": true,
            "type": "pie"
           }
          ],
          "scatter": [
           {
            "marker": {
             "colorbar": {
              "outlinewidth": 0,
              "ticks": ""
             }
            },
            "type": "scatter"
           }
          ],
          "scatter3d": [
           {
            "line": {
             "colorbar": {
              "outlinewidth": 0,
              "ticks": ""
             }
            },
            "marker": {
             "colorbar": {
              "outlinewidth": 0,
              "ticks": ""
             }
            },
            "type": "scatter3d"
           }
          ],
          "scattercarpet": [
           {
            "marker": {
             "colorbar": {
              "outlinewidth": 0,
              "ticks": ""
             }
            },
            "type": "scattercarpet"
           }
          ],
          "scattergeo": [
           {
            "marker": {
             "colorbar": {
              "outlinewidth": 0,
              "ticks": ""
             }
            },
            "type": "scattergeo"
           }
          ],
          "scattergl": [
           {
            "marker": {
             "colorbar": {
              "outlinewidth": 0,
              "ticks": ""
             }
            },
            "type": "scattergl"
           }
          ],
          "scattermapbox": [
           {
            "marker": {
             "colorbar": {
              "outlinewidth": 0,
              "ticks": ""
             }
            },
            "type": "scattermapbox"
           }
          ],
          "scatterpolar": [
           {
            "marker": {
             "colorbar": {
              "outlinewidth": 0,
              "ticks": ""
             }
            },
            "type": "scatterpolar"
           }
          ],
          "scatterpolargl": [
           {
            "marker": {
             "colorbar": {
              "outlinewidth": 0,
              "ticks": ""
             }
            },
            "type": "scatterpolargl"
           }
          ],
          "scatterternary": [
           {
            "marker": {
             "colorbar": {
              "outlinewidth": 0,
              "ticks": ""
             }
            },
            "type": "scatterternary"
           }
          ],
          "surface": [
           {
            "colorbar": {
             "outlinewidth": 0,
             "ticks": ""
            },
            "colorscale": [
             [
              0,
              "#0d0887"
             ],
             [
              0.1111111111111111,
              "#46039f"
             ],
             [
              0.2222222222222222,
              "#7201a8"
             ],
             [
              0.3333333333333333,
              "#9c179e"
             ],
             [
              0.4444444444444444,
              "#bd3786"
             ],
             [
              0.5555555555555556,
              "#d8576b"
             ],
             [
              0.6666666666666666,
              "#ed7953"
             ],
             [
              0.7777777777777778,
              "#fb9f3a"
             ],
             [
              0.8888888888888888,
              "#fdca26"
             ],
             [
              1,
              "#f0f921"
             ]
            ],
            "type": "surface"
           }
          ],
          "table": [
           {
            "cells": {
             "fill": {
              "color": "#EBF0F8"
             },
             "line": {
              "color": "white"
             }
            },
            "header": {
             "fill": {
              "color": "#C8D4E3"
             },
             "line": {
              "color": "white"
             }
            },
            "type": "table"
           }
          ]
         },
         "layout": {
          "annotationdefaults": {
           "arrowcolor": "#2a3f5f",
           "arrowhead": 0,
           "arrowwidth": 1
          },
          "autotypenumbers": "strict",
          "coloraxis": {
           "colorbar": {
            "outlinewidth": 0,
            "ticks": ""
           }
          },
          "colorscale": {
           "diverging": [
            [
             0,
             "#8e0152"
            ],
            [
             0.1,
             "#c51b7d"
            ],
            [
             0.2,
             "#de77ae"
            ],
            [
             0.3,
             "#f1b6da"
            ],
            [
             0.4,
             "#fde0ef"
            ],
            [
             0.5,
             "#f7f7f7"
            ],
            [
             0.6,
             "#e6f5d0"
            ],
            [
             0.7,
             "#b8e186"
            ],
            [
             0.8,
             "#7fbc41"
            ],
            [
             0.9,
             "#4d9221"
            ],
            [
             1,
             "#276419"
            ]
           ],
           "sequential": [
            [
             0,
             "#0d0887"
            ],
            [
             0.1111111111111111,
             "#46039f"
            ],
            [
             0.2222222222222222,
             "#7201a8"
            ],
            [
             0.3333333333333333,
             "#9c179e"
            ],
            [
             0.4444444444444444,
             "#bd3786"
            ],
            [
             0.5555555555555556,
             "#d8576b"
            ],
            [
             0.6666666666666666,
             "#ed7953"
            ],
            [
             0.7777777777777778,
             "#fb9f3a"
            ],
            [
             0.8888888888888888,
             "#fdca26"
            ],
            [
             1,
             "#f0f921"
            ]
           ],
           "sequentialminus": [
            [
             0,
             "#0d0887"
            ],
            [
             0.1111111111111111,
             "#46039f"
            ],
            [
             0.2222222222222222,
             "#7201a8"
            ],
            [
             0.3333333333333333,
             "#9c179e"
            ],
            [
             0.4444444444444444,
             "#bd3786"
            ],
            [
             0.5555555555555556,
             "#d8576b"
            ],
            [
             0.6666666666666666,
             "#ed7953"
            ],
            [
             0.7777777777777778,
             "#fb9f3a"
            ],
            [
             0.8888888888888888,
             "#fdca26"
            ],
            [
             1,
             "#f0f921"
            ]
           ]
          },
          "colorway": [
           "#636efa",
           "#EF553B",
           "#00cc96",
           "#ab63fa",
           "#FFA15A",
           "#19d3f3",
           "#FF6692",
           "#B6E880",
           "#FF97FF",
           "#FECB52"
          ],
          "font": {
           "color": "#2a3f5f"
          },
          "geo": {
           "bgcolor": "white",
           "lakecolor": "white",
           "landcolor": "#E5ECF6",
           "showlakes": true,
           "showland": true,
           "subunitcolor": "white"
          },
          "hoverlabel": {
           "align": "left"
          },
          "hovermode": "closest",
          "mapbox": {
           "style": "light"
          },
          "paper_bgcolor": "white",
          "plot_bgcolor": "#E5ECF6",
          "polar": {
           "angularaxis": {
            "gridcolor": "white",
            "linecolor": "white",
            "ticks": ""
           },
           "bgcolor": "#E5ECF6",
           "radialaxis": {
            "gridcolor": "white",
            "linecolor": "white",
            "ticks": ""
           }
          },
          "scene": {
           "xaxis": {
            "backgroundcolor": "#E5ECF6",
            "gridcolor": "white",
            "gridwidth": 2,
            "linecolor": "white",
            "showbackground": true,
            "ticks": "",
            "zerolinecolor": "white"
           },
           "yaxis": {
            "backgroundcolor": "#E5ECF6",
            "gridcolor": "white",
            "gridwidth": 2,
            "linecolor": "white",
            "showbackground": true,
            "ticks": "",
            "zerolinecolor": "white"
           },
           "zaxis": {
            "backgroundcolor": "#E5ECF6",
            "gridcolor": "white",
            "gridwidth": 2,
            "linecolor": "white",
            "showbackground": true,
            "ticks": "",
            "zerolinecolor": "white"
           }
          },
          "shapedefaults": {
           "line": {
            "color": "#2a3f5f"
           }
          },
          "ternary": {
           "aaxis": {
            "gridcolor": "white",
            "linecolor": "white",
            "ticks": ""
           },
           "baxis": {
            "gridcolor": "white",
            "linecolor": "white",
            "ticks": ""
           },
           "bgcolor": "#E5ECF6",
           "caxis": {
            "gridcolor": "white",
            "linecolor": "white",
            "ticks": ""
           }
          },
          "title": {
           "x": 0.05
          },
          "xaxis": {
           "automargin": true,
           "gridcolor": "white",
           "linecolor": "white",
           "ticks": "",
           "title": {
            "standoff": 15
           },
           "zerolinecolor": "white",
           "zerolinewidth": 2
          },
          "yaxis": {
           "automargin": true,
           "gridcolor": "white",
           "linecolor": "white",
           "ticks": "",
           "title": {
            "standoff": 15
           },
           "zerolinecolor": "white",
           "zerolinewidth": 2
          }
         }
        },
        "title": {
         "text": "Interest rate and median rent in San Francisco, CA, from 2014-02 to 2019-12"
        },
        "xaxis": {
         "anchor": "y",
         "domain": [
          0,
          0.94
         ],
         "range": [
          "2014-02-01",
          "2019-12-31"
         ],
         "title": {
          "text": "Date"
         }
        },
        "yaxis": {
         "anchor": "x",
         "domain": [
          0,
          1
         ],
         "title": {
          "text": "Median Rent ($ USD)"
         }
        },
        "yaxis2": {
         "anchor": "x",
         "overlaying": "y",
         "side": "right",
         "title": {
          "text": "Federal Interest Rate (%)"
         }
        }
       }
      },
      "text/html": [
       "<div>                            <div id=\"fef27cf4-fca5-4a1a-9e76-8c9a3aafd0e2\" class=\"plotly-graph-div\" style=\"height:525px; width:100%;\"></div>            <script type=\"text/javascript\">                require([\"plotly\"], function(Plotly) {                    window.PLOTLYENV=window.PLOTLYENV || {};                                    if (document.getElementById(\"fef27cf4-fca5-4a1a-9e76-8c9a3aafd0e2\")) {                    Plotly.newPlot(                        \"fef27cf4-fca5-4a1a-9e76-8c9a3aafd0e2\",                        [{\"hovertemplate\":\"variable=Studio<br>Date=%{x}<br>value=%{y}<extra></extra>\",\"legendgroup\":\"Studio\",\"line\":{\"dash\":\"solid\"},\"mode\":\"lines\",\"name\":\"Studio\",\"showlegend\":true,\"type\":\"scattergl\",\"x\":[\"2014-02\",\"2014-03\",\"2014-04\",\"2014-05\",\"2014-06\",\"2014-07\",\"2014-08\",\"2014-09\",\"2014-10\",\"2014-11\",\"2014-12\",\"2015-01\",\"2015-02\",\"2015-03\",\"2015-04\",\"2015-05\",\"2015-06\",\"2015-07\",\"2015-08\",\"2015-09\",\"2015-10\",\"2015-11\",\"2015-12\",\"2016-01\",\"2016-02\",\"2016-03\",\"2016-04\",\"2016-05\",\"2016-06\",\"2016-07\",\"2016-08\",\"2016-09\",\"2016-10\",\"2016-11\",\"2016-12\",\"2017-01\",\"2017-02\",\"2017-03\",\"2017-04\",\"2017-05\",\"2017-06\",\"2017-07\",\"2017-08\",\"2017-09\",\"2017-10\",\"2017-11\",\"2017-12\",\"2018-01\",\"2018-02\",\"2018-03\",\"2018-04\",\"2018-05\",\"2018-06\",\"2018-07\",\"2018-08\",\"2018-09\",\"2018-10\",\"2018-11\",\"2018-12\",\"2019-01\",\"2019-02\",\"2019-03\",\"2019-04\",\"2019-05\",\"2019-06\",\"2019-07\",\"2019-08\",\"2019-09\",\"2019-10\",\"2019-11\"],\"xaxis\":\"x\",\"y\":[3000.0,2995.0,3064.0,3250.0,3295.0,3270.0,3315.5,3350.0,3379.5,3379.0,3419.0,3500.0,3500.0,3495.0,3500.0,3500.0,3600.0,3495.0,3552.5,3507.0,3500.0,3495.0,3402.5,3632.0,3638.0,3600.0,3600.0,3601.0,3518.0,3450.0,3338.0,3300.0,3223.0,3223.5,3100.0,3250.0,3295.0,3295.0,3306.0,3376.0,3400.0,3433.0,3387.0,3312.0,3295.0,3349.0,3303.5,3300.0,3395.0,3400.0,3405.0,3429.5,3475.0,3476.5,3495.0,3495.0,3495.0,3474.0,3426.0,3495.0,3500.0,3500.0,3534.0,3600.0,3641.5,3615.0,3600.0,3650.0,3580.0,3499.0],\"yaxis\":\"y\"},{\"hovertemplate\":\"variable=1 Bedroom<br>Date=%{x}<br>value=%{y}<extra></extra>\",\"legendgroup\":\"1 Bedroom\",\"line\":{\"dash\":\"solid\"},\"mode\":\"lines\",\"name\":\"1 Bedroom\",\"showlegend\":true,\"type\":\"scattergl\",\"x\":[\"2014-02\",\"2014-03\",\"2014-04\",\"2014-05\",\"2014-06\",\"2014-07\",\"2014-08\",\"2014-09\",\"2014-10\",\"2014-11\",\"2014-12\",\"2015-01\",\"2015-02\",\"2015-03\",\"2015-04\",\"2015-05\",\"2015-06\",\"2015-07\",\"2015-08\",\"2015-09\",\"2015-10\",\"2015-11\",\"2015-12\",\"2016-01\",\"2016-02\",\"2016-03\",\"2016-04\",\"2016-05\",\"2016-06\",\"2016-07\",\"2016-08\",\"2016-09\",\"2016-10\",\"2016-11\",\"2016-12\",\"2017-01\",\"2017-02\",\"2017-03\",\"2017-04\",\"2017-05\",\"2017-06\",\"2017-07\",\"2017-08\",\"2017-09\",\"2017-10\",\"2017-11\",\"2017-12\",\"2018-01\",\"2018-02\",\"2018-03\",\"2018-04\",\"2018-05\",\"2018-06\",\"2018-07\",\"2018-08\",\"2018-09\",\"2018-10\",\"2018-11\",\"2018-12\",\"2019-01\",\"2019-02\",\"2019-03\",\"2019-04\",\"2019-05\",\"2019-06\",\"2019-07\",\"2019-08\",\"2019-09\",\"2019-10\",\"2019-11\"],\"xaxis\":\"x\",\"y\":[4100.0,4100.0,4250.0,4339.5,4400.0,4450.0,4550.0,4600.0,4600.0,4550.0,4695.0,4700.0,4705.0,4600.0,4635.0,4700.0,4754.5,4718.0,4947.0,4800.0,4785.0,4698.0,4692.5,4900.0,4900.0,4809.0,4724.0,4709.0,4600.0,4550.0,4500.0,4500.0,4462.5,4355.0,4355.0,4495.0,4495.0,4400.0,4500.0,4500.0,4450.0,4500.0,4500.0,4395.0,4375.0,4450.0,4385.0,4459.0,4495.0,4500.0,4500.0,4500.0,4500.0,4599.5,4650.0,4694.5,4598.0,4500.0,4500.0,4500.0,4500.0,4500.0,4579.5,4656.0,4709.0,4800.0,4750.0,4799.0,4600.0,4535.0],\"yaxis\":\"y\"},{\"hovertemplate\":\"variable=2 Bedrooms<br>Date=%{x}<br>value=%{y}<extra></extra>\",\"legendgroup\":\"2 Bedrooms\",\"line\":{\"dash\":\"solid\"},\"mode\":\"lines\",\"name\":\"2 Bedrooms\",\"showlegend\":true,\"type\":\"scattergl\",\"x\":[\"2014-02\",\"2014-03\",\"2014-04\",\"2014-05\",\"2014-06\",\"2014-07\",\"2014-08\",\"2014-09\",\"2014-10\",\"2014-11\",\"2014-12\",\"2015-01\",\"2015-02\",\"2015-03\",\"2015-04\",\"2015-05\",\"2015-06\",\"2015-07\",\"2015-08\",\"2015-09\",\"2015-10\",\"2015-11\",\"2015-12\",\"2016-01\",\"2016-02\",\"2016-03\",\"2016-04\",\"2016-05\",\"2016-06\",\"2016-07\",\"2016-08\",\"2016-09\",\"2016-10\",\"2016-11\",\"2016-12\",\"2017-01\",\"2017-02\",\"2017-03\",\"2017-04\",\"2017-05\",\"2017-06\",\"2017-07\",\"2017-08\",\"2017-09\",\"2017-10\",\"2017-11\",\"2017-12\",\"2018-01\",\"2018-02\",\"2018-03\",\"2018-04\",\"2018-05\",\"2018-06\",\"2018-07\",\"2018-08\",\"2018-09\",\"2018-10\",\"2018-11\",\"2018-12\",\"2019-01\",\"2019-02\",\"2019-03\",\"2019-04\",\"2019-05\",\"2019-06\",\"2019-07\",\"2019-08\",\"2019-09\",\"2019-10\",\"2019-11\"],\"xaxis\":\"x\",\"y\":[5195.0,5000.0,5172.5,5500.0,4995.0,4950.0,5800.0,5500.0,5800.0,5500.0,5950.0,5995.0,5999.0,5975.0,5722.5,5650.0,5920.0,6147.5,6500.0,6250.0,5900.0,5800.0,5886.0,5995.0,5935.5,5897.0,5687.5,5975.0,5595.0,5675.0,5700.0,5600.0,5400.0,5547.5,5132.0,5000.0,5450.0,5500.0,5395.0,5495.0,5495.0,5500.0,5495.0,5495.0,5495.0,5495.0,5495.0,5495.0,5395.0,5500.0,5500.0,5499.0,5500.0,5500.0,5500.0,5697.5,5495.0,5397.5,5495.0,5400.0,5350.0,5300.0,5350.0,5400.0,5600.0,5788.5,5800.0,5744.5,5585.0,5495.0],\"yaxis\":\"y\"},{\"hovertemplate\":\"variable=3 Bedrooms<br>Date=%{x}<br>value=%{y}<extra></extra>\",\"legendgroup\":\"3 Bedrooms\",\"line\":{\"dash\":\"solid\"},\"mode\":\"lines\",\"name\":\"3 Bedrooms\",\"showlegend\":true,\"type\":\"scattergl\",\"x\":[\"2014-02\",\"2014-03\",\"2014-04\",\"2014-05\",\"2014-06\",\"2014-07\",\"2014-08\",\"2014-09\",\"2014-10\",\"2014-11\",\"2014-12\",\"2015-01\",\"2015-02\",\"2015-03\",\"2015-04\",\"2015-05\",\"2015-06\",\"2015-07\",\"2015-08\",\"2015-09\",\"2015-10\",\"2015-11\",\"2015-12\",\"2016-01\",\"2016-02\",\"2016-03\",\"2016-04\",\"2016-05\",\"2016-06\",\"2016-07\",\"2016-08\",\"2016-09\",\"2016-10\",\"2016-11\",\"2016-12\",\"2017-01\",\"2017-02\",\"2017-03\",\"2017-04\",\"2017-05\",\"2017-06\",\"2017-07\",\"2017-08\",\"2017-09\",\"2017-10\",\"2017-11\",\"2017-12\",\"2018-01\",\"2018-02\",\"2018-03\",\"2018-04\",\"2018-05\",\"2018-06\",\"2018-07\",\"2018-08\",\"2018-09\",\"2018-10\",\"2018-11\",\"2018-12\",\"2019-01\",\"2019-02\",\"2019-03\",\"2019-04\",\"2019-05\",\"2019-06\",\"2019-07\",\"2019-08\",\"2019-09\",\"2019-10\",\"2019-11\"],\"xaxis\":\"x\",\"y\":[null,null,null,null,null,null,null,null,null,null,null,null,null,null,null,null,null,7600.0,7200.0,6995.0,6350.0,6200.0,6500.0,7000.0,6995.0,6499.0,6697.5,6797.5,6972.5,6947.5,6350.0,6700.0,5750.0,6742.5,6200.0,6500.0,6150.0,6200.0,5900.0,6200.0,6500.0,6500.0,6495.0,6397.5,6200.0,5997.5,6472.5,6495.0,6200.0,6200.0,6500.0,6650.0,6800.0,6850.0,6800.0,6795.0,6497.5,6747.5,6495.0,6899.5,7000.0,6595.0,6850.0,6825.0,6872.5,6999.5,6995.0,7195.0,6850.0,6500.0],\"yaxis\":\"y\"},{\"hovertemplate\":\"variable=Effective_Federal_Funds_Rate<br>Date=%{x}<br>value=%{y}<extra></extra>\",\"legendgroup\":\"Effective_Federal_Funds_Rate\",\"line\":{\"dash\":\"solid\"},\"mode\":\"lines\",\"name\":\"Effective_Federal_Funds_Rate\",\"showlegend\":true,\"type\":\"scattergl\",\"x\":[\"2014-02-01\",\"2014-03-01\",\"2014-04-01\",\"2014-05-01\",\"2014-06-01\",\"2014-07-01\",\"2014-08-01\",\"2014-09-01\",\"2014-10-01\",\"2014-11-01\",\"2014-12-01\",\"2015-01-01\",\"2015-02-01\",\"2015-03-01\",\"2015-04-01\",\"2015-05-01\",\"2015-06-01\",\"2015-07-01\",\"2015-08-01\",\"2015-09-01\",\"2015-10-01\",\"2015-11-01\",\"2015-12-01\",\"2016-01-01\",\"2016-02-01\",\"2016-03-01\",\"2016-04-01\",\"2016-05-01\",\"2016-06-01\",\"2016-07-01\",\"2016-08-01\",\"2016-09-01\",\"2016-10-01\",\"2016-11-01\",\"2016-12-01\",\"2017-01-01\",\"2017-02-01\",\"2017-03-01\",\"2017-04-01\",\"2017-05-01\",\"2017-06-01\",\"2017-07-01\",\"2017-08-01\",\"2017-09-01\",\"2017-10-01\",\"2017-11-01\",\"2017-12-01\",\"2018-01-01\",\"2018-02-01\",\"2018-03-01\",\"2018-04-01\",\"2018-05-01\",\"2018-06-01\",\"2018-07-01\",\"2018-08-01\",\"2018-09-01\",\"2018-10-01\",\"2018-11-01\",\"2018-12-01\",\"2019-01-01\",\"2019-02-01\",\"2019-03-01\",\"2019-04-01\",\"2019-05-01\",\"2019-06-01\",\"2019-07-01\",\"2019-08-01\",\"2019-09-01\",\"2019-10-01\",\"2019-11-01\",\"2019-12-01\",\"2020-01-01\",\"2020-02-01\",\"2020-03-01\",\"2020-04-01\",\"2020-05-01\",\"2020-06-01\",\"2020-07-01\",\"2020-08-01\",\"2020-09-01\",\"2020-10-01\",\"2020-11-01\",\"2020-12-01\"],\"xaxis\":\"x\",\"y\":[0.07,0.08,0.09,0.09,0.1,0.09,0.09,0.09,0.09,0.09,0.12,0.11,0.11,0.11,0.12,0.12,0.13,0.13,0.14,0.14,0.12,0.12,0.24,0.34,0.38,0.36,0.37,0.37,0.38,0.39,0.4,0.4,0.4,0.41,0.54,0.65,0.66,0.79,0.9,0.91,1.04,1.15,1.16,1.15,1.15,1.16,1.3,1.41,1.42,1.51,1.67,1.7,1.82,1.91,1.91,1.95,2.19,2.2,2.27,2.4,2.4,2.41,2.42,2.39,2.38,2.4,2.13,2.04,1.83,1.55,1.55,1.55,1.58,0.65,0.05,0.05,0.08,0.09,0.1,0.09,0.09,0.09,0.09],\"yaxis\":\"y2\"}],                        {\"template\":{\"data\":{\"bar\":[{\"error_x\":{\"color\":\"#2a3f5f\"},\"error_y\":{\"color\":\"#2a3f5f\"},\"marker\":{\"line\":{\"color\":\"#E5ECF6\",\"width\":0.5},\"pattern\":{\"fillmode\":\"overlay\",\"size\":10,\"solidity\":0.2}},\"type\":\"bar\"}],\"barpolar\":[{\"marker\":{\"line\":{\"color\":\"#E5ECF6\",\"width\":0.5},\"pattern\":{\"fillmode\":\"overlay\",\"size\":10,\"solidity\":0.2}},\"type\":\"barpolar\"}],\"carpet\":[{\"aaxis\":{\"endlinecolor\":\"#2a3f5f\",\"gridcolor\":\"white\",\"linecolor\":\"white\",\"minorgridcolor\":\"white\",\"startlinecolor\":\"#2a3f5f\"},\"baxis\":{\"endlinecolor\":\"#2a3f5f\",\"gridcolor\":\"white\",\"linecolor\":\"white\",\"minorgridcolor\":\"white\",\"startlinecolor\":\"#2a3f5f\"},\"type\":\"carpet\"}],\"choropleth\":[{\"colorbar\":{\"outlinewidth\":0,\"ticks\":\"\"},\"type\":\"choropleth\"}],\"contour\":[{\"colorbar\":{\"outlinewidth\":0,\"ticks\":\"\"},\"colorscale\":[[0.0,\"#0d0887\"],[0.1111111111111111,\"#46039f\"],[0.2222222222222222,\"#7201a8\"],[0.3333333333333333,\"#9c179e\"],[0.4444444444444444,\"#bd3786\"],[0.5555555555555556,\"#d8576b\"],[0.6666666666666666,\"#ed7953\"],[0.7777777777777778,\"#fb9f3a\"],[0.8888888888888888,\"#fdca26\"],[1.0,\"#f0f921\"]],\"type\":\"contour\"}],\"contourcarpet\":[{\"colorbar\":{\"outlinewidth\":0,\"ticks\":\"\"},\"type\":\"contourcarpet\"}],\"heatmap\":[{\"colorbar\":{\"outlinewidth\":0,\"ticks\":\"\"},\"colorscale\":[[0.0,\"#0d0887\"],[0.1111111111111111,\"#46039f\"],[0.2222222222222222,\"#7201a8\"],[0.3333333333333333,\"#9c179e\"],[0.4444444444444444,\"#bd3786\"],[0.5555555555555556,\"#d8576b\"],[0.6666666666666666,\"#ed7953\"],[0.7777777777777778,\"#fb9f3a\"],[0.8888888888888888,\"#fdca26\"],[1.0,\"#f0f921\"]],\"type\":\"heatmap\"}],\"heatmapgl\":[{\"colorbar\":{\"outlinewidth\":0,\"ticks\":\"\"},\"colorscale\":[[0.0,\"#0d0887\"],[0.1111111111111111,\"#46039f\"],[0.2222222222222222,\"#7201a8\"],[0.3333333333333333,\"#9c179e\"],[0.4444444444444444,\"#bd3786\"],[0.5555555555555556,\"#d8576b\"],[0.6666666666666666,\"#ed7953\"],[0.7777777777777778,\"#fb9f3a\"],[0.8888888888888888,\"#fdca26\"],[1.0,\"#f0f921\"]],\"type\":\"heatmapgl\"}],\"histogram\":[{\"marker\":{\"pattern\":{\"fillmode\":\"overlay\",\"size\":10,\"solidity\":0.2}},\"type\":\"histogram\"}],\"histogram2d\":[{\"colorbar\":{\"outlinewidth\":0,\"ticks\":\"\"},\"colorscale\":[[0.0,\"#0d0887\"],[0.1111111111111111,\"#46039f\"],[0.2222222222222222,\"#7201a8\"],[0.3333333333333333,\"#9c179e\"],[0.4444444444444444,\"#bd3786\"],[0.5555555555555556,\"#d8576b\"],[0.6666666666666666,\"#ed7953\"],[0.7777777777777778,\"#fb9f3a\"],[0.8888888888888888,\"#fdca26\"],[1.0,\"#f0f921\"]],\"type\":\"histogram2d\"}],\"histogram2dcontour\":[{\"colorbar\":{\"outlinewidth\":0,\"ticks\":\"\"},\"colorscale\":[[0.0,\"#0d0887\"],[0.1111111111111111,\"#46039f\"],[0.2222222222222222,\"#7201a8\"],[0.3333333333333333,\"#9c179e\"],[0.4444444444444444,\"#bd3786\"],[0.5555555555555556,\"#d8576b\"],[0.6666666666666666,\"#ed7953\"],[0.7777777777777778,\"#fb9f3a\"],[0.8888888888888888,\"#fdca26\"],[1.0,\"#f0f921\"]],\"type\":\"histogram2dcontour\"}],\"mesh3d\":[{\"colorbar\":{\"outlinewidth\":0,\"ticks\":\"\"},\"type\":\"mesh3d\"}],\"parcoords\":[{\"line\":{\"colorbar\":{\"outlinewidth\":0,\"ticks\":\"\"}},\"type\":\"parcoords\"}],\"pie\":[{\"automargin\":true,\"type\":\"pie\"}],\"scatter\":[{\"marker\":{\"colorbar\":{\"outlinewidth\":0,\"ticks\":\"\"}},\"type\":\"scatter\"}],\"scatter3d\":[{\"line\":{\"colorbar\":{\"outlinewidth\":0,\"ticks\":\"\"}},\"marker\":{\"colorbar\":{\"outlinewidth\":0,\"ticks\":\"\"}},\"type\":\"scatter3d\"}],\"scattercarpet\":[{\"marker\":{\"colorbar\":{\"outlinewidth\":0,\"ticks\":\"\"}},\"type\":\"scattercarpet\"}],\"scattergeo\":[{\"marker\":{\"colorbar\":{\"outlinewidth\":0,\"ticks\":\"\"}},\"type\":\"scattergeo\"}],\"scattergl\":[{\"marker\":{\"colorbar\":{\"outlinewidth\":0,\"ticks\":\"\"}},\"type\":\"scattergl\"}],\"scattermapbox\":[{\"marker\":{\"colorbar\":{\"outlinewidth\":0,\"ticks\":\"\"}},\"type\":\"scattermapbox\"}],\"scatterpolar\":[{\"marker\":{\"colorbar\":{\"outlinewidth\":0,\"ticks\":\"\"}},\"type\":\"scatterpolar\"}],\"scatterpolargl\":[{\"marker\":{\"colorbar\":{\"outlinewidth\":0,\"ticks\":\"\"}},\"type\":\"scatterpolargl\"}],\"scatterternary\":[{\"marker\":{\"colorbar\":{\"outlinewidth\":0,\"ticks\":\"\"}},\"type\":\"scatterternary\"}],\"surface\":[{\"colorbar\":{\"outlinewidth\":0,\"ticks\":\"\"},\"colorscale\":[[0.0,\"#0d0887\"],[0.1111111111111111,\"#46039f\"],[0.2222222222222222,\"#7201a8\"],[0.3333333333333333,\"#9c179e\"],[0.4444444444444444,\"#bd3786\"],[0.5555555555555556,\"#d8576b\"],[0.6666666666666666,\"#ed7953\"],[0.7777777777777778,\"#fb9f3a\"],[0.8888888888888888,\"#fdca26\"],[1.0,\"#f0f921\"]],\"type\":\"surface\"}],\"table\":[{\"cells\":{\"fill\":{\"color\":\"#EBF0F8\"},\"line\":{\"color\":\"white\"}},\"header\":{\"fill\":{\"color\":\"#C8D4E3\"},\"line\":{\"color\":\"white\"}},\"type\":\"table\"}]},\"layout\":{\"annotationdefaults\":{\"arrowcolor\":\"#2a3f5f\",\"arrowhead\":0,\"arrowwidth\":1},\"autotypenumbers\":\"strict\",\"coloraxis\":{\"colorbar\":{\"outlinewidth\":0,\"ticks\":\"\"}},\"colorscale\":{\"diverging\":[[0,\"#8e0152\"],[0.1,\"#c51b7d\"],[0.2,\"#de77ae\"],[0.3,\"#f1b6da\"],[0.4,\"#fde0ef\"],[0.5,\"#f7f7f7\"],[0.6,\"#e6f5d0\"],[0.7,\"#b8e186\"],[0.8,\"#7fbc41\"],[0.9,\"#4d9221\"],[1,\"#276419\"]],\"sequential\":[[0.0,\"#0d0887\"],[0.1111111111111111,\"#46039f\"],[0.2222222222222222,\"#7201a8\"],[0.3333333333333333,\"#9c179e\"],[0.4444444444444444,\"#bd3786\"],[0.5555555555555556,\"#d8576b\"],[0.6666666666666666,\"#ed7953\"],[0.7777777777777778,\"#fb9f3a\"],[0.8888888888888888,\"#fdca26\"],[1.0,\"#f0f921\"]],\"sequentialminus\":[[0.0,\"#0d0887\"],[0.1111111111111111,\"#46039f\"],[0.2222222222222222,\"#7201a8\"],[0.3333333333333333,\"#9c179e\"],[0.4444444444444444,\"#bd3786\"],[0.5555555555555556,\"#d8576b\"],[0.6666666666666666,\"#ed7953\"],[0.7777777777777778,\"#fb9f3a\"],[0.8888888888888888,\"#fdca26\"],[1.0,\"#f0f921\"]]},\"colorway\":[\"#636efa\",\"#EF553B\",\"#00cc96\",\"#ab63fa\",\"#FFA15A\",\"#19d3f3\",\"#FF6692\",\"#B6E880\",\"#FF97FF\",\"#FECB52\"],\"font\":{\"color\":\"#2a3f5f\"},\"geo\":{\"bgcolor\":\"white\",\"lakecolor\":\"white\",\"landcolor\":\"#E5ECF6\",\"showlakes\":true,\"showland\":true,\"subunitcolor\":\"white\"},\"hoverlabel\":{\"align\":\"left\"},\"hovermode\":\"closest\",\"mapbox\":{\"style\":\"light\"},\"paper_bgcolor\":\"white\",\"plot_bgcolor\":\"#E5ECF6\",\"polar\":{\"angularaxis\":{\"gridcolor\":\"white\",\"linecolor\":\"white\",\"ticks\":\"\"},\"bgcolor\":\"#E5ECF6\",\"radialaxis\":{\"gridcolor\":\"white\",\"linecolor\":\"white\",\"ticks\":\"\"}},\"scene\":{\"xaxis\":{\"backgroundcolor\":\"#E5ECF6\",\"gridcolor\":\"white\",\"gridwidth\":2,\"linecolor\":\"white\",\"showbackground\":true,\"ticks\":\"\",\"zerolinecolor\":\"white\"},\"yaxis\":{\"backgroundcolor\":\"#E5ECF6\",\"gridcolor\":\"white\",\"gridwidth\":2,\"linecolor\":\"white\",\"showbackground\":true,\"ticks\":\"\",\"zerolinecolor\":\"white\"},\"zaxis\":{\"backgroundcolor\":\"#E5ECF6\",\"gridcolor\":\"white\",\"gridwidth\":2,\"linecolor\":\"white\",\"showbackground\":true,\"ticks\":\"\",\"zerolinecolor\":\"white\"}},\"shapedefaults\":{\"line\":{\"color\":\"#2a3f5f\"}},\"ternary\":{\"aaxis\":{\"gridcolor\":\"white\",\"linecolor\":\"white\",\"ticks\":\"\"},\"baxis\":{\"gridcolor\":\"white\",\"linecolor\":\"white\",\"ticks\":\"\"},\"bgcolor\":\"#E5ECF6\",\"caxis\":{\"gridcolor\":\"white\",\"linecolor\":\"white\",\"ticks\":\"\"}},\"title\":{\"x\":0.05},\"xaxis\":{\"automargin\":true,\"gridcolor\":\"white\",\"linecolor\":\"white\",\"ticks\":\"\",\"title\":{\"standoff\":15},\"zerolinecolor\":\"white\",\"zerolinewidth\":2},\"yaxis\":{\"automargin\":true,\"gridcolor\":\"white\",\"linecolor\":\"white\",\"ticks\":\"\",\"title\":{\"standoff\":15},\"zerolinecolor\":\"white\",\"zerolinewidth\":2}}},\"title\":{\"text\":\"Interest rate and median rent in San Francisco, CA, from 2014-02 to 2019-12\"},\"xaxis\":{\"anchor\":\"y\",\"domain\":[0.0,0.94],\"range\":[\"2014-02-01\",\"2019-12-31\"],\"title\":{\"text\":\"Date\"}},\"yaxis\":{\"anchor\":\"x\",\"domain\":[0.0,1.0],\"title\":{\"text\":\"Median Rent ($ USD)\"}},\"yaxis2\":{\"anchor\":\"x\",\"overlaying\":\"y\",\"side\":\"right\",\"title\":{\"text\":\"Federal Interest Rate (%)\"}}},                        {\"responsive\": true}                    ).then(function(){\n",
       "                            \n",
       "var gd = document.getElementById('fef27cf4-fca5-4a1a-9e76-8c9a3aafd0e2');\n",
       "var x = new MutationObserver(function (mutations, observer) {{\n",
       "        var display = window.getComputedStyle(gd).display;\n",
       "        if (!display || display === 'none') {{\n",
       "            console.log([gd, 'removed!']);\n",
       "            Plotly.purge(gd);\n",
       "            observer.disconnect();\n",
       "        }}\n",
       "}});\n",
       "\n",
       "// Listen for the removal of the full notebook cells\n",
       "var notebookContainer = gd.closest('#notebook-container');\n",
       "if (notebookContainer) {{\n",
       "    x.observe(notebookContainer, {childList: true});\n",
       "}}\n",
       "\n",
       "// Listen for the clearing of the current output cell\n",
       "var outputEl = gd.closest('.output');\n",
       "if (outputEl) {{\n",
       "    x.observe(outputEl, {childList: true});\n",
       "}}\n",
       "\n",
       "                        })                };                });            </script>        </div>"
      ]
     },
     "metadata": {},
     "output_type": "display_data"
    },
    {
     "data": {
      "text/plain": [
       "'https://plotly.com/~edtsoi430/13/'"
      ]
     },
     "execution_count": 325,
     "metadata": {},
     "output_type": "execute_result"
    }
   ],
   "source": [
    "df_rate = pd.read_csv('dataset/interest_rate_cleaned.csv')\n",
    "rent_data_with_rates = plotly_double_y_axes(sanfrancisco_df, df_rate, 'Studio','1 Bedroom','2 Bedrooms','3 Bedrooms',\n",
    "                                       'Interest rate and median rent in San Francisco, CA, from 2014-02 to 2019-12','2014-02-01','2019-12-31')\n",
    "rent_data_with_rates\n",
    "# Upload graph to plotly website.\n",
    "py.plot(rent_data_with_rates, filename=\"Interest rate and median rent in San Francisco, CA, from 2014-02 to 2019-12\", auto_open=False)"
   ]
  },
  {
   "cell_type": "markdown",
   "metadata": {},
   "source": [
    "## 2. Unemployment rate and rent in San Francisco"
   ]
  },
  {
   "cell_type": "code",
   "execution_count": 336,
   "metadata": {},
   "outputs": [],
   "source": [
    "# Combine year month into \"Date\"\n",
    "cols = [\"Year\", \"Month\", \"Day\"]\n",
    "df_rate = pd.read_csv('dataset/interest_rate.csv')\n",
    "df_rate['Date'] = df_rate[cols].apply(lambda x: '-'.join(x.values.astype(str)), axis=\"columns\")\n",
    "# Convert \"date\" into date type.\n",
    "df_rate[\"Date\"] = pd.to_datetime(df_rate[\"Date\"]).dt.date\n",
    "mask = (df_rate['Date'] >= datetime.date(2010, 1, 1)) & (df_rate['Date'] <= datetime.date(2019, 12, 31)) & (df_rate['Day'] == 1)\n",
    "df_rate = df_rate.loc[mask]\n",
    "# df_rate.to_excel(\"test.xlsx\")"
   ]
  },
  {
   "cell_type": "code",
   "execution_count": 92,
   "metadata": {},
   "outputs": [
    {
     "data": {
      "text/html": [
       "<div>\n",
       "<style scoped>\n",
       "    .dataframe tbody tr th:only-of-type {\n",
       "        vertical-align: middle;\n",
       "    }\n",
       "\n",
       "    .dataframe tbody tr th {\n",
       "        vertical-align: top;\n",
       "    }\n",
       "\n",
       "    .dataframe thead th {\n",
       "        text-align: right;\n",
       "    }\n",
       "</style>\n",
       "<table border=\"1\" class=\"dataframe\">\n",
       "  <thead>\n",
       "    <tr style=\"text-align: right;\">\n",
       "      <th></th>\n",
       "      <th>Sale_Prices_City</th>\n",
       "      <th>Studio</th>\n",
       "      <th>1 Bedroom</th>\n",
       "      <th>2 Bedrooms</th>\n",
       "      <th>3 Bedrooms</th>\n",
       "      <th>Date</th>\n",
       "    </tr>\n",
       "  </thead>\n",
       "  <tbody>\n",
       "    <tr>\n",
       "      <th>2014-02</th>\n",
       "      <td>1467.0</td>\n",
       "      <td>1549.0</td>\n",
       "      <td>1681.0</td>\n",
       "      <td>1700.0</td>\n",
       "      <td>NaN</td>\n",
       "      <td>2014-02</td>\n",
       "    </tr>\n",
       "    <tr>\n",
       "      <th>2014-03</th>\n",
       "      <td>1450.0</td>\n",
       "      <td>1510.0</td>\n",
       "      <td>1695.0</td>\n",
       "      <td>1749.0</td>\n",
       "      <td>NaN</td>\n",
       "      <td>2014-03</td>\n",
       "    </tr>\n",
       "    <tr>\n",
       "      <th>2014-04</th>\n",
       "      <td>1450.0</td>\n",
       "      <td>1498.0</td>\n",
       "      <td>1681.0</td>\n",
       "      <td>1825.0</td>\n",
       "      <td>NaN</td>\n",
       "      <td>2014-04</td>\n",
       "    </tr>\n",
       "    <tr>\n",
       "      <th>2014-05</th>\n",
       "      <td>1495.0</td>\n",
       "      <td>1495.0</td>\n",
       "      <td>1710.0</td>\n",
       "      <td>1999.0</td>\n",
       "      <td>NaN</td>\n",
       "      <td>2014-05</td>\n",
       "    </tr>\n",
       "    <tr>\n",
       "      <th>2014-06</th>\n",
       "      <td>1532.0</td>\n",
       "      <td>1544.0</td>\n",
       "      <td>1780.0</td>\n",
       "      <td>2100.0</td>\n",
       "      <td>NaN</td>\n",
       "      <td>2014-06</td>\n",
       "    </tr>\n",
       "    <tr>\n",
       "      <th>...</th>\n",
       "      <td>...</td>\n",
       "      <td>...</td>\n",
       "      <td>...</td>\n",
       "      <td>...</td>\n",
       "      <td>...</td>\n",
       "      <td>...</td>\n",
       "    </tr>\n",
       "    <tr>\n",
       "      <th>2019-07</th>\n",
       "      <td>1410.0</td>\n",
       "      <td>1600.0</td>\n",
       "      <td>1850.0</td>\n",
       "      <td>2225.0</td>\n",
       "      <td>3000.0</td>\n",
       "      <td>2019-07</td>\n",
       "    </tr>\n",
       "    <tr>\n",
       "      <th>2019-08</th>\n",
       "      <td>1430.0</td>\n",
       "      <td>1582.0</td>\n",
       "      <td>1825.0</td>\n",
       "      <td>2100.0</td>\n",
       "      <td>2800.0</td>\n",
       "      <td>2019-08</td>\n",
       "    </tr>\n",
       "    <tr>\n",
       "      <th>2019-09</th>\n",
       "      <td>1458.0</td>\n",
       "      <td>1595.0</td>\n",
       "      <td>1825.0</td>\n",
       "      <td>2000.0</td>\n",
       "      <td>2600.0</td>\n",
       "      <td>2019-09</td>\n",
       "    </tr>\n",
       "    <tr>\n",
       "      <th>2019-10</th>\n",
       "      <td>1405.0</td>\n",
       "      <td>1542.0</td>\n",
       "      <td>1750.0</td>\n",
       "      <td>1950.0</td>\n",
       "      <td>2400.0</td>\n",
       "      <td>2019-10</td>\n",
       "    </tr>\n",
       "    <tr>\n",
       "      <th>2019-11</th>\n",
       "      <td>1450.0</td>\n",
       "      <td>1550.0</td>\n",
       "      <td>1730.0</td>\n",
       "      <td>1895.0</td>\n",
       "      <td>2395.0</td>\n",
       "      <td>2019-11</td>\n",
       "    </tr>\n",
       "  </tbody>\n",
       "</table>\n",
       "<p>70 rows × 6 columns</p>\n",
       "</div>"
      ],
      "text/plain": [
       "        Sale_Prices_City  Studio 1 Bedroom 2 Bedrooms 3 Bedrooms     Date\n",
       "2014-02           1467.0  1549.0    1681.0     1700.0        NaN  2014-02\n",
       "2014-03           1450.0  1510.0    1695.0     1749.0        NaN  2014-03\n",
       "2014-04           1450.0  1498.0    1681.0     1825.0        NaN  2014-04\n",
       "2014-05           1495.0  1495.0    1710.0     1999.0        NaN  2014-05\n",
       "2014-06           1532.0  1544.0    1780.0     2100.0        NaN  2014-06\n",
       "...                  ...     ...       ...        ...        ...      ...\n",
       "2019-07           1410.0  1600.0    1850.0     2225.0     3000.0  2019-07\n",
       "2019-08           1430.0  1582.0    1825.0     2100.0     2800.0  2019-08\n",
       "2019-09           1458.0  1595.0    1825.0     2000.0     2600.0  2019-09\n",
       "2019-10           1405.0  1542.0    1750.0     1950.0     2400.0  2019-10\n",
       "2019-11           1450.0  1550.0    1730.0     1895.0     2395.0  2019-11\n",
       "\n",
       "[70 rows x 6 columns]"
      ]
     },
     "execution_count": 92,
     "metadata": {},
     "output_type": "execute_result"
    }
   ],
   "source": [
    "# sanfrancisco_df = load_zillow_data(state='CA',county='San Francisco County',\n",
    "#                               region='San Francisco',city='San Francisco-Oakland-Hayward')\n",
    "queens_df = load_zillow_data(state=\"NY\", county=\"Queens County\")\n",
    "\n",
    "dallas_df = load_zillow_data(state='TX', county=\"Dallas County\", region='Dallas')\n",
    "\n",
    "tucson_df = load_zillow_data(state='AZ', region='Tucson')\n",
    "\n",
    "columbus_df = load_zillow_data(state='OH', region='Columbus')\n",
    "\n",
    "seattle_df = load_zillow_data(state='WA', region='Seattle')\n",
    "\n",
    "chicago_df = load_zillow_data(state='IL', region='Chicago')\n",
    "\n",
    "chicago_df"
   ]
  },
  {
   "cell_type": "code",
   "execution_count": 93,
   "metadata": {},
   "outputs": [],
   "source": [
    "queens_rent = queens_df[\"Studio\"].tolist()\n",
    "dallas_rent = dallas_df[\"Studio\"].tolist()\n",
    "tucson_rent = tucson_df[\"Studio\"].tolist()\n",
    "columbus_rent = columbus_df[\"Studio\"].tolist()\n",
    "seattle_rent = seattle_df[\"Studio\"].tolist()\n",
    "chicago_rent = chicago_df[\"Studio\"].tolist()"
   ]
  },
  {
   "cell_type": "code",
   "execution_count": 104,
   "metadata": {},
   "outputs": [
    {
     "data": {
      "application/vnd.plotly.v1+json": {
       "config": {
        "plotlyServerURL": "https://plotly.com"
       },
       "data": [
        {
         "mode": "markers",
         "name": "Interest rate vs Median rent",
         "type": "scatter",
         "x": [
          0.07,
          0.08,
          0.09,
          0.09,
          0.1,
          0.09,
          0.09,
          0.09,
          0.09,
          0.09,
          0.12,
          0.11,
          0.11,
          0.11,
          0.12,
          0.12,
          0.13,
          0.13,
          0.14,
          0.14,
          0.12,
          0.12,
          0.24,
          0.34,
          0.38,
          0.36,
          0.37,
          0.37,
          0.38,
          0.39,
          0.4,
          0.4,
          0.4,
          0.41,
          0.54,
          0.65,
          0.66,
          0.79,
          0.9,
          0.91,
          1.04,
          1.15,
          1.16,
          1.15,
          1.15,
          1.16,
          1.3,
          1.41,
          1.42,
          1.51,
          1.67,
          1.7,
          1.82,
          1.91,
          1.91,
          1.95,
          2.19,
          2.2,
          2.27,
          2.4,
          2.4,
          2.41,
          2.42,
          2.39,
          2.38,
          2.4,
          2.13,
          2.04,
          1.83,
          1.55
         ],
         "y": [
          2600,
          2600,
          2600,
          2650,
          2640,
          2300,
          2250,
          2295,
          2250,
          2275,
          2200,
          2200,
          2250,
          2295,
          2350,
          2375,
          2300,
          2250,
          2300,
          2300,
          2250,
          2200,
          2200,
          2200,
          2200,
          2200,
          2295,
          2300,
          2350,
          2350,
          2349,
          2400,
          2495,
          2400,
          2200,
          2250,
          2300,
          2300,
          2350,
          2375,
          2395,
          2395,
          2400,
          2400,
          2350,
          2300,
          2300,
          2300,
          2300,
          2300,
          2399,
          2400,
          2400,
          2400,
          2400,
          2400,
          2325,
          2300,
          2295,
          2300,
          2300,
          2350,
          2400,
          2400,
          2450,
          2450,
          2475,
          2475,
          2400,
          2400
         ]
        },
        {
         "mode": "lines",
         "name": "line of best fit",
         "type": "scatter",
         "x": [
          0.07,
          0.08,
          0.09,
          0.09,
          0.1,
          0.09,
          0.09,
          0.09,
          0.09,
          0.09,
          0.12,
          0.11,
          0.11,
          0.11,
          0.12,
          0.12,
          0.13,
          0.13,
          0.14,
          0.14,
          0.12,
          0.12,
          0.24,
          0.34,
          0.38,
          0.36,
          0.37,
          0.37,
          0.38,
          0.39,
          0.4,
          0.4,
          0.4,
          0.41,
          0.54,
          0.65,
          0.66,
          0.79,
          0.9,
          0.91,
          1.04,
          1.15,
          1.16,
          1.15,
          1.15,
          1.16,
          1.3,
          1.41,
          1.42,
          1.51,
          1.67,
          1.7,
          1.82,
          1.91,
          1.91,
          1.95,
          2.19,
          2.2,
          2.27,
          2.4,
          2.4,
          2.41,
          2.42,
          2.39,
          2.38,
          2.4,
          2.13,
          2.04,
          1.83,
          1.55
         ],
         "y": [
          2330.485204005589,
          2330.694064393938,
          2330.902924782287,
          2330.902924782287,
          2331.1117851706363,
          2330.902924782287,
          2330.902924782287,
          2330.902924782287,
          2330.902924782287,
          2330.902924782287,
          2331.529505947334,
          2331.3206455589852,
          2331.3206455589852,
          2331.3206455589852,
          2331.529505947334,
          2331.529505947334,
          2331.738366335683,
          2331.738366335683,
          2331.947226724032,
          2331.947226724032,
          2331.529505947334,
          2331.529505947334,
          2334.0358306075227,
          2336.124434491013,
          2336.959876044409,
          2336.542155267711,
          2336.75101565606,
          2336.75101565606,
          2336.959876044409,
          2337.168736432758,
          2337.377596821107,
          2337.377596821107,
          2337.377596821107,
          2337.5864572094565,
          2340.301642257994,
          2342.599106529833,
          2342.8079669181825,
          2345.52315196672,
          2347.8206162385595,
          2348.0294766269085,
          2350.744661675446,
          2353.0421259472855,
          2353.2509863356345,
          2353.0421259472855,
          2353.0421259472855,
          2353.2509863356345,
          2356.175031772521,
          2358.4724960443605,
          2358.6813564327094,
          2360.5610999278506,
          2363.9028661414354,
          2364.5294473064823,
          2367.035771966671,
          2368.9155154618124,
          2368.9155154618124,
          2369.7509570152083,
          2374.7636063355853,
          2374.9724667239343,
          2376.434489442378,
          2379.1496744909155,
          2379.1496744909155,
          2379.3585348792644,
          2379.5673952676134,
          2378.9408141025665,
          2378.731953714217,
          2379.1496744909155,
          2373.510444005491,
          2371.63070051035,
          2367.2446323550203,
          2361.396541481247
         ]
        }
       ],
       "layout": {
        "template": {
         "data": {
          "bar": [
           {
            "error_x": {
             "color": "#2a3f5f"
            },
            "error_y": {
             "color": "#2a3f5f"
            },
            "marker": {
             "line": {
              "color": "#E5ECF6",
              "width": 0.5
             },
             "pattern": {
              "fillmode": "overlay",
              "size": 10,
              "solidity": 0.2
             }
            },
            "type": "bar"
           }
          ],
          "barpolar": [
           {
            "marker": {
             "line": {
              "color": "#E5ECF6",
              "width": 0.5
             },
             "pattern": {
              "fillmode": "overlay",
              "size": 10,
              "solidity": 0.2
             }
            },
            "type": "barpolar"
           }
          ],
          "carpet": [
           {
            "aaxis": {
             "endlinecolor": "#2a3f5f",
             "gridcolor": "white",
             "linecolor": "white",
             "minorgridcolor": "white",
             "startlinecolor": "#2a3f5f"
            },
            "baxis": {
             "endlinecolor": "#2a3f5f",
             "gridcolor": "white",
             "linecolor": "white",
             "minorgridcolor": "white",
             "startlinecolor": "#2a3f5f"
            },
            "type": "carpet"
           }
          ],
          "choropleth": [
           {
            "colorbar": {
             "outlinewidth": 0,
             "ticks": ""
            },
            "type": "choropleth"
           }
          ],
          "contour": [
           {
            "colorbar": {
             "outlinewidth": 0,
             "ticks": ""
            },
            "colorscale": [
             [
              0,
              "#0d0887"
             ],
             [
              0.1111111111111111,
              "#46039f"
             ],
             [
              0.2222222222222222,
              "#7201a8"
             ],
             [
              0.3333333333333333,
              "#9c179e"
             ],
             [
              0.4444444444444444,
              "#bd3786"
             ],
             [
              0.5555555555555556,
              "#d8576b"
             ],
             [
              0.6666666666666666,
              "#ed7953"
             ],
             [
              0.7777777777777778,
              "#fb9f3a"
             ],
             [
              0.8888888888888888,
              "#fdca26"
             ],
             [
              1,
              "#f0f921"
             ]
            ],
            "type": "contour"
           }
          ],
          "contourcarpet": [
           {
            "colorbar": {
             "outlinewidth": 0,
             "ticks": ""
            },
            "type": "contourcarpet"
           }
          ],
          "heatmap": [
           {
            "colorbar": {
             "outlinewidth": 0,
             "ticks": ""
            },
            "colorscale": [
             [
              0,
              "#0d0887"
             ],
             [
              0.1111111111111111,
              "#46039f"
             ],
             [
              0.2222222222222222,
              "#7201a8"
             ],
             [
              0.3333333333333333,
              "#9c179e"
             ],
             [
              0.4444444444444444,
              "#bd3786"
             ],
             [
              0.5555555555555556,
              "#d8576b"
             ],
             [
              0.6666666666666666,
              "#ed7953"
             ],
             [
              0.7777777777777778,
              "#fb9f3a"
             ],
             [
              0.8888888888888888,
              "#fdca26"
             ],
             [
              1,
              "#f0f921"
             ]
            ],
            "type": "heatmap"
           }
          ],
          "heatmapgl": [
           {
            "colorbar": {
             "outlinewidth": 0,
             "ticks": ""
            },
            "colorscale": [
             [
              0,
              "#0d0887"
             ],
             [
              0.1111111111111111,
              "#46039f"
             ],
             [
              0.2222222222222222,
              "#7201a8"
             ],
             [
              0.3333333333333333,
              "#9c179e"
             ],
             [
              0.4444444444444444,
              "#bd3786"
             ],
             [
              0.5555555555555556,
              "#d8576b"
             ],
             [
              0.6666666666666666,
              "#ed7953"
             ],
             [
              0.7777777777777778,
              "#fb9f3a"
             ],
             [
              0.8888888888888888,
              "#fdca26"
             ],
             [
              1,
              "#f0f921"
             ]
            ],
            "type": "heatmapgl"
           }
          ],
          "histogram": [
           {
            "marker": {
             "pattern": {
              "fillmode": "overlay",
              "size": 10,
              "solidity": 0.2
             }
            },
            "type": "histogram"
           }
          ],
          "histogram2d": [
           {
            "colorbar": {
             "outlinewidth": 0,
             "ticks": ""
            },
            "colorscale": [
             [
              0,
              "#0d0887"
             ],
             [
              0.1111111111111111,
              "#46039f"
             ],
             [
              0.2222222222222222,
              "#7201a8"
             ],
             [
              0.3333333333333333,
              "#9c179e"
             ],
             [
              0.4444444444444444,
              "#bd3786"
             ],
             [
              0.5555555555555556,
              "#d8576b"
             ],
             [
              0.6666666666666666,
              "#ed7953"
             ],
             [
              0.7777777777777778,
              "#fb9f3a"
             ],
             [
              0.8888888888888888,
              "#fdca26"
             ],
             [
              1,
              "#f0f921"
             ]
            ],
            "type": "histogram2d"
           }
          ],
          "histogram2dcontour": [
           {
            "colorbar": {
             "outlinewidth": 0,
             "ticks": ""
            },
            "colorscale": [
             [
              0,
              "#0d0887"
             ],
             [
              0.1111111111111111,
              "#46039f"
             ],
             [
              0.2222222222222222,
              "#7201a8"
             ],
             [
              0.3333333333333333,
              "#9c179e"
             ],
             [
              0.4444444444444444,
              "#bd3786"
             ],
             [
              0.5555555555555556,
              "#d8576b"
             ],
             [
              0.6666666666666666,
              "#ed7953"
             ],
             [
              0.7777777777777778,
              "#fb9f3a"
             ],
             [
              0.8888888888888888,
              "#fdca26"
             ],
             [
              1,
              "#f0f921"
             ]
            ],
            "type": "histogram2dcontour"
           }
          ],
          "mesh3d": [
           {
            "colorbar": {
             "outlinewidth": 0,
             "ticks": ""
            },
            "type": "mesh3d"
           }
          ],
          "parcoords": [
           {
            "line": {
             "colorbar": {
              "outlinewidth": 0,
              "ticks": ""
             }
            },
            "type": "parcoords"
           }
          ],
          "pie": [
           {
            "automargin": true,
            "type": "pie"
           }
          ],
          "scatter": [
           {
            "marker": {
             "colorbar": {
              "outlinewidth": 0,
              "ticks": ""
             }
            },
            "type": "scatter"
           }
          ],
          "scatter3d": [
           {
            "line": {
             "colorbar": {
              "outlinewidth": 0,
              "ticks": ""
             }
            },
            "marker": {
             "colorbar": {
              "outlinewidth": 0,
              "ticks": ""
             }
            },
            "type": "scatter3d"
           }
          ],
          "scattercarpet": [
           {
            "marker": {
             "colorbar": {
              "outlinewidth": 0,
              "ticks": ""
             }
            },
            "type": "scattercarpet"
           }
          ],
          "scattergeo": [
           {
            "marker": {
             "colorbar": {
              "outlinewidth": 0,
              "ticks": ""
             }
            },
            "type": "scattergeo"
           }
          ],
          "scattergl": [
           {
            "marker": {
             "colorbar": {
              "outlinewidth": 0,
              "ticks": ""
             }
            },
            "type": "scattergl"
           }
          ],
          "scattermapbox": [
           {
            "marker": {
             "colorbar": {
              "outlinewidth": 0,
              "ticks": ""
             }
            },
            "type": "scattermapbox"
           }
          ],
          "scatterpolar": [
           {
            "marker": {
             "colorbar": {
              "outlinewidth": 0,
              "ticks": ""
             }
            },
            "type": "scatterpolar"
           }
          ],
          "scatterpolargl": [
           {
            "marker": {
             "colorbar": {
              "outlinewidth": 0,
              "ticks": ""
             }
            },
            "type": "scatterpolargl"
           }
          ],
          "scatterternary": [
           {
            "marker": {
             "colorbar": {
              "outlinewidth": 0,
              "ticks": ""
             }
            },
            "type": "scatterternary"
           }
          ],
          "surface": [
           {
            "colorbar": {
             "outlinewidth": 0,
             "ticks": ""
            },
            "colorscale": [
             [
              0,
              "#0d0887"
             ],
             [
              0.1111111111111111,
              "#46039f"
             ],
             [
              0.2222222222222222,
              "#7201a8"
             ],
             [
              0.3333333333333333,
              "#9c179e"
             ],
             [
              0.4444444444444444,
              "#bd3786"
             ],
             [
              0.5555555555555556,
              "#d8576b"
             ],
             [
              0.6666666666666666,
              "#ed7953"
             ],
             [
              0.7777777777777778,
              "#fb9f3a"
             ],
             [
              0.8888888888888888,
              "#fdca26"
             ],
             [
              1,
              "#f0f921"
             ]
            ],
            "type": "surface"
           }
          ],
          "table": [
           {
            "cells": {
             "fill": {
              "color": "#EBF0F8"
             },
             "line": {
              "color": "white"
             }
            },
            "header": {
             "fill": {
              "color": "#C8D4E3"
             },
             "line": {
              "color": "white"
             }
            },
            "type": "table"
           }
          ]
         },
         "layout": {
          "annotationdefaults": {
           "arrowcolor": "#2a3f5f",
           "arrowhead": 0,
           "arrowwidth": 1
          },
          "autotypenumbers": "strict",
          "coloraxis": {
           "colorbar": {
            "outlinewidth": 0,
            "ticks": ""
           }
          },
          "colorscale": {
           "diverging": [
            [
             0,
             "#8e0152"
            ],
            [
             0.1,
             "#c51b7d"
            ],
            [
             0.2,
             "#de77ae"
            ],
            [
             0.3,
             "#f1b6da"
            ],
            [
             0.4,
             "#fde0ef"
            ],
            [
             0.5,
             "#f7f7f7"
            ],
            [
             0.6,
             "#e6f5d0"
            ],
            [
             0.7,
             "#b8e186"
            ],
            [
             0.8,
             "#7fbc41"
            ],
            [
             0.9,
             "#4d9221"
            ],
            [
             1,
             "#276419"
            ]
           ],
           "sequential": [
            [
             0,
             "#0d0887"
            ],
            [
             0.1111111111111111,
             "#46039f"
            ],
            [
             0.2222222222222222,
             "#7201a8"
            ],
            [
             0.3333333333333333,
             "#9c179e"
            ],
            [
             0.4444444444444444,
             "#bd3786"
            ],
            [
             0.5555555555555556,
             "#d8576b"
            ],
            [
             0.6666666666666666,
             "#ed7953"
            ],
            [
             0.7777777777777778,
             "#fb9f3a"
            ],
            [
             0.8888888888888888,
             "#fdca26"
            ],
            [
             1,
             "#f0f921"
            ]
           ],
           "sequentialminus": [
            [
             0,
             "#0d0887"
            ],
            [
             0.1111111111111111,
             "#46039f"
            ],
            [
             0.2222222222222222,
             "#7201a8"
            ],
            [
             0.3333333333333333,
             "#9c179e"
            ],
            [
             0.4444444444444444,
             "#bd3786"
            ],
            [
             0.5555555555555556,
             "#d8576b"
            ],
            [
             0.6666666666666666,
             "#ed7953"
            ],
            [
             0.7777777777777778,
             "#fb9f3a"
            ],
            [
             0.8888888888888888,
             "#fdca26"
            ],
            [
             1,
             "#f0f921"
            ]
           ]
          },
          "colorway": [
           "#636efa",
           "#EF553B",
           "#00cc96",
           "#ab63fa",
           "#FFA15A",
           "#19d3f3",
           "#FF6692",
           "#B6E880",
           "#FF97FF",
           "#FECB52"
          ],
          "font": {
           "color": "#2a3f5f"
          },
          "geo": {
           "bgcolor": "white",
           "lakecolor": "white",
           "landcolor": "#E5ECF6",
           "showlakes": true,
           "showland": true,
           "subunitcolor": "white"
          },
          "hoverlabel": {
           "align": "left"
          },
          "hovermode": "closest",
          "mapbox": {
           "style": "light"
          },
          "paper_bgcolor": "white",
          "plot_bgcolor": "#E5ECF6",
          "polar": {
           "angularaxis": {
            "gridcolor": "white",
            "linecolor": "white",
            "ticks": ""
           },
           "bgcolor": "#E5ECF6",
           "radialaxis": {
            "gridcolor": "white",
            "linecolor": "white",
            "ticks": ""
           }
          },
          "scene": {
           "xaxis": {
            "backgroundcolor": "#E5ECF6",
            "gridcolor": "white",
            "gridwidth": 2,
            "linecolor": "white",
            "showbackground": true,
            "ticks": "",
            "zerolinecolor": "white"
           },
           "yaxis": {
            "backgroundcolor": "#E5ECF6",
            "gridcolor": "white",
            "gridwidth": 2,
            "linecolor": "white",
            "showbackground": true,
            "ticks": "",
            "zerolinecolor": "white"
           },
           "zaxis": {
            "backgroundcolor": "#E5ECF6",
            "gridcolor": "white",
            "gridwidth": 2,
            "linecolor": "white",
            "showbackground": true,
            "ticks": "",
            "zerolinecolor": "white"
           }
          },
          "shapedefaults": {
           "line": {
            "color": "#2a3f5f"
           }
          },
          "ternary": {
           "aaxis": {
            "gridcolor": "white",
            "linecolor": "white",
            "ticks": ""
           },
           "baxis": {
            "gridcolor": "white",
            "linecolor": "white",
            "ticks": ""
           },
           "bgcolor": "#E5ECF6",
           "caxis": {
            "gridcolor": "white",
            "linecolor": "white",
            "ticks": ""
           }
          },
          "title": {
           "x": 0.05
          },
          "xaxis": {
           "automargin": true,
           "gridcolor": "white",
           "linecolor": "white",
           "ticks": "",
           "title": {
            "standoff": 15
           },
           "zerolinecolor": "white",
           "zerolinewidth": 2
          },
          "yaxis": {
           "automargin": true,
           "gridcolor": "white",
           "linecolor": "white",
           "ticks": "",
           "title": {
            "standoff": 15
           },
           "zerolinecolor": "white",
           "zerolinewidth": 2
          }
         }
        },
        "title": {
         "text": "Interest rate vs median rent Linear Regression in Queens, NY, from 2014-02 to 2019-12"
        },
        "xaxis": {
         "title": {
          "text": "Effective Federal Funds Rate"
         }
        },
        "yaxis": {
         "title": {
          "text": "Queens Rent"
         }
        }
       }
      },
      "text/html": [
       "<div>                            <div id=\"2b72a7e5-cec3-470b-9de0-b1893ed8335b\" class=\"plotly-graph-div\" style=\"height:525px; width:100%;\"></div>            <script type=\"text/javascript\">                require([\"plotly\"], function(Plotly) {                    window.PLOTLYENV=window.PLOTLYENV || {};                                    if (document.getElementById(\"2b72a7e5-cec3-470b-9de0-b1893ed8335b\")) {                    Plotly.newPlot(                        \"2b72a7e5-cec3-470b-9de0-b1893ed8335b\",                        [{\"mode\":\"markers\",\"name\":\"Interest rate vs Median rent\",\"x\":[0.07,0.08,0.09,0.09,0.1,0.09,0.09,0.09,0.09,0.09,0.12,0.11,0.11,0.11,0.12,0.12,0.13,0.13,0.14,0.14,0.12,0.12,0.24,0.34,0.38,0.36,0.37,0.37,0.38,0.39,0.4,0.4,0.4,0.41,0.54,0.65,0.66,0.79,0.9,0.91,1.04,1.15,1.16,1.15,1.15,1.16,1.3,1.41,1.42,1.51,1.67,1.7,1.82,1.91,1.91,1.95,2.19,2.2,2.27,2.4,2.4,2.41,2.42,2.39,2.38,2.4,2.13,2.04,1.83,1.55],\"y\":[2600.0,2600.0,2600.0,2650.0,2640.0,2300.0,2250.0,2295.0,2250.0,2275.0,2200.0,2200.0,2250.0,2295.0,2350.0,2375.0,2300.0,2250.0,2300.0,2300.0,2250.0,2200.0,2200.0,2200.0,2200.0,2200.0,2295.0,2300.0,2350.0,2350.0,2349.0,2400.0,2495.0,2400.0,2200.0,2250.0,2300.0,2300.0,2350.0,2375.0,2395.0,2395.0,2400.0,2400.0,2350.0,2300.0,2300.0,2300.0,2300.0,2300.0,2399.0,2400.0,2400.0,2400.0,2400.0,2400.0,2325.0,2300.0,2295.0,2300.0,2300.0,2350.0,2400.0,2400.0,2450.0,2450.0,2475.0,2475.0,2400.0,2400.0],\"type\":\"scatter\"},{\"mode\":\"lines\",\"name\":\"line of best fit\",\"x\":[0.07,0.08,0.09,0.09,0.1,0.09,0.09,0.09,0.09,0.09,0.12,0.11,0.11,0.11,0.12,0.12,0.13,0.13,0.14,0.14,0.12,0.12,0.24,0.34,0.38,0.36,0.37,0.37,0.38,0.39,0.4,0.4,0.4,0.41,0.54,0.65,0.66,0.79,0.9,0.91,1.04,1.15,1.16,1.15,1.15,1.16,1.3,1.41,1.42,1.51,1.67,1.7,1.82,1.91,1.91,1.95,2.19,2.2,2.27,2.4,2.4,2.41,2.42,2.39,2.38,2.4,2.13,2.04,1.83,1.55],\"y\":[2330.485204005589,2330.694064393938,2330.902924782287,2330.902924782287,2331.1117851706363,2330.902924782287,2330.902924782287,2330.902924782287,2330.902924782287,2330.902924782287,2331.529505947334,2331.3206455589852,2331.3206455589852,2331.3206455589852,2331.529505947334,2331.529505947334,2331.738366335683,2331.738366335683,2331.947226724032,2331.947226724032,2331.529505947334,2331.529505947334,2334.0358306075227,2336.124434491013,2336.959876044409,2336.542155267711,2336.75101565606,2336.75101565606,2336.959876044409,2337.168736432758,2337.377596821107,2337.377596821107,2337.377596821107,2337.5864572094565,2340.301642257994,2342.599106529833,2342.8079669181825,2345.52315196672,2347.8206162385595,2348.0294766269085,2350.744661675446,2353.0421259472855,2353.2509863356345,2353.0421259472855,2353.0421259472855,2353.2509863356345,2356.175031772521,2358.4724960443605,2358.6813564327094,2360.5610999278506,2363.9028661414354,2364.5294473064823,2367.035771966671,2368.9155154618124,2368.9155154618124,2369.7509570152083,2374.7636063355853,2374.9724667239343,2376.434489442378,2379.1496744909155,2379.1496744909155,2379.3585348792644,2379.5673952676134,2378.9408141025665,2378.731953714217,2379.1496744909155,2373.510444005491,2371.63070051035,2367.2446323550203,2361.396541481247],\"type\":\"scatter\"}],                        {\"template\":{\"data\":{\"bar\":[{\"error_x\":{\"color\":\"#2a3f5f\"},\"error_y\":{\"color\":\"#2a3f5f\"},\"marker\":{\"line\":{\"color\":\"#E5ECF6\",\"width\":0.5},\"pattern\":{\"fillmode\":\"overlay\",\"size\":10,\"solidity\":0.2}},\"type\":\"bar\"}],\"barpolar\":[{\"marker\":{\"line\":{\"color\":\"#E5ECF6\",\"width\":0.5},\"pattern\":{\"fillmode\":\"overlay\",\"size\":10,\"solidity\":0.2}},\"type\":\"barpolar\"}],\"carpet\":[{\"aaxis\":{\"endlinecolor\":\"#2a3f5f\",\"gridcolor\":\"white\",\"linecolor\":\"white\",\"minorgridcolor\":\"white\",\"startlinecolor\":\"#2a3f5f\"},\"baxis\":{\"endlinecolor\":\"#2a3f5f\",\"gridcolor\":\"white\",\"linecolor\":\"white\",\"minorgridcolor\":\"white\",\"startlinecolor\":\"#2a3f5f\"},\"type\":\"carpet\"}],\"choropleth\":[{\"colorbar\":{\"outlinewidth\":0,\"ticks\":\"\"},\"type\":\"choropleth\"}],\"contour\":[{\"colorbar\":{\"outlinewidth\":0,\"ticks\":\"\"},\"colorscale\":[[0.0,\"#0d0887\"],[0.1111111111111111,\"#46039f\"],[0.2222222222222222,\"#7201a8\"],[0.3333333333333333,\"#9c179e\"],[0.4444444444444444,\"#bd3786\"],[0.5555555555555556,\"#d8576b\"],[0.6666666666666666,\"#ed7953\"],[0.7777777777777778,\"#fb9f3a\"],[0.8888888888888888,\"#fdca26\"],[1.0,\"#f0f921\"]],\"type\":\"contour\"}],\"contourcarpet\":[{\"colorbar\":{\"outlinewidth\":0,\"ticks\":\"\"},\"type\":\"contourcarpet\"}],\"heatmap\":[{\"colorbar\":{\"outlinewidth\":0,\"ticks\":\"\"},\"colorscale\":[[0.0,\"#0d0887\"],[0.1111111111111111,\"#46039f\"],[0.2222222222222222,\"#7201a8\"],[0.3333333333333333,\"#9c179e\"],[0.4444444444444444,\"#bd3786\"],[0.5555555555555556,\"#d8576b\"],[0.6666666666666666,\"#ed7953\"],[0.7777777777777778,\"#fb9f3a\"],[0.8888888888888888,\"#fdca26\"],[1.0,\"#f0f921\"]],\"type\":\"heatmap\"}],\"heatmapgl\":[{\"colorbar\":{\"outlinewidth\":0,\"ticks\":\"\"},\"colorscale\":[[0.0,\"#0d0887\"],[0.1111111111111111,\"#46039f\"],[0.2222222222222222,\"#7201a8\"],[0.3333333333333333,\"#9c179e\"],[0.4444444444444444,\"#bd3786\"],[0.5555555555555556,\"#d8576b\"],[0.6666666666666666,\"#ed7953\"],[0.7777777777777778,\"#fb9f3a\"],[0.8888888888888888,\"#fdca26\"],[1.0,\"#f0f921\"]],\"type\":\"heatmapgl\"}],\"histogram\":[{\"marker\":{\"pattern\":{\"fillmode\":\"overlay\",\"size\":10,\"solidity\":0.2}},\"type\":\"histogram\"}],\"histogram2d\":[{\"colorbar\":{\"outlinewidth\":0,\"ticks\":\"\"},\"colorscale\":[[0.0,\"#0d0887\"],[0.1111111111111111,\"#46039f\"],[0.2222222222222222,\"#7201a8\"],[0.3333333333333333,\"#9c179e\"],[0.4444444444444444,\"#bd3786\"],[0.5555555555555556,\"#d8576b\"],[0.6666666666666666,\"#ed7953\"],[0.7777777777777778,\"#fb9f3a\"],[0.8888888888888888,\"#fdca26\"],[1.0,\"#f0f921\"]],\"type\":\"histogram2d\"}],\"histogram2dcontour\":[{\"colorbar\":{\"outlinewidth\":0,\"ticks\":\"\"},\"colorscale\":[[0.0,\"#0d0887\"],[0.1111111111111111,\"#46039f\"],[0.2222222222222222,\"#7201a8\"],[0.3333333333333333,\"#9c179e\"],[0.4444444444444444,\"#bd3786\"],[0.5555555555555556,\"#d8576b\"],[0.6666666666666666,\"#ed7953\"],[0.7777777777777778,\"#fb9f3a\"],[0.8888888888888888,\"#fdca26\"],[1.0,\"#f0f921\"]],\"type\":\"histogram2dcontour\"}],\"mesh3d\":[{\"colorbar\":{\"outlinewidth\":0,\"ticks\":\"\"},\"type\":\"mesh3d\"}],\"parcoords\":[{\"line\":{\"colorbar\":{\"outlinewidth\":0,\"ticks\":\"\"}},\"type\":\"parcoords\"}],\"pie\":[{\"automargin\":true,\"type\":\"pie\"}],\"scatter\":[{\"marker\":{\"colorbar\":{\"outlinewidth\":0,\"ticks\":\"\"}},\"type\":\"scatter\"}],\"scatter3d\":[{\"line\":{\"colorbar\":{\"outlinewidth\":0,\"ticks\":\"\"}},\"marker\":{\"colorbar\":{\"outlinewidth\":0,\"ticks\":\"\"}},\"type\":\"scatter3d\"}],\"scattercarpet\":[{\"marker\":{\"colorbar\":{\"outlinewidth\":0,\"ticks\":\"\"}},\"type\":\"scattercarpet\"}],\"scattergeo\":[{\"marker\":{\"colorbar\":{\"outlinewidth\":0,\"ticks\":\"\"}},\"type\":\"scattergeo\"}],\"scattergl\":[{\"marker\":{\"colorbar\":{\"outlinewidth\":0,\"ticks\":\"\"}},\"type\":\"scattergl\"}],\"scattermapbox\":[{\"marker\":{\"colorbar\":{\"outlinewidth\":0,\"ticks\":\"\"}},\"type\":\"scattermapbox\"}],\"scatterpolar\":[{\"marker\":{\"colorbar\":{\"outlinewidth\":0,\"ticks\":\"\"}},\"type\":\"scatterpolar\"}],\"scatterpolargl\":[{\"marker\":{\"colorbar\":{\"outlinewidth\":0,\"ticks\":\"\"}},\"type\":\"scatterpolargl\"}],\"scatterternary\":[{\"marker\":{\"colorbar\":{\"outlinewidth\":0,\"ticks\":\"\"}},\"type\":\"scatterternary\"}],\"surface\":[{\"colorbar\":{\"outlinewidth\":0,\"ticks\":\"\"},\"colorscale\":[[0.0,\"#0d0887\"],[0.1111111111111111,\"#46039f\"],[0.2222222222222222,\"#7201a8\"],[0.3333333333333333,\"#9c179e\"],[0.4444444444444444,\"#bd3786\"],[0.5555555555555556,\"#d8576b\"],[0.6666666666666666,\"#ed7953\"],[0.7777777777777778,\"#fb9f3a\"],[0.8888888888888888,\"#fdca26\"],[1.0,\"#f0f921\"]],\"type\":\"surface\"}],\"table\":[{\"cells\":{\"fill\":{\"color\":\"#EBF0F8\"},\"line\":{\"color\":\"white\"}},\"header\":{\"fill\":{\"color\":\"#C8D4E3\"},\"line\":{\"color\":\"white\"}},\"type\":\"table\"}]},\"layout\":{\"annotationdefaults\":{\"arrowcolor\":\"#2a3f5f\",\"arrowhead\":0,\"arrowwidth\":1},\"autotypenumbers\":\"strict\",\"coloraxis\":{\"colorbar\":{\"outlinewidth\":0,\"ticks\":\"\"}},\"colorscale\":{\"diverging\":[[0,\"#8e0152\"],[0.1,\"#c51b7d\"],[0.2,\"#de77ae\"],[0.3,\"#f1b6da\"],[0.4,\"#fde0ef\"],[0.5,\"#f7f7f7\"],[0.6,\"#e6f5d0\"],[0.7,\"#b8e186\"],[0.8,\"#7fbc41\"],[0.9,\"#4d9221\"],[1,\"#276419\"]],\"sequential\":[[0.0,\"#0d0887\"],[0.1111111111111111,\"#46039f\"],[0.2222222222222222,\"#7201a8\"],[0.3333333333333333,\"#9c179e\"],[0.4444444444444444,\"#bd3786\"],[0.5555555555555556,\"#d8576b\"],[0.6666666666666666,\"#ed7953\"],[0.7777777777777778,\"#fb9f3a\"],[0.8888888888888888,\"#fdca26\"],[1.0,\"#f0f921\"]],\"sequentialminus\":[[0.0,\"#0d0887\"],[0.1111111111111111,\"#46039f\"],[0.2222222222222222,\"#7201a8\"],[0.3333333333333333,\"#9c179e\"],[0.4444444444444444,\"#bd3786\"],[0.5555555555555556,\"#d8576b\"],[0.6666666666666666,\"#ed7953\"],[0.7777777777777778,\"#fb9f3a\"],[0.8888888888888888,\"#fdca26\"],[1.0,\"#f0f921\"]]},\"colorway\":[\"#636efa\",\"#EF553B\",\"#00cc96\",\"#ab63fa\",\"#FFA15A\",\"#19d3f3\",\"#FF6692\",\"#B6E880\",\"#FF97FF\",\"#FECB52\"],\"font\":{\"color\":\"#2a3f5f\"},\"geo\":{\"bgcolor\":\"white\",\"lakecolor\":\"white\",\"landcolor\":\"#E5ECF6\",\"showlakes\":true,\"showland\":true,\"subunitcolor\":\"white\"},\"hoverlabel\":{\"align\":\"left\"},\"hovermode\":\"closest\",\"mapbox\":{\"style\":\"light\"},\"paper_bgcolor\":\"white\",\"plot_bgcolor\":\"#E5ECF6\",\"polar\":{\"angularaxis\":{\"gridcolor\":\"white\",\"linecolor\":\"white\",\"ticks\":\"\"},\"bgcolor\":\"#E5ECF6\",\"radialaxis\":{\"gridcolor\":\"white\",\"linecolor\":\"white\",\"ticks\":\"\"}},\"scene\":{\"xaxis\":{\"backgroundcolor\":\"#E5ECF6\",\"gridcolor\":\"white\",\"gridwidth\":2,\"linecolor\":\"white\",\"showbackground\":true,\"ticks\":\"\",\"zerolinecolor\":\"white\"},\"yaxis\":{\"backgroundcolor\":\"#E5ECF6\",\"gridcolor\":\"white\",\"gridwidth\":2,\"linecolor\":\"white\",\"showbackground\":true,\"ticks\":\"\",\"zerolinecolor\":\"white\"},\"zaxis\":{\"backgroundcolor\":\"#E5ECF6\",\"gridcolor\":\"white\",\"gridwidth\":2,\"linecolor\":\"white\",\"showbackground\":true,\"ticks\":\"\",\"zerolinecolor\":\"white\"}},\"shapedefaults\":{\"line\":{\"color\":\"#2a3f5f\"}},\"ternary\":{\"aaxis\":{\"gridcolor\":\"white\",\"linecolor\":\"white\",\"ticks\":\"\"},\"baxis\":{\"gridcolor\":\"white\",\"linecolor\":\"white\",\"ticks\":\"\"},\"bgcolor\":\"#E5ECF6\",\"caxis\":{\"gridcolor\":\"white\",\"linecolor\":\"white\",\"ticks\":\"\"}},\"title\":{\"x\":0.05},\"xaxis\":{\"automargin\":true,\"gridcolor\":\"white\",\"linecolor\":\"white\",\"ticks\":\"\",\"title\":{\"standoff\":15},\"zerolinecolor\":\"white\",\"zerolinewidth\":2},\"yaxis\":{\"automargin\":true,\"gridcolor\":\"white\",\"linecolor\":\"white\",\"ticks\":\"\",\"title\":{\"standoff\":15},\"zerolinecolor\":\"white\",\"zerolinewidth\":2}}},\"title\":{\"text\":\"Interest rate vs median rent Linear Regression in Queens, NY, from 2014-02 to 2019-12\"},\"xaxis\":{\"title\":{\"text\":\"Effective Federal Funds Rate\"}},\"yaxis\":{\"title\":{\"text\":\"Queens Rent\"}}},                        {\"responsive\": true}                    ).then(function(){\n",
       "                            \n",
       "var gd = document.getElementById('2b72a7e5-cec3-470b-9de0-b1893ed8335b');\n",
       "var x = new MutationObserver(function (mutations, observer) {{\n",
       "        var display = window.getComputedStyle(gd).display;\n",
       "        if (!display || display === 'none') {{\n",
       "            console.log([gd, 'removed!']);\n",
       "            Plotly.purge(gd);\n",
       "            observer.disconnect();\n",
       "        }}\n",
       "}});\n",
       "\n",
       "// Listen for the removal of the full notebook cells\n",
       "var notebookContainer = gd.closest('#notebook-container');\n",
       "if (notebookContainer) {{\n",
       "    x.observe(notebookContainer, {childList: true});\n",
       "}}\n",
       "\n",
       "// Listen for the clearing of the current output cell\n",
       "var outputEl = gd.closest('.output');\n",
       "if (outputEl) {{\n",
       "    x.observe(outputEl, {childList: true});\n",
       "}}\n",
       "\n",
       "                        })                };                });            </script>        </div>"
      ]
     },
     "metadata": {},
     "output_type": "display_data"
    },
    {
     "data": {
      "text/plain": [
       "'https://plotly.com/~edtsoi430/24/'"
      ]
     },
     "execution_count": 104,
     "metadata": {},
     "output_type": "execute_result"
    }
   ],
   "source": [
    "df = pd.DataFrame({'X': rate_fund, 'Y':queens_rent})\n",
    "reg = LinearRegression().fit(np.vstack(df['X']), queens_rent)\n",
    "df['bestfit'] = reg.predict(np.vstack(df['X']))\n",
    "fig=go.Figure()\n",
    "fig.add_trace(go.Scatter(name='Interest rate vs Median rent', x=df['X'], y=df['Y'].values, mode='markers'))\n",
    "fig.add_trace(go.Scatter(name='line of best fit', x=rate_fund, y=df['bestfit'], mode='lines'))\n",
    "\n",
    "fig.update_layout(title_text = 'Interest rate vs median rent Linear Regression in Queens, NY, from 2014-02 to 2019-12', xaxis_title = 'Effective Federal Funds Rate', yaxis_title = 'Queens Rent')\n",
    "\n",
    "fig.show()\n",
    "\n",
    "queens_ml = fig\n",
    "py.plot(queens_ml, filename=\"Interest rate vs median rent Linear Regression in Queens, NY, from 2014-02 to 2019-12\", auto_open=False)"
   ]
  },
  {
   "cell_type": "code",
   "execution_count": 105,
   "metadata": {},
   "outputs": [
    {
     "data": {
      "application/vnd.plotly.v1+json": {
       "config": {
        "plotlyServerURL": "https://plotly.com"
       },
       "data": [
        {
         "mode": "markers",
         "name": "Interest rate vs Median rent",
         "type": "scatter",
         "x": [
          0.07,
          0.08,
          0.09,
          0.09,
          0.1,
          0.09,
          0.09,
          0.09,
          0.09,
          0.09,
          0.12,
          0.11,
          0.11,
          0.11,
          0.12,
          0.12,
          0.13,
          0.13,
          0.14,
          0.14,
          0.12,
          0.12,
          0.24,
          0.34,
          0.38,
          0.36,
          0.37,
          0.37,
          0.38,
          0.39,
          0.4,
          0.4,
          0.4,
          0.41,
          0.54,
          0.65,
          0.66,
          0.79,
          0.9,
          0.91,
          1.04,
          1.15,
          1.16,
          1.15,
          1.15,
          1.16,
          1.3,
          1.41,
          1.42,
          1.51,
          1.67,
          1.7,
          1.82,
          1.91,
          1.91,
          1.95,
          2.19,
          2.2,
          2.27,
          2.4,
          2.4,
          2.41,
          2.42,
          2.39,
          2.38,
          2.4,
          2.13,
          2.04,
          1.83,
          1.55
         ],
         "y": [
          1144,
          1136,
          1164,
          1150,
          1179,
          1147,
          1115,
          1125,
          1150,
          1199.5,
          1200,
          1160,
          1129.5,
          1119,
          1153,
          1150,
          1169,
          1198.5,
          1199,
          1226,
          1200,
          1195,
          1195,
          1205,
          1255,
          1275,
          1250,
          1247,
          1265,
          1266,
          1237.5,
          1310,
          1275,
          1250,
          1210,
          1300,
          1293,
          1307,
          1306,
          1310,
          1320,
          1325,
          1350,
          1329,
          1310,
          1348,
          1325,
          1325,
          1371,
          1345,
          1334,
          1350,
          1361,
          1370,
          1370,
          1355,
          1375,
          1359,
          1345,
          1360,
          1398,
          1376,
          1375,
          1375,
          1360,
          1355,
          1330,
          1335,
          1340,
          1330
         ]
        },
        {
         "mode": "lines",
         "name": "line of best fit",
         "type": "scatter",
         "x": [
          0.07,
          0.08,
          0.09,
          0.09,
          0.1,
          0.09,
          0.09,
          0.09,
          0.09,
          0.09,
          0.12,
          0.11,
          0.11,
          0.11,
          0.12,
          0.12,
          0.13,
          0.13,
          0.14,
          0.14,
          0.12,
          0.12,
          0.24,
          0.34,
          0.38,
          0.36,
          0.37,
          0.37,
          0.38,
          0.39,
          0.4,
          0.4,
          0.4,
          0.41,
          0.54,
          0.65,
          0.66,
          0.79,
          0.9,
          0.91,
          1.04,
          1.15,
          1.16,
          1.15,
          1.15,
          1.16,
          1.3,
          1.41,
          1.42,
          1.51,
          1.67,
          1.7,
          1.82,
          1.91,
          1.91,
          1.95,
          2.19,
          2.2,
          2.27,
          2.4,
          2.4,
          2.41,
          2.42,
          2.39,
          2.38,
          2.4,
          2.13,
          2.04,
          1.83,
          1.55
         ],
         "y": [
          1192.1341033086587,
          1193.0255800644838,
          1193.9170568203092,
          1193.9170568203092,
          1194.8085335761343,
          1193.9170568203092,
          1193.9170568203092,
          1193.9170568203092,
          1193.9170568203092,
          1193.9170568203092,
          1196.5914870877848,
          1195.7000103319594,
          1195.7000103319594,
          1195.7000103319594,
          1196.5914870877848,
          1196.5914870877848,
          1197.48296384361,
          1197.48296384361,
          1198.374440599435,
          1198.374440599435,
          1196.5914870877848,
          1196.5914870877848,
          1207.289208157687,
          1216.2039757159391,
          1219.7698827392398,
          1217.9869292275894,
          1218.8784059834147,
          1218.8784059834147,
          1219.7698827392398,
          1220.661359495065,
          1221.55283625089,
          1221.55283625089,
          1221.55283625089,
          1222.4443130067154,
          1234.033510832443,
          1243.83975514652,
          1244.7312319023454,
          1256.320429728073,
          1266.12667404215,
          1267.018150797975,
          1278.6073486237026,
          1288.4135929377799,
          1289.305069693605,
          1288.4135929377799,
          1288.4135929377799,
          1289.305069693605,
          1301.7857442751576,
          1311.591988589235,
          1312.48346534506,
          1320.5067561474868,
          1334.77038424069,
          1337.4448145081656,
          1348.142535578068,
          1356.1658263804945,
          1356.1658263804945,
          1359.7317334037953,
          1381.1271755436,
          1382.0186522994252,
          1388.2589895902015,
          1399.8481874159293,
          1399.8481874159293,
          1400.7396641717544,
          1401.6311409275795,
          1398.956710660104,
          1398.0652339042788,
          1399.8481874159293,
          1375.7783150086489,
          1367.755024206222,
          1349.034012333893,
          1324.0726631707876
         ]
        }
       ],
       "layout": {
        "template": {
         "data": {
          "bar": [
           {
            "error_x": {
             "color": "#2a3f5f"
            },
            "error_y": {
             "color": "#2a3f5f"
            },
            "marker": {
             "line": {
              "color": "#E5ECF6",
              "width": 0.5
             },
             "pattern": {
              "fillmode": "overlay",
              "size": 10,
              "solidity": 0.2
             }
            },
            "type": "bar"
           }
          ],
          "barpolar": [
           {
            "marker": {
             "line": {
              "color": "#E5ECF6",
              "width": 0.5
             },
             "pattern": {
              "fillmode": "overlay",
              "size": 10,
              "solidity": 0.2
             }
            },
            "type": "barpolar"
           }
          ],
          "carpet": [
           {
            "aaxis": {
             "endlinecolor": "#2a3f5f",
             "gridcolor": "white",
             "linecolor": "white",
             "minorgridcolor": "white",
             "startlinecolor": "#2a3f5f"
            },
            "baxis": {
             "endlinecolor": "#2a3f5f",
             "gridcolor": "white",
             "linecolor": "white",
             "minorgridcolor": "white",
             "startlinecolor": "#2a3f5f"
            },
            "type": "carpet"
           }
          ],
          "choropleth": [
           {
            "colorbar": {
             "outlinewidth": 0,
             "ticks": ""
            },
            "type": "choropleth"
           }
          ],
          "contour": [
           {
            "colorbar": {
             "outlinewidth": 0,
             "ticks": ""
            },
            "colorscale": [
             [
              0,
              "#0d0887"
             ],
             [
              0.1111111111111111,
              "#46039f"
             ],
             [
              0.2222222222222222,
              "#7201a8"
             ],
             [
              0.3333333333333333,
              "#9c179e"
             ],
             [
              0.4444444444444444,
              "#bd3786"
             ],
             [
              0.5555555555555556,
              "#d8576b"
             ],
             [
              0.6666666666666666,
              "#ed7953"
             ],
             [
              0.7777777777777778,
              "#fb9f3a"
             ],
             [
              0.8888888888888888,
              "#fdca26"
             ],
             [
              1,
              "#f0f921"
             ]
            ],
            "type": "contour"
           }
          ],
          "contourcarpet": [
           {
            "colorbar": {
             "outlinewidth": 0,
             "ticks": ""
            },
            "type": "contourcarpet"
           }
          ],
          "heatmap": [
           {
            "colorbar": {
             "outlinewidth": 0,
             "ticks": ""
            },
            "colorscale": [
             [
              0,
              "#0d0887"
             ],
             [
              0.1111111111111111,
              "#46039f"
             ],
             [
              0.2222222222222222,
              "#7201a8"
             ],
             [
              0.3333333333333333,
              "#9c179e"
             ],
             [
              0.4444444444444444,
              "#bd3786"
             ],
             [
              0.5555555555555556,
              "#d8576b"
             ],
             [
              0.6666666666666666,
              "#ed7953"
             ],
             [
              0.7777777777777778,
              "#fb9f3a"
             ],
             [
              0.8888888888888888,
              "#fdca26"
             ],
             [
              1,
              "#f0f921"
             ]
            ],
            "type": "heatmap"
           }
          ],
          "heatmapgl": [
           {
            "colorbar": {
             "outlinewidth": 0,
             "ticks": ""
            },
            "colorscale": [
             [
              0,
              "#0d0887"
             ],
             [
              0.1111111111111111,
              "#46039f"
             ],
             [
              0.2222222222222222,
              "#7201a8"
             ],
             [
              0.3333333333333333,
              "#9c179e"
             ],
             [
              0.4444444444444444,
              "#bd3786"
             ],
             [
              0.5555555555555556,
              "#d8576b"
             ],
             [
              0.6666666666666666,
              "#ed7953"
             ],
             [
              0.7777777777777778,
              "#fb9f3a"
             ],
             [
              0.8888888888888888,
              "#fdca26"
             ],
             [
              1,
              "#f0f921"
             ]
            ],
            "type": "heatmapgl"
           }
          ],
          "histogram": [
           {
            "marker": {
             "pattern": {
              "fillmode": "overlay",
              "size": 10,
              "solidity": 0.2
             }
            },
            "type": "histogram"
           }
          ],
          "histogram2d": [
           {
            "colorbar": {
             "outlinewidth": 0,
             "ticks": ""
            },
            "colorscale": [
             [
              0,
              "#0d0887"
             ],
             [
              0.1111111111111111,
              "#46039f"
             ],
             [
              0.2222222222222222,
              "#7201a8"
             ],
             [
              0.3333333333333333,
              "#9c179e"
             ],
             [
              0.4444444444444444,
              "#bd3786"
             ],
             [
              0.5555555555555556,
              "#d8576b"
             ],
             [
              0.6666666666666666,
              "#ed7953"
             ],
             [
              0.7777777777777778,
              "#fb9f3a"
             ],
             [
              0.8888888888888888,
              "#fdca26"
             ],
             [
              1,
              "#f0f921"
             ]
            ],
            "type": "histogram2d"
           }
          ],
          "histogram2dcontour": [
           {
            "colorbar": {
             "outlinewidth": 0,
             "ticks": ""
            },
            "colorscale": [
             [
              0,
              "#0d0887"
             ],
             [
              0.1111111111111111,
              "#46039f"
             ],
             [
              0.2222222222222222,
              "#7201a8"
             ],
             [
              0.3333333333333333,
              "#9c179e"
             ],
             [
              0.4444444444444444,
              "#bd3786"
             ],
             [
              0.5555555555555556,
              "#d8576b"
             ],
             [
              0.6666666666666666,
              "#ed7953"
             ],
             [
              0.7777777777777778,
              "#fb9f3a"
             ],
             [
              0.8888888888888888,
              "#fdca26"
             ],
             [
              1,
              "#f0f921"
             ]
            ],
            "type": "histogram2dcontour"
           }
          ],
          "mesh3d": [
           {
            "colorbar": {
             "outlinewidth": 0,
             "ticks": ""
            },
            "type": "mesh3d"
           }
          ],
          "parcoords": [
           {
            "line": {
             "colorbar": {
              "outlinewidth": 0,
              "ticks": ""
             }
            },
            "type": "parcoords"
           }
          ],
          "pie": [
           {
            "automargin": true,
            "type": "pie"
           }
          ],
          "scatter": [
           {
            "marker": {
             "colorbar": {
              "outlinewidth": 0,
              "ticks": ""
             }
            },
            "type": "scatter"
           }
          ],
          "scatter3d": [
           {
            "line": {
             "colorbar": {
              "outlinewidth": 0,
              "ticks": ""
             }
            },
            "marker": {
             "colorbar": {
              "outlinewidth": 0,
              "ticks": ""
             }
            },
            "type": "scatter3d"
           }
          ],
          "scattercarpet": [
           {
            "marker": {
             "colorbar": {
              "outlinewidth": 0,
              "ticks": ""
             }
            },
            "type": "scattercarpet"
           }
          ],
          "scattergeo": [
           {
            "marker": {
             "colorbar": {
              "outlinewidth": 0,
              "ticks": ""
             }
            },
            "type": "scattergeo"
           }
          ],
          "scattergl": [
           {
            "marker": {
             "colorbar": {
              "outlinewidth": 0,
              "ticks": ""
             }
            },
            "type": "scattergl"
           }
          ],
          "scattermapbox": [
           {
            "marker": {
             "colorbar": {
              "outlinewidth": 0,
              "ticks": ""
             }
            },
            "type": "scattermapbox"
           }
          ],
          "scatterpolar": [
           {
            "marker": {
             "colorbar": {
              "outlinewidth": 0,
              "ticks": ""
             }
            },
            "type": "scatterpolar"
           }
          ],
          "scatterpolargl": [
           {
            "marker": {
             "colorbar": {
              "outlinewidth": 0,
              "ticks": ""
             }
            },
            "type": "scatterpolargl"
           }
          ],
          "scatterternary": [
           {
            "marker": {
             "colorbar": {
              "outlinewidth": 0,
              "ticks": ""
             }
            },
            "type": "scatterternary"
           }
          ],
          "surface": [
           {
            "colorbar": {
             "outlinewidth": 0,
             "ticks": ""
            },
            "colorscale": [
             [
              0,
              "#0d0887"
             ],
             [
              0.1111111111111111,
              "#46039f"
             ],
             [
              0.2222222222222222,
              "#7201a8"
             ],
             [
              0.3333333333333333,
              "#9c179e"
             ],
             [
              0.4444444444444444,
              "#bd3786"
             ],
             [
              0.5555555555555556,
              "#d8576b"
             ],
             [
              0.6666666666666666,
              "#ed7953"
             ],
             [
              0.7777777777777778,
              "#fb9f3a"
             ],
             [
              0.8888888888888888,
              "#fdca26"
             ],
             [
              1,
              "#f0f921"
             ]
            ],
            "type": "surface"
           }
          ],
          "table": [
           {
            "cells": {
             "fill": {
              "color": "#EBF0F8"
             },
             "line": {
              "color": "white"
             }
            },
            "header": {
             "fill": {
              "color": "#C8D4E3"
             },
             "line": {
              "color": "white"
             }
            },
            "type": "table"
           }
          ]
         },
         "layout": {
          "annotationdefaults": {
           "arrowcolor": "#2a3f5f",
           "arrowhead": 0,
           "arrowwidth": 1
          },
          "autotypenumbers": "strict",
          "coloraxis": {
           "colorbar": {
            "outlinewidth": 0,
            "ticks": ""
           }
          },
          "colorscale": {
           "diverging": [
            [
             0,
             "#8e0152"
            ],
            [
             0.1,
             "#c51b7d"
            ],
            [
             0.2,
             "#de77ae"
            ],
            [
             0.3,
             "#f1b6da"
            ],
            [
             0.4,
             "#fde0ef"
            ],
            [
             0.5,
             "#f7f7f7"
            ],
            [
             0.6,
             "#e6f5d0"
            ],
            [
             0.7,
             "#b8e186"
            ],
            [
             0.8,
             "#7fbc41"
            ],
            [
             0.9,
             "#4d9221"
            ],
            [
             1,
             "#276419"
            ]
           ],
           "sequential": [
            [
             0,
             "#0d0887"
            ],
            [
             0.1111111111111111,
             "#46039f"
            ],
            [
             0.2222222222222222,
             "#7201a8"
            ],
            [
             0.3333333333333333,
             "#9c179e"
            ],
            [
             0.4444444444444444,
             "#bd3786"
            ],
            [
             0.5555555555555556,
             "#d8576b"
            ],
            [
             0.6666666666666666,
             "#ed7953"
            ],
            [
             0.7777777777777778,
             "#fb9f3a"
            ],
            [
             0.8888888888888888,
             "#fdca26"
            ],
            [
             1,
             "#f0f921"
            ]
           ],
           "sequentialminus": [
            [
             0,
             "#0d0887"
            ],
            [
             0.1111111111111111,
             "#46039f"
            ],
            [
             0.2222222222222222,
             "#7201a8"
            ],
            [
             0.3333333333333333,
             "#9c179e"
            ],
            [
             0.4444444444444444,
             "#bd3786"
            ],
            [
             0.5555555555555556,
             "#d8576b"
            ],
            [
             0.6666666666666666,
             "#ed7953"
            ],
            [
             0.7777777777777778,
             "#fb9f3a"
            ],
            [
             0.8888888888888888,
             "#fdca26"
            ],
            [
             1,
             "#f0f921"
            ]
           ]
          },
          "colorway": [
           "#636efa",
           "#EF553B",
           "#00cc96",
           "#ab63fa",
           "#FFA15A",
           "#19d3f3",
           "#FF6692",
           "#B6E880",
           "#FF97FF",
           "#FECB52"
          ],
          "font": {
           "color": "#2a3f5f"
          },
          "geo": {
           "bgcolor": "white",
           "lakecolor": "white",
           "landcolor": "#E5ECF6",
           "showlakes": true,
           "showland": true,
           "subunitcolor": "white"
          },
          "hoverlabel": {
           "align": "left"
          },
          "hovermode": "closest",
          "mapbox": {
           "style": "light"
          },
          "paper_bgcolor": "white",
          "plot_bgcolor": "#E5ECF6",
          "polar": {
           "angularaxis": {
            "gridcolor": "white",
            "linecolor": "white",
            "ticks": ""
           },
           "bgcolor": "#E5ECF6",
           "radialaxis": {
            "gridcolor": "white",
            "linecolor": "white",
            "ticks": ""
           }
          },
          "scene": {
           "xaxis": {
            "backgroundcolor": "#E5ECF6",
            "gridcolor": "white",
            "gridwidth": 2,
            "linecolor": "white",
            "showbackground": true,
            "ticks": "",
            "zerolinecolor": "white"
           },
           "yaxis": {
            "backgroundcolor": "#E5ECF6",
            "gridcolor": "white",
            "gridwidth": 2,
            "linecolor": "white",
            "showbackground": true,
            "ticks": "",
            "zerolinecolor": "white"
           },
           "zaxis": {
            "backgroundcolor": "#E5ECF6",
            "gridcolor": "white",
            "gridwidth": 2,
            "linecolor": "white",
            "showbackground": true,
            "ticks": "",
            "zerolinecolor": "white"
           }
          },
          "shapedefaults": {
           "line": {
            "color": "#2a3f5f"
           }
          },
          "ternary": {
           "aaxis": {
            "gridcolor": "white",
            "linecolor": "white",
            "ticks": ""
           },
           "baxis": {
            "gridcolor": "white",
            "linecolor": "white",
            "ticks": ""
           },
           "bgcolor": "#E5ECF6",
           "caxis": {
            "gridcolor": "white",
            "linecolor": "white",
            "ticks": ""
           }
          },
          "title": {
           "x": 0.05
          },
          "xaxis": {
           "automargin": true,
           "gridcolor": "white",
           "linecolor": "white",
           "ticks": "",
           "title": {
            "standoff": 15
           },
           "zerolinecolor": "white",
           "zerolinewidth": 2
          },
          "yaxis": {
           "automargin": true,
           "gridcolor": "white",
           "linecolor": "white",
           "ticks": "",
           "title": {
            "standoff": 15
           },
           "zerolinecolor": "white",
           "zerolinewidth": 2
          }
         }
        },
        "title": {
         "text": "Interest rate vs median rent Linear Regression in Dallas, TX, from 2014-02 to 2019-12"
        },
        "xaxis": {
         "title": {
          "text": "Effective Federal Funds Rate"
         }
        },
        "yaxis": {
         "title": {
          "text": "Dallas Rent"
         }
        }
       }
      },
      "text/html": [
       "<div>                            <div id=\"36608552-d154-417d-81a0-a83c29005daa\" class=\"plotly-graph-div\" style=\"height:525px; width:100%;\"></div>            <script type=\"text/javascript\">                require([\"plotly\"], function(Plotly) {                    window.PLOTLYENV=window.PLOTLYENV || {};                                    if (document.getElementById(\"36608552-d154-417d-81a0-a83c29005daa\")) {                    Plotly.newPlot(                        \"36608552-d154-417d-81a0-a83c29005daa\",                        [{\"mode\":\"markers\",\"name\":\"Interest rate vs Median rent\",\"x\":[0.07,0.08,0.09,0.09,0.1,0.09,0.09,0.09,0.09,0.09,0.12,0.11,0.11,0.11,0.12,0.12,0.13,0.13,0.14,0.14,0.12,0.12,0.24,0.34,0.38,0.36,0.37,0.37,0.38,0.39,0.4,0.4,0.4,0.41,0.54,0.65,0.66,0.79,0.9,0.91,1.04,1.15,1.16,1.15,1.15,1.16,1.3,1.41,1.42,1.51,1.67,1.7,1.82,1.91,1.91,1.95,2.19,2.2,2.27,2.4,2.4,2.41,2.42,2.39,2.38,2.4,2.13,2.04,1.83,1.55],\"y\":[1144.0,1136.0,1164.0,1150.0,1179.0,1147.0,1115.0,1125.0,1150.0,1199.5,1200.0,1160.0,1129.5,1119.0,1153.0,1150.0,1169.0,1198.5,1199.0,1226.0,1200.0,1195.0,1195.0,1205.0,1255.0,1275.0,1250.0,1247.0,1265.0,1266.0,1237.5,1310.0,1275.0,1250.0,1210.0,1300.0,1293.0,1307.0,1306.0,1310.0,1320.0,1325.0,1350.0,1329.0,1310.0,1348.0,1325.0,1325.0,1371.0,1345.0,1334.0,1350.0,1361.0,1370.0,1370.0,1355.0,1375.0,1359.0,1345.0,1360.0,1398.0,1376.0,1375.0,1375.0,1360.0,1355.0,1330.0,1335.0,1340.0,1330.0],\"type\":\"scatter\"},{\"mode\":\"lines\",\"name\":\"line of best fit\",\"x\":[0.07,0.08,0.09,0.09,0.1,0.09,0.09,0.09,0.09,0.09,0.12,0.11,0.11,0.11,0.12,0.12,0.13,0.13,0.14,0.14,0.12,0.12,0.24,0.34,0.38,0.36,0.37,0.37,0.38,0.39,0.4,0.4,0.4,0.41,0.54,0.65,0.66,0.79,0.9,0.91,1.04,1.15,1.16,1.15,1.15,1.16,1.3,1.41,1.42,1.51,1.67,1.7,1.82,1.91,1.91,1.95,2.19,2.2,2.27,2.4,2.4,2.41,2.42,2.39,2.38,2.4,2.13,2.04,1.83,1.55],\"y\":[1192.1341033086587,1193.0255800644838,1193.9170568203092,1193.9170568203092,1194.8085335761343,1193.9170568203092,1193.9170568203092,1193.9170568203092,1193.9170568203092,1193.9170568203092,1196.5914870877848,1195.7000103319594,1195.7000103319594,1195.7000103319594,1196.5914870877848,1196.5914870877848,1197.48296384361,1197.48296384361,1198.374440599435,1198.374440599435,1196.5914870877848,1196.5914870877848,1207.289208157687,1216.2039757159391,1219.7698827392398,1217.9869292275894,1218.8784059834147,1218.8784059834147,1219.7698827392398,1220.661359495065,1221.55283625089,1221.55283625089,1221.55283625089,1222.4443130067154,1234.033510832443,1243.83975514652,1244.7312319023454,1256.320429728073,1266.12667404215,1267.018150797975,1278.6073486237026,1288.4135929377799,1289.305069693605,1288.4135929377799,1288.4135929377799,1289.305069693605,1301.7857442751576,1311.591988589235,1312.48346534506,1320.5067561474868,1334.77038424069,1337.4448145081656,1348.142535578068,1356.1658263804945,1356.1658263804945,1359.7317334037953,1381.1271755436,1382.0186522994252,1388.2589895902015,1399.8481874159293,1399.8481874159293,1400.7396641717544,1401.6311409275795,1398.956710660104,1398.0652339042788,1399.8481874159293,1375.7783150086489,1367.755024206222,1349.034012333893,1324.0726631707876],\"type\":\"scatter\"}],                        {\"template\":{\"data\":{\"bar\":[{\"error_x\":{\"color\":\"#2a3f5f\"},\"error_y\":{\"color\":\"#2a3f5f\"},\"marker\":{\"line\":{\"color\":\"#E5ECF6\",\"width\":0.5},\"pattern\":{\"fillmode\":\"overlay\",\"size\":10,\"solidity\":0.2}},\"type\":\"bar\"}],\"barpolar\":[{\"marker\":{\"line\":{\"color\":\"#E5ECF6\",\"width\":0.5},\"pattern\":{\"fillmode\":\"overlay\",\"size\":10,\"solidity\":0.2}},\"type\":\"barpolar\"}],\"carpet\":[{\"aaxis\":{\"endlinecolor\":\"#2a3f5f\",\"gridcolor\":\"white\",\"linecolor\":\"white\",\"minorgridcolor\":\"white\",\"startlinecolor\":\"#2a3f5f\"},\"baxis\":{\"endlinecolor\":\"#2a3f5f\",\"gridcolor\":\"white\",\"linecolor\":\"white\",\"minorgridcolor\":\"white\",\"startlinecolor\":\"#2a3f5f\"},\"type\":\"carpet\"}],\"choropleth\":[{\"colorbar\":{\"outlinewidth\":0,\"ticks\":\"\"},\"type\":\"choropleth\"}],\"contour\":[{\"colorbar\":{\"outlinewidth\":0,\"ticks\":\"\"},\"colorscale\":[[0.0,\"#0d0887\"],[0.1111111111111111,\"#46039f\"],[0.2222222222222222,\"#7201a8\"],[0.3333333333333333,\"#9c179e\"],[0.4444444444444444,\"#bd3786\"],[0.5555555555555556,\"#d8576b\"],[0.6666666666666666,\"#ed7953\"],[0.7777777777777778,\"#fb9f3a\"],[0.8888888888888888,\"#fdca26\"],[1.0,\"#f0f921\"]],\"type\":\"contour\"}],\"contourcarpet\":[{\"colorbar\":{\"outlinewidth\":0,\"ticks\":\"\"},\"type\":\"contourcarpet\"}],\"heatmap\":[{\"colorbar\":{\"outlinewidth\":0,\"ticks\":\"\"},\"colorscale\":[[0.0,\"#0d0887\"],[0.1111111111111111,\"#46039f\"],[0.2222222222222222,\"#7201a8\"],[0.3333333333333333,\"#9c179e\"],[0.4444444444444444,\"#bd3786\"],[0.5555555555555556,\"#d8576b\"],[0.6666666666666666,\"#ed7953\"],[0.7777777777777778,\"#fb9f3a\"],[0.8888888888888888,\"#fdca26\"],[1.0,\"#f0f921\"]],\"type\":\"heatmap\"}],\"heatmapgl\":[{\"colorbar\":{\"outlinewidth\":0,\"ticks\":\"\"},\"colorscale\":[[0.0,\"#0d0887\"],[0.1111111111111111,\"#46039f\"],[0.2222222222222222,\"#7201a8\"],[0.3333333333333333,\"#9c179e\"],[0.4444444444444444,\"#bd3786\"],[0.5555555555555556,\"#d8576b\"],[0.6666666666666666,\"#ed7953\"],[0.7777777777777778,\"#fb9f3a\"],[0.8888888888888888,\"#fdca26\"],[1.0,\"#f0f921\"]],\"type\":\"heatmapgl\"}],\"histogram\":[{\"marker\":{\"pattern\":{\"fillmode\":\"overlay\",\"size\":10,\"solidity\":0.2}},\"type\":\"histogram\"}],\"histogram2d\":[{\"colorbar\":{\"outlinewidth\":0,\"ticks\":\"\"},\"colorscale\":[[0.0,\"#0d0887\"],[0.1111111111111111,\"#46039f\"],[0.2222222222222222,\"#7201a8\"],[0.3333333333333333,\"#9c179e\"],[0.4444444444444444,\"#bd3786\"],[0.5555555555555556,\"#d8576b\"],[0.6666666666666666,\"#ed7953\"],[0.7777777777777778,\"#fb9f3a\"],[0.8888888888888888,\"#fdca26\"],[1.0,\"#f0f921\"]],\"type\":\"histogram2d\"}],\"histogram2dcontour\":[{\"colorbar\":{\"outlinewidth\":0,\"ticks\":\"\"},\"colorscale\":[[0.0,\"#0d0887\"],[0.1111111111111111,\"#46039f\"],[0.2222222222222222,\"#7201a8\"],[0.3333333333333333,\"#9c179e\"],[0.4444444444444444,\"#bd3786\"],[0.5555555555555556,\"#d8576b\"],[0.6666666666666666,\"#ed7953\"],[0.7777777777777778,\"#fb9f3a\"],[0.8888888888888888,\"#fdca26\"],[1.0,\"#f0f921\"]],\"type\":\"histogram2dcontour\"}],\"mesh3d\":[{\"colorbar\":{\"outlinewidth\":0,\"ticks\":\"\"},\"type\":\"mesh3d\"}],\"parcoords\":[{\"line\":{\"colorbar\":{\"outlinewidth\":0,\"ticks\":\"\"}},\"type\":\"parcoords\"}],\"pie\":[{\"automargin\":true,\"type\":\"pie\"}],\"scatter\":[{\"marker\":{\"colorbar\":{\"outlinewidth\":0,\"ticks\":\"\"}},\"type\":\"scatter\"}],\"scatter3d\":[{\"line\":{\"colorbar\":{\"outlinewidth\":0,\"ticks\":\"\"}},\"marker\":{\"colorbar\":{\"outlinewidth\":0,\"ticks\":\"\"}},\"type\":\"scatter3d\"}],\"scattercarpet\":[{\"marker\":{\"colorbar\":{\"outlinewidth\":0,\"ticks\":\"\"}},\"type\":\"scattercarpet\"}],\"scattergeo\":[{\"marker\":{\"colorbar\":{\"outlinewidth\":0,\"ticks\":\"\"}},\"type\":\"scattergeo\"}],\"scattergl\":[{\"marker\":{\"colorbar\":{\"outlinewidth\":0,\"ticks\":\"\"}},\"type\":\"scattergl\"}],\"scattermapbox\":[{\"marker\":{\"colorbar\":{\"outlinewidth\":0,\"ticks\":\"\"}},\"type\":\"scattermapbox\"}],\"scatterpolar\":[{\"marker\":{\"colorbar\":{\"outlinewidth\":0,\"ticks\":\"\"}},\"type\":\"scatterpolar\"}],\"scatterpolargl\":[{\"marker\":{\"colorbar\":{\"outlinewidth\":0,\"ticks\":\"\"}},\"type\":\"scatterpolargl\"}],\"scatterternary\":[{\"marker\":{\"colorbar\":{\"outlinewidth\":0,\"ticks\":\"\"}},\"type\":\"scatterternary\"}],\"surface\":[{\"colorbar\":{\"outlinewidth\":0,\"ticks\":\"\"},\"colorscale\":[[0.0,\"#0d0887\"],[0.1111111111111111,\"#46039f\"],[0.2222222222222222,\"#7201a8\"],[0.3333333333333333,\"#9c179e\"],[0.4444444444444444,\"#bd3786\"],[0.5555555555555556,\"#d8576b\"],[0.6666666666666666,\"#ed7953\"],[0.7777777777777778,\"#fb9f3a\"],[0.8888888888888888,\"#fdca26\"],[1.0,\"#f0f921\"]],\"type\":\"surface\"}],\"table\":[{\"cells\":{\"fill\":{\"color\":\"#EBF0F8\"},\"line\":{\"color\":\"white\"}},\"header\":{\"fill\":{\"color\":\"#C8D4E3\"},\"line\":{\"color\":\"white\"}},\"type\":\"table\"}]},\"layout\":{\"annotationdefaults\":{\"arrowcolor\":\"#2a3f5f\",\"arrowhead\":0,\"arrowwidth\":1},\"autotypenumbers\":\"strict\",\"coloraxis\":{\"colorbar\":{\"outlinewidth\":0,\"ticks\":\"\"}},\"colorscale\":{\"diverging\":[[0,\"#8e0152\"],[0.1,\"#c51b7d\"],[0.2,\"#de77ae\"],[0.3,\"#f1b6da\"],[0.4,\"#fde0ef\"],[0.5,\"#f7f7f7\"],[0.6,\"#e6f5d0\"],[0.7,\"#b8e186\"],[0.8,\"#7fbc41\"],[0.9,\"#4d9221\"],[1,\"#276419\"]],\"sequential\":[[0.0,\"#0d0887\"],[0.1111111111111111,\"#46039f\"],[0.2222222222222222,\"#7201a8\"],[0.3333333333333333,\"#9c179e\"],[0.4444444444444444,\"#bd3786\"],[0.5555555555555556,\"#d8576b\"],[0.6666666666666666,\"#ed7953\"],[0.7777777777777778,\"#fb9f3a\"],[0.8888888888888888,\"#fdca26\"],[1.0,\"#f0f921\"]],\"sequentialminus\":[[0.0,\"#0d0887\"],[0.1111111111111111,\"#46039f\"],[0.2222222222222222,\"#7201a8\"],[0.3333333333333333,\"#9c179e\"],[0.4444444444444444,\"#bd3786\"],[0.5555555555555556,\"#d8576b\"],[0.6666666666666666,\"#ed7953\"],[0.7777777777777778,\"#fb9f3a\"],[0.8888888888888888,\"#fdca26\"],[1.0,\"#f0f921\"]]},\"colorway\":[\"#636efa\",\"#EF553B\",\"#00cc96\",\"#ab63fa\",\"#FFA15A\",\"#19d3f3\",\"#FF6692\",\"#B6E880\",\"#FF97FF\",\"#FECB52\"],\"font\":{\"color\":\"#2a3f5f\"},\"geo\":{\"bgcolor\":\"white\",\"lakecolor\":\"white\",\"landcolor\":\"#E5ECF6\",\"showlakes\":true,\"showland\":true,\"subunitcolor\":\"white\"},\"hoverlabel\":{\"align\":\"left\"},\"hovermode\":\"closest\",\"mapbox\":{\"style\":\"light\"},\"paper_bgcolor\":\"white\",\"plot_bgcolor\":\"#E5ECF6\",\"polar\":{\"angularaxis\":{\"gridcolor\":\"white\",\"linecolor\":\"white\",\"ticks\":\"\"},\"bgcolor\":\"#E5ECF6\",\"radialaxis\":{\"gridcolor\":\"white\",\"linecolor\":\"white\",\"ticks\":\"\"}},\"scene\":{\"xaxis\":{\"backgroundcolor\":\"#E5ECF6\",\"gridcolor\":\"white\",\"gridwidth\":2,\"linecolor\":\"white\",\"showbackground\":true,\"ticks\":\"\",\"zerolinecolor\":\"white\"},\"yaxis\":{\"backgroundcolor\":\"#E5ECF6\",\"gridcolor\":\"white\",\"gridwidth\":2,\"linecolor\":\"white\",\"showbackground\":true,\"ticks\":\"\",\"zerolinecolor\":\"white\"},\"zaxis\":{\"backgroundcolor\":\"#E5ECF6\",\"gridcolor\":\"white\",\"gridwidth\":2,\"linecolor\":\"white\",\"showbackground\":true,\"ticks\":\"\",\"zerolinecolor\":\"white\"}},\"shapedefaults\":{\"line\":{\"color\":\"#2a3f5f\"}},\"ternary\":{\"aaxis\":{\"gridcolor\":\"white\",\"linecolor\":\"white\",\"ticks\":\"\"},\"baxis\":{\"gridcolor\":\"white\",\"linecolor\":\"white\",\"ticks\":\"\"},\"bgcolor\":\"#E5ECF6\",\"caxis\":{\"gridcolor\":\"white\",\"linecolor\":\"white\",\"ticks\":\"\"}},\"title\":{\"x\":0.05},\"xaxis\":{\"automargin\":true,\"gridcolor\":\"white\",\"linecolor\":\"white\",\"ticks\":\"\",\"title\":{\"standoff\":15},\"zerolinecolor\":\"white\",\"zerolinewidth\":2},\"yaxis\":{\"automargin\":true,\"gridcolor\":\"white\",\"linecolor\":\"white\",\"ticks\":\"\",\"title\":{\"standoff\":15},\"zerolinecolor\":\"white\",\"zerolinewidth\":2}}},\"title\":{\"text\":\"Interest rate vs median rent Linear Regression in Dallas, TX, from 2014-02 to 2019-12\"},\"xaxis\":{\"title\":{\"text\":\"Effective Federal Funds Rate\"}},\"yaxis\":{\"title\":{\"text\":\"Dallas Rent\"}}},                        {\"responsive\": true}                    ).then(function(){\n",
       "                            \n",
       "var gd = document.getElementById('36608552-d154-417d-81a0-a83c29005daa');\n",
       "var x = new MutationObserver(function (mutations, observer) {{\n",
       "        var display = window.getComputedStyle(gd).display;\n",
       "        if (!display || display === 'none') {{\n",
       "            console.log([gd, 'removed!']);\n",
       "            Plotly.purge(gd);\n",
       "            observer.disconnect();\n",
       "        }}\n",
       "}});\n",
       "\n",
       "// Listen for the removal of the full notebook cells\n",
       "var notebookContainer = gd.closest('#notebook-container');\n",
       "if (notebookContainer) {{\n",
       "    x.observe(notebookContainer, {childList: true});\n",
       "}}\n",
       "\n",
       "// Listen for the clearing of the current output cell\n",
       "var outputEl = gd.closest('.output');\n",
       "if (outputEl) {{\n",
       "    x.observe(outputEl, {childList: true});\n",
       "}}\n",
       "\n",
       "                        })                };                });            </script>        </div>"
      ]
     },
     "metadata": {},
     "output_type": "display_data"
    },
    {
     "data": {
      "text/plain": [
       "'https://plotly.com/~edtsoi430/26/'"
      ]
     },
     "execution_count": 105,
     "metadata": {},
     "output_type": "execute_result"
    }
   ],
   "source": [
    "df = pd.DataFrame({'X': rate_fund, 'Y':dallas_rent})\n",
    "reg = LinearRegression().fit(np.vstack(df['X']), dallas_rent)\n",
    "df['bestfit'] = reg.predict(np.vstack(df['X']))\n",
    "fig=go.Figure()\n",
    "fig.add_trace(go.Scatter(name='Interest rate vs Median rent', x=df['X'], y=df['Y'].values, mode='markers'))\n",
    "fig.add_trace(go.Scatter(name='line of best fit', x=rate_fund, y=df['bestfit'], mode='lines'))\n",
    "\n",
    "fig.update_layout(title_text = 'Interest rate vs median rent Linear Regression in Dallas, TX, from 2014-02 to 2019-12', xaxis_title = 'Effective Federal Funds Rate', yaxis_title = 'Dallas Rent')\n",
    "\n",
    "fig.show()\n",
    "\n",
    "dallas_ml = fig\n",
    "py.plot(dallas_ml, filename=\"Interest rate vs median rent Linear Regression in Dallas, TX, from 2014-02 to 2019-12\", auto_open=False)"
   ]
  },
  {
   "cell_type": "code",
   "execution_count": 106,
   "metadata": {},
   "outputs": [
    {
     "data": {
      "application/vnd.plotly.v1+json": {
       "config": {
        "plotlyServerURL": "https://plotly.com"
       },
       "data": [
        {
         "mode": "markers",
         "name": "Interest rate vs Median rent",
         "type": "scatter",
         "x": [
          0.07,
          0.08,
          0.09,
          0.09,
          0.1,
          0.09,
          0.09,
          0.09,
          0.09,
          0.09,
          0.12,
          0.11,
          0.11,
          0.11,
          0.12,
          0.12,
          0.13,
          0.13,
          0.14,
          0.14,
          0.12,
          0.12,
          0.24,
          0.34,
          0.38,
          0.36,
          0.37,
          0.37,
          0.38,
          0.39,
          0.4,
          0.4,
          0.4,
          0.41,
          0.54,
          0.65,
          0.66,
          0.79,
          0.9,
          0.91,
          1.04,
          1.15,
          1.16,
          1.15,
          1.15,
          1.16,
          1.3,
          1.41,
          1.42,
          1.51,
          1.67,
          1.7,
          1.82,
          1.91,
          1.91,
          1.95,
          2.19,
          2.2,
          2.27,
          2.4,
          2.4,
          2.41,
          2.42,
          2.39,
          2.38,
          2.4,
          2.13,
          2.04,
          1.83,
          1.55
         ],
         "y": [
          495,
          499.5,
          520,
          500,
          525,
          510,
          525,
          525,
          525,
          525,
          515,
          512,
          529,
          525,
          529,
          529,
          527,
          535,
          525,
          525,
          527,
          605,
          556,
          560,
          552,
          559,
          550,
          550,
          525,
          569,
          579,
          536,
          572.5,
          575,
          588.5,
          575,
          600,
          604,
          600,
          629,
          629,
          639,
          620,
          599,
          600,
          600,
          615,
          622,
          625,
          625,
          625,
          625,
          644,
          639,
          639,
          620,
          625,
          629.5,
          635,
          650,
          650,
          660,
          695,
          680,
          675,
          680,
          695,
          707.5,
          700,
          700
         ]
        },
        {
         "mode": "lines",
         "name": "line of best fit",
         "type": "scatter",
         "x": [
          0.07,
          0.08,
          0.09,
          0.09,
          0.1,
          0.09,
          0.09,
          0.09,
          0.09,
          0.09,
          0.12,
          0.11,
          0.11,
          0.11,
          0.12,
          0.12,
          0.13,
          0.13,
          0.14,
          0.14,
          0.12,
          0.12,
          0.24,
          0.34,
          0.38,
          0.36,
          0.37,
          0.37,
          0.38,
          0.39,
          0.4,
          0.4,
          0.4,
          0.41,
          0.54,
          0.65,
          0.66,
          0.79,
          0.9,
          0.91,
          1.04,
          1.15,
          1.16,
          1.15,
          1.15,
          1.16,
          1.3,
          1.41,
          1.42,
          1.51,
          1.67,
          1.7,
          1.82,
          1.91,
          1.91,
          1.95,
          2.19,
          2.2,
          2.27,
          2.4,
          2.4,
          2.41,
          2.42,
          2.39,
          2.38,
          2.4,
          2.13,
          2.04,
          1.83,
          1.55
         ],
         "y": [
          532.5406885192266,
          533.1797029701243,
          533.8187174210219,
          533.8187174210219,
          534.4577318719196,
          533.8187174210219,
          533.8187174210219,
          533.8187174210219,
          533.8187174210219,
          533.8187174210219,
          535.7357607737149,
          535.0967463228172,
          535.0967463228172,
          535.0967463228172,
          535.7357607737149,
          535.7357607737149,
          536.3747752246126,
          536.3747752246126,
          537.0137896755102,
          537.0137896755102,
          535.7357607737149,
          535.7357607737149,
          543.4039341844867,
          549.7940786934632,
          552.3501364970539,
          551.0721075952586,
          551.7111220461562,
          551.7111220461562,
          552.3501364970539,
          552.9891509479515,
          553.6281653988492,
          553.6281653988492,
          553.6281653988492,
          554.2671798497469,
          562.5743677114164,
          569.6035266712905,
          570.2425411221882,
          578.5497289838577,
          585.5788879437318,
          586.2179023946295,
          594.525090256299,
          601.5542492161732,
          602.1932636670708,
          601.5542492161732,
          601.5542492161732,
          602.1932636670708,
          611.139465979638,
          618.1686249395121,
          618.8076393904098,
          624.5587694484886,
          634.7830006628511,
          636.7000440155441,
          644.3682174263159,
          650.1193474843948,
          650.1193474843948,
          652.6754052879854,
          668.0117521095291,
          668.6507665604267,
          673.1238677167103,
          681.4310555783798,
          681.4310555783798,
          682.0700700292774,
          682.7090844801751,
          680.7920411274821,
          680.1530266765844,
          681.4310555783798,
          664.1776654041431,
          658.4265353460643,
          645.0072318772136,
          627.1148272520793
         ]
        }
       ],
       "layout": {
        "template": {
         "data": {
          "bar": [
           {
            "error_x": {
             "color": "#2a3f5f"
            },
            "error_y": {
             "color": "#2a3f5f"
            },
            "marker": {
             "line": {
              "color": "#E5ECF6",
              "width": 0.5
             },
             "pattern": {
              "fillmode": "overlay",
              "size": 10,
              "solidity": 0.2
             }
            },
            "type": "bar"
           }
          ],
          "barpolar": [
           {
            "marker": {
             "line": {
              "color": "#E5ECF6",
              "width": 0.5
             },
             "pattern": {
              "fillmode": "overlay",
              "size": 10,
              "solidity": 0.2
             }
            },
            "type": "barpolar"
           }
          ],
          "carpet": [
           {
            "aaxis": {
             "endlinecolor": "#2a3f5f",
             "gridcolor": "white",
             "linecolor": "white",
             "minorgridcolor": "white",
             "startlinecolor": "#2a3f5f"
            },
            "baxis": {
             "endlinecolor": "#2a3f5f",
             "gridcolor": "white",
             "linecolor": "white",
             "minorgridcolor": "white",
             "startlinecolor": "#2a3f5f"
            },
            "type": "carpet"
           }
          ],
          "choropleth": [
           {
            "colorbar": {
             "outlinewidth": 0,
             "ticks": ""
            },
            "type": "choropleth"
           }
          ],
          "contour": [
           {
            "colorbar": {
             "outlinewidth": 0,
             "ticks": ""
            },
            "colorscale": [
             [
              0,
              "#0d0887"
             ],
             [
              0.1111111111111111,
              "#46039f"
             ],
             [
              0.2222222222222222,
              "#7201a8"
             ],
             [
              0.3333333333333333,
              "#9c179e"
             ],
             [
              0.4444444444444444,
              "#bd3786"
             ],
             [
              0.5555555555555556,
              "#d8576b"
             ],
             [
              0.6666666666666666,
              "#ed7953"
             ],
             [
              0.7777777777777778,
              "#fb9f3a"
             ],
             [
              0.8888888888888888,
              "#fdca26"
             ],
             [
              1,
              "#f0f921"
             ]
            ],
            "type": "contour"
           }
          ],
          "contourcarpet": [
           {
            "colorbar": {
             "outlinewidth": 0,
             "ticks": ""
            },
            "type": "contourcarpet"
           }
          ],
          "heatmap": [
           {
            "colorbar": {
             "outlinewidth": 0,
             "ticks": ""
            },
            "colorscale": [
             [
              0,
              "#0d0887"
             ],
             [
              0.1111111111111111,
              "#46039f"
             ],
             [
              0.2222222222222222,
              "#7201a8"
             ],
             [
              0.3333333333333333,
              "#9c179e"
             ],
             [
              0.4444444444444444,
              "#bd3786"
             ],
             [
              0.5555555555555556,
              "#d8576b"
             ],
             [
              0.6666666666666666,
              "#ed7953"
             ],
             [
              0.7777777777777778,
              "#fb9f3a"
             ],
             [
              0.8888888888888888,
              "#fdca26"
             ],
             [
              1,
              "#f0f921"
             ]
            ],
            "type": "heatmap"
           }
          ],
          "heatmapgl": [
           {
            "colorbar": {
             "outlinewidth": 0,
             "ticks": ""
            },
            "colorscale": [
             [
              0,
              "#0d0887"
             ],
             [
              0.1111111111111111,
              "#46039f"
             ],
             [
              0.2222222222222222,
              "#7201a8"
             ],
             [
              0.3333333333333333,
              "#9c179e"
             ],
             [
              0.4444444444444444,
              "#bd3786"
             ],
             [
              0.5555555555555556,
              "#d8576b"
             ],
             [
              0.6666666666666666,
              "#ed7953"
             ],
             [
              0.7777777777777778,
              "#fb9f3a"
             ],
             [
              0.8888888888888888,
              "#fdca26"
             ],
             [
              1,
              "#f0f921"
             ]
            ],
            "type": "heatmapgl"
           }
          ],
          "histogram": [
           {
            "marker": {
             "pattern": {
              "fillmode": "overlay",
              "size": 10,
              "solidity": 0.2
             }
            },
            "type": "histogram"
           }
          ],
          "histogram2d": [
           {
            "colorbar": {
             "outlinewidth": 0,
             "ticks": ""
            },
            "colorscale": [
             [
              0,
              "#0d0887"
             ],
             [
              0.1111111111111111,
              "#46039f"
             ],
             [
              0.2222222222222222,
              "#7201a8"
             ],
             [
              0.3333333333333333,
              "#9c179e"
             ],
             [
              0.4444444444444444,
              "#bd3786"
             ],
             [
              0.5555555555555556,
              "#d8576b"
             ],
             [
              0.6666666666666666,
              "#ed7953"
             ],
             [
              0.7777777777777778,
              "#fb9f3a"
             ],
             [
              0.8888888888888888,
              "#fdca26"
             ],
             [
              1,
              "#f0f921"
             ]
            ],
            "type": "histogram2d"
           }
          ],
          "histogram2dcontour": [
           {
            "colorbar": {
             "outlinewidth": 0,
             "ticks": ""
            },
            "colorscale": [
             [
              0,
              "#0d0887"
             ],
             [
              0.1111111111111111,
              "#46039f"
             ],
             [
              0.2222222222222222,
              "#7201a8"
             ],
             [
              0.3333333333333333,
              "#9c179e"
             ],
             [
              0.4444444444444444,
              "#bd3786"
             ],
             [
              0.5555555555555556,
              "#d8576b"
             ],
             [
              0.6666666666666666,
              "#ed7953"
             ],
             [
              0.7777777777777778,
              "#fb9f3a"
             ],
             [
              0.8888888888888888,
              "#fdca26"
             ],
             [
              1,
              "#f0f921"
             ]
            ],
            "type": "histogram2dcontour"
           }
          ],
          "mesh3d": [
           {
            "colorbar": {
             "outlinewidth": 0,
             "ticks": ""
            },
            "type": "mesh3d"
           }
          ],
          "parcoords": [
           {
            "line": {
             "colorbar": {
              "outlinewidth": 0,
              "ticks": ""
             }
            },
            "type": "parcoords"
           }
          ],
          "pie": [
           {
            "automargin": true,
            "type": "pie"
           }
          ],
          "scatter": [
           {
            "marker": {
             "colorbar": {
              "outlinewidth": 0,
              "ticks": ""
             }
            },
            "type": "scatter"
           }
          ],
          "scatter3d": [
           {
            "line": {
             "colorbar": {
              "outlinewidth": 0,
              "ticks": ""
             }
            },
            "marker": {
             "colorbar": {
              "outlinewidth": 0,
              "ticks": ""
             }
            },
            "type": "scatter3d"
           }
          ],
          "scattercarpet": [
           {
            "marker": {
             "colorbar": {
              "outlinewidth": 0,
              "ticks": ""
             }
            },
            "type": "scattercarpet"
           }
          ],
          "scattergeo": [
           {
            "marker": {
             "colorbar": {
              "outlinewidth": 0,
              "ticks": ""
             }
            },
            "type": "scattergeo"
           }
          ],
          "scattergl": [
           {
            "marker": {
             "colorbar": {
              "outlinewidth": 0,
              "ticks": ""
             }
            },
            "type": "scattergl"
           }
          ],
          "scattermapbox": [
           {
            "marker": {
             "colorbar": {
              "outlinewidth": 0,
              "ticks": ""
             }
            },
            "type": "scattermapbox"
           }
          ],
          "scatterpolar": [
           {
            "marker": {
             "colorbar": {
              "outlinewidth": 0,
              "ticks": ""
             }
            },
            "type": "scatterpolar"
           }
          ],
          "scatterpolargl": [
           {
            "marker": {
             "colorbar": {
              "outlinewidth": 0,
              "ticks": ""
             }
            },
            "type": "scatterpolargl"
           }
          ],
          "scatterternary": [
           {
            "marker": {
             "colorbar": {
              "outlinewidth": 0,
              "ticks": ""
             }
            },
            "type": "scatterternary"
           }
          ],
          "surface": [
           {
            "colorbar": {
             "outlinewidth": 0,
             "ticks": ""
            },
            "colorscale": [
             [
              0,
              "#0d0887"
             ],
             [
              0.1111111111111111,
              "#46039f"
             ],
             [
              0.2222222222222222,
              "#7201a8"
             ],
             [
              0.3333333333333333,
              "#9c179e"
             ],
             [
              0.4444444444444444,
              "#bd3786"
             ],
             [
              0.5555555555555556,
              "#d8576b"
             ],
             [
              0.6666666666666666,
              "#ed7953"
             ],
             [
              0.7777777777777778,
              "#fb9f3a"
             ],
             [
              0.8888888888888888,
              "#fdca26"
             ],
             [
              1,
              "#f0f921"
             ]
            ],
            "type": "surface"
           }
          ],
          "table": [
           {
            "cells": {
             "fill": {
              "color": "#EBF0F8"
             },
             "line": {
              "color": "white"
             }
            },
            "header": {
             "fill": {
              "color": "#C8D4E3"
             },
             "line": {
              "color": "white"
             }
            },
            "type": "table"
           }
          ]
         },
         "layout": {
          "annotationdefaults": {
           "arrowcolor": "#2a3f5f",
           "arrowhead": 0,
           "arrowwidth": 1
          },
          "autotypenumbers": "strict",
          "coloraxis": {
           "colorbar": {
            "outlinewidth": 0,
            "ticks": ""
           }
          },
          "colorscale": {
           "diverging": [
            [
             0,
             "#8e0152"
            ],
            [
             0.1,
             "#c51b7d"
            ],
            [
             0.2,
             "#de77ae"
            ],
            [
             0.3,
             "#f1b6da"
            ],
            [
             0.4,
             "#fde0ef"
            ],
            [
             0.5,
             "#f7f7f7"
            ],
            [
             0.6,
             "#e6f5d0"
            ],
            [
             0.7,
             "#b8e186"
            ],
            [
             0.8,
             "#7fbc41"
            ],
            [
             0.9,
             "#4d9221"
            ],
            [
             1,
             "#276419"
            ]
           ],
           "sequential": [
            [
             0,
             "#0d0887"
            ],
            [
             0.1111111111111111,
             "#46039f"
            ],
            [
             0.2222222222222222,
             "#7201a8"
            ],
            [
             0.3333333333333333,
             "#9c179e"
            ],
            [
             0.4444444444444444,
             "#bd3786"
            ],
            [
             0.5555555555555556,
             "#d8576b"
            ],
            [
             0.6666666666666666,
             "#ed7953"
            ],
            [
             0.7777777777777778,
             "#fb9f3a"
            ],
            [
             0.8888888888888888,
             "#fdca26"
            ],
            [
             1,
             "#f0f921"
            ]
           ],
           "sequentialminus": [
            [
             0,
             "#0d0887"
            ],
            [
             0.1111111111111111,
             "#46039f"
            ],
            [
             0.2222222222222222,
             "#7201a8"
            ],
            [
             0.3333333333333333,
             "#9c179e"
            ],
            [
             0.4444444444444444,
             "#bd3786"
            ],
            [
             0.5555555555555556,
             "#d8576b"
            ],
            [
             0.6666666666666666,
             "#ed7953"
            ],
            [
             0.7777777777777778,
             "#fb9f3a"
            ],
            [
             0.8888888888888888,
             "#fdca26"
            ],
            [
             1,
             "#f0f921"
            ]
           ]
          },
          "colorway": [
           "#636efa",
           "#EF553B",
           "#00cc96",
           "#ab63fa",
           "#FFA15A",
           "#19d3f3",
           "#FF6692",
           "#B6E880",
           "#FF97FF",
           "#FECB52"
          ],
          "font": {
           "color": "#2a3f5f"
          },
          "geo": {
           "bgcolor": "white",
           "lakecolor": "white",
           "landcolor": "#E5ECF6",
           "showlakes": true,
           "showland": true,
           "subunitcolor": "white"
          },
          "hoverlabel": {
           "align": "left"
          },
          "hovermode": "closest",
          "mapbox": {
           "style": "light"
          },
          "paper_bgcolor": "white",
          "plot_bgcolor": "#E5ECF6",
          "polar": {
           "angularaxis": {
            "gridcolor": "white",
            "linecolor": "white",
            "ticks": ""
           },
           "bgcolor": "#E5ECF6",
           "radialaxis": {
            "gridcolor": "white",
            "linecolor": "white",
            "ticks": ""
           }
          },
          "scene": {
           "xaxis": {
            "backgroundcolor": "#E5ECF6",
            "gridcolor": "white",
            "gridwidth": 2,
            "linecolor": "white",
            "showbackground": true,
            "ticks": "",
            "zerolinecolor": "white"
           },
           "yaxis": {
            "backgroundcolor": "#E5ECF6",
            "gridcolor": "white",
            "gridwidth": 2,
            "linecolor": "white",
            "showbackground": true,
            "ticks": "",
            "zerolinecolor": "white"
           },
           "zaxis": {
            "backgroundcolor": "#E5ECF6",
            "gridcolor": "white",
            "gridwidth": 2,
            "linecolor": "white",
            "showbackground": true,
            "ticks": "",
            "zerolinecolor": "white"
           }
          },
          "shapedefaults": {
           "line": {
            "color": "#2a3f5f"
           }
          },
          "ternary": {
           "aaxis": {
            "gridcolor": "white",
            "linecolor": "white",
            "ticks": ""
           },
           "baxis": {
            "gridcolor": "white",
            "linecolor": "white",
            "ticks": ""
           },
           "bgcolor": "#E5ECF6",
           "caxis": {
            "gridcolor": "white",
            "linecolor": "white",
            "ticks": ""
           }
          },
          "title": {
           "x": 0.05
          },
          "xaxis": {
           "automargin": true,
           "gridcolor": "white",
           "linecolor": "white",
           "ticks": "",
           "title": {
            "standoff": 15
           },
           "zerolinecolor": "white",
           "zerolinewidth": 2
          },
          "yaxis": {
           "automargin": true,
           "gridcolor": "white",
           "linecolor": "white",
           "ticks": "",
           "title": {
            "standoff": 15
           },
           "zerolinecolor": "white",
           "zerolinewidth": 2
          }
         }
        },
        "title": {
         "text": "Interest rate vs median rent Linear Regression in Tucson, AZ, from 2014-02 to 2019-12"
        },
        "xaxis": {
         "title": {
          "text": "Effective Federal Funds Rate"
         }
        },
        "yaxis": {
         "title": {
          "text": "Tucson Rent"
         }
        }
       }
      },
      "text/html": [
       "<div>                            <div id=\"888528fe-9faf-4e40-8345-aa835643323a\" class=\"plotly-graph-div\" style=\"height:525px; width:100%;\"></div>            <script type=\"text/javascript\">                require([\"plotly\"], function(Plotly) {                    window.PLOTLYENV=window.PLOTLYENV || {};                                    if (document.getElementById(\"888528fe-9faf-4e40-8345-aa835643323a\")) {                    Plotly.newPlot(                        \"888528fe-9faf-4e40-8345-aa835643323a\",                        [{\"mode\":\"markers\",\"name\":\"Interest rate vs Median rent\",\"x\":[0.07,0.08,0.09,0.09,0.1,0.09,0.09,0.09,0.09,0.09,0.12,0.11,0.11,0.11,0.12,0.12,0.13,0.13,0.14,0.14,0.12,0.12,0.24,0.34,0.38,0.36,0.37,0.37,0.38,0.39,0.4,0.4,0.4,0.41,0.54,0.65,0.66,0.79,0.9,0.91,1.04,1.15,1.16,1.15,1.15,1.16,1.3,1.41,1.42,1.51,1.67,1.7,1.82,1.91,1.91,1.95,2.19,2.2,2.27,2.4,2.4,2.41,2.42,2.39,2.38,2.4,2.13,2.04,1.83,1.55],\"y\":[495.0,499.5,520.0,500.0,525.0,510.0,525.0,525.0,525.0,525.0,515.0,512.0,529.0,525.0,529.0,529.0,527.0,535.0,525.0,525.0,527.0,605.0,556.0,560.0,552.0,559.0,550.0,550.0,525.0,569.0,579.0,536.0,572.5,575.0,588.5,575.0,600.0,604.0,600.0,629.0,629.0,639.0,620.0,599.0,600.0,600.0,615.0,622.0,625.0,625.0,625.0,625.0,644.0,639.0,639.0,620.0,625.0,629.5,635.0,650.0,650.0,660.0,695.0,680.0,675.0,680.0,695.0,707.5,700.0,700.0],\"type\":\"scatter\"},{\"mode\":\"lines\",\"name\":\"line of best fit\",\"x\":[0.07,0.08,0.09,0.09,0.1,0.09,0.09,0.09,0.09,0.09,0.12,0.11,0.11,0.11,0.12,0.12,0.13,0.13,0.14,0.14,0.12,0.12,0.24,0.34,0.38,0.36,0.37,0.37,0.38,0.39,0.4,0.4,0.4,0.41,0.54,0.65,0.66,0.79,0.9,0.91,1.04,1.15,1.16,1.15,1.15,1.16,1.3,1.41,1.42,1.51,1.67,1.7,1.82,1.91,1.91,1.95,2.19,2.2,2.27,2.4,2.4,2.41,2.42,2.39,2.38,2.4,2.13,2.04,1.83,1.55],\"y\":[532.5406885192266,533.1797029701243,533.8187174210219,533.8187174210219,534.4577318719196,533.8187174210219,533.8187174210219,533.8187174210219,533.8187174210219,533.8187174210219,535.7357607737149,535.0967463228172,535.0967463228172,535.0967463228172,535.7357607737149,535.7357607737149,536.3747752246126,536.3747752246126,537.0137896755102,537.0137896755102,535.7357607737149,535.7357607737149,543.4039341844867,549.7940786934632,552.3501364970539,551.0721075952586,551.7111220461562,551.7111220461562,552.3501364970539,552.9891509479515,553.6281653988492,553.6281653988492,553.6281653988492,554.2671798497469,562.5743677114164,569.6035266712905,570.2425411221882,578.5497289838577,585.5788879437318,586.2179023946295,594.525090256299,601.5542492161732,602.1932636670708,601.5542492161732,601.5542492161732,602.1932636670708,611.139465979638,618.1686249395121,618.8076393904098,624.5587694484886,634.7830006628511,636.7000440155441,644.3682174263159,650.1193474843948,650.1193474843948,652.6754052879854,668.0117521095291,668.6507665604267,673.1238677167103,681.4310555783798,681.4310555783798,682.0700700292774,682.7090844801751,680.7920411274821,680.1530266765844,681.4310555783798,664.1776654041431,658.4265353460643,645.0072318772136,627.1148272520793],\"type\":\"scatter\"}],                        {\"template\":{\"data\":{\"bar\":[{\"error_x\":{\"color\":\"#2a3f5f\"},\"error_y\":{\"color\":\"#2a3f5f\"},\"marker\":{\"line\":{\"color\":\"#E5ECF6\",\"width\":0.5},\"pattern\":{\"fillmode\":\"overlay\",\"size\":10,\"solidity\":0.2}},\"type\":\"bar\"}],\"barpolar\":[{\"marker\":{\"line\":{\"color\":\"#E5ECF6\",\"width\":0.5},\"pattern\":{\"fillmode\":\"overlay\",\"size\":10,\"solidity\":0.2}},\"type\":\"barpolar\"}],\"carpet\":[{\"aaxis\":{\"endlinecolor\":\"#2a3f5f\",\"gridcolor\":\"white\",\"linecolor\":\"white\",\"minorgridcolor\":\"white\",\"startlinecolor\":\"#2a3f5f\"},\"baxis\":{\"endlinecolor\":\"#2a3f5f\",\"gridcolor\":\"white\",\"linecolor\":\"white\",\"minorgridcolor\":\"white\",\"startlinecolor\":\"#2a3f5f\"},\"type\":\"carpet\"}],\"choropleth\":[{\"colorbar\":{\"outlinewidth\":0,\"ticks\":\"\"},\"type\":\"choropleth\"}],\"contour\":[{\"colorbar\":{\"outlinewidth\":0,\"ticks\":\"\"},\"colorscale\":[[0.0,\"#0d0887\"],[0.1111111111111111,\"#46039f\"],[0.2222222222222222,\"#7201a8\"],[0.3333333333333333,\"#9c179e\"],[0.4444444444444444,\"#bd3786\"],[0.5555555555555556,\"#d8576b\"],[0.6666666666666666,\"#ed7953\"],[0.7777777777777778,\"#fb9f3a\"],[0.8888888888888888,\"#fdca26\"],[1.0,\"#f0f921\"]],\"type\":\"contour\"}],\"contourcarpet\":[{\"colorbar\":{\"outlinewidth\":0,\"ticks\":\"\"},\"type\":\"contourcarpet\"}],\"heatmap\":[{\"colorbar\":{\"outlinewidth\":0,\"ticks\":\"\"},\"colorscale\":[[0.0,\"#0d0887\"],[0.1111111111111111,\"#46039f\"],[0.2222222222222222,\"#7201a8\"],[0.3333333333333333,\"#9c179e\"],[0.4444444444444444,\"#bd3786\"],[0.5555555555555556,\"#d8576b\"],[0.6666666666666666,\"#ed7953\"],[0.7777777777777778,\"#fb9f3a\"],[0.8888888888888888,\"#fdca26\"],[1.0,\"#f0f921\"]],\"type\":\"heatmap\"}],\"heatmapgl\":[{\"colorbar\":{\"outlinewidth\":0,\"ticks\":\"\"},\"colorscale\":[[0.0,\"#0d0887\"],[0.1111111111111111,\"#46039f\"],[0.2222222222222222,\"#7201a8\"],[0.3333333333333333,\"#9c179e\"],[0.4444444444444444,\"#bd3786\"],[0.5555555555555556,\"#d8576b\"],[0.6666666666666666,\"#ed7953\"],[0.7777777777777778,\"#fb9f3a\"],[0.8888888888888888,\"#fdca26\"],[1.0,\"#f0f921\"]],\"type\":\"heatmapgl\"}],\"histogram\":[{\"marker\":{\"pattern\":{\"fillmode\":\"overlay\",\"size\":10,\"solidity\":0.2}},\"type\":\"histogram\"}],\"histogram2d\":[{\"colorbar\":{\"outlinewidth\":0,\"ticks\":\"\"},\"colorscale\":[[0.0,\"#0d0887\"],[0.1111111111111111,\"#46039f\"],[0.2222222222222222,\"#7201a8\"],[0.3333333333333333,\"#9c179e\"],[0.4444444444444444,\"#bd3786\"],[0.5555555555555556,\"#d8576b\"],[0.6666666666666666,\"#ed7953\"],[0.7777777777777778,\"#fb9f3a\"],[0.8888888888888888,\"#fdca26\"],[1.0,\"#f0f921\"]],\"type\":\"histogram2d\"}],\"histogram2dcontour\":[{\"colorbar\":{\"outlinewidth\":0,\"ticks\":\"\"},\"colorscale\":[[0.0,\"#0d0887\"],[0.1111111111111111,\"#46039f\"],[0.2222222222222222,\"#7201a8\"],[0.3333333333333333,\"#9c179e\"],[0.4444444444444444,\"#bd3786\"],[0.5555555555555556,\"#d8576b\"],[0.6666666666666666,\"#ed7953\"],[0.7777777777777778,\"#fb9f3a\"],[0.8888888888888888,\"#fdca26\"],[1.0,\"#f0f921\"]],\"type\":\"histogram2dcontour\"}],\"mesh3d\":[{\"colorbar\":{\"outlinewidth\":0,\"ticks\":\"\"},\"type\":\"mesh3d\"}],\"parcoords\":[{\"line\":{\"colorbar\":{\"outlinewidth\":0,\"ticks\":\"\"}},\"type\":\"parcoords\"}],\"pie\":[{\"automargin\":true,\"type\":\"pie\"}],\"scatter\":[{\"marker\":{\"colorbar\":{\"outlinewidth\":0,\"ticks\":\"\"}},\"type\":\"scatter\"}],\"scatter3d\":[{\"line\":{\"colorbar\":{\"outlinewidth\":0,\"ticks\":\"\"}},\"marker\":{\"colorbar\":{\"outlinewidth\":0,\"ticks\":\"\"}},\"type\":\"scatter3d\"}],\"scattercarpet\":[{\"marker\":{\"colorbar\":{\"outlinewidth\":0,\"ticks\":\"\"}},\"type\":\"scattercarpet\"}],\"scattergeo\":[{\"marker\":{\"colorbar\":{\"outlinewidth\":0,\"ticks\":\"\"}},\"type\":\"scattergeo\"}],\"scattergl\":[{\"marker\":{\"colorbar\":{\"outlinewidth\":0,\"ticks\":\"\"}},\"type\":\"scattergl\"}],\"scattermapbox\":[{\"marker\":{\"colorbar\":{\"outlinewidth\":0,\"ticks\":\"\"}},\"type\":\"scattermapbox\"}],\"scatterpolar\":[{\"marker\":{\"colorbar\":{\"outlinewidth\":0,\"ticks\":\"\"}},\"type\":\"scatterpolar\"}],\"scatterpolargl\":[{\"marker\":{\"colorbar\":{\"outlinewidth\":0,\"ticks\":\"\"}},\"type\":\"scatterpolargl\"}],\"scatterternary\":[{\"marker\":{\"colorbar\":{\"outlinewidth\":0,\"ticks\":\"\"}},\"type\":\"scatterternary\"}],\"surface\":[{\"colorbar\":{\"outlinewidth\":0,\"ticks\":\"\"},\"colorscale\":[[0.0,\"#0d0887\"],[0.1111111111111111,\"#46039f\"],[0.2222222222222222,\"#7201a8\"],[0.3333333333333333,\"#9c179e\"],[0.4444444444444444,\"#bd3786\"],[0.5555555555555556,\"#d8576b\"],[0.6666666666666666,\"#ed7953\"],[0.7777777777777778,\"#fb9f3a\"],[0.8888888888888888,\"#fdca26\"],[1.0,\"#f0f921\"]],\"type\":\"surface\"}],\"table\":[{\"cells\":{\"fill\":{\"color\":\"#EBF0F8\"},\"line\":{\"color\":\"white\"}},\"header\":{\"fill\":{\"color\":\"#C8D4E3\"},\"line\":{\"color\":\"white\"}},\"type\":\"table\"}]},\"layout\":{\"annotationdefaults\":{\"arrowcolor\":\"#2a3f5f\",\"arrowhead\":0,\"arrowwidth\":1},\"autotypenumbers\":\"strict\",\"coloraxis\":{\"colorbar\":{\"outlinewidth\":0,\"ticks\":\"\"}},\"colorscale\":{\"diverging\":[[0,\"#8e0152\"],[0.1,\"#c51b7d\"],[0.2,\"#de77ae\"],[0.3,\"#f1b6da\"],[0.4,\"#fde0ef\"],[0.5,\"#f7f7f7\"],[0.6,\"#e6f5d0\"],[0.7,\"#b8e186\"],[0.8,\"#7fbc41\"],[0.9,\"#4d9221\"],[1,\"#276419\"]],\"sequential\":[[0.0,\"#0d0887\"],[0.1111111111111111,\"#46039f\"],[0.2222222222222222,\"#7201a8\"],[0.3333333333333333,\"#9c179e\"],[0.4444444444444444,\"#bd3786\"],[0.5555555555555556,\"#d8576b\"],[0.6666666666666666,\"#ed7953\"],[0.7777777777777778,\"#fb9f3a\"],[0.8888888888888888,\"#fdca26\"],[1.0,\"#f0f921\"]],\"sequentialminus\":[[0.0,\"#0d0887\"],[0.1111111111111111,\"#46039f\"],[0.2222222222222222,\"#7201a8\"],[0.3333333333333333,\"#9c179e\"],[0.4444444444444444,\"#bd3786\"],[0.5555555555555556,\"#d8576b\"],[0.6666666666666666,\"#ed7953\"],[0.7777777777777778,\"#fb9f3a\"],[0.8888888888888888,\"#fdca26\"],[1.0,\"#f0f921\"]]},\"colorway\":[\"#636efa\",\"#EF553B\",\"#00cc96\",\"#ab63fa\",\"#FFA15A\",\"#19d3f3\",\"#FF6692\",\"#B6E880\",\"#FF97FF\",\"#FECB52\"],\"font\":{\"color\":\"#2a3f5f\"},\"geo\":{\"bgcolor\":\"white\",\"lakecolor\":\"white\",\"landcolor\":\"#E5ECF6\",\"showlakes\":true,\"showland\":true,\"subunitcolor\":\"white\"},\"hoverlabel\":{\"align\":\"left\"},\"hovermode\":\"closest\",\"mapbox\":{\"style\":\"light\"},\"paper_bgcolor\":\"white\",\"plot_bgcolor\":\"#E5ECF6\",\"polar\":{\"angularaxis\":{\"gridcolor\":\"white\",\"linecolor\":\"white\",\"ticks\":\"\"},\"bgcolor\":\"#E5ECF6\",\"radialaxis\":{\"gridcolor\":\"white\",\"linecolor\":\"white\",\"ticks\":\"\"}},\"scene\":{\"xaxis\":{\"backgroundcolor\":\"#E5ECF6\",\"gridcolor\":\"white\",\"gridwidth\":2,\"linecolor\":\"white\",\"showbackground\":true,\"ticks\":\"\",\"zerolinecolor\":\"white\"},\"yaxis\":{\"backgroundcolor\":\"#E5ECF6\",\"gridcolor\":\"white\",\"gridwidth\":2,\"linecolor\":\"white\",\"showbackground\":true,\"ticks\":\"\",\"zerolinecolor\":\"white\"},\"zaxis\":{\"backgroundcolor\":\"#E5ECF6\",\"gridcolor\":\"white\",\"gridwidth\":2,\"linecolor\":\"white\",\"showbackground\":true,\"ticks\":\"\",\"zerolinecolor\":\"white\"}},\"shapedefaults\":{\"line\":{\"color\":\"#2a3f5f\"}},\"ternary\":{\"aaxis\":{\"gridcolor\":\"white\",\"linecolor\":\"white\",\"ticks\":\"\"},\"baxis\":{\"gridcolor\":\"white\",\"linecolor\":\"white\",\"ticks\":\"\"},\"bgcolor\":\"#E5ECF6\",\"caxis\":{\"gridcolor\":\"white\",\"linecolor\":\"white\",\"ticks\":\"\"}},\"title\":{\"x\":0.05},\"xaxis\":{\"automargin\":true,\"gridcolor\":\"white\",\"linecolor\":\"white\",\"ticks\":\"\",\"title\":{\"standoff\":15},\"zerolinecolor\":\"white\",\"zerolinewidth\":2},\"yaxis\":{\"automargin\":true,\"gridcolor\":\"white\",\"linecolor\":\"white\",\"ticks\":\"\",\"title\":{\"standoff\":15},\"zerolinecolor\":\"white\",\"zerolinewidth\":2}}},\"title\":{\"text\":\"Interest rate vs median rent Linear Regression in Tucson, AZ, from 2014-02 to 2019-12\"},\"xaxis\":{\"title\":{\"text\":\"Effective Federal Funds Rate\"}},\"yaxis\":{\"title\":{\"text\":\"Tucson Rent\"}}},                        {\"responsive\": true}                    ).then(function(){\n",
       "                            \n",
       "var gd = document.getElementById('888528fe-9faf-4e40-8345-aa835643323a');\n",
       "var x = new MutationObserver(function (mutations, observer) {{\n",
       "        var display = window.getComputedStyle(gd).display;\n",
       "        if (!display || display === 'none') {{\n",
       "            console.log([gd, 'removed!']);\n",
       "            Plotly.purge(gd);\n",
       "            observer.disconnect();\n",
       "        }}\n",
       "}});\n",
       "\n",
       "// Listen for the removal of the full notebook cells\n",
       "var notebookContainer = gd.closest('#notebook-container');\n",
       "if (notebookContainer) {{\n",
       "    x.observe(notebookContainer, {childList: true});\n",
       "}}\n",
       "\n",
       "// Listen for the clearing of the current output cell\n",
       "var outputEl = gd.closest('.output');\n",
       "if (outputEl) {{\n",
       "    x.observe(outputEl, {childList: true});\n",
       "}}\n",
       "\n",
       "                        })                };                });            </script>        </div>"
      ]
     },
     "metadata": {},
     "output_type": "display_data"
    },
    {
     "data": {
      "text/plain": [
       "'https://plotly.com/~edtsoi430/28/'"
      ]
     },
     "execution_count": 106,
     "metadata": {},
     "output_type": "execute_result"
    }
   ],
   "source": [
    "df = pd.DataFrame({'X': rate_fund, 'Y':tucson_rent})\n",
    "reg = LinearRegression().fit(np.vstack(df['X']), tucson_rent)\n",
    "df['bestfit'] = reg.predict(np.vstack(df['X']))\n",
    "fig=go.Figure()\n",
    "fig.add_trace(go.Scatter(name='Interest rate vs Median rent', x=df['X'], y=df['Y'].values, mode='markers'))\n",
    "fig.add_trace(go.Scatter(name='line of best fit', x=rate_fund, y=df['bestfit'], mode='lines'))\n",
    "\n",
    "fig.update_layout(title_text = 'Interest rate vs median rent Linear Regression in Tucson, AZ, from 2014-02 to 2019-12', xaxis_title = 'Effective Federal Funds Rate', yaxis_title = 'Tucson Rent')\n",
    "\n",
    "fig.show()\n",
    "tucson_ml = fig\n",
    "py.plot(tucson_ml, filename=\"Interest rate vs median rent Linear Regression in Tucson, AZ, from 2014-02 to 2019-12\", auto_open=False)"
   ]
  },
  {
   "cell_type": "code",
   "execution_count": 107,
   "metadata": {},
   "outputs": [
    {
     "data": {
      "application/vnd.plotly.v1+json": {
       "config": {
        "plotlyServerURL": "https://plotly.com"
       },
       "data": [
        {
         "mode": "markers",
         "name": "Interest rate vs Median rent",
         "type": "scatter",
         "x": [
          0.07,
          0.08,
          0.09,
          0.09,
          0.1,
          0.09,
          0.09,
          0.09,
          0.09,
          0.09,
          0.12,
          0.11,
          0.11,
          0.11,
          0.12,
          0.12,
          0.13,
          0.13,
          0.14,
          0.14,
          0.12,
          0.12,
          0.24,
          0.34,
          0.38,
          0.36,
          0.37,
          0.37,
          0.38,
          0.39,
          0.4,
          0.4,
          0.4,
          0.41,
          0.54,
          0.65,
          0.66,
          0.79,
          0.9,
          0.91,
          1.04,
          1.15,
          1.16,
          1.15,
          1.15,
          1.16,
          1.3,
          1.41,
          1.42,
          1.51,
          1.67,
          1.7,
          1.82,
          1.91,
          1.91,
          1.95,
          2.19,
          2.2,
          2.27,
          2.4,
          2.4,
          2.41,
          2.42,
          2.39,
          2.38,
          2.4,
          2.13,
          2.04,
          1.83,
          1.55
         ],
         "y": [
          575,
          575,
          645,
          665,
          636.5,
          660,
          715,
          679,
          629,
          599,
          649,
          699,
          699,
          699,
          721,
          759,
          756.5,
          780,
          775,
          772,
          665,
          669,
          740,
          749,
          749,
          750,
          742,
          799,
          825,
          815,
          850,
          791.5,
          850,
          760,
          800,
          729.5,
          769,
          790,
          825,
          880,
          850,
          898.5,
          895,
          820,
          780,
          750,
          815,
          850,
          875,
          898.5,
          899,
          925,
          925,
          935,
          915,
          850,
          874,
          875,
          850,
          852.5,
          860,
          885,
          885,
          915,
          917,
          900,
          955,
          905,
          960,
          900
         ]
        },
        {
         "mode": "lines",
         "name": "line of best fit",
         "type": "scatter",
         "x": [
          0.07,
          0.08,
          0.09,
          0.09,
          0.1,
          0.09,
          0.09,
          0.09,
          0.09,
          0.09,
          0.12,
          0.11,
          0.11,
          0.11,
          0.12,
          0.12,
          0.13,
          0.13,
          0.14,
          0.14,
          0.12,
          0.12,
          0.24,
          0.34,
          0.38,
          0.36,
          0.37,
          0.37,
          0.38,
          0.39,
          0.4,
          0.4,
          0.4,
          0.41,
          0.54,
          0.65,
          0.66,
          0.79,
          0.9,
          0.91,
          1.04,
          1.15,
          1.16,
          1.15,
          1.15,
          1.16,
          1.3,
          1.41,
          1.42,
          1.51,
          1.67,
          1.7,
          1.82,
          1.91,
          1.91,
          1.95,
          2.19,
          2.2,
          2.27,
          2.4,
          2.4,
          2.41,
          2.42,
          2.39,
          2.38,
          2.4,
          2.13,
          2.04,
          1.83,
          1.55
         ],
         "y": [
          712.1370847131095,
          713.0918088852758,
          714.046533057442,
          714.046533057442,
          715.0012572296083,
          714.046533057442,
          714.046533057442,
          714.046533057442,
          714.046533057442,
          714.046533057442,
          716.910705573941,
          715.9559814017747,
          715.9559814017747,
          715.9559814017747,
          716.910705573941,
          716.910705573941,
          717.8654297461072,
          717.8654297461072,
          718.8201539182735,
          718.8201539182735,
          716.910705573941,
          716.910705573941,
          728.3673956399364,
          737.9146373615991,
          741.7335340502643,
          739.8240857059317,
          740.778809878098,
          740.778809878098,
          741.7335340502643,
          742.6882582224306,
          743.6429823945969,
          743.6429823945969,
          743.6429823945969,
          744.5977065667631,
          757.0091208049248,
          767.511086698754,
          768.4658108709202,
          780.8772251090819,
          791.3791910029109,
          792.3339151750772,
          804.745329413239,
          815.247295307068,
          816.2020194792343,
          815.247295307068,
          815.247295307068,
          816.2020194792343,
          829.5681578895623,
          840.0701237833914,
          841.0248479555577,
          849.6173655050543,
          864.8929522597148,
          867.7571247762136,
          879.213814842209,
          887.8063323917055,
          887.8063323917055,
          891.6252290803707,
          914.5386092123615,
          915.4933333845278,
          922.1764025896917,
          934.5878168278534,
          934.5878168278534,
          935.5425410000197,
          936.497265172186,
          933.6330926556872,
          932.6783684835208,
          934.5878168278534,
          908.8102641793637,
          900.2177466298672,
          880.1685390143753,
          853.4362621937194
         ]
        }
       ],
       "layout": {
        "template": {
         "data": {
          "bar": [
           {
            "error_x": {
             "color": "#2a3f5f"
            },
            "error_y": {
             "color": "#2a3f5f"
            },
            "marker": {
             "line": {
              "color": "#E5ECF6",
              "width": 0.5
             },
             "pattern": {
              "fillmode": "overlay",
              "size": 10,
              "solidity": 0.2
             }
            },
            "type": "bar"
           }
          ],
          "barpolar": [
           {
            "marker": {
             "line": {
              "color": "#E5ECF6",
              "width": 0.5
             },
             "pattern": {
              "fillmode": "overlay",
              "size": 10,
              "solidity": 0.2
             }
            },
            "type": "barpolar"
           }
          ],
          "carpet": [
           {
            "aaxis": {
             "endlinecolor": "#2a3f5f",
             "gridcolor": "white",
             "linecolor": "white",
             "minorgridcolor": "white",
             "startlinecolor": "#2a3f5f"
            },
            "baxis": {
             "endlinecolor": "#2a3f5f",
             "gridcolor": "white",
             "linecolor": "white",
             "minorgridcolor": "white",
             "startlinecolor": "#2a3f5f"
            },
            "type": "carpet"
           }
          ],
          "choropleth": [
           {
            "colorbar": {
             "outlinewidth": 0,
             "ticks": ""
            },
            "type": "choropleth"
           }
          ],
          "contour": [
           {
            "colorbar": {
             "outlinewidth": 0,
             "ticks": ""
            },
            "colorscale": [
             [
              0,
              "#0d0887"
             ],
             [
              0.1111111111111111,
              "#46039f"
             ],
             [
              0.2222222222222222,
              "#7201a8"
             ],
             [
              0.3333333333333333,
              "#9c179e"
             ],
             [
              0.4444444444444444,
              "#bd3786"
             ],
             [
              0.5555555555555556,
              "#d8576b"
             ],
             [
              0.6666666666666666,
              "#ed7953"
             ],
             [
              0.7777777777777778,
              "#fb9f3a"
             ],
             [
              0.8888888888888888,
              "#fdca26"
             ],
             [
              1,
              "#f0f921"
             ]
            ],
            "type": "contour"
           }
          ],
          "contourcarpet": [
           {
            "colorbar": {
             "outlinewidth": 0,
             "ticks": ""
            },
            "type": "contourcarpet"
           }
          ],
          "heatmap": [
           {
            "colorbar": {
             "outlinewidth": 0,
             "ticks": ""
            },
            "colorscale": [
             [
              0,
              "#0d0887"
             ],
             [
              0.1111111111111111,
              "#46039f"
             ],
             [
              0.2222222222222222,
              "#7201a8"
             ],
             [
              0.3333333333333333,
              "#9c179e"
             ],
             [
              0.4444444444444444,
              "#bd3786"
             ],
             [
              0.5555555555555556,
              "#d8576b"
             ],
             [
              0.6666666666666666,
              "#ed7953"
             ],
             [
              0.7777777777777778,
              "#fb9f3a"
             ],
             [
              0.8888888888888888,
              "#fdca26"
             ],
             [
              1,
              "#f0f921"
             ]
            ],
            "type": "heatmap"
           }
          ],
          "heatmapgl": [
           {
            "colorbar": {
             "outlinewidth": 0,
             "ticks": ""
            },
            "colorscale": [
             [
              0,
              "#0d0887"
             ],
             [
              0.1111111111111111,
              "#46039f"
             ],
             [
              0.2222222222222222,
              "#7201a8"
             ],
             [
              0.3333333333333333,
              "#9c179e"
             ],
             [
              0.4444444444444444,
              "#bd3786"
             ],
             [
              0.5555555555555556,
              "#d8576b"
             ],
             [
              0.6666666666666666,
              "#ed7953"
             ],
             [
              0.7777777777777778,
              "#fb9f3a"
             ],
             [
              0.8888888888888888,
              "#fdca26"
             ],
             [
              1,
              "#f0f921"
             ]
            ],
            "type": "heatmapgl"
           }
          ],
          "histogram": [
           {
            "marker": {
             "pattern": {
              "fillmode": "overlay",
              "size": 10,
              "solidity": 0.2
             }
            },
            "type": "histogram"
           }
          ],
          "histogram2d": [
           {
            "colorbar": {
             "outlinewidth": 0,
             "ticks": ""
            },
            "colorscale": [
             [
              0,
              "#0d0887"
             ],
             [
              0.1111111111111111,
              "#46039f"
             ],
             [
              0.2222222222222222,
              "#7201a8"
             ],
             [
              0.3333333333333333,
              "#9c179e"
             ],
             [
              0.4444444444444444,
              "#bd3786"
             ],
             [
              0.5555555555555556,
              "#d8576b"
             ],
             [
              0.6666666666666666,
              "#ed7953"
             ],
             [
              0.7777777777777778,
              "#fb9f3a"
             ],
             [
              0.8888888888888888,
              "#fdca26"
             ],
             [
              1,
              "#f0f921"
             ]
            ],
            "type": "histogram2d"
           }
          ],
          "histogram2dcontour": [
           {
            "colorbar": {
             "outlinewidth": 0,
             "ticks": ""
            },
            "colorscale": [
             [
              0,
              "#0d0887"
             ],
             [
              0.1111111111111111,
              "#46039f"
             ],
             [
              0.2222222222222222,
              "#7201a8"
             ],
             [
              0.3333333333333333,
              "#9c179e"
             ],
             [
              0.4444444444444444,
              "#bd3786"
             ],
             [
              0.5555555555555556,
              "#d8576b"
             ],
             [
              0.6666666666666666,
              "#ed7953"
             ],
             [
              0.7777777777777778,
              "#fb9f3a"
             ],
             [
              0.8888888888888888,
              "#fdca26"
             ],
             [
              1,
              "#f0f921"
             ]
            ],
            "type": "histogram2dcontour"
           }
          ],
          "mesh3d": [
           {
            "colorbar": {
             "outlinewidth": 0,
             "ticks": ""
            },
            "type": "mesh3d"
           }
          ],
          "parcoords": [
           {
            "line": {
             "colorbar": {
              "outlinewidth": 0,
              "ticks": ""
             }
            },
            "type": "parcoords"
           }
          ],
          "pie": [
           {
            "automargin": true,
            "type": "pie"
           }
          ],
          "scatter": [
           {
            "marker": {
             "colorbar": {
              "outlinewidth": 0,
              "ticks": ""
             }
            },
            "type": "scatter"
           }
          ],
          "scatter3d": [
           {
            "line": {
             "colorbar": {
              "outlinewidth": 0,
              "ticks": ""
             }
            },
            "marker": {
             "colorbar": {
              "outlinewidth": 0,
              "ticks": ""
             }
            },
            "type": "scatter3d"
           }
          ],
          "scattercarpet": [
           {
            "marker": {
             "colorbar": {
              "outlinewidth": 0,
              "ticks": ""
             }
            },
            "type": "scattercarpet"
           }
          ],
          "scattergeo": [
           {
            "marker": {
             "colorbar": {
              "outlinewidth": 0,
              "ticks": ""
             }
            },
            "type": "scattergeo"
           }
          ],
          "scattergl": [
           {
            "marker": {
             "colorbar": {
              "outlinewidth": 0,
              "ticks": ""
             }
            },
            "type": "scattergl"
           }
          ],
          "scattermapbox": [
           {
            "marker": {
             "colorbar": {
              "outlinewidth": 0,
              "ticks": ""
             }
            },
            "type": "scattermapbox"
           }
          ],
          "scatterpolar": [
           {
            "marker": {
             "colorbar": {
              "outlinewidth": 0,
              "ticks": ""
             }
            },
            "type": "scatterpolar"
           }
          ],
          "scatterpolargl": [
           {
            "marker": {
             "colorbar": {
              "outlinewidth": 0,
              "ticks": ""
             }
            },
            "type": "scatterpolargl"
           }
          ],
          "scatterternary": [
           {
            "marker": {
             "colorbar": {
              "outlinewidth": 0,
              "ticks": ""
             }
            },
            "type": "scatterternary"
           }
          ],
          "surface": [
           {
            "colorbar": {
             "outlinewidth": 0,
             "ticks": ""
            },
            "colorscale": [
             [
              0,
              "#0d0887"
             ],
             [
              0.1111111111111111,
              "#46039f"
             ],
             [
              0.2222222222222222,
              "#7201a8"
             ],
             [
              0.3333333333333333,
              "#9c179e"
             ],
             [
              0.4444444444444444,
              "#bd3786"
             ],
             [
              0.5555555555555556,
              "#d8576b"
             ],
             [
              0.6666666666666666,
              "#ed7953"
             ],
             [
              0.7777777777777778,
              "#fb9f3a"
             ],
             [
              0.8888888888888888,
              "#fdca26"
             ],
             [
              1,
              "#f0f921"
             ]
            ],
            "type": "surface"
           }
          ],
          "table": [
           {
            "cells": {
             "fill": {
              "color": "#EBF0F8"
             },
             "line": {
              "color": "white"
             }
            },
            "header": {
             "fill": {
              "color": "#C8D4E3"
             },
             "line": {
              "color": "white"
             }
            },
            "type": "table"
           }
          ]
         },
         "layout": {
          "annotationdefaults": {
           "arrowcolor": "#2a3f5f",
           "arrowhead": 0,
           "arrowwidth": 1
          },
          "autotypenumbers": "strict",
          "coloraxis": {
           "colorbar": {
            "outlinewidth": 0,
            "ticks": ""
           }
          },
          "colorscale": {
           "diverging": [
            [
             0,
             "#8e0152"
            ],
            [
             0.1,
             "#c51b7d"
            ],
            [
             0.2,
             "#de77ae"
            ],
            [
             0.3,
             "#f1b6da"
            ],
            [
             0.4,
             "#fde0ef"
            ],
            [
             0.5,
             "#f7f7f7"
            ],
            [
             0.6,
             "#e6f5d0"
            ],
            [
             0.7,
             "#b8e186"
            ],
            [
             0.8,
             "#7fbc41"
            ],
            [
             0.9,
             "#4d9221"
            ],
            [
             1,
             "#276419"
            ]
           ],
           "sequential": [
            [
             0,
             "#0d0887"
            ],
            [
             0.1111111111111111,
             "#46039f"
            ],
            [
             0.2222222222222222,
             "#7201a8"
            ],
            [
             0.3333333333333333,
             "#9c179e"
            ],
            [
             0.4444444444444444,
             "#bd3786"
            ],
            [
             0.5555555555555556,
             "#d8576b"
            ],
            [
             0.6666666666666666,
             "#ed7953"
            ],
            [
             0.7777777777777778,
             "#fb9f3a"
            ],
            [
             0.8888888888888888,
             "#fdca26"
            ],
            [
             1,
             "#f0f921"
            ]
           ],
           "sequentialminus": [
            [
             0,
             "#0d0887"
            ],
            [
             0.1111111111111111,
             "#46039f"
            ],
            [
             0.2222222222222222,
             "#7201a8"
            ],
            [
             0.3333333333333333,
             "#9c179e"
            ],
            [
             0.4444444444444444,
             "#bd3786"
            ],
            [
             0.5555555555555556,
             "#d8576b"
            ],
            [
             0.6666666666666666,
             "#ed7953"
            ],
            [
             0.7777777777777778,
             "#fb9f3a"
            ],
            [
             0.8888888888888888,
             "#fdca26"
            ],
            [
             1,
             "#f0f921"
            ]
           ]
          },
          "colorway": [
           "#636efa",
           "#EF553B",
           "#00cc96",
           "#ab63fa",
           "#FFA15A",
           "#19d3f3",
           "#FF6692",
           "#B6E880",
           "#FF97FF",
           "#FECB52"
          ],
          "font": {
           "color": "#2a3f5f"
          },
          "geo": {
           "bgcolor": "white",
           "lakecolor": "white",
           "landcolor": "#E5ECF6",
           "showlakes": true,
           "showland": true,
           "subunitcolor": "white"
          },
          "hoverlabel": {
           "align": "left"
          },
          "hovermode": "closest",
          "mapbox": {
           "style": "light"
          },
          "paper_bgcolor": "white",
          "plot_bgcolor": "#E5ECF6",
          "polar": {
           "angularaxis": {
            "gridcolor": "white",
            "linecolor": "white",
            "ticks": ""
           },
           "bgcolor": "#E5ECF6",
           "radialaxis": {
            "gridcolor": "white",
            "linecolor": "white",
            "ticks": ""
           }
          },
          "scene": {
           "xaxis": {
            "backgroundcolor": "#E5ECF6",
            "gridcolor": "white",
            "gridwidth": 2,
            "linecolor": "white",
            "showbackground": true,
            "ticks": "",
            "zerolinecolor": "white"
           },
           "yaxis": {
            "backgroundcolor": "#E5ECF6",
            "gridcolor": "white",
            "gridwidth": 2,
            "linecolor": "white",
            "showbackground": true,
            "ticks": "",
            "zerolinecolor": "white"
           },
           "zaxis": {
            "backgroundcolor": "#E5ECF6",
            "gridcolor": "white",
            "gridwidth": 2,
            "linecolor": "white",
            "showbackground": true,
            "ticks": "",
            "zerolinecolor": "white"
           }
          },
          "shapedefaults": {
           "line": {
            "color": "#2a3f5f"
           }
          },
          "ternary": {
           "aaxis": {
            "gridcolor": "white",
            "linecolor": "white",
            "ticks": ""
           },
           "baxis": {
            "gridcolor": "white",
            "linecolor": "white",
            "ticks": ""
           },
           "bgcolor": "#E5ECF6",
           "caxis": {
            "gridcolor": "white",
            "linecolor": "white",
            "ticks": ""
           }
          },
          "title": {
           "x": 0.05
          },
          "xaxis": {
           "automargin": true,
           "gridcolor": "white",
           "linecolor": "white",
           "ticks": "",
           "title": {
            "standoff": 15
           },
           "zerolinecolor": "white",
           "zerolinewidth": 2
          },
          "yaxis": {
           "automargin": true,
           "gridcolor": "white",
           "linecolor": "white",
           "ticks": "",
           "title": {
            "standoff": 15
           },
           "zerolinecolor": "white",
           "zerolinewidth": 2
          }
         }
        },
        "title": {
         "text": "Interest rate vs median rent Linear Regression in Columbus, OH, from 2014-02 to 2019-12"
        },
        "xaxis": {
         "title": {
          "text": "Effective Federal Funds Rate"
         }
        },
        "yaxis": {
         "title": {
          "text": "Columbus Rent"
         }
        }
       }
      },
      "text/html": [
       "<div>                            <div id=\"00bc77db-8a4a-4e52-a753-63c17c285650\" class=\"plotly-graph-div\" style=\"height:525px; width:100%;\"></div>            <script type=\"text/javascript\">                require([\"plotly\"], function(Plotly) {                    window.PLOTLYENV=window.PLOTLYENV || {};                                    if (document.getElementById(\"00bc77db-8a4a-4e52-a753-63c17c285650\")) {                    Plotly.newPlot(                        \"00bc77db-8a4a-4e52-a753-63c17c285650\",                        [{\"mode\":\"markers\",\"name\":\"Interest rate vs Median rent\",\"x\":[0.07,0.08,0.09,0.09,0.1,0.09,0.09,0.09,0.09,0.09,0.12,0.11,0.11,0.11,0.12,0.12,0.13,0.13,0.14,0.14,0.12,0.12,0.24,0.34,0.38,0.36,0.37,0.37,0.38,0.39,0.4,0.4,0.4,0.41,0.54,0.65,0.66,0.79,0.9,0.91,1.04,1.15,1.16,1.15,1.15,1.16,1.3,1.41,1.42,1.51,1.67,1.7,1.82,1.91,1.91,1.95,2.19,2.2,2.27,2.4,2.4,2.41,2.42,2.39,2.38,2.4,2.13,2.04,1.83,1.55],\"y\":[575.0,575.0,645.0,665.0,636.5,660.0,715.0,679.0,629.0,599.0,649.0,699.0,699.0,699.0,721.0,759.0,756.5,780.0,775.0,772.0,665.0,669.0,740.0,749.0,749.0,750.0,742.0,799.0,825.0,815.0,850.0,791.5,850.0,760.0,800.0,729.5,769.0,790.0,825.0,880.0,850.0,898.5,895.0,820.0,780.0,750.0,815.0,850.0,875.0,898.5,899.0,925.0,925.0,935.0,915.0,850.0,874.0,875.0,850.0,852.5,860.0,885.0,885.0,915.0,917.0,900.0,955.0,905.0,960.0,900.0],\"type\":\"scatter\"},{\"mode\":\"lines\",\"name\":\"line of best fit\",\"x\":[0.07,0.08,0.09,0.09,0.1,0.09,0.09,0.09,0.09,0.09,0.12,0.11,0.11,0.11,0.12,0.12,0.13,0.13,0.14,0.14,0.12,0.12,0.24,0.34,0.38,0.36,0.37,0.37,0.38,0.39,0.4,0.4,0.4,0.41,0.54,0.65,0.66,0.79,0.9,0.91,1.04,1.15,1.16,1.15,1.15,1.16,1.3,1.41,1.42,1.51,1.67,1.7,1.82,1.91,1.91,1.95,2.19,2.2,2.27,2.4,2.4,2.41,2.42,2.39,2.38,2.4,2.13,2.04,1.83,1.55],\"y\":[712.1370847131095,713.0918088852758,714.046533057442,714.046533057442,715.0012572296083,714.046533057442,714.046533057442,714.046533057442,714.046533057442,714.046533057442,716.910705573941,715.9559814017747,715.9559814017747,715.9559814017747,716.910705573941,716.910705573941,717.8654297461072,717.8654297461072,718.8201539182735,718.8201539182735,716.910705573941,716.910705573941,728.3673956399364,737.9146373615991,741.7335340502643,739.8240857059317,740.778809878098,740.778809878098,741.7335340502643,742.6882582224306,743.6429823945969,743.6429823945969,743.6429823945969,744.5977065667631,757.0091208049248,767.511086698754,768.4658108709202,780.8772251090819,791.3791910029109,792.3339151750772,804.745329413239,815.247295307068,816.2020194792343,815.247295307068,815.247295307068,816.2020194792343,829.5681578895623,840.0701237833914,841.0248479555577,849.6173655050543,864.8929522597148,867.7571247762136,879.213814842209,887.8063323917055,887.8063323917055,891.6252290803707,914.5386092123615,915.4933333845278,922.1764025896917,934.5878168278534,934.5878168278534,935.5425410000197,936.497265172186,933.6330926556872,932.6783684835208,934.5878168278534,908.8102641793637,900.2177466298672,880.1685390143753,853.4362621937194],\"type\":\"scatter\"}],                        {\"template\":{\"data\":{\"bar\":[{\"error_x\":{\"color\":\"#2a3f5f\"},\"error_y\":{\"color\":\"#2a3f5f\"},\"marker\":{\"line\":{\"color\":\"#E5ECF6\",\"width\":0.5},\"pattern\":{\"fillmode\":\"overlay\",\"size\":10,\"solidity\":0.2}},\"type\":\"bar\"}],\"barpolar\":[{\"marker\":{\"line\":{\"color\":\"#E5ECF6\",\"width\":0.5},\"pattern\":{\"fillmode\":\"overlay\",\"size\":10,\"solidity\":0.2}},\"type\":\"barpolar\"}],\"carpet\":[{\"aaxis\":{\"endlinecolor\":\"#2a3f5f\",\"gridcolor\":\"white\",\"linecolor\":\"white\",\"minorgridcolor\":\"white\",\"startlinecolor\":\"#2a3f5f\"},\"baxis\":{\"endlinecolor\":\"#2a3f5f\",\"gridcolor\":\"white\",\"linecolor\":\"white\",\"minorgridcolor\":\"white\",\"startlinecolor\":\"#2a3f5f\"},\"type\":\"carpet\"}],\"choropleth\":[{\"colorbar\":{\"outlinewidth\":0,\"ticks\":\"\"},\"type\":\"choropleth\"}],\"contour\":[{\"colorbar\":{\"outlinewidth\":0,\"ticks\":\"\"},\"colorscale\":[[0.0,\"#0d0887\"],[0.1111111111111111,\"#46039f\"],[0.2222222222222222,\"#7201a8\"],[0.3333333333333333,\"#9c179e\"],[0.4444444444444444,\"#bd3786\"],[0.5555555555555556,\"#d8576b\"],[0.6666666666666666,\"#ed7953\"],[0.7777777777777778,\"#fb9f3a\"],[0.8888888888888888,\"#fdca26\"],[1.0,\"#f0f921\"]],\"type\":\"contour\"}],\"contourcarpet\":[{\"colorbar\":{\"outlinewidth\":0,\"ticks\":\"\"},\"type\":\"contourcarpet\"}],\"heatmap\":[{\"colorbar\":{\"outlinewidth\":0,\"ticks\":\"\"},\"colorscale\":[[0.0,\"#0d0887\"],[0.1111111111111111,\"#46039f\"],[0.2222222222222222,\"#7201a8\"],[0.3333333333333333,\"#9c179e\"],[0.4444444444444444,\"#bd3786\"],[0.5555555555555556,\"#d8576b\"],[0.6666666666666666,\"#ed7953\"],[0.7777777777777778,\"#fb9f3a\"],[0.8888888888888888,\"#fdca26\"],[1.0,\"#f0f921\"]],\"type\":\"heatmap\"}],\"heatmapgl\":[{\"colorbar\":{\"outlinewidth\":0,\"ticks\":\"\"},\"colorscale\":[[0.0,\"#0d0887\"],[0.1111111111111111,\"#46039f\"],[0.2222222222222222,\"#7201a8\"],[0.3333333333333333,\"#9c179e\"],[0.4444444444444444,\"#bd3786\"],[0.5555555555555556,\"#d8576b\"],[0.6666666666666666,\"#ed7953\"],[0.7777777777777778,\"#fb9f3a\"],[0.8888888888888888,\"#fdca26\"],[1.0,\"#f0f921\"]],\"type\":\"heatmapgl\"}],\"histogram\":[{\"marker\":{\"pattern\":{\"fillmode\":\"overlay\",\"size\":10,\"solidity\":0.2}},\"type\":\"histogram\"}],\"histogram2d\":[{\"colorbar\":{\"outlinewidth\":0,\"ticks\":\"\"},\"colorscale\":[[0.0,\"#0d0887\"],[0.1111111111111111,\"#46039f\"],[0.2222222222222222,\"#7201a8\"],[0.3333333333333333,\"#9c179e\"],[0.4444444444444444,\"#bd3786\"],[0.5555555555555556,\"#d8576b\"],[0.6666666666666666,\"#ed7953\"],[0.7777777777777778,\"#fb9f3a\"],[0.8888888888888888,\"#fdca26\"],[1.0,\"#f0f921\"]],\"type\":\"histogram2d\"}],\"histogram2dcontour\":[{\"colorbar\":{\"outlinewidth\":0,\"ticks\":\"\"},\"colorscale\":[[0.0,\"#0d0887\"],[0.1111111111111111,\"#46039f\"],[0.2222222222222222,\"#7201a8\"],[0.3333333333333333,\"#9c179e\"],[0.4444444444444444,\"#bd3786\"],[0.5555555555555556,\"#d8576b\"],[0.6666666666666666,\"#ed7953\"],[0.7777777777777778,\"#fb9f3a\"],[0.8888888888888888,\"#fdca26\"],[1.0,\"#f0f921\"]],\"type\":\"histogram2dcontour\"}],\"mesh3d\":[{\"colorbar\":{\"outlinewidth\":0,\"ticks\":\"\"},\"type\":\"mesh3d\"}],\"parcoords\":[{\"line\":{\"colorbar\":{\"outlinewidth\":0,\"ticks\":\"\"}},\"type\":\"parcoords\"}],\"pie\":[{\"automargin\":true,\"type\":\"pie\"}],\"scatter\":[{\"marker\":{\"colorbar\":{\"outlinewidth\":0,\"ticks\":\"\"}},\"type\":\"scatter\"}],\"scatter3d\":[{\"line\":{\"colorbar\":{\"outlinewidth\":0,\"ticks\":\"\"}},\"marker\":{\"colorbar\":{\"outlinewidth\":0,\"ticks\":\"\"}},\"type\":\"scatter3d\"}],\"scattercarpet\":[{\"marker\":{\"colorbar\":{\"outlinewidth\":0,\"ticks\":\"\"}},\"type\":\"scattercarpet\"}],\"scattergeo\":[{\"marker\":{\"colorbar\":{\"outlinewidth\":0,\"ticks\":\"\"}},\"type\":\"scattergeo\"}],\"scattergl\":[{\"marker\":{\"colorbar\":{\"outlinewidth\":0,\"ticks\":\"\"}},\"type\":\"scattergl\"}],\"scattermapbox\":[{\"marker\":{\"colorbar\":{\"outlinewidth\":0,\"ticks\":\"\"}},\"type\":\"scattermapbox\"}],\"scatterpolar\":[{\"marker\":{\"colorbar\":{\"outlinewidth\":0,\"ticks\":\"\"}},\"type\":\"scatterpolar\"}],\"scatterpolargl\":[{\"marker\":{\"colorbar\":{\"outlinewidth\":0,\"ticks\":\"\"}},\"type\":\"scatterpolargl\"}],\"scatterternary\":[{\"marker\":{\"colorbar\":{\"outlinewidth\":0,\"ticks\":\"\"}},\"type\":\"scatterternary\"}],\"surface\":[{\"colorbar\":{\"outlinewidth\":0,\"ticks\":\"\"},\"colorscale\":[[0.0,\"#0d0887\"],[0.1111111111111111,\"#46039f\"],[0.2222222222222222,\"#7201a8\"],[0.3333333333333333,\"#9c179e\"],[0.4444444444444444,\"#bd3786\"],[0.5555555555555556,\"#d8576b\"],[0.6666666666666666,\"#ed7953\"],[0.7777777777777778,\"#fb9f3a\"],[0.8888888888888888,\"#fdca26\"],[1.0,\"#f0f921\"]],\"type\":\"surface\"}],\"table\":[{\"cells\":{\"fill\":{\"color\":\"#EBF0F8\"},\"line\":{\"color\":\"white\"}},\"header\":{\"fill\":{\"color\":\"#C8D4E3\"},\"line\":{\"color\":\"white\"}},\"type\":\"table\"}]},\"layout\":{\"annotationdefaults\":{\"arrowcolor\":\"#2a3f5f\",\"arrowhead\":0,\"arrowwidth\":1},\"autotypenumbers\":\"strict\",\"coloraxis\":{\"colorbar\":{\"outlinewidth\":0,\"ticks\":\"\"}},\"colorscale\":{\"diverging\":[[0,\"#8e0152\"],[0.1,\"#c51b7d\"],[0.2,\"#de77ae\"],[0.3,\"#f1b6da\"],[0.4,\"#fde0ef\"],[0.5,\"#f7f7f7\"],[0.6,\"#e6f5d0\"],[0.7,\"#b8e186\"],[0.8,\"#7fbc41\"],[0.9,\"#4d9221\"],[1,\"#276419\"]],\"sequential\":[[0.0,\"#0d0887\"],[0.1111111111111111,\"#46039f\"],[0.2222222222222222,\"#7201a8\"],[0.3333333333333333,\"#9c179e\"],[0.4444444444444444,\"#bd3786\"],[0.5555555555555556,\"#d8576b\"],[0.6666666666666666,\"#ed7953\"],[0.7777777777777778,\"#fb9f3a\"],[0.8888888888888888,\"#fdca26\"],[1.0,\"#f0f921\"]],\"sequentialminus\":[[0.0,\"#0d0887\"],[0.1111111111111111,\"#46039f\"],[0.2222222222222222,\"#7201a8\"],[0.3333333333333333,\"#9c179e\"],[0.4444444444444444,\"#bd3786\"],[0.5555555555555556,\"#d8576b\"],[0.6666666666666666,\"#ed7953\"],[0.7777777777777778,\"#fb9f3a\"],[0.8888888888888888,\"#fdca26\"],[1.0,\"#f0f921\"]]},\"colorway\":[\"#636efa\",\"#EF553B\",\"#00cc96\",\"#ab63fa\",\"#FFA15A\",\"#19d3f3\",\"#FF6692\",\"#B6E880\",\"#FF97FF\",\"#FECB52\"],\"font\":{\"color\":\"#2a3f5f\"},\"geo\":{\"bgcolor\":\"white\",\"lakecolor\":\"white\",\"landcolor\":\"#E5ECF6\",\"showlakes\":true,\"showland\":true,\"subunitcolor\":\"white\"},\"hoverlabel\":{\"align\":\"left\"},\"hovermode\":\"closest\",\"mapbox\":{\"style\":\"light\"},\"paper_bgcolor\":\"white\",\"plot_bgcolor\":\"#E5ECF6\",\"polar\":{\"angularaxis\":{\"gridcolor\":\"white\",\"linecolor\":\"white\",\"ticks\":\"\"},\"bgcolor\":\"#E5ECF6\",\"radialaxis\":{\"gridcolor\":\"white\",\"linecolor\":\"white\",\"ticks\":\"\"}},\"scene\":{\"xaxis\":{\"backgroundcolor\":\"#E5ECF6\",\"gridcolor\":\"white\",\"gridwidth\":2,\"linecolor\":\"white\",\"showbackground\":true,\"ticks\":\"\",\"zerolinecolor\":\"white\"},\"yaxis\":{\"backgroundcolor\":\"#E5ECF6\",\"gridcolor\":\"white\",\"gridwidth\":2,\"linecolor\":\"white\",\"showbackground\":true,\"ticks\":\"\",\"zerolinecolor\":\"white\"},\"zaxis\":{\"backgroundcolor\":\"#E5ECF6\",\"gridcolor\":\"white\",\"gridwidth\":2,\"linecolor\":\"white\",\"showbackground\":true,\"ticks\":\"\",\"zerolinecolor\":\"white\"}},\"shapedefaults\":{\"line\":{\"color\":\"#2a3f5f\"}},\"ternary\":{\"aaxis\":{\"gridcolor\":\"white\",\"linecolor\":\"white\",\"ticks\":\"\"},\"baxis\":{\"gridcolor\":\"white\",\"linecolor\":\"white\",\"ticks\":\"\"},\"bgcolor\":\"#E5ECF6\",\"caxis\":{\"gridcolor\":\"white\",\"linecolor\":\"white\",\"ticks\":\"\"}},\"title\":{\"x\":0.05},\"xaxis\":{\"automargin\":true,\"gridcolor\":\"white\",\"linecolor\":\"white\",\"ticks\":\"\",\"title\":{\"standoff\":15},\"zerolinecolor\":\"white\",\"zerolinewidth\":2},\"yaxis\":{\"automargin\":true,\"gridcolor\":\"white\",\"linecolor\":\"white\",\"ticks\":\"\",\"title\":{\"standoff\":15},\"zerolinecolor\":\"white\",\"zerolinewidth\":2}}},\"title\":{\"text\":\"Interest rate vs median rent Linear Regression in Columbus, OH, from 2014-02 to 2019-12\"},\"xaxis\":{\"title\":{\"text\":\"Effective Federal Funds Rate\"}},\"yaxis\":{\"title\":{\"text\":\"Columbus Rent\"}}},                        {\"responsive\": true}                    ).then(function(){\n",
       "                            \n",
       "var gd = document.getElementById('00bc77db-8a4a-4e52-a753-63c17c285650');\n",
       "var x = new MutationObserver(function (mutations, observer) {{\n",
       "        var display = window.getComputedStyle(gd).display;\n",
       "        if (!display || display === 'none') {{\n",
       "            console.log([gd, 'removed!']);\n",
       "            Plotly.purge(gd);\n",
       "            observer.disconnect();\n",
       "        }}\n",
       "}});\n",
       "\n",
       "// Listen for the removal of the full notebook cells\n",
       "var notebookContainer = gd.closest('#notebook-container');\n",
       "if (notebookContainer) {{\n",
       "    x.observe(notebookContainer, {childList: true});\n",
       "}}\n",
       "\n",
       "// Listen for the clearing of the current output cell\n",
       "var outputEl = gd.closest('.output');\n",
       "if (outputEl) {{\n",
       "    x.observe(outputEl, {childList: true});\n",
       "}}\n",
       "\n",
       "                        })                };                });            </script>        </div>"
      ]
     },
     "metadata": {},
     "output_type": "display_data"
    },
    {
     "data": {
      "text/plain": [
       "'https://plotly.com/~edtsoi430/30/'"
      ]
     },
     "execution_count": 107,
     "metadata": {},
     "output_type": "execute_result"
    }
   ],
   "source": [
    "df = pd.DataFrame({'X': rate_fund, 'Y':columbus_rent})\n",
    "reg = LinearRegression().fit(np.vstack(df['X']), columbus_rent)\n",
    "df['bestfit'] = reg.predict(np.vstack(df['X']))\n",
    "fig=go.Figure()\n",
    "fig.add_trace(go.Scatter(name='Interest rate vs Median rent', x=df['X'], y=df['Y'].values, mode='markers'))\n",
    "fig.add_trace(go.Scatter(name='line of best fit', x=rate_fund, y=df['bestfit'], mode='lines'))\n",
    "\n",
    "fig.update_layout(title_text = 'Interest rate vs median rent Linear Regression in Columbus, OH, from 2014-02 to 2019-12', xaxis_title = 'Effective Federal Funds Rate', yaxis_title = 'Columbus Rent')\n",
    "\n",
    "fig.show()\n",
    "columbus_ml = fig\n",
    "py.plot(columbus_ml, filename=\"Interest rate vs median rent Linear Regression in Columbus, OH, from 2014-02 to 2019-12\", auto_open=False)"
   ]
  },
  {
   "cell_type": "code",
   "execution_count": 108,
   "metadata": {},
   "outputs": [
    {
     "data": {
      "application/vnd.plotly.v1+json": {
       "config": {
        "plotlyServerURL": "https://plotly.com"
       },
       "data": [
        {
         "mode": "markers",
         "name": "Interest rate vs Median rent",
         "type": "scatter",
         "x": [
          0.07,
          0.08,
          0.09,
          0.09,
          0.1,
          0.09,
          0.09,
          0.09,
          0.09,
          0.09,
          0.12,
          0.11,
          0.11,
          0.11,
          0.12,
          0.12,
          0.13,
          0.13,
          0.14,
          0.14,
          0.12,
          0.12,
          0.24,
          0.34,
          0.38,
          0.36,
          0.37,
          0.37,
          0.38,
          0.39,
          0.4,
          0.4,
          0.4,
          0.41,
          0.54,
          0.65,
          0.66,
          0.79,
          0.9,
          0.91,
          1.04,
          1.15,
          1.16,
          1.15,
          1.15,
          1.16,
          1.3,
          1.41,
          1.42,
          1.51,
          1.67,
          1.7,
          1.82,
          1.91,
          1.91,
          1.95,
          2.19,
          2.2,
          2.27,
          2.4,
          2.4,
          2.41,
          2.42,
          2.39,
          2.38,
          2.4,
          2.13,
          2.04,
          1.83,
          1.55
         ],
         "y": [
          1490,
          1495,
          1550,
          1639,
          1695,
          1725,
          1712.5,
          1725,
          1672,
          1651.5,
          1646,
          1675,
          1704,
          1713,
          1713,
          1707,
          1716.5,
          1745,
          1754.5,
          1757,
          1745,
          1745,
          1745,
          1750,
          1760.5,
          1816,
          1800,
          1865,
          1814,
          1725,
          1825,
          1825,
          1795,
          1750,
          1735,
          1800,
          1900,
          1950,
          1980,
          2020,
          2000,
          2040,
          2021.5,
          2010,
          1990,
          1950,
          1955,
          1975,
          2000,
          1995,
          1999,
          2100,
          2100,
          2095,
          2080,
          2045,
          2034.5,
          2035,
          2040,
          2049,
          2040,
          2035,
          2047,
          2050,
          2050,
          2057,
          2064.5,
          2046,
          2034,
          2027.5
         ]
        },
        {
         "mode": "lines",
         "name": "line of best fit",
         "type": "scatter",
         "x": [
          0.07,
          0.08,
          0.09,
          0.09,
          0.1,
          0.09,
          0.09,
          0.09,
          0.09,
          0.09,
          0.12,
          0.11,
          0.11,
          0.11,
          0.12,
          0.12,
          0.13,
          0.13,
          0.14,
          0.14,
          0.12,
          0.12,
          0.24,
          0.34,
          0.38,
          0.36,
          0.37,
          0.37,
          0.38,
          0.39,
          0.4,
          0.4,
          0.4,
          0.41,
          0.54,
          0.65,
          0.66,
          0.79,
          0.9,
          0.91,
          1.04,
          1.15,
          1.16,
          1.15,
          1.15,
          1.16,
          1.3,
          1.41,
          1.42,
          1.51,
          1.67,
          1.7,
          1.82,
          1.91,
          1.91,
          1.95,
          2.19,
          2.2,
          2.27,
          2.4,
          2.4,
          2.41,
          2.42,
          2.39,
          2.38,
          2.4,
          2.13,
          2.04,
          1.83,
          1.55
         ],
         "y": [
          1715.6857474864423,
          1717.4465272224445,
          1719.2073069584467,
          1719.2073069584467,
          1720.9680866944486,
          1719.2073069584467,
          1719.2073069584467,
          1719.2073069584467,
          1719.2073069584467,
          1719.2073069584467,
          1724.489646166453,
          1722.7288664304508,
          1722.7288664304508,
          1722.7288664304508,
          1724.489646166453,
          1724.489646166453,
          1726.2504259024552,
          1726.2504259024552,
          1728.0112056384573,
          1728.0112056384573,
          1724.489646166453,
          1724.489646166453,
          1745.6190029984787,
          1763.2268003585002,
          1770.2699193025087,
          1766.7483598305046,
          1768.5091395665065,
          1768.5091395665065,
          1770.2699193025087,
          1772.0306990385109,
          1773.791478774513,
          1773.791478774513,
          1773.791478774513,
          1775.5522585105152,
          1798.442395078543,
          1817.8109721745666,
          1819.5717519105688,
          1842.4618884785966,
          1861.8304655746201,
          1863.5912453106223,
          1886.4813818786502,
          1905.8499589746739,
          1907.6107387106758,
          1905.8499589746739,
          1905.8499589746739,
          1907.6107387106758,
          1932.2616550147059,
          1951.6302321107296,
          1953.3910118467318,
          1969.238029470751,
          1997.4105052467853,
          2002.6928444547916,
          2023.8222012868175,
          2039.6692189108367,
          2039.6692189108367,
          2046.7123378548454,
          2088.9710515188967,
          2090.731831254899,
          2103.0572894069137,
          2125.947425974942,
          2125.947425974942,
          2127.7082057109437,
          2129.468985446946,
          2124.18664623894,
          2122.4258665029374,
          2125.947425974942,
          2078.4063731028837,
          2062.5593554788647,
          2025.5829810228197,
          1976.2811484147596
         ]
        }
       ],
       "layout": {
        "template": {
         "data": {
          "bar": [
           {
            "error_x": {
             "color": "#2a3f5f"
            },
            "error_y": {
             "color": "#2a3f5f"
            },
            "marker": {
             "line": {
              "color": "#E5ECF6",
              "width": 0.5
             },
             "pattern": {
              "fillmode": "overlay",
              "size": 10,
              "solidity": 0.2
             }
            },
            "type": "bar"
           }
          ],
          "barpolar": [
           {
            "marker": {
             "line": {
              "color": "#E5ECF6",
              "width": 0.5
             },
             "pattern": {
              "fillmode": "overlay",
              "size": 10,
              "solidity": 0.2
             }
            },
            "type": "barpolar"
           }
          ],
          "carpet": [
           {
            "aaxis": {
             "endlinecolor": "#2a3f5f",
             "gridcolor": "white",
             "linecolor": "white",
             "minorgridcolor": "white",
             "startlinecolor": "#2a3f5f"
            },
            "baxis": {
             "endlinecolor": "#2a3f5f",
             "gridcolor": "white",
             "linecolor": "white",
             "minorgridcolor": "white",
             "startlinecolor": "#2a3f5f"
            },
            "type": "carpet"
           }
          ],
          "choropleth": [
           {
            "colorbar": {
             "outlinewidth": 0,
             "ticks": ""
            },
            "type": "choropleth"
           }
          ],
          "contour": [
           {
            "colorbar": {
             "outlinewidth": 0,
             "ticks": ""
            },
            "colorscale": [
             [
              0,
              "#0d0887"
             ],
             [
              0.1111111111111111,
              "#46039f"
             ],
             [
              0.2222222222222222,
              "#7201a8"
             ],
             [
              0.3333333333333333,
              "#9c179e"
             ],
             [
              0.4444444444444444,
              "#bd3786"
             ],
             [
              0.5555555555555556,
              "#d8576b"
             ],
             [
              0.6666666666666666,
              "#ed7953"
             ],
             [
              0.7777777777777778,
              "#fb9f3a"
             ],
             [
              0.8888888888888888,
              "#fdca26"
             ],
             [
              1,
              "#f0f921"
             ]
            ],
            "type": "contour"
           }
          ],
          "contourcarpet": [
           {
            "colorbar": {
             "outlinewidth": 0,
             "ticks": ""
            },
            "type": "contourcarpet"
           }
          ],
          "heatmap": [
           {
            "colorbar": {
             "outlinewidth": 0,
             "ticks": ""
            },
            "colorscale": [
             [
              0,
              "#0d0887"
             ],
             [
              0.1111111111111111,
              "#46039f"
             ],
             [
              0.2222222222222222,
              "#7201a8"
             ],
             [
              0.3333333333333333,
              "#9c179e"
             ],
             [
              0.4444444444444444,
              "#bd3786"
             ],
             [
              0.5555555555555556,
              "#d8576b"
             ],
             [
              0.6666666666666666,
              "#ed7953"
             ],
             [
              0.7777777777777778,
              "#fb9f3a"
             ],
             [
              0.8888888888888888,
              "#fdca26"
             ],
             [
              1,
              "#f0f921"
             ]
            ],
            "type": "heatmap"
           }
          ],
          "heatmapgl": [
           {
            "colorbar": {
             "outlinewidth": 0,
             "ticks": ""
            },
            "colorscale": [
             [
              0,
              "#0d0887"
             ],
             [
              0.1111111111111111,
              "#46039f"
             ],
             [
              0.2222222222222222,
              "#7201a8"
             ],
             [
              0.3333333333333333,
              "#9c179e"
             ],
             [
              0.4444444444444444,
              "#bd3786"
             ],
             [
              0.5555555555555556,
              "#d8576b"
             ],
             [
              0.6666666666666666,
              "#ed7953"
             ],
             [
              0.7777777777777778,
              "#fb9f3a"
             ],
             [
              0.8888888888888888,
              "#fdca26"
             ],
             [
              1,
              "#f0f921"
             ]
            ],
            "type": "heatmapgl"
           }
          ],
          "histogram": [
           {
            "marker": {
             "pattern": {
              "fillmode": "overlay",
              "size": 10,
              "solidity": 0.2
             }
            },
            "type": "histogram"
           }
          ],
          "histogram2d": [
           {
            "colorbar": {
             "outlinewidth": 0,
             "ticks": ""
            },
            "colorscale": [
             [
              0,
              "#0d0887"
             ],
             [
              0.1111111111111111,
              "#46039f"
             ],
             [
              0.2222222222222222,
              "#7201a8"
             ],
             [
              0.3333333333333333,
              "#9c179e"
             ],
             [
              0.4444444444444444,
              "#bd3786"
             ],
             [
              0.5555555555555556,
              "#d8576b"
             ],
             [
              0.6666666666666666,
              "#ed7953"
             ],
             [
              0.7777777777777778,
              "#fb9f3a"
             ],
             [
              0.8888888888888888,
              "#fdca26"
             ],
             [
              1,
              "#f0f921"
             ]
            ],
            "type": "histogram2d"
           }
          ],
          "histogram2dcontour": [
           {
            "colorbar": {
             "outlinewidth": 0,
             "ticks": ""
            },
            "colorscale": [
             [
              0,
              "#0d0887"
             ],
             [
              0.1111111111111111,
              "#46039f"
             ],
             [
              0.2222222222222222,
              "#7201a8"
             ],
             [
              0.3333333333333333,
              "#9c179e"
             ],
             [
              0.4444444444444444,
              "#bd3786"
             ],
             [
              0.5555555555555556,
              "#d8576b"
             ],
             [
              0.6666666666666666,
              "#ed7953"
             ],
             [
              0.7777777777777778,
              "#fb9f3a"
             ],
             [
              0.8888888888888888,
              "#fdca26"
             ],
             [
              1,
              "#f0f921"
             ]
            ],
            "type": "histogram2dcontour"
           }
          ],
          "mesh3d": [
           {
            "colorbar": {
             "outlinewidth": 0,
             "ticks": ""
            },
            "type": "mesh3d"
           }
          ],
          "parcoords": [
           {
            "line": {
             "colorbar": {
              "outlinewidth": 0,
              "ticks": ""
             }
            },
            "type": "parcoords"
           }
          ],
          "pie": [
           {
            "automargin": true,
            "type": "pie"
           }
          ],
          "scatter": [
           {
            "marker": {
             "colorbar": {
              "outlinewidth": 0,
              "ticks": ""
             }
            },
            "type": "scatter"
           }
          ],
          "scatter3d": [
           {
            "line": {
             "colorbar": {
              "outlinewidth": 0,
              "ticks": ""
             }
            },
            "marker": {
             "colorbar": {
              "outlinewidth": 0,
              "ticks": ""
             }
            },
            "type": "scatter3d"
           }
          ],
          "scattercarpet": [
           {
            "marker": {
             "colorbar": {
              "outlinewidth": 0,
              "ticks": ""
             }
            },
            "type": "scattercarpet"
           }
          ],
          "scattergeo": [
           {
            "marker": {
             "colorbar": {
              "outlinewidth": 0,
              "ticks": ""
             }
            },
            "type": "scattergeo"
           }
          ],
          "scattergl": [
           {
            "marker": {
             "colorbar": {
              "outlinewidth": 0,
              "ticks": ""
             }
            },
            "type": "scattergl"
           }
          ],
          "scattermapbox": [
           {
            "marker": {
             "colorbar": {
              "outlinewidth": 0,
              "ticks": ""
             }
            },
            "type": "scattermapbox"
           }
          ],
          "scatterpolar": [
           {
            "marker": {
             "colorbar": {
              "outlinewidth": 0,
              "ticks": ""
             }
            },
            "type": "scatterpolar"
           }
          ],
          "scatterpolargl": [
           {
            "marker": {
             "colorbar": {
              "outlinewidth": 0,
              "ticks": ""
             }
            },
            "type": "scatterpolargl"
           }
          ],
          "scatterternary": [
           {
            "marker": {
             "colorbar": {
              "outlinewidth": 0,
              "ticks": ""
             }
            },
            "type": "scatterternary"
           }
          ],
          "surface": [
           {
            "colorbar": {
             "outlinewidth": 0,
             "ticks": ""
            },
            "colorscale": [
             [
              0,
              "#0d0887"
             ],
             [
              0.1111111111111111,
              "#46039f"
             ],
             [
              0.2222222222222222,
              "#7201a8"
             ],
             [
              0.3333333333333333,
              "#9c179e"
             ],
             [
              0.4444444444444444,
              "#bd3786"
             ],
             [
              0.5555555555555556,
              "#d8576b"
             ],
             [
              0.6666666666666666,
              "#ed7953"
             ],
             [
              0.7777777777777778,
              "#fb9f3a"
             ],
             [
              0.8888888888888888,
              "#fdca26"
             ],
             [
              1,
              "#f0f921"
             ]
            ],
            "type": "surface"
           }
          ],
          "table": [
           {
            "cells": {
             "fill": {
              "color": "#EBF0F8"
             },
             "line": {
              "color": "white"
             }
            },
            "header": {
             "fill": {
              "color": "#C8D4E3"
             },
             "line": {
              "color": "white"
             }
            },
            "type": "table"
           }
          ]
         },
         "layout": {
          "annotationdefaults": {
           "arrowcolor": "#2a3f5f",
           "arrowhead": 0,
           "arrowwidth": 1
          },
          "autotypenumbers": "strict",
          "coloraxis": {
           "colorbar": {
            "outlinewidth": 0,
            "ticks": ""
           }
          },
          "colorscale": {
           "diverging": [
            [
             0,
             "#8e0152"
            ],
            [
             0.1,
             "#c51b7d"
            ],
            [
             0.2,
             "#de77ae"
            ],
            [
             0.3,
             "#f1b6da"
            ],
            [
             0.4,
             "#fde0ef"
            ],
            [
             0.5,
             "#f7f7f7"
            ],
            [
             0.6,
             "#e6f5d0"
            ],
            [
             0.7,
             "#b8e186"
            ],
            [
             0.8,
             "#7fbc41"
            ],
            [
             0.9,
             "#4d9221"
            ],
            [
             1,
             "#276419"
            ]
           ],
           "sequential": [
            [
             0,
             "#0d0887"
            ],
            [
             0.1111111111111111,
             "#46039f"
            ],
            [
             0.2222222222222222,
             "#7201a8"
            ],
            [
             0.3333333333333333,
             "#9c179e"
            ],
            [
             0.4444444444444444,
             "#bd3786"
            ],
            [
             0.5555555555555556,
             "#d8576b"
            ],
            [
             0.6666666666666666,
             "#ed7953"
            ],
            [
             0.7777777777777778,
             "#fb9f3a"
            ],
            [
             0.8888888888888888,
             "#fdca26"
            ],
            [
             1,
             "#f0f921"
            ]
           ],
           "sequentialminus": [
            [
             0,
             "#0d0887"
            ],
            [
             0.1111111111111111,
             "#46039f"
            ],
            [
             0.2222222222222222,
             "#7201a8"
            ],
            [
             0.3333333333333333,
             "#9c179e"
            ],
            [
             0.4444444444444444,
             "#bd3786"
            ],
            [
             0.5555555555555556,
             "#d8576b"
            ],
            [
             0.6666666666666666,
             "#ed7953"
            ],
            [
             0.7777777777777778,
             "#fb9f3a"
            ],
            [
             0.8888888888888888,
             "#fdca26"
            ],
            [
             1,
             "#f0f921"
            ]
           ]
          },
          "colorway": [
           "#636efa",
           "#EF553B",
           "#00cc96",
           "#ab63fa",
           "#FFA15A",
           "#19d3f3",
           "#FF6692",
           "#B6E880",
           "#FF97FF",
           "#FECB52"
          ],
          "font": {
           "color": "#2a3f5f"
          },
          "geo": {
           "bgcolor": "white",
           "lakecolor": "white",
           "landcolor": "#E5ECF6",
           "showlakes": true,
           "showland": true,
           "subunitcolor": "white"
          },
          "hoverlabel": {
           "align": "left"
          },
          "hovermode": "closest",
          "mapbox": {
           "style": "light"
          },
          "paper_bgcolor": "white",
          "plot_bgcolor": "#E5ECF6",
          "polar": {
           "angularaxis": {
            "gridcolor": "white",
            "linecolor": "white",
            "ticks": ""
           },
           "bgcolor": "#E5ECF6",
           "radialaxis": {
            "gridcolor": "white",
            "linecolor": "white",
            "ticks": ""
           }
          },
          "scene": {
           "xaxis": {
            "backgroundcolor": "#E5ECF6",
            "gridcolor": "white",
            "gridwidth": 2,
            "linecolor": "white",
            "showbackground": true,
            "ticks": "",
            "zerolinecolor": "white"
           },
           "yaxis": {
            "backgroundcolor": "#E5ECF6",
            "gridcolor": "white",
            "gridwidth": 2,
            "linecolor": "white",
            "showbackground": true,
            "ticks": "",
            "zerolinecolor": "white"
           },
           "zaxis": {
            "backgroundcolor": "#E5ECF6",
            "gridcolor": "white",
            "gridwidth": 2,
            "linecolor": "white",
            "showbackground": true,
            "ticks": "",
            "zerolinecolor": "white"
           }
          },
          "shapedefaults": {
           "line": {
            "color": "#2a3f5f"
           }
          },
          "ternary": {
           "aaxis": {
            "gridcolor": "white",
            "linecolor": "white",
            "ticks": ""
           },
           "baxis": {
            "gridcolor": "white",
            "linecolor": "white",
            "ticks": ""
           },
           "bgcolor": "#E5ECF6",
           "caxis": {
            "gridcolor": "white",
            "linecolor": "white",
            "ticks": ""
           }
          },
          "title": {
           "x": 0.05
          },
          "xaxis": {
           "automargin": true,
           "gridcolor": "white",
           "linecolor": "white",
           "ticks": "",
           "title": {
            "standoff": 15
           },
           "zerolinecolor": "white",
           "zerolinewidth": 2
          },
          "yaxis": {
           "automargin": true,
           "gridcolor": "white",
           "linecolor": "white",
           "ticks": "",
           "title": {
            "standoff": 15
           },
           "zerolinecolor": "white",
           "zerolinewidth": 2
          }
         }
        },
        "title": {
         "text": "Interest rate vs median rent Linear Regression in Seattle, WA, from 2014-02 to 2019-12"
        },
        "xaxis": {
         "title": {
          "text": "Effective Federal Funds Rate"
         }
        },
        "yaxis": {
         "title": {
          "text": "Seattle Rent"
         }
        }
       }
      },
      "text/html": [
       "<div>                            <div id=\"9ebbb761-2c52-45ff-af9e-5d7fd4c39243\" class=\"plotly-graph-div\" style=\"height:525px; width:100%;\"></div>            <script type=\"text/javascript\">                require([\"plotly\"], function(Plotly) {                    window.PLOTLYENV=window.PLOTLYENV || {};                                    if (document.getElementById(\"9ebbb761-2c52-45ff-af9e-5d7fd4c39243\")) {                    Plotly.newPlot(                        \"9ebbb761-2c52-45ff-af9e-5d7fd4c39243\",                        [{\"mode\":\"markers\",\"name\":\"Interest rate vs Median rent\",\"x\":[0.07,0.08,0.09,0.09,0.1,0.09,0.09,0.09,0.09,0.09,0.12,0.11,0.11,0.11,0.12,0.12,0.13,0.13,0.14,0.14,0.12,0.12,0.24,0.34,0.38,0.36,0.37,0.37,0.38,0.39,0.4,0.4,0.4,0.41,0.54,0.65,0.66,0.79,0.9,0.91,1.04,1.15,1.16,1.15,1.15,1.16,1.3,1.41,1.42,1.51,1.67,1.7,1.82,1.91,1.91,1.95,2.19,2.2,2.27,2.4,2.4,2.41,2.42,2.39,2.38,2.4,2.13,2.04,1.83,1.55],\"y\":[1490.0,1495.0,1550.0,1639.0,1695.0,1725.0,1712.5,1725.0,1672.0,1651.5,1646.0,1675.0,1704.0,1713.0,1713.0,1707.0,1716.5,1745.0,1754.5,1757.0,1745.0,1745.0,1745.0,1750.0,1760.5,1816.0,1800.0,1865.0,1814.0,1725.0,1825.0,1825.0,1795.0,1750.0,1735.0,1800.0,1900.0,1950.0,1980.0,2020.0,2000.0,2040.0,2021.5,2010.0,1990.0,1950.0,1955.0,1975.0,2000.0,1995.0,1999.0,2100.0,2100.0,2095.0,2080.0,2045.0,2034.5,2035.0,2040.0,2049.0,2040.0,2035.0,2047.0,2050.0,2050.0,2057.0,2064.5,2046.0,2034.0,2027.5],\"type\":\"scatter\"},{\"mode\":\"lines\",\"name\":\"line of best fit\",\"x\":[0.07,0.08,0.09,0.09,0.1,0.09,0.09,0.09,0.09,0.09,0.12,0.11,0.11,0.11,0.12,0.12,0.13,0.13,0.14,0.14,0.12,0.12,0.24,0.34,0.38,0.36,0.37,0.37,0.38,0.39,0.4,0.4,0.4,0.41,0.54,0.65,0.66,0.79,0.9,0.91,1.04,1.15,1.16,1.15,1.15,1.16,1.3,1.41,1.42,1.51,1.67,1.7,1.82,1.91,1.91,1.95,2.19,2.2,2.27,2.4,2.4,2.41,2.42,2.39,2.38,2.4,2.13,2.04,1.83,1.55],\"y\":[1715.6857474864423,1717.4465272224445,1719.2073069584467,1719.2073069584467,1720.9680866944486,1719.2073069584467,1719.2073069584467,1719.2073069584467,1719.2073069584467,1719.2073069584467,1724.489646166453,1722.7288664304508,1722.7288664304508,1722.7288664304508,1724.489646166453,1724.489646166453,1726.2504259024552,1726.2504259024552,1728.0112056384573,1728.0112056384573,1724.489646166453,1724.489646166453,1745.6190029984787,1763.2268003585002,1770.2699193025087,1766.7483598305046,1768.5091395665065,1768.5091395665065,1770.2699193025087,1772.0306990385109,1773.791478774513,1773.791478774513,1773.791478774513,1775.5522585105152,1798.442395078543,1817.8109721745666,1819.5717519105688,1842.4618884785966,1861.8304655746201,1863.5912453106223,1886.4813818786502,1905.8499589746739,1907.6107387106758,1905.8499589746739,1905.8499589746739,1907.6107387106758,1932.2616550147059,1951.6302321107296,1953.3910118467318,1969.238029470751,1997.4105052467853,2002.6928444547916,2023.8222012868175,2039.6692189108367,2039.6692189108367,2046.7123378548454,2088.9710515188967,2090.731831254899,2103.0572894069137,2125.947425974942,2125.947425974942,2127.7082057109437,2129.468985446946,2124.18664623894,2122.4258665029374,2125.947425974942,2078.4063731028837,2062.5593554788647,2025.5829810228197,1976.2811484147596],\"type\":\"scatter\"}],                        {\"template\":{\"data\":{\"bar\":[{\"error_x\":{\"color\":\"#2a3f5f\"},\"error_y\":{\"color\":\"#2a3f5f\"},\"marker\":{\"line\":{\"color\":\"#E5ECF6\",\"width\":0.5},\"pattern\":{\"fillmode\":\"overlay\",\"size\":10,\"solidity\":0.2}},\"type\":\"bar\"}],\"barpolar\":[{\"marker\":{\"line\":{\"color\":\"#E5ECF6\",\"width\":0.5},\"pattern\":{\"fillmode\":\"overlay\",\"size\":10,\"solidity\":0.2}},\"type\":\"barpolar\"}],\"carpet\":[{\"aaxis\":{\"endlinecolor\":\"#2a3f5f\",\"gridcolor\":\"white\",\"linecolor\":\"white\",\"minorgridcolor\":\"white\",\"startlinecolor\":\"#2a3f5f\"},\"baxis\":{\"endlinecolor\":\"#2a3f5f\",\"gridcolor\":\"white\",\"linecolor\":\"white\",\"minorgridcolor\":\"white\",\"startlinecolor\":\"#2a3f5f\"},\"type\":\"carpet\"}],\"choropleth\":[{\"colorbar\":{\"outlinewidth\":0,\"ticks\":\"\"},\"type\":\"choropleth\"}],\"contour\":[{\"colorbar\":{\"outlinewidth\":0,\"ticks\":\"\"},\"colorscale\":[[0.0,\"#0d0887\"],[0.1111111111111111,\"#46039f\"],[0.2222222222222222,\"#7201a8\"],[0.3333333333333333,\"#9c179e\"],[0.4444444444444444,\"#bd3786\"],[0.5555555555555556,\"#d8576b\"],[0.6666666666666666,\"#ed7953\"],[0.7777777777777778,\"#fb9f3a\"],[0.8888888888888888,\"#fdca26\"],[1.0,\"#f0f921\"]],\"type\":\"contour\"}],\"contourcarpet\":[{\"colorbar\":{\"outlinewidth\":0,\"ticks\":\"\"},\"type\":\"contourcarpet\"}],\"heatmap\":[{\"colorbar\":{\"outlinewidth\":0,\"ticks\":\"\"},\"colorscale\":[[0.0,\"#0d0887\"],[0.1111111111111111,\"#46039f\"],[0.2222222222222222,\"#7201a8\"],[0.3333333333333333,\"#9c179e\"],[0.4444444444444444,\"#bd3786\"],[0.5555555555555556,\"#d8576b\"],[0.6666666666666666,\"#ed7953\"],[0.7777777777777778,\"#fb9f3a\"],[0.8888888888888888,\"#fdca26\"],[1.0,\"#f0f921\"]],\"type\":\"heatmap\"}],\"heatmapgl\":[{\"colorbar\":{\"outlinewidth\":0,\"ticks\":\"\"},\"colorscale\":[[0.0,\"#0d0887\"],[0.1111111111111111,\"#46039f\"],[0.2222222222222222,\"#7201a8\"],[0.3333333333333333,\"#9c179e\"],[0.4444444444444444,\"#bd3786\"],[0.5555555555555556,\"#d8576b\"],[0.6666666666666666,\"#ed7953\"],[0.7777777777777778,\"#fb9f3a\"],[0.8888888888888888,\"#fdca26\"],[1.0,\"#f0f921\"]],\"type\":\"heatmapgl\"}],\"histogram\":[{\"marker\":{\"pattern\":{\"fillmode\":\"overlay\",\"size\":10,\"solidity\":0.2}},\"type\":\"histogram\"}],\"histogram2d\":[{\"colorbar\":{\"outlinewidth\":0,\"ticks\":\"\"},\"colorscale\":[[0.0,\"#0d0887\"],[0.1111111111111111,\"#46039f\"],[0.2222222222222222,\"#7201a8\"],[0.3333333333333333,\"#9c179e\"],[0.4444444444444444,\"#bd3786\"],[0.5555555555555556,\"#d8576b\"],[0.6666666666666666,\"#ed7953\"],[0.7777777777777778,\"#fb9f3a\"],[0.8888888888888888,\"#fdca26\"],[1.0,\"#f0f921\"]],\"type\":\"histogram2d\"}],\"histogram2dcontour\":[{\"colorbar\":{\"outlinewidth\":0,\"ticks\":\"\"},\"colorscale\":[[0.0,\"#0d0887\"],[0.1111111111111111,\"#46039f\"],[0.2222222222222222,\"#7201a8\"],[0.3333333333333333,\"#9c179e\"],[0.4444444444444444,\"#bd3786\"],[0.5555555555555556,\"#d8576b\"],[0.6666666666666666,\"#ed7953\"],[0.7777777777777778,\"#fb9f3a\"],[0.8888888888888888,\"#fdca26\"],[1.0,\"#f0f921\"]],\"type\":\"histogram2dcontour\"}],\"mesh3d\":[{\"colorbar\":{\"outlinewidth\":0,\"ticks\":\"\"},\"type\":\"mesh3d\"}],\"parcoords\":[{\"line\":{\"colorbar\":{\"outlinewidth\":0,\"ticks\":\"\"}},\"type\":\"parcoords\"}],\"pie\":[{\"automargin\":true,\"type\":\"pie\"}],\"scatter\":[{\"marker\":{\"colorbar\":{\"outlinewidth\":0,\"ticks\":\"\"}},\"type\":\"scatter\"}],\"scatter3d\":[{\"line\":{\"colorbar\":{\"outlinewidth\":0,\"ticks\":\"\"}},\"marker\":{\"colorbar\":{\"outlinewidth\":0,\"ticks\":\"\"}},\"type\":\"scatter3d\"}],\"scattercarpet\":[{\"marker\":{\"colorbar\":{\"outlinewidth\":0,\"ticks\":\"\"}},\"type\":\"scattercarpet\"}],\"scattergeo\":[{\"marker\":{\"colorbar\":{\"outlinewidth\":0,\"ticks\":\"\"}},\"type\":\"scattergeo\"}],\"scattergl\":[{\"marker\":{\"colorbar\":{\"outlinewidth\":0,\"ticks\":\"\"}},\"type\":\"scattergl\"}],\"scattermapbox\":[{\"marker\":{\"colorbar\":{\"outlinewidth\":0,\"ticks\":\"\"}},\"type\":\"scattermapbox\"}],\"scatterpolar\":[{\"marker\":{\"colorbar\":{\"outlinewidth\":0,\"ticks\":\"\"}},\"type\":\"scatterpolar\"}],\"scatterpolargl\":[{\"marker\":{\"colorbar\":{\"outlinewidth\":0,\"ticks\":\"\"}},\"type\":\"scatterpolargl\"}],\"scatterternary\":[{\"marker\":{\"colorbar\":{\"outlinewidth\":0,\"ticks\":\"\"}},\"type\":\"scatterternary\"}],\"surface\":[{\"colorbar\":{\"outlinewidth\":0,\"ticks\":\"\"},\"colorscale\":[[0.0,\"#0d0887\"],[0.1111111111111111,\"#46039f\"],[0.2222222222222222,\"#7201a8\"],[0.3333333333333333,\"#9c179e\"],[0.4444444444444444,\"#bd3786\"],[0.5555555555555556,\"#d8576b\"],[0.6666666666666666,\"#ed7953\"],[0.7777777777777778,\"#fb9f3a\"],[0.8888888888888888,\"#fdca26\"],[1.0,\"#f0f921\"]],\"type\":\"surface\"}],\"table\":[{\"cells\":{\"fill\":{\"color\":\"#EBF0F8\"},\"line\":{\"color\":\"white\"}},\"header\":{\"fill\":{\"color\":\"#C8D4E3\"},\"line\":{\"color\":\"white\"}},\"type\":\"table\"}]},\"layout\":{\"annotationdefaults\":{\"arrowcolor\":\"#2a3f5f\",\"arrowhead\":0,\"arrowwidth\":1},\"autotypenumbers\":\"strict\",\"coloraxis\":{\"colorbar\":{\"outlinewidth\":0,\"ticks\":\"\"}},\"colorscale\":{\"diverging\":[[0,\"#8e0152\"],[0.1,\"#c51b7d\"],[0.2,\"#de77ae\"],[0.3,\"#f1b6da\"],[0.4,\"#fde0ef\"],[0.5,\"#f7f7f7\"],[0.6,\"#e6f5d0\"],[0.7,\"#b8e186\"],[0.8,\"#7fbc41\"],[0.9,\"#4d9221\"],[1,\"#276419\"]],\"sequential\":[[0.0,\"#0d0887\"],[0.1111111111111111,\"#46039f\"],[0.2222222222222222,\"#7201a8\"],[0.3333333333333333,\"#9c179e\"],[0.4444444444444444,\"#bd3786\"],[0.5555555555555556,\"#d8576b\"],[0.6666666666666666,\"#ed7953\"],[0.7777777777777778,\"#fb9f3a\"],[0.8888888888888888,\"#fdca26\"],[1.0,\"#f0f921\"]],\"sequentialminus\":[[0.0,\"#0d0887\"],[0.1111111111111111,\"#46039f\"],[0.2222222222222222,\"#7201a8\"],[0.3333333333333333,\"#9c179e\"],[0.4444444444444444,\"#bd3786\"],[0.5555555555555556,\"#d8576b\"],[0.6666666666666666,\"#ed7953\"],[0.7777777777777778,\"#fb9f3a\"],[0.8888888888888888,\"#fdca26\"],[1.0,\"#f0f921\"]]},\"colorway\":[\"#636efa\",\"#EF553B\",\"#00cc96\",\"#ab63fa\",\"#FFA15A\",\"#19d3f3\",\"#FF6692\",\"#B6E880\",\"#FF97FF\",\"#FECB52\"],\"font\":{\"color\":\"#2a3f5f\"},\"geo\":{\"bgcolor\":\"white\",\"lakecolor\":\"white\",\"landcolor\":\"#E5ECF6\",\"showlakes\":true,\"showland\":true,\"subunitcolor\":\"white\"},\"hoverlabel\":{\"align\":\"left\"},\"hovermode\":\"closest\",\"mapbox\":{\"style\":\"light\"},\"paper_bgcolor\":\"white\",\"plot_bgcolor\":\"#E5ECF6\",\"polar\":{\"angularaxis\":{\"gridcolor\":\"white\",\"linecolor\":\"white\",\"ticks\":\"\"},\"bgcolor\":\"#E5ECF6\",\"radialaxis\":{\"gridcolor\":\"white\",\"linecolor\":\"white\",\"ticks\":\"\"}},\"scene\":{\"xaxis\":{\"backgroundcolor\":\"#E5ECF6\",\"gridcolor\":\"white\",\"gridwidth\":2,\"linecolor\":\"white\",\"showbackground\":true,\"ticks\":\"\",\"zerolinecolor\":\"white\"},\"yaxis\":{\"backgroundcolor\":\"#E5ECF6\",\"gridcolor\":\"white\",\"gridwidth\":2,\"linecolor\":\"white\",\"showbackground\":true,\"ticks\":\"\",\"zerolinecolor\":\"white\"},\"zaxis\":{\"backgroundcolor\":\"#E5ECF6\",\"gridcolor\":\"white\",\"gridwidth\":2,\"linecolor\":\"white\",\"showbackground\":true,\"ticks\":\"\",\"zerolinecolor\":\"white\"}},\"shapedefaults\":{\"line\":{\"color\":\"#2a3f5f\"}},\"ternary\":{\"aaxis\":{\"gridcolor\":\"white\",\"linecolor\":\"white\",\"ticks\":\"\"},\"baxis\":{\"gridcolor\":\"white\",\"linecolor\":\"white\",\"ticks\":\"\"},\"bgcolor\":\"#E5ECF6\",\"caxis\":{\"gridcolor\":\"white\",\"linecolor\":\"white\",\"ticks\":\"\"}},\"title\":{\"x\":0.05},\"xaxis\":{\"automargin\":true,\"gridcolor\":\"white\",\"linecolor\":\"white\",\"ticks\":\"\",\"title\":{\"standoff\":15},\"zerolinecolor\":\"white\",\"zerolinewidth\":2},\"yaxis\":{\"automargin\":true,\"gridcolor\":\"white\",\"linecolor\":\"white\",\"ticks\":\"\",\"title\":{\"standoff\":15},\"zerolinecolor\":\"white\",\"zerolinewidth\":2}}},\"title\":{\"text\":\"Interest rate vs median rent Linear Regression in Seattle, WA, from 2014-02 to 2019-12\"},\"xaxis\":{\"title\":{\"text\":\"Effective Federal Funds Rate\"}},\"yaxis\":{\"title\":{\"text\":\"Seattle Rent\"}}},                        {\"responsive\": true}                    ).then(function(){\n",
       "                            \n",
       "var gd = document.getElementById('9ebbb761-2c52-45ff-af9e-5d7fd4c39243');\n",
       "var x = new MutationObserver(function (mutations, observer) {{\n",
       "        var display = window.getComputedStyle(gd).display;\n",
       "        if (!display || display === 'none') {{\n",
       "            console.log([gd, 'removed!']);\n",
       "            Plotly.purge(gd);\n",
       "            observer.disconnect();\n",
       "        }}\n",
       "}});\n",
       "\n",
       "// Listen for the removal of the full notebook cells\n",
       "var notebookContainer = gd.closest('#notebook-container');\n",
       "if (notebookContainer) {{\n",
       "    x.observe(notebookContainer, {childList: true});\n",
       "}}\n",
       "\n",
       "// Listen for the clearing of the current output cell\n",
       "var outputEl = gd.closest('.output');\n",
       "if (outputEl) {{\n",
       "    x.observe(outputEl, {childList: true});\n",
       "}}\n",
       "\n",
       "                        })                };                });            </script>        </div>"
      ]
     },
     "metadata": {},
     "output_type": "display_data"
    },
    {
     "data": {
      "text/plain": [
       "'https://plotly.com/~edtsoi430/32/'"
      ]
     },
     "execution_count": 108,
     "metadata": {},
     "output_type": "execute_result"
    }
   ],
   "source": [
    "df = pd.DataFrame({'X': rate_fund, 'Y':seattle_rent})\n",
    "reg = LinearRegression().fit(np.vstack(df['X']), seattle_rent)\n",
    "df['bestfit'] = reg.predict(np.vstack(df['X']))\n",
    "fig=go.Figure()\n",
    "fig.add_trace(go.Scatter(name='Interest rate vs Median rent', x=df['X'], y=df['Y'].values, mode='markers'))\n",
    "fig.add_trace(go.Scatter(name='line of best fit', x=rate_fund, y=df['bestfit'], mode='lines'))\n",
    "\n",
    "fig.update_layout(title_text = 'Interest rate vs median rent Linear Regression in Seattle, WA, from 2014-02 to 2019-12', xaxis_title = 'Effective Federal Funds Rate', yaxis_title = 'Seattle Rent')\n",
    "\n",
    "fig.show()\n",
    "seattle_ml = fig\n",
    "py.plot(seattle_ml, filename=\"Interest rate vs median rent Linear Regression in Seattle, WA, from 2014-02 to 2019-12\", auto_open=False)"
   ]
  },
  {
   "cell_type": "code",
   "execution_count": 109,
   "metadata": {},
   "outputs": [
    {
     "data": {
      "application/vnd.plotly.v1+json": {
       "config": {
        "plotlyServerURL": "https://plotly.com"
       },
       "data": [
        {
         "mode": "markers",
         "name": "Interest rate vs Median rent",
         "type": "scatter",
         "x": [
          0.07,
          0.08,
          0.09,
          0.09,
          0.1,
          0.09,
          0.09,
          0.09,
          0.09,
          0.09,
          0.12,
          0.11,
          0.11,
          0.11,
          0.12,
          0.12,
          0.13,
          0.13,
          0.14,
          0.14,
          0.12,
          0.12,
          0.24,
          0.34,
          0.38,
          0.36,
          0.37,
          0.37,
          0.38,
          0.39,
          0.4,
          0.4,
          0.4,
          0.41,
          0.54,
          0.65,
          0.66,
          0.79,
          0.9,
          0.91,
          1.04,
          1.15,
          1.16,
          1.15,
          1.15,
          1.16,
          1.3,
          1.41,
          1.42,
          1.51,
          1.67,
          1.7,
          1.82,
          1.91,
          1.91,
          1.95,
          2.19,
          2.2,
          2.27,
          2.4,
          2.4,
          2.41,
          2.42,
          2.39,
          2.38,
          2.4,
          2.13,
          2.04,
          1.83,
          1.55
         ],
         "y": [
          1549,
          1510,
          1498,
          1495,
          1544,
          1638,
          1525,
          1674,
          1700,
          1650,
          1495,
          1600,
          1658,
          1500.5,
          1500,
          1515,
          1500,
          1480,
          1492,
          1645,
          1724.5,
          1804,
          1724,
          1680,
          1737,
          1595,
          1545,
          1535,
          1505,
          1488,
          1495,
          1495,
          1495,
          1550,
          1550,
          1532,
          1500,
          1495,
          1495,
          1495,
          1495,
          1497,
          1525,
          1595,
          1610,
          1635,
          1596,
          1595,
          1595,
          1595,
          1600,
          1595,
          1595,
          1604,
          1614,
          1600,
          1595,
          1626,
          1640,
          1670,
          1675,
          1695,
          1650,
          1650,
          1634,
          1600,
          1582,
          1595,
          1542,
          1550
         ]
        },
        {
         "mode": "lines",
         "name": "line of best fit",
         "type": "scatter",
         "x": [
          0.07,
          0.08,
          0.09,
          0.09,
          0.1,
          0.09,
          0.09,
          0.09,
          0.09,
          0.09,
          0.12,
          0.11,
          0.11,
          0.11,
          0.12,
          0.12,
          0.13,
          0.13,
          0.14,
          0.14,
          0.12,
          0.12,
          0.24,
          0.34,
          0.38,
          0.36,
          0.37,
          0.37,
          0.38,
          0.39,
          0.4,
          0.4,
          0.4,
          0.41,
          0.54,
          0.65,
          0.66,
          0.79,
          0.9,
          0.91,
          1.04,
          1.15,
          1.16,
          1.15,
          1.15,
          1.16,
          1.3,
          1.41,
          1.42,
          1.51,
          1.67,
          1.7,
          1.82,
          1.91,
          1.91,
          1.95,
          2.19,
          2.2,
          2.27,
          2.4,
          2.4,
          2.41,
          2.42,
          2.39,
          2.38,
          2.4,
          2.13,
          2.04,
          1.83,
          1.55
         ],
         "y": [
          1560.425679701574,
          1560.6607360578757,
          1560.8957924141775,
          1560.8957924141775,
          1561.1308487704794,
          1560.8957924141775,
          1560.8957924141775,
          1560.8957924141775,
          1560.8957924141775,
          1560.8957924141775,
          1561.600961483083,
          1561.3659051267812,
          1561.3659051267812,
          1561.3659051267812,
          1561.600961483083,
          1561.600961483083,
          1561.8360178393848,
          1561.8360178393848,
          1562.0710741956866,
          1562.0710741956866,
          1561.600961483083,
          1561.600961483083,
          1564.4216377587047,
          1566.772201321723,
          1567.7124267469303,
          1567.2423140343267,
          1567.4773703906285,
          1567.4773703906285,
          1567.7124267469303,
          1567.9474831032321,
          1568.182539459534,
          1568.182539459534,
          1568.182539459534,
          1568.4175958158357,
          1571.4733284477593,
          1574.0589483670792,
          1574.294004723381,
          1577.3497373553046,
          1579.9353572746245,
          1580.1704136309263,
          1583.22614626285,
          1585.81176618217,
          1586.0468225384718,
          1585.81176618217,
          1585.81176618217,
          1586.0468225384718,
          1589.3376115266972,
          1591.923231446017,
          1592.158287802319,
          1594.2737950090352,
          1598.0346967098644,
          1598.7398657787699,
          1601.5605420543916,
          1603.676049261108,
          1603.676049261108,
          1604.6162746863151,
          1610.2576272375586,
          1610.4926835938604,
          1612.138078087973,
          1615.1938107198969,
          1615.1938107198969,
          1615.4288670761987,
          1615.6639234325005,
          1614.958754363595,
          1614.7236980072933,
          1615.1938107198969,
          1608.8472890997477,
          1606.7317818930314,
          1601.7955984106934,
          1595.2140204342425
         ]
        }
       ],
       "layout": {
        "template": {
         "data": {
          "bar": [
           {
            "error_x": {
             "color": "#2a3f5f"
            },
            "error_y": {
             "color": "#2a3f5f"
            },
            "marker": {
             "line": {
              "color": "#E5ECF6",
              "width": 0.5
             },
             "pattern": {
              "fillmode": "overlay",
              "size": 10,
              "solidity": 0.2
             }
            },
            "type": "bar"
           }
          ],
          "barpolar": [
           {
            "marker": {
             "line": {
              "color": "#E5ECF6",
              "width": 0.5
             },
             "pattern": {
              "fillmode": "overlay",
              "size": 10,
              "solidity": 0.2
             }
            },
            "type": "barpolar"
           }
          ],
          "carpet": [
           {
            "aaxis": {
             "endlinecolor": "#2a3f5f",
             "gridcolor": "white",
             "linecolor": "white",
             "minorgridcolor": "white",
             "startlinecolor": "#2a3f5f"
            },
            "baxis": {
             "endlinecolor": "#2a3f5f",
             "gridcolor": "white",
             "linecolor": "white",
             "minorgridcolor": "white",
             "startlinecolor": "#2a3f5f"
            },
            "type": "carpet"
           }
          ],
          "choropleth": [
           {
            "colorbar": {
             "outlinewidth": 0,
             "ticks": ""
            },
            "type": "choropleth"
           }
          ],
          "contour": [
           {
            "colorbar": {
             "outlinewidth": 0,
             "ticks": ""
            },
            "colorscale": [
             [
              0,
              "#0d0887"
             ],
             [
              0.1111111111111111,
              "#46039f"
             ],
             [
              0.2222222222222222,
              "#7201a8"
             ],
             [
              0.3333333333333333,
              "#9c179e"
             ],
             [
              0.4444444444444444,
              "#bd3786"
             ],
             [
              0.5555555555555556,
              "#d8576b"
             ],
             [
              0.6666666666666666,
              "#ed7953"
             ],
             [
              0.7777777777777778,
              "#fb9f3a"
             ],
             [
              0.8888888888888888,
              "#fdca26"
             ],
             [
              1,
              "#f0f921"
             ]
            ],
            "type": "contour"
           }
          ],
          "contourcarpet": [
           {
            "colorbar": {
             "outlinewidth": 0,
             "ticks": ""
            },
            "type": "contourcarpet"
           }
          ],
          "heatmap": [
           {
            "colorbar": {
             "outlinewidth": 0,
             "ticks": ""
            },
            "colorscale": [
             [
              0,
              "#0d0887"
             ],
             [
              0.1111111111111111,
              "#46039f"
             ],
             [
              0.2222222222222222,
              "#7201a8"
             ],
             [
              0.3333333333333333,
              "#9c179e"
             ],
             [
              0.4444444444444444,
              "#bd3786"
             ],
             [
              0.5555555555555556,
              "#d8576b"
             ],
             [
              0.6666666666666666,
              "#ed7953"
             ],
             [
              0.7777777777777778,
              "#fb9f3a"
             ],
             [
              0.8888888888888888,
              "#fdca26"
             ],
             [
              1,
              "#f0f921"
             ]
            ],
            "type": "heatmap"
           }
          ],
          "heatmapgl": [
           {
            "colorbar": {
             "outlinewidth": 0,
             "ticks": ""
            },
            "colorscale": [
             [
              0,
              "#0d0887"
             ],
             [
              0.1111111111111111,
              "#46039f"
             ],
             [
              0.2222222222222222,
              "#7201a8"
             ],
             [
              0.3333333333333333,
              "#9c179e"
             ],
             [
              0.4444444444444444,
              "#bd3786"
             ],
             [
              0.5555555555555556,
              "#d8576b"
             ],
             [
              0.6666666666666666,
              "#ed7953"
             ],
             [
              0.7777777777777778,
              "#fb9f3a"
             ],
             [
              0.8888888888888888,
              "#fdca26"
             ],
             [
              1,
              "#f0f921"
             ]
            ],
            "type": "heatmapgl"
           }
          ],
          "histogram": [
           {
            "marker": {
             "pattern": {
              "fillmode": "overlay",
              "size": 10,
              "solidity": 0.2
             }
            },
            "type": "histogram"
           }
          ],
          "histogram2d": [
           {
            "colorbar": {
             "outlinewidth": 0,
             "ticks": ""
            },
            "colorscale": [
             [
              0,
              "#0d0887"
             ],
             [
              0.1111111111111111,
              "#46039f"
             ],
             [
              0.2222222222222222,
              "#7201a8"
             ],
             [
              0.3333333333333333,
              "#9c179e"
             ],
             [
              0.4444444444444444,
              "#bd3786"
             ],
             [
              0.5555555555555556,
              "#d8576b"
             ],
             [
              0.6666666666666666,
              "#ed7953"
             ],
             [
              0.7777777777777778,
              "#fb9f3a"
             ],
             [
              0.8888888888888888,
              "#fdca26"
             ],
             [
              1,
              "#f0f921"
             ]
            ],
            "type": "histogram2d"
           }
          ],
          "histogram2dcontour": [
           {
            "colorbar": {
             "outlinewidth": 0,
             "ticks": ""
            },
            "colorscale": [
             [
              0,
              "#0d0887"
             ],
             [
              0.1111111111111111,
              "#46039f"
             ],
             [
              0.2222222222222222,
              "#7201a8"
             ],
             [
              0.3333333333333333,
              "#9c179e"
             ],
             [
              0.4444444444444444,
              "#bd3786"
             ],
             [
              0.5555555555555556,
              "#d8576b"
             ],
             [
              0.6666666666666666,
              "#ed7953"
             ],
             [
              0.7777777777777778,
              "#fb9f3a"
             ],
             [
              0.8888888888888888,
              "#fdca26"
             ],
             [
              1,
              "#f0f921"
             ]
            ],
            "type": "histogram2dcontour"
           }
          ],
          "mesh3d": [
           {
            "colorbar": {
             "outlinewidth": 0,
             "ticks": ""
            },
            "type": "mesh3d"
           }
          ],
          "parcoords": [
           {
            "line": {
             "colorbar": {
              "outlinewidth": 0,
              "ticks": ""
             }
            },
            "type": "parcoords"
           }
          ],
          "pie": [
           {
            "automargin": true,
            "type": "pie"
           }
          ],
          "scatter": [
           {
            "marker": {
             "colorbar": {
              "outlinewidth": 0,
              "ticks": ""
             }
            },
            "type": "scatter"
           }
          ],
          "scatter3d": [
           {
            "line": {
             "colorbar": {
              "outlinewidth": 0,
              "ticks": ""
             }
            },
            "marker": {
             "colorbar": {
              "outlinewidth": 0,
              "ticks": ""
             }
            },
            "type": "scatter3d"
           }
          ],
          "scattercarpet": [
           {
            "marker": {
             "colorbar": {
              "outlinewidth": 0,
              "ticks": ""
             }
            },
            "type": "scattercarpet"
           }
          ],
          "scattergeo": [
           {
            "marker": {
             "colorbar": {
              "outlinewidth": 0,
              "ticks": ""
             }
            },
            "type": "scattergeo"
           }
          ],
          "scattergl": [
           {
            "marker": {
             "colorbar": {
              "outlinewidth": 0,
              "ticks": ""
             }
            },
            "type": "scattergl"
           }
          ],
          "scattermapbox": [
           {
            "marker": {
             "colorbar": {
              "outlinewidth": 0,
              "ticks": ""
             }
            },
            "type": "scattermapbox"
           }
          ],
          "scatterpolar": [
           {
            "marker": {
             "colorbar": {
              "outlinewidth": 0,
              "ticks": ""
             }
            },
            "type": "scatterpolar"
           }
          ],
          "scatterpolargl": [
           {
            "marker": {
             "colorbar": {
              "outlinewidth": 0,
              "ticks": ""
             }
            },
            "type": "scatterpolargl"
           }
          ],
          "scatterternary": [
           {
            "marker": {
             "colorbar": {
              "outlinewidth": 0,
              "ticks": ""
             }
            },
            "type": "scatterternary"
           }
          ],
          "surface": [
           {
            "colorbar": {
             "outlinewidth": 0,
             "ticks": ""
            },
            "colorscale": [
             [
              0,
              "#0d0887"
             ],
             [
              0.1111111111111111,
              "#46039f"
             ],
             [
              0.2222222222222222,
              "#7201a8"
             ],
             [
              0.3333333333333333,
              "#9c179e"
             ],
             [
              0.4444444444444444,
              "#bd3786"
             ],
             [
              0.5555555555555556,
              "#d8576b"
             ],
             [
              0.6666666666666666,
              "#ed7953"
             ],
             [
              0.7777777777777778,
              "#fb9f3a"
             ],
             [
              0.8888888888888888,
              "#fdca26"
             ],
             [
              1,
              "#f0f921"
             ]
            ],
            "type": "surface"
           }
          ],
          "table": [
           {
            "cells": {
             "fill": {
              "color": "#EBF0F8"
             },
             "line": {
              "color": "white"
             }
            },
            "header": {
             "fill": {
              "color": "#C8D4E3"
             },
             "line": {
              "color": "white"
             }
            },
            "type": "table"
           }
          ]
         },
         "layout": {
          "annotationdefaults": {
           "arrowcolor": "#2a3f5f",
           "arrowhead": 0,
           "arrowwidth": 1
          },
          "autotypenumbers": "strict",
          "coloraxis": {
           "colorbar": {
            "outlinewidth": 0,
            "ticks": ""
           }
          },
          "colorscale": {
           "diverging": [
            [
             0,
             "#8e0152"
            ],
            [
             0.1,
             "#c51b7d"
            ],
            [
             0.2,
             "#de77ae"
            ],
            [
             0.3,
             "#f1b6da"
            ],
            [
             0.4,
             "#fde0ef"
            ],
            [
             0.5,
             "#f7f7f7"
            ],
            [
             0.6,
             "#e6f5d0"
            ],
            [
             0.7,
             "#b8e186"
            ],
            [
             0.8,
             "#7fbc41"
            ],
            [
             0.9,
             "#4d9221"
            ],
            [
             1,
             "#276419"
            ]
           ],
           "sequential": [
            [
             0,
             "#0d0887"
            ],
            [
             0.1111111111111111,
             "#46039f"
            ],
            [
             0.2222222222222222,
             "#7201a8"
            ],
            [
             0.3333333333333333,
             "#9c179e"
            ],
            [
             0.4444444444444444,
             "#bd3786"
            ],
            [
             0.5555555555555556,
             "#d8576b"
            ],
            [
             0.6666666666666666,
             "#ed7953"
            ],
            [
             0.7777777777777778,
             "#fb9f3a"
            ],
            [
             0.8888888888888888,
             "#fdca26"
            ],
            [
             1,
             "#f0f921"
            ]
           ],
           "sequentialminus": [
            [
             0,
             "#0d0887"
            ],
            [
             0.1111111111111111,
             "#46039f"
            ],
            [
             0.2222222222222222,
             "#7201a8"
            ],
            [
             0.3333333333333333,
             "#9c179e"
            ],
            [
             0.4444444444444444,
             "#bd3786"
            ],
            [
             0.5555555555555556,
             "#d8576b"
            ],
            [
             0.6666666666666666,
             "#ed7953"
            ],
            [
             0.7777777777777778,
             "#fb9f3a"
            ],
            [
             0.8888888888888888,
             "#fdca26"
            ],
            [
             1,
             "#f0f921"
            ]
           ]
          },
          "colorway": [
           "#636efa",
           "#EF553B",
           "#00cc96",
           "#ab63fa",
           "#FFA15A",
           "#19d3f3",
           "#FF6692",
           "#B6E880",
           "#FF97FF",
           "#FECB52"
          ],
          "font": {
           "color": "#2a3f5f"
          },
          "geo": {
           "bgcolor": "white",
           "lakecolor": "white",
           "landcolor": "#E5ECF6",
           "showlakes": true,
           "showland": true,
           "subunitcolor": "white"
          },
          "hoverlabel": {
           "align": "left"
          },
          "hovermode": "closest",
          "mapbox": {
           "style": "light"
          },
          "paper_bgcolor": "white",
          "plot_bgcolor": "#E5ECF6",
          "polar": {
           "angularaxis": {
            "gridcolor": "white",
            "linecolor": "white",
            "ticks": ""
           },
           "bgcolor": "#E5ECF6",
           "radialaxis": {
            "gridcolor": "white",
            "linecolor": "white",
            "ticks": ""
           }
          },
          "scene": {
           "xaxis": {
            "backgroundcolor": "#E5ECF6",
            "gridcolor": "white",
            "gridwidth": 2,
            "linecolor": "white",
            "showbackground": true,
            "ticks": "",
            "zerolinecolor": "white"
           },
           "yaxis": {
            "backgroundcolor": "#E5ECF6",
            "gridcolor": "white",
            "gridwidth": 2,
            "linecolor": "white",
            "showbackground": true,
            "ticks": "",
            "zerolinecolor": "white"
           },
           "zaxis": {
            "backgroundcolor": "#E5ECF6",
            "gridcolor": "white",
            "gridwidth": 2,
            "linecolor": "white",
            "showbackground": true,
            "ticks": "",
            "zerolinecolor": "white"
           }
          },
          "shapedefaults": {
           "line": {
            "color": "#2a3f5f"
           }
          },
          "ternary": {
           "aaxis": {
            "gridcolor": "white",
            "linecolor": "white",
            "ticks": ""
           },
           "baxis": {
            "gridcolor": "white",
            "linecolor": "white",
            "ticks": ""
           },
           "bgcolor": "#E5ECF6",
           "caxis": {
            "gridcolor": "white",
            "linecolor": "white",
            "ticks": ""
           }
          },
          "title": {
           "x": 0.05
          },
          "xaxis": {
           "automargin": true,
           "gridcolor": "white",
           "linecolor": "white",
           "ticks": "",
           "title": {
            "standoff": 15
           },
           "zerolinecolor": "white",
           "zerolinewidth": 2
          },
          "yaxis": {
           "automargin": true,
           "gridcolor": "white",
           "linecolor": "white",
           "ticks": "",
           "title": {
            "standoff": 15
           },
           "zerolinecolor": "white",
           "zerolinewidth": 2
          }
         }
        },
        "title": {
         "text": "Interest rate vs median rent Linear Regression in Chicago, IL, from 2014-02 to 2019-12"
        },
        "xaxis": {
         "title": {
          "text": "Effective Federal Funds Rate"
         }
        },
        "yaxis": {
         "title": {
          "text": "Chicago Rent"
         }
        }
       }
      },
      "text/html": [
       "<div>                            <div id=\"ffe9c67b-8bfc-455d-bcd7-aa920fe5ce34\" class=\"plotly-graph-div\" style=\"height:525px; width:100%;\"></div>            <script type=\"text/javascript\">                require([\"plotly\"], function(Plotly) {                    window.PLOTLYENV=window.PLOTLYENV || {};                                    if (document.getElementById(\"ffe9c67b-8bfc-455d-bcd7-aa920fe5ce34\")) {                    Plotly.newPlot(                        \"ffe9c67b-8bfc-455d-bcd7-aa920fe5ce34\",                        [{\"mode\":\"markers\",\"name\":\"Interest rate vs Median rent\",\"x\":[0.07,0.08,0.09,0.09,0.1,0.09,0.09,0.09,0.09,0.09,0.12,0.11,0.11,0.11,0.12,0.12,0.13,0.13,0.14,0.14,0.12,0.12,0.24,0.34,0.38,0.36,0.37,0.37,0.38,0.39,0.4,0.4,0.4,0.41,0.54,0.65,0.66,0.79,0.9,0.91,1.04,1.15,1.16,1.15,1.15,1.16,1.3,1.41,1.42,1.51,1.67,1.7,1.82,1.91,1.91,1.95,2.19,2.2,2.27,2.4,2.4,2.41,2.42,2.39,2.38,2.4,2.13,2.04,1.83,1.55],\"y\":[1549.0,1510.0,1498.0,1495.0,1544.0,1638.0,1525.0,1674.0,1700.0,1650.0,1495.0,1600.0,1658.0,1500.5,1500.0,1515.0,1500.0,1480.0,1492.0,1645.0,1724.5,1804.0,1724.0,1680.0,1737.0,1595.0,1545.0,1535.0,1505.0,1488.0,1495.0,1495.0,1495.0,1550.0,1550.0,1532.0,1500.0,1495.0,1495.0,1495.0,1495.0,1497.0,1525.0,1595.0,1610.0,1635.0,1596.0,1595.0,1595.0,1595.0,1600.0,1595.0,1595.0,1604.0,1614.0,1600.0,1595.0,1626.0,1640.0,1670.0,1675.0,1695.0,1650.0,1650.0,1634.0,1600.0,1582.0,1595.0,1542.0,1550.0],\"type\":\"scatter\"},{\"mode\":\"lines\",\"name\":\"line of best fit\",\"x\":[0.07,0.08,0.09,0.09,0.1,0.09,0.09,0.09,0.09,0.09,0.12,0.11,0.11,0.11,0.12,0.12,0.13,0.13,0.14,0.14,0.12,0.12,0.24,0.34,0.38,0.36,0.37,0.37,0.38,0.39,0.4,0.4,0.4,0.41,0.54,0.65,0.66,0.79,0.9,0.91,1.04,1.15,1.16,1.15,1.15,1.16,1.3,1.41,1.42,1.51,1.67,1.7,1.82,1.91,1.91,1.95,2.19,2.2,2.27,2.4,2.4,2.41,2.42,2.39,2.38,2.4,2.13,2.04,1.83,1.55],\"y\":[1560.425679701574,1560.6607360578757,1560.8957924141775,1560.8957924141775,1561.1308487704794,1560.8957924141775,1560.8957924141775,1560.8957924141775,1560.8957924141775,1560.8957924141775,1561.600961483083,1561.3659051267812,1561.3659051267812,1561.3659051267812,1561.600961483083,1561.600961483083,1561.8360178393848,1561.8360178393848,1562.0710741956866,1562.0710741956866,1561.600961483083,1561.600961483083,1564.4216377587047,1566.772201321723,1567.7124267469303,1567.2423140343267,1567.4773703906285,1567.4773703906285,1567.7124267469303,1567.9474831032321,1568.182539459534,1568.182539459534,1568.182539459534,1568.4175958158357,1571.4733284477593,1574.0589483670792,1574.294004723381,1577.3497373553046,1579.9353572746245,1580.1704136309263,1583.22614626285,1585.81176618217,1586.0468225384718,1585.81176618217,1585.81176618217,1586.0468225384718,1589.3376115266972,1591.923231446017,1592.158287802319,1594.2737950090352,1598.0346967098644,1598.7398657787699,1601.5605420543916,1603.676049261108,1603.676049261108,1604.6162746863151,1610.2576272375586,1610.4926835938604,1612.138078087973,1615.1938107198969,1615.1938107198969,1615.4288670761987,1615.6639234325005,1614.958754363595,1614.7236980072933,1615.1938107198969,1608.8472890997477,1606.7317818930314,1601.7955984106934,1595.2140204342425],\"type\":\"scatter\"}],                        {\"template\":{\"data\":{\"bar\":[{\"error_x\":{\"color\":\"#2a3f5f\"},\"error_y\":{\"color\":\"#2a3f5f\"},\"marker\":{\"line\":{\"color\":\"#E5ECF6\",\"width\":0.5},\"pattern\":{\"fillmode\":\"overlay\",\"size\":10,\"solidity\":0.2}},\"type\":\"bar\"}],\"barpolar\":[{\"marker\":{\"line\":{\"color\":\"#E5ECF6\",\"width\":0.5},\"pattern\":{\"fillmode\":\"overlay\",\"size\":10,\"solidity\":0.2}},\"type\":\"barpolar\"}],\"carpet\":[{\"aaxis\":{\"endlinecolor\":\"#2a3f5f\",\"gridcolor\":\"white\",\"linecolor\":\"white\",\"minorgridcolor\":\"white\",\"startlinecolor\":\"#2a3f5f\"},\"baxis\":{\"endlinecolor\":\"#2a3f5f\",\"gridcolor\":\"white\",\"linecolor\":\"white\",\"minorgridcolor\":\"white\",\"startlinecolor\":\"#2a3f5f\"},\"type\":\"carpet\"}],\"choropleth\":[{\"colorbar\":{\"outlinewidth\":0,\"ticks\":\"\"},\"type\":\"choropleth\"}],\"contour\":[{\"colorbar\":{\"outlinewidth\":0,\"ticks\":\"\"},\"colorscale\":[[0.0,\"#0d0887\"],[0.1111111111111111,\"#46039f\"],[0.2222222222222222,\"#7201a8\"],[0.3333333333333333,\"#9c179e\"],[0.4444444444444444,\"#bd3786\"],[0.5555555555555556,\"#d8576b\"],[0.6666666666666666,\"#ed7953\"],[0.7777777777777778,\"#fb9f3a\"],[0.8888888888888888,\"#fdca26\"],[1.0,\"#f0f921\"]],\"type\":\"contour\"}],\"contourcarpet\":[{\"colorbar\":{\"outlinewidth\":0,\"ticks\":\"\"},\"type\":\"contourcarpet\"}],\"heatmap\":[{\"colorbar\":{\"outlinewidth\":0,\"ticks\":\"\"},\"colorscale\":[[0.0,\"#0d0887\"],[0.1111111111111111,\"#46039f\"],[0.2222222222222222,\"#7201a8\"],[0.3333333333333333,\"#9c179e\"],[0.4444444444444444,\"#bd3786\"],[0.5555555555555556,\"#d8576b\"],[0.6666666666666666,\"#ed7953\"],[0.7777777777777778,\"#fb9f3a\"],[0.8888888888888888,\"#fdca26\"],[1.0,\"#f0f921\"]],\"type\":\"heatmap\"}],\"heatmapgl\":[{\"colorbar\":{\"outlinewidth\":0,\"ticks\":\"\"},\"colorscale\":[[0.0,\"#0d0887\"],[0.1111111111111111,\"#46039f\"],[0.2222222222222222,\"#7201a8\"],[0.3333333333333333,\"#9c179e\"],[0.4444444444444444,\"#bd3786\"],[0.5555555555555556,\"#d8576b\"],[0.6666666666666666,\"#ed7953\"],[0.7777777777777778,\"#fb9f3a\"],[0.8888888888888888,\"#fdca26\"],[1.0,\"#f0f921\"]],\"type\":\"heatmapgl\"}],\"histogram\":[{\"marker\":{\"pattern\":{\"fillmode\":\"overlay\",\"size\":10,\"solidity\":0.2}},\"type\":\"histogram\"}],\"histogram2d\":[{\"colorbar\":{\"outlinewidth\":0,\"ticks\":\"\"},\"colorscale\":[[0.0,\"#0d0887\"],[0.1111111111111111,\"#46039f\"],[0.2222222222222222,\"#7201a8\"],[0.3333333333333333,\"#9c179e\"],[0.4444444444444444,\"#bd3786\"],[0.5555555555555556,\"#d8576b\"],[0.6666666666666666,\"#ed7953\"],[0.7777777777777778,\"#fb9f3a\"],[0.8888888888888888,\"#fdca26\"],[1.0,\"#f0f921\"]],\"type\":\"histogram2d\"}],\"histogram2dcontour\":[{\"colorbar\":{\"outlinewidth\":0,\"ticks\":\"\"},\"colorscale\":[[0.0,\"#0d0887\"],[0.1111111111111111,\"#46039f\"],[0.2222222222222222,\"#7201a8\"],[0.3333333333333333,\"#9c179e\"],[0.4444444444444444,\"#bd3786\"],[0.5555555555555556,\"#d8576b\"],[0.6666666666666666,\"#ed7953\"],[0.7777777777777778,\"#fb9f3a\"],[0.8888888888888888,\"#fdca26\"],[1.0,\"#f0f921\"]],\"type\":\"histogram2dcontour\"}],\"mesh3d\":[{\"colorbar\":{\"outlinewidth\":0,\"ticks\":\"\"},\"type\":\"mesh3d\"}],\"parcoords\":[{\"line\":{\"colorbar\":{\"outlinewidth\":0,\"ticks\":\"\"}},\"type\":\"parcoords\"}],\"pie\":[{\"automargin\":true,\"type\":\"pie\"}],\"scatter\":[{\"marker\":{\"colorbar\":{\"outlinewidth\":0,\"ticks\":\"\"}},\"type\":\"scatter\"}],\"scatter3d\":[{\"line\":{\"colorbar\":{\"outlinewidth\":0,\"ticks\":\"\"}},\"marker\":{\"colorbar\":{\"outlinewidth\":0,\"ticks\":\"\"}},\"type\":\"scatter3d\"}],\"scattercarpet\":[{\"marker\":{\"colorbar\":{\"outlinewidth\":0,\"ticks\":\"\"}},\"type\":\"scattercarpet\"}],\"scattergeo\":[{\"marker\":{\"colorbar\":{\"outlinewidth\":0,\"ticks\":\"\"}},\"type\":\"scattergeo\"}],\"scattergl\":[{\"marker\":{\"colorbar\":{\"outlinewidth\":0,\"ticks\":\"\"}},\"type\":\"scattergl\"}],\"scattermapbox\":[{\"marker\":{\"colorbar\":{\"outlinewidth\":0,\"ticks\":\"\"}},\"type\":\"scattermapbox\"}],\"scatterpolar\":[{\"marker\":{\"colorbar\":{\"outlinewidth\":0,\"ticks\":\"\"}},\"type\":\"scatterpolar\"}],\"scatterpolargl\":[{\"marker\":{\"colorbar\":{\"outlinewidth\":0,\"ticks\":\"\"}},\"type\":\"scatterpolargl\"}],\"scatterternary\":[{\"marker\":{\"colorbar\":{\"outlinewidth\":0,\"ticks\":\"\"}},\"type\":\"scatterternary\"}],\"surface\":[{\"colorbar\":{\"outlinewidth\":0,\"ticks\":\"\"},\"colorscale\":[[0.0,\"#0d0887\"],[0.1111111111111111,\"#46039f\"],[0.2222222222222222,\"#7201a8\"],[0.3333333333333333,\"#9c179e\"],[0.4444444444444444,\"#bd3786\"],[0.5555555555555556,\"#d8576b\"],[0.6666666666666666,\"#ed7953\"],[0.7777777777777778,\"#fb9f3a\"],[0.8888888888888888,\"#fdca26\"],[1.0,\"#f0f921\"]],\"type\":\"surface\"}],\"table\":[{\"cells\":{\"fill\":{\"color\":\"#EBF0F8\"},\"line\":{\"color\":\"white\"}},\"header\":{\"fill\":{\"color\":\"#C8D4E3\"},\"line\":{\"color\":\"white\"}},\"type\":\"table\"}]},\"layout\":{\"annotationdefaults\":{\"arrowcolor\":\"#2a3f5f\",\"arrowhead\":0,\"arrowwidth\":1},\"autotypenumbers\":\"strict\",\"coloraxis\":{\"colorbar\":{\"outlinewidth\":0,\"ticks\":\"\"}},\"colorscale\":{\"diverging\":[[0,\"#8e0152\"],[0.1,\"#c51b7d\"],[0.2,\"#de77ae\"],[0.3,\"#f1b6da\"],[0.4,\"#fde0ef\"],[0.5,\"#f7f7f7\"],[0.6,\"#e6f5d0\"],[0.7,\"#b8e186\"],[0.8,\"#7fbc41\"],[0.9,\"#4d9221\"],[1,\"#276419\"]],\"sequential\":[[0.0,\"#0d0887\"],[0.1111111111111111,\"#46039f\"],[0.2222222222222222,\"#7201a8\"],[0.3333333333333333,\"#9c179e\"],[0.4444444444444444,\"#bd3786\"],[0.5555555555555556,\"#d8576b\"],[0.6666666666666666,\"#ed7953\"],[0.7777777777777778,\"#fb9f3a\"],[0.8888888888888888,\"#fdca26\"],[1.0,\"#f0f921\"]],\"sequentialminus\":[[0.0,\"#0d0887\"],[0.1111111111111111,\"#46039f\"],[0.2222222222222222,\"#7201a8\"],[0.3333333333333333,\"#9c179e\"],[0.4444444444444444,\"#bd3786\"],[0.5555555555555556,\"#d8576b\"],[0.6666666666666666,\"#ed7953\"],[0.7777777777777778,\"#fb9f3a\"],[0.8888888888888888,\"#fdca26\"],[1.0,\"#f0f921\"]]},\"colorway\":[\"#636efa\",\"#EF553B\",\"#00cc96\",\"#ab63fa\",\"#FFA15A\",\"#19d3f3\",\"#FF6692\",\"#B6E880\",\"#FF97FF\",\"#FECB52\"],\"font\":{\"color\":\"#2a3f5f\"},\"geo\":{\"bgcolor\":\"white\",\"lakecolor\":\"white\",\"landcolor\":\"#E5ECF6\",\"showlakes\":true,\"showland\":true,\"subunitcolor\":\"white\"},\"hoverlabel\":{\"align\":\"left\"},\"hovermode\":\"closest\",\"mapbox\":{\"style\":\"light\"},\"paper_bgcolor\":\"white\",\"plot_bgcolor\":\"#E5ECF6\",\"polar\":{\"angularaxis\":{\"gridcolor\":\"white\",\"linecolor\":\"white\",\"ticks\":\"\"},\"bgcolor\":\"#E5ECF6\",\"radialaxis\":{\"gridcolor\":\"white\",\"linecolor\":\"white\",\"ticks\":\"\"}},\"scene\":{\"xaxis\":{\"backgroundcolor\":\"#E5ECF6\",\"gridcolor\":\"white\",\"gridwidth\":2,\"linecolor\":\"white\",\"showbackground\":true,\"ticks\":\"\",\"zerolinecolor\":\"white\"},\"yaxis\":{\"backgroundcolor\":\"#E5ECF6\",\"gridcolor\":\"white\",\"gridwidth\":2,\"linecolor\":\"white\",\"showbackground\":true,\"ticks\":\"\",\"zerolinecolor\":\"white\"},\"zaxis\":{\"backgroundcolor\":\"#E5ECF6\",\"gridcolor\":\"white\",\"gridwidth\":2,\"linecolor\":\"white\",\"showbackground\":true,\"ticks\":\"\",\"zerolinecolor\":\"white\"}},\"shapedefaults\":{\"line\":{\"color\":\"#2a3f5f\"}},\"ternary\":{\"aaxis\":{\"gridcolor\":\"white\",\"linecolor\":\"white\",\"ticks\":\"\"},\"baxis\":{\"gridcolor\":\"white\",\"linecolor\":\"white\",\"ticks\":\"\"},\"bgcolor\":\"#E5ECF6\",\"caxis\":{\"gridcolor\":\"white\",\"linecolor\":\"white\",\"ticks\":\"\"}},\"title\":{\"x\":0.05},\"xaxis\":{\"automargin\":true,\"gridcolor\":\"white\",\"linecolor\":\"white\",\"ticks\":\"\",\"title\":{\"standoff\":15},\"zerolinecolor\":\"white\",\"zerolinewidth\":2},\"yaxis\":{\"automargin\":true,\"gridcolor\":\"white\",\"linecolor\":\"white\",\"ticks\":\"\",\"title\":{\"standoff\":15},\"zerolinecolor\":\"white\",\"zerolinewidth\":2}}},\"title\":{\"text\":\"Interest rate vs median rent Linear Regression in Chicago, IL, from 2014-02 to 2019-12\"},\"xaxis\":{\"title\":{\"text\":\"Effective Federal Funds Rate\"}},\"yaxis\":{\"title\":{\"text\":\"Chicago Rent\"}}},                        {\"responsive\": true}                    ).then(function(){\n",
       "                            \n",
       "var gd = document.getElementById('ffe9c67b-8bfc-455d-bcd7-aa920fe5ce34');\n",
       "var x = new MutationObserver(function (mutations, observer) {{\n",
       "        var display = window.getComputedStyle(gd).display;\n",
       "        if (!display || display === 'none') {{\n",
       "            console.log([gd, 'removed!']);\n",
       "            Plotly.purge(gd);\n",
       "            observer.disconnect();\n",
       "        }}\n",
       "}});\n",
       "\n",
       "// Listen for the removal of the full notebook cells\n",
       "var notebookContainer = gd.closest('#notebook-container');\n",
       "if (notebookContainer) {{\n",
       "    x.observe(notebookContainer, {childList: true});\n",
       "}}\n",
       "\n",
       "// Listen for the clearing of the current output cell\n",
       "var outputEl = gd.closest('.output');\n",
       "if (outputEl) {{\n",
       "    x.observe(outputEl, {childList: true});\n",
       "}}\n",
       "\n",
       "                        })                };                });            </script>        </div>"
      ]
     },
     "metadata": {},
     "output_type": "display_data"
    },
    {
     "data": {
      "text/plain": [
       "'https://plotly.com/~edtsoi430/34/'"
      ]
     },
     "execution_count": 109,
     "metadata": {},
     "output_type": "execute_result"
    }
   ],
   "source": [
    "df = pd.DataFrame({'X': rate_fund, 'Y':chicago_rent})\n",
    "reg = LinearRegression().fit(np.vstack(df['X']), chicago_rent)\n",
    "df['bestfit'] = reg.predict(np.vstack(df['X']))\n",
    "fig=go.Figure()\n",
    "fig.add_trace(go.Scatter(name='Interest rate vs Median rent', x=df['X'], y=df['Y'].values, mode='markers'))\n",
    "fig.add_trace(go.Scatter(name='line of best fit', x=rate_fund, y=df['bestfit'], mode='lines'))\n",
    "\n",
    "fig.update_layout(title_text = 'Interest rate vs median rent Linear Regression in Chicago, IL, from 2014-02 to 2019-12', xaxis_title = 'Effective Federal Funds Rate', yaxis_title = 'Chicago Rent')\n",
    "\n",
    "fig.show()\n",
    "chicago_ml = fig\n",
    "py.plot(chicago_ml, filename=\"Interest rate vs median rent Linear Regression in Chicago, IL, from 2014-02 to 2019-12\", auto_open=False)"
   ]
  },
  {
   "cell_type": "code",
   "execution_count": null,
   "metadata": {},
   "outputs": [],
   "source": []
  }
 ],
 "metadata": {
  "hide_code_all_hidden": false,
  "kernelspec": {
   "display_name": "Python 3 (ipykernel)",
   "language": "python",
   "name": "python3"
  },
  "language_info": {
   "codemirror_mode": {
    "name": "ipython",
    "version": 3
   },
   "file_extension": ".py",
   "mimetype": "text/x-python",
   "name": "python",
   "nbconvert_exporter": "python",
   "pygments_lexer": "ipython3",
   "version": "3.7.3"
  }
 },
 "nbformat": 4,
 "nbformat_minor": 5
}
