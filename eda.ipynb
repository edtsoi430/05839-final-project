{
 "cells": [
  {
   "cell_type": "markdown",
   "id": "1f193aa7",
   "metadata": {
    "hideCode": false,
    "hidePrompt": false
   },
   "source": [
    "# 05839 Final Project - Part 1 EDA\n",
    "## Zhaoyi Ma, Ed Tsoi, Jiawei Ni, Yuzong Gao (Group 18)\n",
    "\n",
    "### Median rental price data across different states in the United States from 2014-2019\n",
    "\n",
    "\n",
    "### Goals of our work:\n",
    "- 2020-2021 is certainly a crazy year to be in. With the COVID-19 pandemic still ongoing, numerous lives have been lost and the world's economy has been hit extremely hard. To help people determine how the world's changing condition would affect the median rental price in the city that they want to live in, we have examined both the Federal Reserve's interest rate data and the zillow house price data (which includes median rental prices for different apartments). Through our work, we hope to:\n",
    "1. Help our audience visualize whether there is a correlation between federal reserve's interest rate and the median rental price.\n",
    "2. Help our audience determine what factors (e.g. state, metro, region, #of bedrooms) will affect rental price the most.\n",
    "3. Help our audience predict future median rental price in their city, using our pre-trained machine learning model.\n",
    "\n",
    "### Approach:\n",
    "1. We hope to use the story-telling techniques learned in class, and combine the two datasets below to draw compelling graphs that will help our audience understand the relationship between federal reserve interest rate and the median rental price.\n",
    "\n",
    "2. We used statistical analysis (feature selection) technique to help our audience understand how these external factors impact median rental price.\n",
    "\n",
    "3. We will use a pre-trained, machine learning model that will predict rental price based on information such as # of bedrooms, city, county, state, regionName etc.\n",
    "\n",
    "### Source - datasets used:\n",
    "1. Zillow house price data (https://www.kaggle.com/paultimothymooney/zillow-house-price-data)\n",
    "2. Federal Reserve Interest rates, 1954-Present (https://www.kaggle.com/federalreserve/interest-rates)"
   ]
  },
  {
   "cell_type": "markdown",
   "id": "2f4042b1",
   "metadata": {
    "hideCode": false,
    "hidePrompt": false
   },
   "source": [
    "### Issues Summary:\n",
    "1. After carefully inspect the dataset, we found that column A contains 0-index of the entries(rows). However, this is not useful for our analysis so we decided to drop it.\n",
    "2. We also found that there are a lot of NaN values in our datasets. \n",
    "3. Based on the result from the univariate analysis below, among the top 15 states, states such as CA, FL and TX have more entries than others, which could lead to skewness on interpretation of the data"
   ]
  },
  {
   "cell_type": "code",
   "execution_count": 292,
   "id": "1940f0ef",
   "metadata": {
    "hideCode": false,
    "hidePrompt": false
   },
   "outputs": [],
   "source": [
    "import numpy as np\n",
    "import pandas as pd\n",
    "import plotly.express as px\n",
    "import chart_studio\n",
    "import datetime\n",
    "from plotly.subplots import make_subplots\n",
    "import matplotlib.pyplot as plt\n",
    "import seaborn as sns\n",
    "from sklearn.feature_selection import chi2\n",
    "from sklearn.preprocessing import LabelEncoder\n",
    "\n",
    "plt.style.use('fivethirtyeight')\n",
    "sns.set_style('white')\n",
    "\n",
    "# Login to chart_studio\n",
    "user_name, api_key = \"edtsoi430\", \"9AJEw9U4i66g6Ut85M3U\"\n",
    "chart_studio.tools.set_credentials_file(username=user_name, api_key=api_key)\n",
    "\n",
    "import chart_studio.plotly as py\n",
    "import chart_studio.tools as tls"
   ]
  },
  {
   "cell_type": "code",
   "execution_count": 293,
   "id": "aedf6a0a",
   "metadata": {
    "hideCode": false,
    "hidePrompt": false
   },
   "outputs": [],
   "source": [
    "# Colors for plotting:\n",
    "colors1 = ['#e6ccb2','#b08968','#7f5539'] \n",
    "colors2 = ['#ede0d4','#e6ccb2','#ddb892','#b08968','#7f5539','#9c6644','#dda15e']"
   ]
  },
  {
   "cell_type": "code",
   "execution_count": 294,
   "id": "95117ebf",
   "metadata": {
    "hideCode": false,
    "hidePrompt": false
   },
   "outputs": [
    {
     "data": {
      "text/html": [
       "<div>\n",
       "<style scoped>\n",
       "    .dataframe tbody tr th:only-of-type {\n",
       "        vertical-align: middle;\n",
       "    }\n",
       "\n",
       "    .dataframe tbody tr th {\n",
       "        vertical-align: top;\n",
       "    }\n",
       "\n",
       "    .dataframe thead th {\n",
       "        text-align: right;\n",
       "    }\n",
       "</style>\n",
       "<table border=\"1\" class=\"dataframe\">\n",
       "  <thead>\n",
       "    <tr style=\"text-align: right;\">\n",
       "      <th></th>\n",
       "      <th>Unnamed: 0 (int64)</th>\n",
       "      <th>RegionName (object)</th>\n",
       "      <th>State (object)</th>\n",
       "      <th>Metro (object)</th>\n",
       "      <th>CountyName (object)</th>\n",
       "      <th>SizeRank (int64)</th>\n",
       "      <th>2010-02 (float64)</th>\n",
       "      <th>2010-03 (float64)</th>\n",
       "      <th>2010-04 (float64)</th>\n",
       "      <th>2010-05 (float64)</th>\n",
       "      <th>...</th>\n",
       "      <th>2019-03 (float64)</th>\n",
       "      <th>2019-04 (float64)</th>\n",
       "      <th>2019-05 (float64)</th>\n",
       "      <th>2019-06 (float64)</th>\n",
       "      <th>2019-07 (float64)</th>\n",
       "      <th>2019-08 (float64)</th>\n",
       "      <th>2019-09 (float64)</th>\n",
       "      <th>2019-10 (float64)</th>\n",
       "      <th>2019-11 (float64)</th>\n",
       "      <th>2019-12 (float64)</th>\n",
       "    </tr>\n",
       "  </thead>\n",
       "  <tbody>\n",
       "    <tr>\n",
       "      <th>0</th>\n",
       "      <td>0</td>\n",
       "      <td>New York</td>\n",
       "      <td>NY</td>\n",
       "      <td>New York-Newark-Jersey City</td>\n",
       "      <td>Queens County</td>\n",
       "      <td>1</td>\n",
       "      <td>NaN</td>\n",
       "      <td>NaN</td>\n",
       "      <td>NaN</td>\n",
       "      <td>2250.0</td>\n",
       "      <td>...</td>\n",
       "      <td>2350.0</td>\n",
       "      <td>2400.0</td>\n",
       "      <td>2400.0</td>\n",
       "      <td>2450.0</td>\n",
       "      <td>2450.0</td>\n",
       "      <td>2475.0</td>\n",
       "      <td>2475.0</td>\n",
       "      <td>2400.0</td>\n",
       "      <td>2400.0</td>\n",
       "      <td>2425.0</td>\n",
       "    </tr>\n",
       "    <tr>\n",
       "      <th>1</th>\n",
       "      <td>1</td>\n",
       "      <td>Los Angeles</td>\n",
       "      <td>CA</td>\n",
       "      <td>Los Angeles-Long Beach-Anaheim</td>\n",
       "      <td>Los Angeles County</td>\n",
       "      <td>2</td>\n",
       "      <td>NaN</td>\n",
       "      <td>NaN</td>\n",
       "      <td>NaN</td>\n",
       "      <td>NaN</td>\n",
       "      <td>...</td>\n",
       "      <td>2360.0</td>\n",
       "      <td>2395.0</td>\n",
       "      <td>2370.0</td>\n",
       "      <td>2395.0</td>\n",
       "      <td>2395.0</td>\n",
       "      <td>2400.0</td>\n",
       "      <td>2425.0</td>\n",
       "      <td>2350.0</td>\n",
       "      <td>2330.0</td>\n",
       "      <td>2340.0</td>\n",
       "    </tr>\n",
       "    <tr>\n",
       "      <th>2</th>\n",
       "      <td>2</td>\n",
       "      <td>Houston</td>\n",
       "      <td>TX</td>\n",
       "      <td>Houston-The Woodlands-Sugar Land</td>\n",
       "      <td>Harris County</td>\n",
       "      <td>3</td>\n",
       "      <td>NaN</td>\n",
       "      <td>NaN</td>\n",
       "      <td>NaN</td>\n",
       "      <td>NaN</td>\n",
       "      <td>...</td>\n",
       "      <td>1265.0</td>\n",
       "      <td>1270.0</td>\n",
       "      <td>1269.0</td>\n",
       "      <td>1286.0</td>\n",
       "      <td>1275.0</td>\n",
       "      <td>1275.0</td>\n",
       "      <td>1270.0</td>\n",
       "      <td>1264.0</td>\n",
       "      <td>1245.0</td>\n",
       "      <td>1249.0</td>\n",
       "    </tr>\n",
       "    <tr>\n",
       "      <th>3</th>\n",
       "      <td>3</td>\n",
       "      <td>Chicago</td>\n",
       "      <td>IL</td>\n",
       "      <td>Chicago-Naperville-Elgin</td>\n",
       "      <td>Cook County</td>\n",
       "      <td>4</td>\n",
       "      <td>NaN</td>\n",
       "      <td>NaN</td>\n",
       "      <td>NaN</td>\n",
       "      <td>NaN</td>\n",
       "      <td>...</td>\n",
       "      <td>1695.0</td>\n",
       "      <td>1650.0</td>\n",
       "      <td>1650.0</td>\n",
       "      <td>1634.0</td>\n",
       "      <td>1600.0</td>\n",
       "      <td>1582.0</td>\n",
       "      <td>1595.0</td>\n",
       "      <td>1542.0</td>\n",
       "      <td>1550.0</td>\n",
       "      <td>1550.0</td>\n",
       "    </tr>\n",
       "    <tr>\n",
       "      <th>4</th>\n",
       "      <td>4</td>\n",
       "      <td>San Antonio</td>\n",
       "      <td>TX</td>\n",
       "      <td>San Antonio-New Braunfels</td>\n",
       "      <td>Bexar County</td>\n",
       "      <td>5</td>\n",
       "      <td>NaN</td>\n",
       "      <td>NaN</td>\n",
       "      <td>NaN</td>\n",
       "      <td>NaN</td>\n",
       "      <td>...</td>\n",
       "      <td>985.0</td>\n",
       "      <td>981.0</td>\n",
       "      <td>985.0</td>\n",
       "      <td>999.0</td>\n",
       "      <td>1000.0</td>\n",
       "      <td>1000.0</td>\n",
       "      <td>991.0</td>\n",
       "      <td>985.0</td>\n",
       "      <td>974.5</td>\n",
       "      <td>967.5</td>\n",
       "    </tr>\n",
       "  </tbody>\n",
       "</table>\n",
       "<p>5 rows × 125 columns</p>\n",
       "</div>"
      ],
      "text/plain": [
       "   Unnamed: 0 (int64) RegionName (object) State (object)  \\\n",
       "0                   0            New York             NY   \n",
       "1                   1         Los Angeles             CA   \n",
       "2                   2             Houston             TX   \n",
       "3                   3             Chicago             IL   \n",
       "4                   4         San Antonio             TX   \n",
       "\n",
       "                     Metro (object) CountyName (object)  SizeRank (int64)  \\\n",
       "0       New York-Newark-Jersey City       Queens County                 1   \n",
       "1    Los Angeles-Long Beach-Anaheim  Los Angeles County                 2   \n",
       "2  Houston-The Woodlands-Sugar Land       Harris County                 3   \n",
       "3          Chicago-Naperville-Elgin         Cook County                 4   \n",
       "4         San Antonio-New Braunfels        Bexar County                 5   \n",
       "\n",
       "   2010-02 (float64)  2010-03 (float64)  2010-04 (float64)  2010-05 (float64)  \\\n",
       "0                NaN                NaN                NaN             2250.0   \n",
       "1                NaN                NaN                NaN                NaN   \n",
       "2                NaN                NaN                NaN                NaN   \n",
       "3                NaN                NaN                NaN                NaN   \n",
       "4                NaN                NaN                NaN                NaN   \n",
       "\n",
       "   ...  2019-03 (float64)  2019-04 (float64)  2019-05 (float64)  \\\n",
       "0  ...             2350.0             2400.0             2400.0   \n",
       "1  ...             2360.0             2395.0             2370.0   \n",
       "2  ...             1265.0             1270.0             1269.0   \n",
       "3  ...             1695.0             1650.0             1650.0   \n",
       "4  ...              985.0              981.0              985.0   \n",
       "\n",
       "   2019-06 (float64)  2019-07 (float64)  2019-08 (float64)  2019-09 (float64)  \\\n",
       "0             2450.0             2450.0             2475.0             2475.0   \n",
       "1             2395.0             2395.0             2400.0             2425.0   \n",
       "2             1286.0             1275.0             1275.0             1270.0   \n",
       "3             1634.0             1600.0             1582.0             1595.0   \n",
       "4              999.0             1000.0             1000.0              991.0   \n",
       "\n",
       "   2019-10 (float64)  2019-11 (float64)  2019-12 (float64)  \n",
       "0             2400.0             2400.0             2425.0  \n",
       "1             2350.0             2330.0             2340.0  \n",
       "2             1264.0             1245.0             1249.0  \n",
       "3             1542.0             1550.0             1550.0  \n",
       "4              985.0              974.5              967.5  \n",
       "\n",
       "[5 rows x 125 columns]"
      ]
     },
     "execution_count": 294,
     "metadata": {},
     "output_type": "execute_result"
    }
   ],
   "source": [
    "# Loading data and converting column name to visualize data type easily.\n",
    "one_bed = pd.read_csv('dataset/City_MedianRentalPrice_1Bedroom.csv')\n",
    "one_bed.rename(columns = {\n",
    "    col : f\"{col} ({dtype})\"\n",
    "    for col, dtype in one_bed.dtypes.to_dict().items()\n",
    "}).head()"
   ]
  },
  {
   "cell_type": "markdown",
   "id": "18cdbe74",
   "metadata": {
    "hideCode": false,
    "hidePrompt": false
   },
   "source": [
    "## Part A - Data Cleaning for One Bedroom dataset"
   ]
  },
  {
   "cell_type": "markdown",
   "id": "eaf16a49",
   "metadata": {
    "hideCode": false,
    "hidePrompt": false
   },
   "source": [
    "### Data Cleaning:\n",
    "**Unnamed**: this column serves as an index column which is not necessarily needed and actually redundant as we can view and manipulate with the indice by using Jupyter's built-in features. So to keep the chart simple, it is dropped.\n",
    "\n",
    "**Data of Months**: As the scope of this project only covers data from Jan 2014 to Dec 2019, data prior to this range (2010 to 2013)is dropped. We also noticed that there are tons of *NaN*, we decided to skip them while calculating. The main reason for not using mean/median to fill them out is that they could potentially destruct the variance of the data and thus lead to an underestimate of standard errors, which is crucial for analysis.\n",
    "\n"
   ]
  },
  {
   "cell_type": "code",
   "execution_count": 295,
   "id": "a1acc4d4",
   "metadata": {
    "hideCode": false,
    "hidePrompt": false
   },
   "outputs": [
    {
     "data": {
      "text/plain": [
       "(818, 125)"
      ]
     },
     "execution_count": 295,
     "metadata": {},
     "output_type": "execute_result"
    }
   ],
   "source": [
    "# Print the number of rows and columns\n",
    "one_bed.shape"
   ]
  },
  {
   "cell_type": "code",
   "execution_count": 296,
   "id": "75fa7fb7",
   "metadata": {
    "hideCode": false,
    "hidePrompt": false
   },
   "outputs": [
    {
     "data": {
      "text/html": [
       "<div>\n",
       "<style scoped>\n",
       "    .dataframe tbody tr th:only-of-type {\n",
       "        vertical-align: middle;\n",
       "    }\n",
       "\n",
       "    .dataframe tbody tr th {\n",
       "        vertical-align: top;\n",
       "    }\n",
       "\n",
       "    .dataframe thead th {\n",
       "        text-align: right;\n",
       "    }\n",
       "</style>\n",
       "<table border=\"1\" class=\"dataframe\">\n",
       "  <thead>\n",
       "    <tr style=\"text-align: right;\">\n",
       "      <th></th>\n",
       "      <th>Unnamed: 0</th>\n",
       "      <th>RegionName</th>\n",
       "      <th>State</th>\n",
       "      <th>Metro</th>\n",
       "      <th>CountyName</th>\n",
       "      <th>SizeRank</th>\n",
       "      <th>2010-02</th>\n",
       "      <th>2010-03</th>\n",
       "      <th>2010-04</th>\n",
       "      <th>2010-05</th>\n",
       "      <th>...</th>\n",
       "      <th>2019-03</th>\n",
       "      <th>2019-04</th>\n",
       "      <th>2019-05</th>\n",
       "      <th>2019-06</th>\n",
       "      <th>2019-07</th>\n",
       "      <th>2019-08</th>\n",
       "      <th>2019-09</th>\n",
       "      <th>2019-10</th>\n",
       "      <th>2019-11</th>\n",
       "      <th>2019-12</th>\n",
       "    </tr>\n",
       "  </thead>\n",
       "  <tbody>\n",
       "    <tr>\n",
       "      <th>0</th>\n",
       "      <td>0</td>\n",
       "      <td>New York</td>\n",
       "      <td>NY</td>\n",
       "      <td>New York-Newark-Jersey City</td>\n",
       "      <td>Queens County</td>\n",
       "      <td>1</td>\n",
       "      <td>NaN</td>\n",
       "      <td>NaN</td>\n",
       "      <td>NaN</td>\n",
       "      <td>2250.0</td>\n",
       "      <td>...</td>\n",
       "      <td>2350.0</td>\n",
       "      <td>2400.0</td>\n",
       "      <td>2400.0</td>\n",
       "      <td>2450.0</td>\n",
       "      <td>2450.0</td>\n",
       "      <td>2475.0</td>\n",
       "      <td>2475.0</td>\n",
       "      <td>2400.0</td>\n",
       "      <td>2400.0</td>\n",
       "      <td>2425.0</td>\n",
       "    </tr>\n",
       "    <tr>\n",
       "      <th>1</th>\n",
       "      <td>1</td>\n",
       "      <td>Los Angeles</td>\n",
       "      <td>CA</td>\n",
       "      <td>Los Angeles-Long Beach-Anaheim</td>\n",
       "      <td>Los Angeles County</td>\n",
       "      <td>2</td>\n",
       "      <td>NaN</td>\n",
       "      <td>NaN</td>\n",
       "      <td>NaN</td>\n",
       "      <td>NaN</td>\n",
       "      <td>...</td>\n",
       "      <td>2360.0</td>\n",
       "      <td>2395.0</td>\n",
       "      <td>2370.0</td>\n",
       "      <td>2395.0</td>\n",
       "      <td>2395.0</td>\n",
       "      <td>2400.0</td>\n",
       "      <td>2425.0</td>\n",
       "      <td>2350.0</td>\n",
       "      <td>2330.0</td>\n",
       "      <td>2340.0</td>\n",
       "    </tr>\n",
       "    <tr>\n",
       "      <th>2</th>\n",
       "      <td>2</td>\n",
       "      <td>Houston</td>\n",
       "      <td>TX</td>\n",
       "      <td>Houston-The Woodlands-Sugar Land</td>\n",
       "      <td>Harris County</td>\n",
       "      <td>3</td>\n",
       "      <td>NaN</td>\n",
       "      <td>NaN</td>\n",
       "      <td>NaN</td>\n",
       "      <td>NaN</td>\n",
       "      <td>...</td>\n",
       "      <td>1265.0</td>\n",
       "      <td>1270.0</td>\n",
       "      <td>1269.0</td>\n",
       "      <td>1286.0</td>\n",
       "      <td>1275.0</td>\n",
       "      <td>1275.0</td>\n",
       "      <td>1270.0</td>\n",
       "      <td>1264.0</td>\n",
       "      <td>1245.0</td>\n",
       "      <td>1249.0</td>\n",
       "    </tr>\n",
       "    <tr>\n",
       "      <th>3</th>\n",
       "      <td>3</td>\n",
       "      <td>Chicago</td>\n",
       "      <td>IL</td>\n",
       "      <td>Chicago-Naperville-Elgin</td>\n",
       "      <td>Cook County</td>\n",
       "      <td>4</td>\n",
       "      <td>NaN</td>\n",
       "      <td>NaN</td>\n",
       "      <td>NaN</td>\n",
       "      <td>NaN</td>\n",
       "      <td>...</td>\n",
       "      <td>1695.0</td>\n",
       "      <td>1650.0</td>\n",
       "      <td>1650.0</td>\n",
       "      <td>1634.0</td>\n",
       "      <td>1600.0</td>\n",
       "      <td>1582.0</td>\n",
       "      <td>1595.0</td>\n",
       "      <td>1542.0</td>\n",
       "      <td>1550.0</td>\n",
       "      <td>1550.0</td>\n",
       "    </tr>\n",
       "    <tr>\n",
       "      <th>4</th>\n",
       "      <td>4</td>\n",
       "      <td>San Antonio</td>\n",
       "      <td>TX</td>\n",
       "      <td>San Antonio-New Braunfels</td>\n",
       "      <td>Bexar County</td>\n",
       "      <td>5</td>\n",
       "      <td>NaN</td>\n",
       "      <td>NaN</td>\n",
       "      <td>NaN</td>\n",
       "      <td>NaN</td>\n",
       "      <td>...</td>\n",
       "      <td>985.0</td>\n",
       "      <td>981.0</td>\n",
       "      <td>985.0</td>\n",
       "      <td>999.0</td>\n",
       "      <td>1000.0</td>\n",
       "      <td>1000.0</td>\n",
       "      <td>991.0</td>\n",
       "      <td>985.0</td>\n",
       "      <td>974.5</td>\n",
       "      <td>967.5</td>\n",
       "    </tr>\n",
       "  </tbody>\n",
       "</table>\n",
       "<p>5 rows × 125 columns</p>\n",
       "</div>"
      ],
      "text/plain": [
       "   Unnamed: 0   RegionName State                             Metro  \\\n",
       "0           0     New York    NY       New York-Newark-Jersey City   \n",
       "1           1  Los Angeles    CA    Los Angeles-Long Beach-Anaheim   \n",
       "2           2      Houston    TX  Houston-The Woodlands-Sugar Land   \n",
       "3           3      Chicago    IL          Chicago-Naperville-Elgin   \n",
       "4           4  San Antonio    TX         San Antonio-New Braunfels   \n",
       "\n",
       "           CountyName  SizeRank  2010-02  2010-03  2010-04  2010-05  ...  \\\n",
       "0       Queens County         1      NaN      NaN      NaN   2250.0  ...   \n",
       "1  Los Angeles County         2      NaN      NaN      NaN      NaN  ...   \n",
       "2       Harris County         3      NaN      NaN      NaN      NaN  ...   \n",
       "3         Cook County         4      NaN      NaN      NaN      NaN  ...   \n",
       "4        Bexar County         5      NaN      NaN      NaN      NaN  ...   \n",
       "\n",
       "   2019-03  2019-04  2019-05  2019-06  2019-07  2019-08  2019-09  2019-10  \\\n",
       "0   2350.0   2400.0   2400.0   2450.0   2450.0   2475.0   2475.0   2400.0   \n",
       "1   2360.0   2395.0   2370.0   2395.0   2395.0   2400.0   2425.0   2350.0   \n",
       "2   1265.0   1270.0   1269.0   1286.0   1275.0   1275.0   1270.0   1264.0   \n",
       "3   1695.0   1650.0   1650.0   1634.0   1600.0   1582.0   1595.0   1542.0   \n",
       "4    985.0    981.0    985.0    999.0   1000.0   1000.0    991.0    985.0   \n",
       "\n",
       "   2019-11  2019-12  \n",
       "0   2400.0   2425.0  \n",
       "1   2330.0   2340.0  \n",
       "2   1245.0   1249.0  \n",
       "3   1550.0   1550.0  \n",
       "4    974.5    967.5  \n",
       "\n",
       "[5 rows x 125 columns]"
      ]
     },
     "execution_count": 296,
     "metadata": {},
     "output_type": "execute_result"
    }
   ],
   "source": [
    "one_bed.head()"
   ]
  },
  {
   "cell_type": "code",
   "execution_count": 297,
   "id": "e799bc01",
   "metadata": {
    "hideCode": false,
    "hidePrompt": false
   },
   "outputs": [],
   "source": [
    "# Drop column A (unnamed)\n",
    "one_bed = one_bed.iloc[:, 1:]\n",
    "# Drop columns from 2010-02 to 2013-12\n",
    "dropped_columns = ['2010-02', '2010-03', '2010-04', '2010-05', '2010-06', '2010-07', '2010-08', '2010-09', '2010-10', '2010-11', '2010-12', \n",
    "                   '2011-01', '2011-02', '2011-03', '2011-04', '2011-05', '2011-06', '2011-07', '2011-08', '2011-09', '2011-10', '2011-11', '2011-12',\n",
    "                   '2012-01', '2012-02', '2012-03', '2012-04', '2012-05', '2012-06', '2012-07', '2012-08', '2012-09', '2012-10', '2012-11', '2012-12',\n",
    "                   '2013-01', '2013-02', '2013-03', '2013-04', '2013-05', '2013-06', '2013-07', '2013-08', '2013-09', '2013-10', '2013-11', '2013-12']\n",
    "one_bed = one_bed.drop(columns=dropped_columns)"
   ]
  },
  {
   "cell_type": "code",
   "execution_count": 298,
   "id": "864f838c",
   "metadata": {
    "hideCode": false,
    "hidePrompt": false
   },
   "outputs": [
    {
     "data": {
      "text/html": [
       "<div>\n",
       "<style scoped>\n",
       "    .dataframe tbody tr th:only-of-type {\n",
       "        vertical-align: middle;\n",
       "    }\n",
       "\n",
       "    .dataframe tbody tr th {\n",
       "        vertical-align: top;\n",
       "    }\n",
       "\n",
       "    .dataframe thead th {\n",
       "        text-align: right;\n",
       "    }\n",
       "</style>\n",
       "<table border=\"1\" class=\"dataframe\">\n",
       "  <thead>\n",
       "    <tr style=\"text-align: right;\">\n",
       "      <th></th>\n",
       "      <th>RegionName</th>\n",
       "      <th>State</th>\n",
       "      <th>Metro</th>\n",
       "      <th>CountyName</th>\n",
       "      <th>SizeRank</th>\n",
       "      <th>2014-01</th>\n",
       "      <th>2014-02</th>\n",
       "      <th>2014-03</th>\n",
       "      <th>2014-04</th>\n",
       "      <th>2014-05</th>\n",
       "      <th>...</th>\n",
       "      <th>2019-03</th>\n",
       "      <th>2019-04</th>\n",
       "      <th>2019-05</th>\n",
       "      <th>2019-06</th>\n",
       "      <th>2019-07</th>\n",
       "      <th>2019-08</th>\n",
       "      <th>2019-09</th>\n",
       "      <th>2019-10</th>\n",
       "      <th>2019-11</th>\n",
       "      <th>2019-12</th>\n",
       "    </tr>\n",
       "  </thead>\n",
       "  <tbody>\n",
       "    <tr>\n",
       "      <th>0</th>\n",
       "      <td>New York</td>\n",
       "      <td>NY</td>\n",
       "      <td>New York-Newark-Jersey City</td>\n",
       "      <td>Queens County</td>\n",
       "      <td>1</td>\n",
       "      <td>2600.0</td>\n",
       "      <td>2600.0</td>\n",
       "      <td>2600.0</td>\n",
       "      <td>2600.0</td>\n",
       "      <td>2650.0</td>\n",
       "      <td>...</td>\n",
       "      <td>2350.0</td>\n",
       "      <td>2400.0</td>\n",
       "      <td>2400.0</td>\n",
       "      <td>2450.0</td>\n",
       "      <td>2450.0</td>\n",
       "      <td>2475.0</td>\n",
       "      <td>2475.0</td>\n",
       "      <td>2400.0</td>\n",
       "      <td>2400.0</td>\n",
       "      <td>2425.0</td>\n",
       "    </tr>\n",
       "    <tr>\n",
       "      <th>1</th>\n",
       "      <td>Los Angeles</td>\n",
       "      <td>CA</td>\n",
       "      <td>Los Angeles-Long Beach-Anaheim</td>\n",
       "      <td>Los Angeles County</td>\n",
       "      <td>2</td>\n",
       "      <td>1495.0</td>\n",
       "      <td>1490.0</td>\n",
       "      <td>1450.0</td>\n",
       "      <td>1495.0</td>\n",
       "      <td>1580.0</td>\n",
       "      <td>...</td>\n",
       "      <td>2360.0</td>\n",
       "      <td>2395.0</td>\n",
       "      <td>2370.0</td>\n",
       "      <td>2395.0</td>\n",
       "      <td>2395.0</td>\n",
       "      <td>2400.0</td>\n",
       "      <td>2425.0</td>\n",
       "      <td>2350.0</td>\n",
       "      <td>2330.0</td>\n",
       "      <td>2340.0</td>\n",
       "    </tr>\n",
       "    <tr>\n",
       "      <th>2</th>\n",
       "      <td>Houston</td>\n",
       "      <td>TX</td>\n",
       "      <td>Houston-The Woodlands-Sugar Land</td>\n",
       "      <td>Harris County</td>\n",
       "      <td>3</td>\n",
       "      <td>1224.0</td>\n",
       "      <td>1125.0</td>\n",
       "      <td>1072.0</td>\n",
       "      <td>1105.0</td>\n",
       "      <td>1210.0</td>\n",
       "      <td>...</td>\n",
       "      <td>1265.0</td>\n",
       "      <td>1270.0</td>\n",
       "      <td>1269.0</td>\n",
       "      <td>1286.0</td>\n",
       "      <td>1275.0</td>\n",
       "      <td>1275.0</td>\n",
       "      <td>1270.0</td>\n",
       "      <td>1264.0</td>\n",
       "      <td>1245.0</td>\n",
       "      <td>1249.0</td>\n",
       "    </tr>\n",
       "    <tr>\n",
       "      <th>3</th>\n",
       "      <td>Chicago</td>\n",
       "      <td>IL</td>\n",
       "      <td>Chicago-Naperville-Elgin</td>\n",
       "      <td>Cook County</td>\n",
       "      <td>4</td>\n",
       "      <td>1620.0</td>\n",
       "      <td>1549.0</td>\n",
       "      <td>1510.0</td>\n",
       "      <td>1498.0</td>\n",
       "      <td>1495.0</td>\n",
       "      <td>...</td>\n",
       "      <td>1695.0</td>\n",
       "      <td>1650.0</td>\n",
       "      <td>1650.0</td>\n",
       "      <td>1634.0</td>\n",
       "      <td>1600.0</td>\n",
       "      <td>1582.0</td>\n",
       "      <td>1595.0</td>\n",
       "      <td>1542.0</td>\n",
       "      <td>1550.0</td>\n",
       "      <td>1550.0</td>\n",
       "    </tr>\n",
       "    <tr>\n",
       "      <th>4</th>\n",
       "      <td>San Antonio</td>\n",
       "      <td>TX</td>\n",
       "      <td>San Antonio-New Braunfels</td>\n",
       "      <td>Bexar County</td>\n",
       "      <td>5</td>\n",
       "      <td>799.0</td>\n",
       "      <td>800.0</td>\n",
       "      <td>800.0</td>\n",
       "      <td>800.0</td>\n",
       "      <td>775.0</td>\n",
       "      <td>...</td>\n",
       "      <td>985.0</td>\n",
       "      <td>981.0</td>\n",
       "      <td>985.0</td>\n",
       "      <td>999.0</td>\n",
       "      <td>1000.0</td>\n",
       "      <td>1000.0</td>\n",
       "      <td>991.0</td>\n",
       "      <td>985.0</td>\n",
       "      <td>974.5</td>\n",
       "      <td>967.5</td>\n",
       "    </tr>\n",
       "    <tr>\n",
       "      <th>...</th>\n",
       "      <td>...</td>\n",
       "      <td>...</td>\n",
       "      <td>...</td>\n",
       "      <td>...</td>\n",
       "      <td>...</td>\n",
       "      <td>...</td>\n",
       "      <td>...</td>\n",
       "      <td>...</td>\n",
       "      <td>...</td>\n",
       "      <td>...</td>\n",
       "      <td>...</td>\n",
       "      <td>...</td>\n",
       "      <td>...</td>\n",
       "      <td>...</td>\n",
       "      <td>...</td>\n",
       "      <td>...</td>\n",
       "      <td>...</td>\n",
       "      <td>...</td>\n",
       "      <td>...</td>\n",
       "      <td>...</td>\n",
       "      <td>...</td>\n",
       "    </tr>\n",
       "    <tr>\n",
       "      <th>813</th>\n",
       "      <td>Bee Cave</td>\n",
       "      <td>TX</td>\n",
       "      <td>Austin-Round Rock</td>\n",
       "      <td>Travis County</td>\n",
       "      <td>814</td>\n",
       "      <td>NaN</td>\n",
       "      <td>NaN</td>\n",
       "      <td>NaN</td>\n",
       "      <td>NaN</td>\n",
       "      <td>NaN</td>\n",
       "      <td>...</td>\n",
       "      <td>1185.0</td>\n",
       "      <td>1202.0</td>\n",
       "      <td>1179.0</td>\n",
       "      <td>1203.0</td>\n",
       "      <td>1264.0</td>\n",
       "      <td>1304.0</td>\n",
       "      <td>1326.0</td>\n",
       "      <td>1299.0</td>\n",
       "      <td>1250.0</td>\n",
       "      <td>1315.5</td>\n",
       "    </tr>\n",
       "    <tr>\n",
       "      <th>814</th>\n",
       "      <td>Century Village</td>\n",
       "      <td>FL</td>\n",
       "      <td>Miami-Fort Lauderdale-West Palm Beach</td>\n",
       "      <td>Palm Beach County</td>\n",
       "      <td>815</td>\n",
       "      <td>NaN</td>\n",
       "      <td>NaN</td>\n",
       "      <td>NaN</td>\n",
       "      <td>NaN</td>\n",
       "      <td>NaN</td>\n",
       "      <td>...</td>\n",
       "      <td>900.0</td>\n",
       "      <td>900.0</td>\n",
       "      <td>900.0</td>\n",
       "      <td>900.0</td>\n",
       "      <td>900.0</td>\n",
       "      <td>925.0</td>\n",
       "      <td>925.0</td>\n",
       "      <td>925.0</td>\n",
       "      <td>925.0</td>\n",
       "      <td>950.0</td>\n",
       "    </tr>\n",
       "    <tr>\n",
       "      <th>815</th>\n",
       "      <td>Surfside</td>\n",
       "      <td>FL</td>\n",
       "      <td>Miami-Fort Lauderdale-West Palm Beach</td>\n",
       "      <td>Miami-Dade County</td>\n",
       "      <td>816</td>\n",
       "      <td>NaN</td>\n",
       "      <td>NaN</td>\n",
       "      <td>NaN</td>\n",
       "      <td>NaN</td>\n",
       "      <td>NaN</td>\n",
       "      <td>...</td>\n",
       "      <td>1875.0</td>\n",
       "      <td>1850.0</td>\n",
       "      <td>1750.0</td>\n",
       "      <td>1800.0</td>\n",
       "      <td>1800.0</td>\n",
       "      <td>1750.0</td>\n",
       "      <td>1750.0</td>\n",
       "      <td>1800.0</td>\n",
       "      <td>1800.0</td>\n",
       "      <td>1850.0</td>\n",
       "    </tr>\n",
       "    <tr>\n",
       "      <th>816</th>\n",
       "      <td>Bay Harbor Islands</td>\n",
       "      <td>FL</td>\n",
       "      <td>Miami-Fort Lauderdale-West Palm Beach</td>\n",
       "      <td>Miami-Dade County</td>\n",
       "      <td>817</td>\n",
       "      <td>NaN</td>\n",
       "      <td>NaN</td>\n",
       "      <td>NaN</td>\n",
       "      <td>NaN</td>\n",
       "      <td>NaN</td>\n",
       "      <td>...</td>\n",
       "      <td>1565.0</td>\n",
       "      <td>1550.0</td>\n",
       "      <td>1512.5</td>\n",
       "      <td>1537.5</td>\n",
       "      <td>1600.0</td>\n",
       "      <td>1597.5</td>\n",
       "      <td>1550.0</td>\n",
       "      <td>1550.0</td>\n",
       "      <td>1550.0</td>\n",
       "      <td>1595.0</td>\n",
       "    </tr>\n",
       "    <tr>\n",
       "      <th>817</th>\n",
       "      <td>Bal Harbour</td>\n",
       "      <td>FL</td>\n",
       "      <td>Miami-Fort Lauderdale-West Palm Beach</td>\n",
       "      <td>Miami-Dade County</td>\n",
       "      <td>818</td>\n",
       "      <td>NaN</td>\n",
       "      <td>NaN</td>\n",
       "      <td>NaN</td>\n",
       "      <td>NaN</td>\n",
       "      <td>NaN</td>\n",
       "      <td>...</td>\n",
       "      <td>2500.0</td>\n",
       "      <td>2500.0</td>\n",
       "      <td>2700.0</td>\n",
       "      <td>2550.0</td>\n",
       "      <td>2500.0</td>\n",
       "      <td>2675.0</td>\n",
       "      <td>2662.5</td>\n",
       "      <td>2700.0</td>\n",
       "      <td>2600.0</td>\n",
       "      <td>2700.0</td>\n",
       "    </tr>\n",
       "  </tbody>\n",
       "</table>\n",
       "<p>818 rows × 77 columns</p>\n",
       "</div>"
      ],
      "text/plain": [
       "             RegionName State                                  Metro  \\\n",
       "0              New York    NY            New York-Newark-Jersey City   \n",
       "1           Los Angeles    CA         Los Angeles-Long Beach-Anaheim   \n",
       "2               Houston    TX       Houston-The Woodlands-Sugar Land   \n",
       "3               Chicago    IL               Chicago-Naperville-Elgin   \n",
       "4           San Antonio    TX              San Antonio-New Braunfels   \n",
       "..                  ...   ...                                    ...   \n",
       "813            Bee Cave    TX                      Austin-Round Rock   \n",
       "814     Century Village    FL  Miami-Fort Lauderdale-West Palm Beach   \n",
       "815            Surfside    FL  Miami-Fort Lauderdale-West Palm Beach   \n",
       "816  Bay Harbor Islands    FL  Miami-Fort Lauderdale-West Palm Beach   \n",
       "817         Bal Harbour    FL  Miami-Fort Lauderdale-West Palm Beach   \n",
       "\n",
       "             CountyName  SizeRank  2014-01  2014-02  2014-03  2014-04  \\\n",
       "0         Queens County         1   2600.0   2600.0   2600.0   2600.0   \n",
       "1    Los Angeles County         2   1495.0   1490.0   1450.0   1495.0   \n",
       "2         Harris County         3   1224.0   1125.0   1072.0   1105.0   \n",
       "3           Cook County         4   1620.0   1549.0   1510.0   1498.0   \n",
       "4          Bexar County         5    799.0    800.0    800.0    800.0   \n",
       "..                  ...       ...      ...      ...      ...      ...   \n",
       "813       Travis County       814      NaN      NaN      NaN      NaN   \n",
       "814   Palm Beach County       815      NaN      NaN      NaN      NaN   \n",
       "815   Miami-Dade County       816      NaN      NaN      NaN      NaN   \n",
       "816   Miami-Dade County       817      NaN      NaN      NaN      NaN   \n",
       "817   Miami-Dade County       818      NaN      NaN      NaN      NaN   \n",
       "\n",
       "     2014-05  ...  2019-03  2019-04  2019-05  2019-06  2019-07  2019-08  \\\n",
       "0     2650.0  ...   2350.0   2400.0   2400.0   2450.0   2450.0   2475.0   \n",
       "1     1580.0  ...   2360.0   2395.0   2370.0   2395.0   2395.0   2400.0   \n",
       "2     1210.0  ...   1265.0   1270.0   1269.0   1286.0   1275.0   1275.0   \n",
       "3     1495.0  ...   1695.0   1650.0   1650.0   1634.0   1600.0   1582.0   \n",
       "4      775.0  ...    985.0    981.0    985.0    999.0   1000.0   1000.0   \n",
       "..       ...  ...      ...      ...      ...      ...      ...      ...   \n",
       "813      NaN  ...   1185.0   1202.0   1179.0   1203.0   1264.0   1304.0   \n",
       "814      NaN  ...    900.0    900.0    900.0    900.0    900.0    925.0   \n",
       "815      NaN  ...   1875.0   1850.0   1750.0   1800.0   1800.0   1750.0   \n",
       "816      NaN  ...   1565.0   1550.0   1512.5   1537.5   1600.0   1597.5   \n",
       "817      NaN  ...   2500.0   2500.0   2700.0   2550.0   2500.0   2675.0   \n",
       "\n",
       "     2019-09  2019-10  2019-11  2019-12  \n",
       "0     2475.0   2400.0   2400.0   2425.0  \n",
       "1     2425.0   2350.0   2330.0   2340.0  \n",
       "2     1270.0   1264.0   1245.0   1249.0  \n",
       "3     1595.0   1542.0   1550.0   1550.0  \n",
       "4      991.0    985.0    974.5    967.5  \n",
       "..       ...      ...      ...      ...  \n",
       "813   1326.0   1299.0   1250.0   1315.5  \n",
       "814    925.0    925.0    925.0    950.0  \n",
       "815   1750.0   1800.0   1800.0   1850.0  \n",
       "816   1550.0   1550.0   1550.0   1595.0  \n",
       "817   2662.5   2700.0   2600.0   2700.0  \n",
       "\n",
       "[818 rows x 77 columns]"
      ]
     },
     "execution_count": 298,
     "metadata": {},
     "output_type": "execute_result"
    }
   ],
   "source": [
    "# Drop all rows where elements are missing.\n",
    "one_bed.dropna(how=\"all\")"
   ]
  },
  {
   "cell_type": "code",
   "execution_count": 299,
   "id": "7eeb789f",
   "metadata": {
    "hideCode": false,
    "hidePrompt": false
   },
   "outputs": [
    {
     "data": {
      "text/plain": [
       "RegionName    0\n",
       "State         0\n",
       "Metro         0\n",
       "CountyName    0\n",
       "SizeRank      0\n",
       "             ..\n",
       "2019-08       0\n",
       "2019-09       0\n",
       "2019-10       0\n",
       "2019-11       0\n",
       "2019-12       0\n",
       "Length: 77, dtype: int64"
      ]
     },
     "execution_count": 299,
     "metadata": {},
     "output_type": "execute_result"
    }
   ],
   "source": [
    "# Sanity Check: check whether there are null values in the dataset\n",
    "one_bed.isnull().sum().sum()\n",
    "one_bed.isnull().sum()"
   ]
  },
  {
   "cell_type": "code",
   "execution_count": 300,
   "id": "bae8b5da",
   "metadata": {
    "hideCode": false,
    "hidePrompt": false
   },
   "outputs": [
    {
     "data": {
      "text/plain": [
       "(818, 77)"
      ]
     },
     "execution_count": 300,
     "metadata": {},
     "output_type": "execute_result"
    }
   ],
   "source": [
    "one_bed.shape"
   ]
  },
  {
   "cell_type": "markdown",
   "id": "db2c1d20",
   "metadata": {
    "hideCode": false,
    "hidePrompt": false
   },
   "source": [
    "## Statistical Analysis 1 - Univariate Analysis"
   ]
  },
  {
   "cell_type": "code",
   "execution_count": 301,
   "id": "96443eb9",
   "metadata": {
    "hideCode": false,
    "hidePrompt": false
   },
   "outputs": [],
   "source": [
    "def univariate_analysis(data, feature):\n",
    "    data_ = data[feature].value_counts().sort_values(ascending=True)\n",
    "    plt.figure(figsize=(30,10), facecolor='white')\n",
    "    plt.barh(y=data_.index, width=data_.values, \n",
    "             height=1, color=colors2, edgecolor='k',linewidth=1)\n",
    "    sns.despine()\n",
    "    plt.suptitle(t=feature, x=0.5, y=1.1, fontfamily='serif', fontsize=40, color='k', fontweight='bold',alpha=0.9)\n",
    "    plt.show()"
   ]
  },
  {
   "cell_type": "code",
   "execution_count": 302,
   "id": "d0abe1ad",
   "metadata": {
    "hideCode": false,
    "hidePrompt": false
   },
   "outputs": [
    {
     "data": {
      "image/png": "[encoded data removed]",
      "text/plain": [
       "<Figure size 2160x720 with 1 Axes>"
      ]
     },
     "metadata": {},
     "output_type": "display_data"
    }
   ],
   "source": [
    "# Picking top 15 states from the dataset to do univariate analysis.\n",
    "one_bed_subsets = one_bed[one_bed['State'].isin(['CA', 'FL', 'TX', 'NJ', 'MA', 'MD', 'VA', 'WA', 'IL', 'GA', 'CO', 'CT', 'PA', 'NY', 'NC'])]\n",
    "univariate_analysis(one_bed_subsets, 'State')"
   ]
  },
  {
   "cell_type": "code",
   "execution_count": 303,
   "id": "08e9fe75",
   "metadata": {
    "hideCode": false,
    "hidePrompt": false
   },
   "outputs": [
    {
     "data": {
      "text/plain": [
       "<AxesSubplot:>"
      ]
     },
     "execution_count": 303,
     "metadata": {},
     "output_type": "execute_result"
    },
    {
     "data": {
      "image/png": "[encoded data removed]",
      "text/plain": [
       "<Figure size 432x288 with 1 Axes>"
      ]
     },
     "metadata": {},
     "output_type": "display_data"
    }
   ],
   "source": [
    "# Alternatively.....\n",
    "one_bed['State'].value_counts().head(15).plot.bar()"
   ]
  },
  {
   "cell_type": "markdown",
   "id": "6dd17fa5",
   "metadata": {
    "hideCode": false,
    "hidePrompt": false
   },
   "source": [
    "## Statistical Analysis 2 - Feature Selection"
   ]
  },
  {
   "cell_type": "markdown",
   "id": "3a1a25c4",
   "metadata": {},
   "source": [
    "We are interested in the columns(features) will have most impact on rent. Therefore, here we analyze the correlations of each column and find the most relevant ones.  "
   ]
  },
  {
   "cell_type": "code",
   "execution_count": 304,
   "id": "75a07aec",
   "metadata": {},
   "outputs": [],
   "source": [
    "label_encoder = LabelEncoder()\n",
    "one_bed_latest = one_bed.iloc[: , :5]\n",
    "one_bed_latest['2019-12'] = one_bed['2019-12']\n",
    "one_bed_latest['State'] = label_encoder.fit_transform(one_bed_latest['State'])\n",
    "one_bed_latest['RegionName'] = label_encoder.fit_transform(one_bed_latest['RegionName'])\n",
    "one_bed_latest['Metro'] = label_encoder.fit_transform(one_bed_latest['Metro'])\n",
    "one_bed_latest['CountyName'] = label_encoder.fit_transform(one_bed_latest['CountyName'])"
   ]
  },
  {
   "cell_type": "code",
   "execution_count": 305,
   "id": "526c5a43",
   "metadata": {},
   "outputs": [
    {
     "data": {
      "image/png": "[encoded data removed]",
      "text/plain": [
       "<Figure size 864x720 with 2 Axes>"
      ]
     },
     "metadata": {},
     "output_type": "display_data"
    }
   ],
   "source": [
    "# using Pearson correlation and for simplicity we only consider the latest price here\n",
    "plt.figure(figsize=(12,10))\n",
    "cor = one_bed_latest.corr()\n",
    "sns.heatmap(cor, annot=True, cmap=plt.cm.Reds)\n",
    "plt.show()"
   ]
  },
  {
   "cell_type": "markdown",
   "id": "afe4892f",
   "metadata": {},
   "source": [
    "From the heatmap we learned that RegionName and State have negative correlation, whereas CountyName, Metro, and SizeRank have a positive correlation."
   ]
  },
  {
   "cell_type": "code",
   "execution_count": 306,
   "id": "0cb16994",
   "metadata": {},
   "outputs": [
    {
     "data": {
      "text/html": [
       "<div>\n",
       "<style scoped>\n",
       "    .dataframe tbody tr th:only-of-type {\n",
       "        vertical-align: middle;\n",
       "    }\n",
       "\n",
       "    .dataframe tbody tr th {\n",
       "        vertical-align: top;\n",
       "    }\n",
       "\n",
       "    .dataframe thead th {\n",
       "        text-align: right;\n",
       "    }\n",
       "</style>\n",
       "<table border=\"1\" class=\"dataframe\">\n",
       "  <thead>\n",
       "    <tr style=\"text-align: right;\">\n",
       "      <th></th>\n",
       "      <th>RegionName</th>\n",
       "      <th>State</th>\n",
       "      <th>Metro</th>\n",
       "      <th>CountyName</th>\n",
       "      <th>SizeRank</th>\n",
       "      <th>2019-12</th>\n",
       "    </tr>\n",
       "  </thead>\n",
       "  <tbody>\n",
       "    <tr>\n",
       "      <th>0</th>\n",
       "      <td>472</td>\n",
       "      <td>34</td>\n",
       "      <td>122</td>\n",
       "      <td>206</td>\n",
       "      <td>1</td>\n",
       "      <td>2</td>\n",
       "    </tr>\n",
       "    <tr>\n",
       "      <th>1</th>\n",
       "      <td>384</td>\n",
       "      <td>4</td>\n",
       "      <td>96</td>\n",
       "      <td>140</td>\n",
       "      <td>2</td>\n",
       "      <td>2</td>\n",
       "    </tr>\n",
       "    <tr>\n",
       "      <th>2</th>\n",
       "      <td>304</td>\n",
       "      <td>43</td>\n",
       "      <td>72</td>\n",
       "      <td>106</td>\n",
       "      <td>3</td>\n",
       "      <td>1</td>\n",
       "    </tr>\n",
       "    <tr>\n",
       "      <th>3</th>\n",
       "      <td>120</td>\n",
       "      <td>14</td>\n",
       "      <td>34</td>\n",
       "      <td>60</td>\n",
       "      <td>4</td>\n",
       "      <td>1</td>\n",
       "    </tr>\n",
       "    <tr>\n",
       "      <th>4</th>\n",
       "      <td>604</td>\n",
       "      <td>43</td>\n",
       "      <td>155</td>\n",
       "      <td>21</td>\n",
       "      <td>5</td>\n",
       "      <td>0</td>\n",
       "    </tr>\n",
       "  </tbody>\n",
       "</table>\n",
       "</div>"
      ],
      "text/plain": [
       "   RegionName  State  Metro  CountyName  SizeRank 2019-12\n",
       "0         472     34    122         206         1       2\n",
       "1         384      4     96         140         2       2\n",
       "2         304     43     72         106         3       1\n",
       "3         120     14     34          60         4       1\n",
       "4         604     43    155          21         5       0"
      ]
     },
     "execution_count": 306,
     "metadata": {},
     "output_type": "execute_result"
    }
   ],
   "source": [
    "# we can also try convert price into different categories (0-1000, 1000-2000, 2000-3000, >3000)\n",
    "one_bed_latest['2019-12'] = pd.cut(one_bed['2019-12'], bins=[0, 1000, 2000, 3000, 10000], labels=[0,1,2,3])\n",
    "one_bed_latest.head()"
   ]
  },
  {
   "cell_type": "code",
   "execution_count": 307,
   "id": "f05c03fb",
   "metadata": {},
   "outputs": [
    {
     "data": {
      "text/plain": [
       "(array([  95.0732215 ,  437.02414697,  508.63068088,  314.27216947,\n",
       "        2742.10240932]),\n",
       " array([1.78065364e-020, 2.11152097e-094, 6.43048409e-110, 8.10277695e-068,\n",
       "        0.00000000e+000]))"
      ]
     },
     "execution_count": 307,
     "metadata": {},
     "output_type": "execute_result"
    }
   ],
   "source": [
    "X = one_bed_latest.drop('2019-12',axis=1)\n",
    "y = one_bed_latest['2019-12']\n",
    "chi_scores = chi2(X,y)\n",
    "chi_scores"
   ]
  },
  {
   "cell_type": "code",
   "execution_count": 308,
   "id": "787db38c",
   "metadata": {},
   "outputs": [],
   "source": [
    "p_values = pd.Series(chi_scores[1],index = X.columns)\n",
    "p_values.sort_values(ascending = False , inplace = True)"
   ]
  },
  {
   "cell_type": "code",
   "execution_count": 309,
   "id": "c4152682",
   "metadata": {},
   "outputs": [
    {
     "data": {
      "text/plain": [
       "<AxesSubplot:>"
      ]
     },
     "execution_count": 309,
     "metadata": {},
     "output_type": "execute_result"
    },
    {
     "data": {
      "image/png": "[encoded data removed]",
      "text/plain": [
       "<Figure size 432x288 with 1 Axes>"
      ]
     },
     "metadata": {},
     "output_type": "display_data"
    }
   ],
   "source": [
    "p_values.plot.bar()\n"
   ]
  },
  {
   "cell_type": "markdown",
   "id": "0f4d6b16",
   "metadata": {},
   "source": [
    "From the above graph we know that RegionName has higher p-value. Therefore, it is the most independent variable and should have least impact on the housing price."
   ]
  },
  {
   "cell_type": "code",
   "execution_count": 310,
   "id": "021b8884",
   "metadata": {
    "hideCode": false,
    "hidePrompt": false
   },
   "outputs": [],
   "source": [
    "'''\n",
    "Below is a helper function that can help us load zillow housing data.\n",
    "'''\n",
    "def load_zillow_data(state=None,county=None,region=None,city=None):\n",
    "    dictionary_with_file_paths = {'dataset/DaysOnZillow_City.csv' : 'DaysOnZillow_City',\n",
    "    'dataset/Sale_Prices_City.csv' : 'Sale_Prices_City',\n",
    "    'dataset/City_MedianRentalPrice_Studio.csv' : 'Studio',\n",
    "    'dataset/City_MedianRentalPrice_1Bedroom.csv' : '1 Bedroom',\n",
    "    'dataset/City_MedianRentalPrice_2Bedroom.csv' : '2 Bedrooms',\n",
    "    'dataset/City_MedianRentalPrice_3Bedroom.csv' : '3 Bedrooms',\n",
    "    'dataset/City_MedianRentalPrice_4Bedroom.csv' : '4 Bedrooms',\n",
    "    'dataset/City_MedianRentalPrice_5BedroomOrMore.csv' : '5+ Bedrooms'}\n",
    "\n",
    "    # Load files into dataframe.\n",
    "    dictionary_with_dataframes = {}\n",
    "    for file_path, file_name in dictionary_with_file_paths.items():\n",
    "        name_of_dataframe = str(file_name)\n",
    "        dictionary_with_dataframes[name_of_dataframe] = pd.read_csv(file_path)\n",
    "        dictionary_with_dataframes[name_of_dataframe].rename(columns={'Unnamed: 0':'which_measurement'}, inplace=True)\n",
    "        dictionary_with_dataframes[name_of_dataframe]['which_measurement'] = name_of_dataframe\n",
    "\n",
    "    # Combine the dataframes into one large dataframe that has a new column that labels each subsection\n",
    "    filtered_dataframe = pd.concat(dictionary_with_dataframes.values(), ignore_index=True, sort=True)\n",
    "\n",
    "    # Filter data based on parameters.\n",
    "    states_to_keep, counties_to_keep = [state], [county]\n",
    "    regions_to_keep, cities_to_keep = [region], [city]\n",
    "    \n",
    "    if state is not None:\n",
    "        filtered_dataframe = filtered_dataframe[filtered_dataframe.State.isin(states_to_keep)]\n",
    "    if county is not None:\n",
    "        filtered_dataframe = filtered_dataframe[filtered_dataframe.CountyName.isin(counties_to_keep)]\n",
    "    if region is not None: \n",
    "        filtered_dataframe = filtered_dataframe[filtered_dataframe.RegionName.isin(regions_to_keep)]\n",
    "    if city is not None:   \n",
    "        filtered_dataframe = filtered_dataframe[filtered_dataframe.Metro.isin(cities_to_keep)]\n",
    "\n",
    "    for row in filtered_dataframe:\n",
    "        final_df = filtered_dataframe[[\n",
    "               '2014-02', '2014-03', '2014-04', '2014-05', '2014-06',\n",
    "               '2014-07', '2014-08', '2014-09', '2014-10', '2014-11', '2014-12',\n",
    "               '2015-01', '2015-02', '2015-03', '2015-04', '2015-05', '2015-06',\n",
    "               '2015-07', '2015-08', '2015-09', '2015-10', '2015-11', '2015-12',\n",
    "               '2016-01', '2016-02', '2016-03', '2016-04', '2016-05', '2016-06',\n",
    "               '2016-07', '2016-08', '2016-09', '2016-10', '2016-11', '2016-12',\n",
    "               '2017-01', '2017-02', '2017-03', '2017-04', '2017-05', '2017-06',\n",
    "               '2017-07', '2017-08', '2017-09', '2017-10', '2017-11', '2017-12',\n",
    "               '2018-01', '2018-02', '2018-03', '2018-04', '2018-05', '2018-06',\n",
    "               '2018-07', '2018-08', '2018-09', '2018-10', '2018-11', '2018-12',\n",
    "               '2019-01', '2019-02', '2019-03', '2019-04', '2019-05', '2019-06',\n",
    "               '2019-07', '2019-08', '2019-09', '2019-10', '2019-11','which_measurement']]\n",
    "        column_title = final_df['which_measurement'].values\n",
    "        final_df = final_df.T[:-1]\n",
    "        final_df.columns = [column_title]\n",
    "    final_df.columns = ['Sale_Prices_City','Studio','1 Bedroom',\n",
    "                          '2 Bedrooms','3 Bedrooms']\n",
    "    final_df['Date'] = final_df.index\n",
    "    return final_df\n",
    "\n",
    "def plot_four_columns_using_plotly_express(dataframe,column_one,column_two,column_three,column_four,title,lower_axis_limit,upper_axis_limit):\n",
    "    '''\n",
    "    This function plots four numerical columns against a date column.\n",
    "    It using the plotly express library instead of the normal plotly library.\n",
    "    '''\n",
    "    df_melt = dataframe.melt(id_vars='Date', value_vars=[column_one,column_two,column_three,column_four])\n",
    "    fig = px.line(df_melt, x=\"Date\", y=\"value\", color=\"variable\",title=title).update(layout=dict(xaxis_title='Date',yaxis_title='Median Rent ($USD)',legend_orientation=\"h\",showlegend=True))\n",
    "    fig.update_xaxes(range=[lower_axis_limit,upper_axis_limit])\n",
    "    fig.show()\n",
    "    \n",
    "def plotly_double_y_axes(dataframe, df_interest_rate, column_one,column_two,column_three,column_four,title,lower_axis_limit,upper_axis_limit):\n",
    "    df_melt = dataframe.melt(id_vars='Date', value_vars=[column_one,column_two,column_three,column_four])\n",
    "    fig = px.line(df_melt, x=\"Date\", y=\"value\", color=\"variable\",title=title, render_mode = \"webgl\").update(layout=dict(xaxis_title='Date',yaxis_title='Median Rent ($USD)',legend_orientation=\"h\",showlegend=True))\n",
    "    fig2 = px.line(df_interest_rate, x=\"Date\", y=df_interest_rate.filter(regex=\"Effective_Federal_Funds_Rate\").columns, render_mode = \"webgl\")\n",
    "    fig2.update_traces(yaxis=\"y2\")\n",
    "    subfig = make_subplots(specs=[[{\"secondary_y\": True}]])\n",
    "    subfig.add_traces(fig.data + fig2.data)\n",
    "#     subfig.add_trace(fig.data, secondary_y=False)\n",
    "#     subfig.add_trace(fig2.data, secondary_y=True)\n",
    "    subfig.layout.xaxis.title=\"Date\"\n",
    "\n",
    "    subfig.update_layout(\n",
    "        title_text=title\n",
    "    )\n",
    "    subfig.update_yaxes(title_text=\"Median Rent ($ USD)\", secondary_y=False)\n",
    "    subfig.update_yaxes(title_text=\"Federal Interest Rate (%)\", secondary_y=True)\n",
    "    subfig.for_each_trace(lambda t: t.update(line=dict(color=t.marker.color)))\n",
    "    subfig.update_xaxes(range=[lower_axis_limit,upper_axis_limit])\n",
    "    subfig.show()\n",
    "    return subfig"
   ]
  },
  {
   "cell_type": "code",
   "execution_count": 311,
   "id": "64faa3ce",
   "metadata": {},
   "outputs": [],
   "source": [
    "# [Commented out after cleaning]\n",
    "\n",
    "# Cleaning: Only select rows from 2014-02 to 2019-12.\n",
    "# df_rate = pd.read_csv('dataset/interest_rate.csv')\n",
    "# df_rate.columns = df_rate.columns.str.replace(' ', '_')\n",
    "# cols = [\"Year\",\"Month\", \"Day\"]\n",
    "# # Combine year month into \"Date\"\n",
    "# df_rate['Date'] = df_rate[cols].apply(lambda x: '-'.join(x.values.astype(str)), axis=\"columns\")\n",
    "# # Convert \"date\" into date type.\n",
    "# df_rate[\"Date\"] = pd.to_datetime(df_rate[\"Date\"]).dt.date\n",
    "\n",
    "# mask = (df_rate['Date'] >= datetime.date(2014, 2, 1)) & (df_rate['Date'] <= datetime.date(2019, 12, 31)) & (df_rate['Day'] == 1)\n",
    "# df_rate = df_rate.loc[mask]\n",
    "# df_rate = df_rate[[\"Year\", \"Month\", \"Day\", \"Effective_Federal_Funds_Rate\", \"Date\"]]\n",
    "# df_rate.to_excel(\"interest_rate_cleaned.xlsx\")\n",
    "\n",
    "\n",
    "# df_rate = pd.read_csv('dataset/interest_rate_cleaned.csv')\n",
    "# df_rate = df_rate.dropna(subset=[\"Year\"])\n",
    "# df_rate.dtypes\n",
    "\n",
    "# cols = [\"Year\",\"Month\", \"Day\"]\n",
    "# df_rate[cols] = df_rate[cols].astype(np.int64)\n",
    "# # Combine year month into \"Date\"\n",
    "# df_rate['Date'] = df_rate[cols].apply(lambda x: '-'.join(x.values.astype(str)), axis=\"columns\")\n",
    "# df_rate[\"Date\"] = pd.to_datetime(df_rate[\"Date\"]).dt.date\n",
    "# df_rate = df_rate.drop(columns=['Unnamed: 0'])\n",
    "# df_rate\n",
    "# df_rate.to_csv('dataset/interest-rate-cleaned.csv')\n",
    "# df_rate['Date'] = df_rate[cols].apply(lambda x: '-'.join(x.values.astype(str)), axis=\"columns\")\n",
    "# df_rate\n",
    "# plotly_double_y_axes(sanfrancisco_df, df_rate, 'Studio','1 Bedroom','2 Bedrooms','3 Bedrooms',\n",
    "#                                        'Median Rental Prices in San Francisco, CA','2014-02-01','2019-12-31')"
   ]
  },
  {
   "cell_type": "code",
   "execution_count": 312,
   "id": "9f16ce8e",
   "metadata": {
    "hideCode": false,
    "hidePrompt": false
   },
   "outputs": [
    {
     "data": {
      "text/plain": [
       "<AxesSubplot:title={'center':'Median Prices of Homes and Rental Units in San Francisco, CA'}>"
      ]
     },
     "execution_count": 312,
     "metadata": {},
     "output_type": "execute_result"
    },
    {
     "data": {
      "image/png": "[encoded data removed]",
      "text/plain": [
       "<Figure size 936x648 with 1 Axes>"
      ]
     },
     "metadata": {},
     "output_type": "display_data"
    }
   ],
   "source": [
    "# Plot median rental prices\n",
    "plot_data = sanfrancisco_df = load_zillow_data(state='CA',county='San Francisco County',\n",
    "                              region='San Francisco',city='San Francisco-Oakland-Hayward')\n",
    "sanfrancisco_df.plot(title='Median Prices of Homes and Rental Units in San Francisco, CA',figsize=(13,9), grid=True)"
   ]
  },
  {
   "cell_type": "code",
   "execution_count": 313,
   "id": "28dba2a9",
   "metadata": {},
   "outputs": [
    {
     "data": {
      "text/html": [
       "<div>\n",
       "<style scoped>\n",
       "    .dataframe tbody tr th:only-of-type {\n",
       "        vertical-align: middle;\n",
       "    }\n",
       "\n",
       "    .dataframe tbody tr th {\n",
       "        vertical-align: top;\n",
       "    }\n",
       "\n",
       "    .dataframe thead th {\n",
       "        text-align: right;\n",
       "    }\n",
       "</style>\n",
       "<table border=\"1\" class=\"dataframe\">\n",
       "  <thead>\n",
       "    <tr style=\"text-align: right;\">\n",
       "      <th></th>\n",
       "      <th>Sale_Prices_City</th>\n",
       "      <th>Studio</th>\n",
       "      <th>1 Bedroom</th>\n",
       "      <th>2 Bedrooms</th>\n",
       "      <th>3 Bedrooms</th>\n",
       "      <th>Date</th>\n",
       "    </tr>\n",
       "  </thead>\n",
       "  <tbody>\n",
       "    <tr>\n",
       "      <th>2014-02</th>\n",
       "      <td>2574.0</td>\n",
       "      <td>3000.0</td>\n",
       "      <td>4100.0</td>\n",
       "      <td>5195.0</td>\n",
       "      <td>NaN</td>\n",
       "      <td>2014-02</td>\n",
       "    </tr>\n",
       "    <tr>\n",
       "      <th>2014-03</th>\n",
       "      <td>2500.0</td>\n",
       "      <td>2995.0</td>\n",
       "      <td>4100.0</td>\n",
       "      <td>5000.0</td>\n",
       "      <td>NaN</td>\n",
       "      <td>2014-03</td>\n",
       "    </tr>\n",
       "    <tr>\n",
       "      <th>2014-04</th>\n",
       "      <td>2595.0</td>\n",
       "      <td>3064.0</td>\n",
       "      <td>4250.0</td>\n",
       "      <td>5172.5</td>\n",
       "      <td>NaN</td>\n",
       "      <td>2014-04</td>\n",
       "    </tr>\n",
       "    <tr>\n",
       "      <th>2014-05</th>\n",
       "      <td>2714.0</td>\n",
       "      <td>3250.0</td>\n",
       "      <td>4339.5</td>\n",
       "      <td>5500.0</td>\n",
       "      <td>NaN</td>\n",
       "      <td>2014-05</td>\n",
       "    </tr>\n",
       "    <tr>\n",
       "      <th>2014-06</th>\n",
       "      <td>2751.5</td>\n",
       "      <td>3295.0</td>\n",
       "      <td>4400.0</td>\n",
       "      <td>4995.0</td>\n",
       "      <td>NaN</td>\n",
       "      <td>2014-06</td>\n",
       "    </tr>\n",
       "    <tr>\n",
       "      <th>...</th>\n",
       "      <td>...</td>\n",
       "      <td>...</td>\n",
       "      <td>...</td>\n",
       "      <td>...</td>\n",
       "      <td>...</td>\n",
       "      <td>...</td>\n",
       "    </tr>\n",
       "    <tr>\n",
       "      <th>2019-07</th>\n",
       "      <td>2979.0</td>\n",
       "      <td>3615.0</td>\n",
       "      <td>4800.0</td>\n",
       "      <td>5788.5</td>\n",
       "      <td>6999.5</td>\n",
       "      <td>2019-07</td>\n",
       "    </tr>\n",
       "    <tr>\n",
       "      <th>2019-08</th>\n",
       "      <td>2995.0</td>\n",
       "      <td>3600.0</td>\n",
       "      <td>4750.0</td>\n",
       "      <td>5800.0</td>\n",
       "      <td>6995.0</td>\n",
       "      <td>2019-08</td>\n",
       "    </tr>\n",
       "    <tr>\n",
       "      <th>2019-09</th>\n",
       "      <td>2995.0</td>\n",
       "      <td>3650.0</td>\n",
       "      <td>4799.0</td>\n",
       "      <td>5744.5</td>\n",
       "      <td>7195.0</td>\n",
       "      <td>2019-09</td>\n",
       "    </tr>\n",
       "    <tr>\n",
       "      <th>2019-10</th>\n",
       "      <td>2943.0</td>\n",
       "      <td>3580.0</td>\n",
       "      <td>4600.0</td>\n",
       "      <td>5585.0</td>\n",
       "      <td>6850.0</td>\n",
       "      <td>2019-10</td>\n",
       "    </tr>\n",
       "    <tr>\n",
       "      <th>2019-11</th>\n",
       "      <td>2869.5</td>\n",
       "      <td>3499.0</td>\n",
       "      <td>4535.0</td>\n",
       "      <td>5495.0</td>\n",
       "      <td>6500.0</td>\n",
       "      <td>2019-11</td>\n",
       "    </tr>\n",
       "  </tbody>\n",
       "</table>\n",
       "<p>70 rows × 6 columns</p>\n",
       "</div>"
      ],
      "text/plain": [
       "        Sale_Prices_City  Studio 1 Bedroom 2 Bedrooms 3 Bedrooms     Date\n",
       "2014-02           2574.0  3000.0    4100.0     5195.0        NaN  2014-02\n",
       "2014-03           2500.0  2995.0    4100.0     5000.0        NaN  2014-03\n",
       "2014-04           2595.0  3064.0    4250.0     5172.5        NaN  2014-04\n",
       "2014-05           2714.0  3250.0    4339.5     5500.0        NaN  2014-05\n",
       "2014-06           2751.5  3295.0    4400.0     4995.0        NaN  2014-06\n",
       "...                  ...     ...       ...        ...        ...      ...\n",
       "2019-07           2979.0  3615.0    4800.0     5788.5     6999.5  2019-07\n",
       "2019-08           2995.0  3600.0    4750.0     5800.0     6995.0  2019-08\n",
       "2019-09           2995.0  3650.0    4799.0     5744.5     7195.0  2019-09\n",
       "2019-10           2943.0  3580.0    4600.0     5585.0     6850.0  2019-10\n",
       "2019-11           2869.5  3499.0    4535.0     5495.0     6500.0  2019-11\n",
       "\n",
       "[70 rows x 6 columns]"
      ]
     },
     "execution_count": 313,
     "metadata": {},
     "output_type": "execute_result"
    }
   ],
   "source": [
    "sanfrancisco_df"
   ]
  },
  {
   "cell_type": "code",
   "execution_count": 314,
   "id": "87ce9860",
   "metadata": {},
   "outputs": [
    {
     "data": {
      "application/vnd.plotly.v1+json": {
       "config": {
        "plotlyServerURL": "https://plotly.com"
       },
       "data": [
        {
         "hovertemplate": "variable=Studio<br>Date=%{x}<br>value=%{y}<extra></extra>",
         "legendgroup": "Studio",
         "line": {
          "color": "#636efa",
          "dash": "solid"
         },
         "mode": "lines",
         "name": "Studio",
         "orientation": "v",
         "showlegend": true,
         "type": "scatter",
         "x": [
          "2014-02",
          "2014-03",
          "2014-04",
          "2014-05",
          "2014-06",
          "2014-07",
          "2014-08",
          "2014-09",
          "2014-10",
          "2014-11",
          "2014-12",
          "2015-01",
          "2015-02",
          "2015-03",
          "2015-04",
          "2015-05",
          "2015-06",
          "2015-07",
          "2015-08",
          "2015-09",
          "2015-10",
          "2015-11",
          "2015-12",
          "2016-01",
          "2016-02",
          "2016-03",
          "2016-04",
          "2016-05",
          "2016-06",
          "2016-07",
          "2016-08",
          "2016-09",
          "2016-10",
          "2016-11",
          "2016-12",
          "2017-01",
          "2017-02",
          "2017-03",
          "2017-04",
          "2017-05",
          "2017-06",
          "2017-07",
          "2017-08",
          "2017-09",
          "2017-10",
          "2017-11",
          "2017-12",
          "2018-01",
          "2018-02",
          "2018-03",
          "2018-04",
          "2018-05",
          "2018-06",
          "2018-07",
          "2018-08",
          "2018-09",
          "2018-10",
          "2018-11",
          "2018-12",
          "2019-01",
          "2019-02",
          "2019-03",
          "2019-04",
          "2019-05",
          "2019-06",
          "2019-07",
          "2019-08",
          "2019-09",
          "2019-10",
          "2019-11"
         ],
         "xaxis": "x",
         "y": [
          3000,
          2995,
          3064,
          3250,
          3295,
          3270,
          3315.5,
          3350,
          3379.5,
          3379,
          3419,
          3500,
          3500,
          3495,
          3500,
          3500,
          3600,
          3495,
          3552.5,
          3507,
          3500,
          3495,
          3402.5,
          3632,
          3638,
          3600,
          3600,
          3601,
          3518,
          3450,
          3338,
          3300,
          3223,
          3223.5,
          3100,
          3250,
          3295,
          3295,
          3306,
          3376,
          3400,
          3433,
          3387,
          3312,
          3295,
          3349,
          3303.5,
          3300,
          3395,
          3400,
          3405,
          3429.5,
          3475,
          3476.5,
          3495,
          3495,
          3495,
          3474,
          3426,
          3495,
          3500,
          3500,
          3534,
          3600,
          3641.5,
          3615,
          3600,
          3650,
          3580,
          3499
         ],
         "yaxis": "y"
        },
        {
         "hovertemplate": "variable=1 Bedroom<br>Date=%{x}<br>value=%{y}<extra></extra>",
         "legendgroup": "1 Bedroom",
         "line": {
          "color": "#EF553B",
          "dash": "solid"
         },
         "mode": "lines",
         "name": "1 Bedroom",
         "orientation": "v",
         "showlegend": true,
         "type": "scatter",
         "x": [
          "2014-02",
          "2014-03",
          "2014-04",
          "2014-05",
          "2014-06",
          "2014-07",
          "2014-08",
          "2014-09",
          "2014-10",
          "2014-11",
          "2014-12",
          "2015-01",
          "2015-02",
          "2015-03",
          "2015-04",
          "2015-05",
          "2015-06",
          "2015-07",
          "2015-08",
          "2015-09",
          "2015-10",
          "2015-11",
          "2015-12",
          "2016-01",
          "2016-02",
          "2016-03",
          "2016-04",
          "2016-05",
          "2016-06",
          "2016-07",
          "2016-08",
          "2016-09",
          "2016-10",
          "2016-11",
          "2016-12",
          "2017-01",
          "2017-02",
          "2017-03",
          "2017-04",
          "2017-05",
          "2017-06",
          "2017-07",
          "2017-08",
          "2017-09",
          "2017-10",
          "2017-11",
          "2017-12",
          "2018-01",
          "2018-02",
          "2018-03",
          "2018-04",
          "2018-05",
          "2018-06",
          "2018-07",
          "2018-08",
          "2018-09",
          "2018-10",
          "2018-11",
          "2018-12",
          "2019-01",
          "2019-02",
          "2019-03",
          "2019-04",
          "2019-05",
          "2019-06",
          "2019-07",
          "2019-08",
          "2019-09",
          "2019-10",
          "2019-11"
         ],
         "xaxis": "x",
         "y": [
          4100,
          4100,
          4250,
          4339.5,
          4400,
          4450,
          4550,
          4600,
          4600,
          4550,
          4695,
          4700,
          4705,
          4600,
          4635,
          4700,
          4754.5,
          4718,
          4947,
          4800,
          4785,
          4698,
          4692.5,
          4900,
          4900,
          4809,
          4724,
          4709,
          4600,
          4550,
          4500,
          4500,
          4462.5,
          4355,
          4355,
          4495,
          4495,
          4400,
          4500,
          4500,
          4450,
          4500,
          4500,
          4395,
          4375,
          4450,
          4385,
          4459,
          4495,
          4500,
          4500,
          4500,
          4500,
          4599.5,
          4650,
          4694.5,
          4598,
          4500,
          4500,
          4500,
          4500,
          4500,
          4579.5,
          4656,
          4709,
          4800,
          4750,
          4799,
          4600,
          4535
         ],
         "yaxis": "y"
        },
        {
         "hovertemplate": "variable=2 Bedrooms<br>Date=%{x}<br>value=%{y}<extra></extra>",
         "legendgroup": "2 Bedrooms",
         "line": {
          "color": "#00cc96",
          "dash": "solid"
         },
         "mode": "lines",
         "name": "2 Bedrooms",
         "orientation": "v",
         "showlegend": true,
         "type": "scatter",
         "x": [
          "2014-02",
          "2014-03",
          "2014-04",
          "2014-05",
          "2014-06",
          "2014-07",
          "2014-08",
          "2014-09",
          "2014-10",
          "2014-11",
          "2014-12",
          "2015-01",
          "2015-02",
          "2015-03",
          "2015-04",
          "2015-05",
          "2015-06",
          "2015-07",
          "2015-08",
          "2015-09",
          "2015-10",
          "2015-11",
          "2015-12",
          "2016-01",
          "2016-02",
          "2016-03",
          "2016-04",
          "2016-05",
          "2016-06",
          "2016-07",
          "2016-08",
          "2016-09",
          "2016-10",
          "2016-11",
          "2016-12",
          "2017-01",
          "2017-02",
          "2017-03",
          "2017-04",
          "2017-05",
          "2017-06",
          "2017-07",
          "2017-08",
          "2017-09",
          "2017-10",
          "2017-11",
          "2017-12",
          "2018-01",
          "2018-02",
          "2018-03",
          "2018-04",
          "2018-05",
          "2018-06",
          "2018-07",
          "2018-08",
          "2018-09",
          "2018-10",
          "2018-11",
          "2018-12",
          "2019-01",
          "2019-02",
          "2019-03",
          "2019-04",
          "2019-05",
          "2019-06",
          "2019-07",
          "2019-08",
          "2019-09",
          "2019-10",
          "2019-11"
         ],
         "xaxis": "x",
         "y": [
          5195,
          5000,
          5172.5,
          5500,
          4995,
          4950,
          5800,
          5500,
          5800,
          5500,
          5950,
          5995,
          5999,
          5975,
          5722.5,
          5650,
          5920,
          6147.5,
          6500,
          6250,
          5900,
          5800,
          5886,
          5995,
          5935.5,
          5897,
          5687.5,
          5975,
          5595,
          5675,
          5700,
          5600,
          5400,
          5547.5,
          5132,
          5000,
          5450,
          5500,
          5395,
          5495,
          5495,
          5500,
          5495,
          5495,
          5495,
          5495,
          5495,
          5495,
          5395,
          5500,
          5500,
          5499,
          5500,
          5500,
          5500,
          5697.5,
          5495,
          5397.5,
          5495,
          5400,
          5350,
          5300,
          5350,
          5400,
          5600,
          5788.5,
          5800,
          5744.5,
          5585,
          5495
         ],
         "yaxis": "y"
        },
        {
         "hovertemplate": "variable=3 Bedrooms<br>Date=%{x}<br>value=%{y}<extra></extra>",
         "legendgroup": "3 Bedrooms",
         "line": {
          "color": "#ab63fa",
          "dash": "solid"
         },
         "mode": "lines",
         "name": "3 Bedrooms",
         "orientation": "v",
         "showlegend": true,
         "type": "scatter",
         "x": [
          "2014-02",
          "2014-03",
          "2014-04",
          "2014-05",
          "2014-06",
          "2014-07",
          "2014-08",
          "2014-09",
          "2014-10",
          "2014-11",
          "2014-12",
          "2015-01",
          "2015-02",
          "2015-03",
          "2015-04",
          "2015-05",
          "2015-06",
          "2015-07",
          "2015-08",
          "2015-09",
          "2015-10",
          "2015-11",
          "2015-12",
          "2016-01",
          "2016-02",
          "2016-03",
          "2016-04",
          "2016-05",
          "2016-06",
          "2016-07",
          "2016-08",
          "2016-09",
          "2016-10",
          "2016-11",
          "2016-12",
          "2017-01",
          "2017-02",
          "2017-03",
          "2017-04",
          "2017-05",
          "2017-06",
          "2017-07",
          "2017-08",
          "2017-09",
          "2017-10",
          "2017-11",
          "2017-12",
          "2018-01",
          "2018-02",
          "2018-03",
          "2018-04",
          "2018-05",
          "2018-06",
          "2018-07",
          "2018-08",
          "2018-09",
          "2018-10",
          "2018-11",
          "2018-12",
          "2019-01",
          "2019-02",
          "2019-03",
          "2019-04",
          "2019-05",
          "2019-06",
          "2019-07",
          "2019-08",
          "2019-09",
          "2019-10",
          "2019-11"
         ],
         "xaxis": "x",
         "y": [
          null,
          null,
          null,
          null,
          null,
          null,
          null,
          null,
          null,
          null,
          null,
          null,
          null,
          null,
          null,
          null,
          null,
          7600,
          7200,
          6995,
          6350,
          6200,
          6500,
          7000,
          6995,
          6499,
          6697.5,
          6797.5,
          6972.5,
          6947.5,
          6350,
          6700,
          5750,
          6742.5,
          6200,
          6500,
          6150,
          6200,
          5900,
          6200,
          6500,
          6500,
          6495,
          6397.5,
          6200,
          5997.5,
          6472.5,
          6495,
          6200,
          6200,
          6500,
          6650,
          6800,
          6850,
          6800,
          6795,
          6497.5,
          6747.5,
          6495,
          6899.5,
          7000,
          6595,
          6850,
          6825,
          6872.5,
          6999.5,
          6995,
          7195,
          6850,
          6500
         ],
         "yaxis": "y"
        }
       ],
       "layout": {
        "legend": {
         "orientation": "h",
         "title": {
          "text": "variable"
         },
         "tracegroupgap": 0
        },
        "showlegend": true,
        "template": {
         "data": {
          "bar": [
           {
            "error_x": {
             "color": "#2a3f5f"
            },
            "error_y": {
             "color": "#2a3f5f"
            },
            "marker": {
             "line": {
              "color": "#E5ECF6",
              "width": 0.5
             },
             "pattern": {
              "fillmode": "overlay",
              "size": 10,
              "solidity": 0.2
             }
            },
            "type": "bar"
           }
          ],
          "barpolar": [
           {
            "marker": {
             "line": {
              "color": "#E5ECF6",
              "width": 0.5
             },
             "pattern": {
              "fillmode": "overlay",
              "size": 10,
              "solidity": 0.2
             }
            },
            "type": "barpolar"
           }
          ],
          "carpet": [
           {
            "aaxis": {
             "endlinecolor": "#2a3f5f",
             "gridcolor": "white",
             "linecolor": "white",
             "minorgridcolor": "white",
             "startlinecolor": "#2a3f5f"
            },
            "baxis": {
             "endlinecolor": "#2a3f5f",
             "gridcolor": "white",
             "linecolor": "white",
             "minorgridcolor": "white",
             "startlinecolor": "#2a3f5f"
            },
            "type": "carpet"
           }
          ],
          "choropleth": [
           {
            "colorbar": {
             "outlinewidth": 0,
             "ticks": ""
            },
            "type": "choropleth"
           }
          ],
          "contour": [
           {
            "colorbar": {
             "outlinewidth": 0,
             "ticks": ""
            },
            "colorscale": [
             [
              0,
              "#0d0887"
             ],
             [
              0.1111111111111111,
              "#46039f"
             ],
             [
              0.2222222222222222,
              "#7201a8"
             ],
             [
              0.3333333333333333,
              "#9c179e"
             ],
             [
              0.4444444444444444,
              "#bd3786"
             ],
             [
              0.5555555555555556,
              "#d8576b"
             ],
             [
              0.6666666666666666,
              "#ed7953"
             ],
             [
              0.7777777777777778,
              "#fb9f3a"
             ],
             [
              0.8888888888888888,
              "#fdca26"
             ],
             [
              1,
              "#f0f921"
             ]
            ],
            "type": "contour"
           }
          ],
          "contourcarpet": [
           {
            "colorbar": {
             "outlinewidth": 0,
             "ticks": ""
            },
            "type": "contourcarpet"
           }
          ],
          "heatmap": [
           {
            "colorbar": {
             "outlinewidth": 0,
             "ticks": ""
            },
            "colorscale": [
             [
              0,
              "#0d0887"
             ],
             [
              0.1111111111111111,
              "#46039f"
             ],
             [
              0.2222222222222222,
              "#7201a8"
             ],
             [
              0.3333333333333333,
              "#9c179e"
             ],
             [
              0.4444444444444444,
              "#bd3786"
             ],
             [
              0.5555555555555556,
              "#d8576b"
             ],
             [
              0.6666666666666666,
              "#ed7953"
             ],
             [
              0.7777777777777778,
              "#fb9f3a"
             ],
             [
              0.8888888888888888,
              "#fdca26"
             ],
             [
              1,
              "#f0f921"
             ]
            ],
            "type": "heatmap"
           }
          ],
          "heatmapgl": [
           {
            "colorbar": {
             "outlinewidth": 0,
             "ticks": ""
            },
            "colorscale": [
             [
              0,
              "#0d0887"
             ],
             [
              0.1111111111111111,
              "#46039f"
             ],
             [
              0.2222222222222222,
              "#7201a8"
             ],
             [
              0.3333333333333333,
              "#9c179e"
             ],
             [
              0.4444444444444444,
              "#bd3786"
             ],
             [
              0.5555555555555556,
              "#d8576b"
             ],
             [
              0.6666666666666666,
              "#ed7953"
             ],
             [
              0.7777777777777778,
              "#fb9f3a"
             ],
             [
              0.8888888888888888,
              "#fdca26"
             ],
             [
              1,
              "#f0f921"
             ]
            ],
            "type": "heatmapgl"
           }
          ],
          "histogram": [
           {
            "marker": {
             "pattern": {
              "fillmode": "overlay",
              "size": 10,
              "solidity": 0.2
             }
            },
            "type": "histogram"
           }
          ],
          "histogram2d": [
           {
            "colorbar": {
             "outlinewidth": 0,
             "ticks": ""
            },
            "colorscale": [
             [
              0,
              "#0d0887"
             ],
             [
              0.1111111111111111,
              "#46039f"
             ],
             [
              0.2222222222222222,
              "#7201a8"
             ],
             [
              0.3333333333333333,
              "#9c179e"
             ],
             [
              0.4444444444444444,
              "#bd3786"
             ],
             [
              0.5555555555555556,
              "#d8576b"
             ],
             [
              0.6666666666666666,
              "#ed7953"
             ],
             [
              0.7777777777777778,
              "#fb9f3a"
             ],
             [
              0.8888888888888888,
              "#fdca26"
             ],
             [
              1,
              "#f0f921"
             ]
            ],
            "type": "histogram2d"
           }
          ],
          "histogram2dcontour": [
           {
            "colorbar": {
             "outlinewidth": 0,
             "ticks": ""
            },
            "colorscale": [
             [
              0,
              "#0d0887"
             ],
             [
              0.1111111111111111,
              "#46039f"
             ],
             [
              0.2222222222222222,
              "#7201a8"
             ],
             [
              0.3333333333333333,
              "#9c179e"
             ],
             [
              0.4444444444444444,
              "#bd3786"
             ],
             [
              0.5555555555555556,
              "#d8576b"
             ],
             [
              0.6666666666666666,
              "#ed7953"
             ],
             [
              0.7777777777777778,
              "#fb9f3a"
             ],
             [
              0.8888888888888888,
              "#fdca26"
             ],
             [
              1,
              "#f0f921"
             ]
            ],
            "type": "histogram2dcontour"
           }
          ],
          "mesh3d": [
           {
            "colorbar": {
             "outlinewidth": 0,
             "ticks": ""
            },
            "type": "mesh3d"
           }
          ],
          "parcoords": [
           {
            "line": {
             "colorbar": {
              "outlinewidth": 0,
              "ticks": ""
             }
            },
            "type": "parcoords"
           }
          ],
          "pie": [
           {
            "automargin": true,
            "type": "pie"
           }
          ],
          "scatter": [
           {
            "marker": {
             "colorbar": {
              "outlinewidth": 0,
              "ticks": ""
             }
            },
            "type": "scatter"
           }
          ],
          "scatter3d": [
           {
            "line": {
             "colorbar": {
              "outlinewidth": 0,
              "ticks": ""
             }
            },
            "marker": {
             "colorbar": {
              "outlinewidth": 0,
              "ticks": ""
             }
            },
            "type": "scatter3d"
           }
          ],
          "scattercarpet": [
           {
            "marker": {
             "colorbar": {
              "outlinewidth": 0,
              "ticks": ""
             }
            },
            "type": "scattercarpet"
           }
          ],
          "scattergeo": [
           {
            "marker": {
             "colorbar": {
              "outlinewidth": 0,
              "ticks": ""
             }
            },
            "type": "scattergeo"
           }
          ],
          "scattergl": [
           {
            "marker": {
             "colorbar": {
              "outlinewidth": 0,
              "ticks": ""
             }
            },
            "type": "scattergl"
           }
          ],
          "scattermapbox": [
           {
            "marker": {
             "colorbar": {
              "outlinewidth": 0,
              "ticks": ""
             }
            },
            "type": "scattermapbox"
           }
          ],
          "scatterpolar": [
           {
            "marker": {
             "colorbar": {
              "outlinewidth": 0,
              "ticks": ""
             }
            },
            "type": "scatterpolar"
           }
          ],
          "scatterpolargl": [
           {
            "marker": {
             "colorbar": {
              "outlinewidth": 0,
              "ticks": ""
             }
            },
            "type": "scatterpolargl"
           }
          ],
          "scatterternary": [
           {
            "marker": {
             "colorbar": {
              "outlinewidth": 0,
              "ticks": ""
             }
            },
            "type": "scatterternary"
           }
          ],
          "surface": [
           {
            "colorbar": {
             "outlinewidth": 0,
             "ticks": ""
            },
            "colorscale": [
             [
              0,
              "#0d0887"
             ],
             [
              0.1111111111111111,
              "#46039f"
             ],
             [
              0.2222222222222222,
              "#7201a8"
             ],
             [
              0.3333333333333333,
              "#9c179e"
             ],
             [
              0.4444444444444444,
              "#bd3786"
             ],
             [
              0.5555555555555556,
              "#d8576b"
             ],
             [
              0.6666666666666666,
              "#ed7953"
             ],
             [
              0.7777777777777778,
              "#fb9f3a"
             ],
             [
              0.8888888888888888,
              "#fdca26"
             ],
             [
              1,
              "#f0f921"
             ]
            ],
            "type": "surface"
           }
          ],
          "table": [
           {
            "cells": {
             "fill": {
              "color": "#EBF0F8"
             },
             "line": {
              "color": "white"
             }
            },
            "header": {
             "fill": {
              "color": "#C8D4E3"
             },
             "line": {
              "color": "white"
             }
            },
            "type": "table"
           }
          ]
         },
         "layout": {
          "annotationdefaults": {
           "arrowcolor": "#2a3f5f",
           "arrowhead": 0,
           "arrowwidth": 1
          },
          "autotypenumbers": "strict",
          "coloraxis": {
           "colorbar": {
            "outlinewidth": 0,
            "ticks": ""
           }
          },
          "colorscale": {
           "diverging": [
            [
             0,
             "#8e0152"
            ],
            [
             0.1,
             "#c51b7d"
            ],
            [
             0.2,
             "#de77ae"
            ],
            [
             0.3,
             "#f1b6da"
            ],
            [
             0.4,
             "#fde0ef"
            ],
            [
             0.5,
             "#f7f7f7"
            ],
            [
             0.6,
             "#e6f5d0"
            ],
            [
             0.7,
             "#b8e186"
            ],
            [
             0.8,
             "#7fbc41"
            ],
            [
             0.9,
             "#4d9221"
            ],
            [
             1,
             "#276419"
            ]
           ],
           "sequential": [
            [
             0,
             "#0d0887"
            ],
            [
             0.1111111111111111,
             "#46039f"
            ],
            [
             0.2222222222222222,
             "#7201a8"
            ],
            [
             0.3333333333333333,
             "#9c179e"
            ],
            [
             0.4444444444444444,
             "#bd3786"
            ],
            [
             0.5555555555555556,
             "#d8576b"
            ],
            [
             0.6666666666666666,
             "#ed7953"
            ],
            [
             0.7777777777777778,
             "#fb9f3a"
            ],
            [
             0.8888888888888888,
             "#fdca26"
            ],
            [
             1,
             "#f0f921"
            ]
           ],
           "sequentialminus": [
            [
             0,
             "#0d0887"
            ],
            [
             0.1111111111111111,
             "#46039f"
            ],
            [
             0.2222222222222222,
             "#7201a8"
            ],
            [
             0.3333333333333333,
             "#9c179e"
            ],
            [
             0.4444444444444444,
             "#bd3786"
            ],
            [
             0.5555555555555556,
             "#d8576b"
            ],
            [
             0.6666666666666666,
             "#ed7953"
            ],
            [
             0.7777777777777778,
             "#fb9f3a"
            ],
            [
             0.8888888888888888,
             "#fdca26"
            ],
            [
             1,
             "#f0f921"
            ]
           ]
          },
          "colorway": [
           "#636efa",
           "#EF553B",
           "#00cc96",
           "#ab63fa",
           "#FFA15A",
           "#19d3f3",
           "#FF6692",
           "#B6E880",
           "#FF97FF",
           "#FECB52"
          ],
          "font": {
           "color": "#2a3f5f"
          },
          "geo": {
           "bgcolor": "white",
           "lakecolor": "white",
           "landcolor": "#E5ECF6",
           "showlakes": true,
           "showland": true,
           "subunitcolor": "white"
          },
          "hoverlabel": {
           "align": "left"
          },
          "hovermode": "closest",
          "mapbox": {
           "style": "light"
          },
          "paper_bgcolor": "white",
          "plot_bgcolor": "#E5ECF6",
          "polar": {
           "angularaxis": {
            "gridcolor": "white",
            "linecolor": "white",
            "ticks": ""
           },
           "bgcolor": "#E5ECF6",
           "radialaxis": {
            "gridcolor": "white",
            "linecolor": "white",
            "ticks": ""
           }
          },
          "scene": {
           "xaxis": {
            "backgroundcolor": "#E5ECF6",
            "gridcolor": "white",
            "gridwidth": 2,
            "linecolor": "white",
            "showbackground": true,
            "ticks": "",
            "zerolinecolor": "white"
           },
           "yaxis": {
            "backgroundcolor": "#E5ECF6",
            "gridcolor": "white",
            "gridwidth": 2,
            "linecolor": "white",
            "showbackground": true,
            "ticks": "",
            "zerolinecolor": "white"
           },
           "zaxis": {
            "backgroundcolor": "#E5ECF6",
            "gridcolor": "white",
            "gridwidth": 2,
            "linecolor": "white",
            "showbackground": true,
            "ticks": "",
            "zerolinecolor": "white"
           }
          },
          "shapedefaults": {
           "line": {
            "color": "#2a3f5f"
           }
          },
          "ternary": {
           "aaxis": {
            "gridcolor": "white",
            "linecolor": "white",
            "ticks": ""
           },
           "baxis": {
            "gridcolor": "white",
            "linecolor": "white",
            "ticks": ""
           },
           "bgcolor": "#E5ECF6",
           "caxis": {
            "gridcolor": "white",
            "linecolor": "white",
            "ticks": ""
           }
          },
          "title": {
           "x": 0.05
          },
          "xaxis": {
           "automargin": true,
           "gridcolor": "white",
           "linecolor": "white",
           "ticks": "",
           "title": {
            "standoff": 15
           },
           "zerolinecolor": "white",
           "zerolinewidth": 2
          },
          "yaxis": {
           "automargin": true,
           "gridcolor": "white",
           "linecolor": "white",
           "ticks": "",
           "title": {
            "standoff": 15
           },
           "zerolinecolor": "white",
           "zerolinewidth": 2
          }
         }
        },
        "title": {
         "text": "Median Rental Prices in San Francisco, CA"
        },
        "xaxis": {
         "anchor": "y",
         "domain": [
          0,
          1
         ],
         "range": [
          "2014-02-01",
          "2019-12-31"
         ],
         "title": {
          "text": "Date"
         }
        },
        "yaxis": {
         "anchor": "x",
         "domain": [
          0,
          1
         ],
         "title": {
          "text": "Median Rent ($USD)"
         }
        }
       }
      },
      "text/html": [
       "<div>                            <div id=\"296a2bd4-dc3f-4e58-9ff9-9d39cc92d817\" class=\"plotly-graph-div\" style=\"height:525px; width:100%;\"></div>            <script type=\"text/javascript\">                require([\"plotly\"], function(Plotly) {                    window.PLOTLYENV=window.PLOTLYENV || {};                                    if (document.getElementById(\"296a2bd4-dc3f-4e58-9ff9-9d39cc92d817\")) {                    Plotly.newPlot(                        \"296a2bd4-dc3f-4e58-9ff9-9d39cc92d817\",                        [{\"hovertemplate\":\"variable=Studio<br>Date=%{x}<br>value=%{y}<extra></extra>\",\"legendgroup\":\"Studio\",\"line\":{\"color\":\"#636efa\",\"dash\":\"solid\"},\"mode\":\"lines\",\"name\":\"Studio\",\"orientation\":\"v\",\"showlegend\":true,\"type\":\"scatter\",\"x\":[\"2014-02\",\"2014-03\",\"2014-04\",\"2014-05\",\"2014-06\",\"2014-07\",\"2014-08\",\"2014-09\",\"2014-10\",\"2014-11\",\"2014-12\",\"2015-01\",\"2015-02\",\"2015-03\",\"2015-04\",\"2015-05\",\"2015-06\",\"2015-07\",\"2015-08\",\"2015-09\",\"2015-10\",\"2015-11\",\"2015-12\",\"2016-01\",\"2016-02\",\"2016-03\",\"2016-04\",\"2016-05\",\"2016-06\",\"2016-07\",\"2016-08\",\"2016-09\",\"2016-10\",\"2016-11\",\"2016-12\",\"2017-01\",\"2017-02\",\"2017-03\",\"2017-04\",\"2017-05\",\"2017-06\",\"2017-07\",\"2017-08\",\"2017-09\",\"2017-10\",\"2017-11\",\"2017-12\",\"2018-01\",\"2018-02\",\"2018-03\",\"2018-04\",\"2018-05\",\"2018-06\",\"2018-07\",\"2018-08\",\"2018-09\",\"2018-10\",\"2018-11\",\"2018-12\",\"2019-01\",\"2019-02\",\"2019-03\",\"2019-04\",\"2019-05\",\"2019-06\",\"2019-07\",\"2019-08\",\"2019-09\",\"2019-10\",\"2019-11\"],\"xaxis\":\"x\",\"y\":[3000.0,2995.0,3064.0,3250.0,3295.0,3270.0,3315.5,3350.0,3379.5,3379.0,3419.0,3500.0,3500.0,3495.0,3500.0,3500.0,3600.0,3495.0,3552.5,3507.0,3500.0,3495.0,3402.5,3632.0,3638.0,3600.0,3600.0,3601.0,3518.0,3450.0,3338.0,3300.0,3223.0,3223.5,3100.0,3250.0,3295.0,3295.0,3306.0,3376.0,3400.0,3433.0,3387.0,3312.0,3295.0,3349.0,3303.5,3300.0,3395.0,3400.0,3405.0,3429.5,3475.0,3476.5,3495.0,3495.0,3495.0,3474.0,3426.0,3495.0,3500.0,3500.0,3534.0,3600.0,3641.5,3615.0,3600.0,3650.0,3580.0,3499.0],\"yaxis\":\"y\"},{\"hovertemplate\":\"variable=1 Bedroom<br>Date=%{x}<br>value=%{y}<extra></extra>\",\"legendgroup\":\"1 Bedroom\",\"line\":{\"color\":\"#EF553B\",\"dash\":\"solid\"},\"mode\":\"lines\",\"name\":\"1 Bedroom\",\"orientation\":\"v\",\"showlegend\":true,\"type\":\"scatter\",\"x\":[\"2014-02\",\"2014-03\",\"2014-04\",\"2014-05\",\"2014-06\",\"2014-07\",\"2014-08\",\"2014-09\",\"2014-10\",\"2014-11\",\"2014-12\",\"2015-01\",\"2015-02\",\"2015-03\",\"2015-04\",\"2015-05\",\"2015-06\",\"2015-07\",\"2015-08\",\"2015-09\",\"2015-10\",\"2015-11\",\"2015-12\",\"2016-01\",\"2016-02\",\"2016-03\",\"2016-04\",\"2016-05\",\"2016-06\",\"2016-07\",\"2016-08\",\"2016-09\",\"2016-10\",\"2016-11\",\"2016-12\",\"2017-01\",\"2017-02\",\"2017-03\",\"2017-04\",\"2017-05\",\"2017-06\",\"2017-07\",\"2017-08\",\"2017-09\",\"2017-10\",\"2017-11\",\"2017-12\",\"2018-01\",\"2018-02\",\"2018-03\",\"2018-04\",\"2018-05\",\"2018-06\",\"2018-07\",\"2018-08\",\"2018-09\",\"2018-10\",\"2018-11\",\"2018-12\",\"2019-01\",\"2019-02\",\"2019-03\",\"2019-04\",\"2019-05\",\"2019-06\",\"2019-07\",\"2019-08\",\"2019-09\",\"2019-10\",\"2019-11\"],\"xaxis\":\"x\",\"y\":[4100.0,4100.0,4250.0,4339.5,4400.0,4450.0,4550.0,4600.0,4600.0,4550.0,4695.0,4700.0,4705.0,4600.0,4635.0,4700.0,4754.5,4718.0,4947.0,4800.0,4785.0,4698.0,4692.5,4900.0,4900.0,4809.0,4724.0,4709.0,4600.0,4550.0,4500.0,4500.0,4462.5,4355.0,4355.0,4495.0,4495.0,4400.0,4500.0,4500.0,4450.0,4500.0,4500.0,4395.0,4375.0,4450.0,4385.0,4459.0,4495.0,4500.0,4500.0,4500.0,4500.0,4599.5,4650.0,4694.5,4598.0,4500.0,4500.0,4500.0,4500.0,4500.0,4579.5,4656.0,4709.0,4800.0,4750.0,4799.0,4600.0,4535.0],\"yaxis\":\"y\"},{\"hovertemplate\":\"variable=2 Bedrooms<br>Date=%{x}<br>value=%{y}<extra></extra>\",\"legendgroup\":\"2 Bedrooms\",\"line\":{\"color\":\"#00cc96\",\"dash\":\"solid\"},\"mode\":\"lines\",\"name\":\"2 Bedrooms\",\"orientation\":\"v\",\"showlegend\":true,\"type\":\"scatter\",\"x\":[\"2014-02\",\"2014-03\",\"2014-04\",\"2014-05\",\"2014-06\",\"2014-07\",\"2014-08\",\"2014-09\",\"2014-10\",\"2014-11\",\"2014-12\",\"2015-01\",\"2015-02\",\"2015-03\",\"2015-04\",\"2015-05\",\"2015-06\",\"2015-07\",\"2015-08\",\"2015-09\",\"2015-10\",\"2015-11\",\"2015-12\",\"2016-01\",\"2016-02\",\"2016-03\",\"2016-04\",\"2016-05\",\"2016-06\",\"2016-07\",\"2016-08\",\"2016-09\",\"2016-10\",\"2016-11\",\"2016-12\",\"2017-01\",\"2017-02\",\"2017-03\",\"2017-04\",\"2017-05\",\"2017-06\",\"2017-07\",\"2017-08\",\"2017-09\",\"2017-10\",\"2017-11\",\"2017-12\",\"2018-01\",\"2018-02\",\"2018-03\",\"2018-04\",\"2018-05\",\"2018-06\",\"2018-07\",\"2018-08\",\"2018-09\",\"2018-10\",\"2018-11\",\"2018-12\",\"2019-01\",\"2019-02\",\"2019-03\",\"2019-04\",\"2019-05\",\"2019-06\",\"2019-07\",\"2019-08\",\"2019-09\",\"2019-10\",\"2019-11\"],\"xaxis\":\"x\",\"y\":[5195.0,5000.0,5172.5,5500.0,4995.0,4950.0,5800.0,5500.0,5800.0,5500.0,5950.0,5995.0,5999.0,5975.0,5722.5,5650.0,5920.0,6147.5,6500.0,6250.0,5900.0,5800.0,5886.0,5995.0,5935.5,5897.0,5687.5,5975.0,5595.0,5675.0,5700.0,5600.0,5400.0,5547.5,5132.0,5000.0,5450.0,5500.0,5395.0,5495.0,5495.0,5500.0,5495.0,5495.0,5495.0,5495.0,5495.0,5495.0,5395.0,5500.0,5500.0,5499.0,5500.0,5500.0,5500.0,5697.5,5495.0,5397.5,5495.0,5400.0,5350.0,5300.0,5350.0,5400.0,5600.0,5788.5,5800.0,5744.5,5585.0,5495.0],\"yaxis\":\"y\"},{\"hovertemplate\":\"variable=3 Bedrooms<br>Date=%{x}<br>value=%{y}<extra></extra>\",\"legendgroup\":\"3 Bedrooms\",\"line\":{\"color\":\"#ab63fa\",\"dash\":\"solid\"},\"mode\":\"lines\",\"name\":\"3 Bedrooms\",\"orientation\":\"v\",\"showlegend\":true,\"type\":\"scatter\",\"x\":[\"2014-02\",\"2014-03\",\"2014-04\",\"2014-05\",\"2014-06\",\"2014-07\",\"2014-08\",\"2014-09\",\"2014-10\",\"2014-11\",\"2014-12\",\"2015-01\",\"2015-02\",\"2015-03\",\"2015-04\",\"2015-05\",\"2015-06\",\"2015-07\",\"2015-08\",\"2015-09\",\"2015-10\",\"2015-11\",\"2015-12\",\"2016-01\",\"2016-02\",\"2016-03\",\"2016-04\",\"2016-05\",\"2016-06\",\"2016-07\",\"2016-08\",\"2016-09\",\"2016-10\",\"2016-11\",\"2016-12\",\"2017-01\",\"2017-02\",\"2017-03\",\"2017-04\",\"2017-05\",\"2017-06\",\"2017-07\",\"2017-08\",\"2017-09\",\"2017-10\",\"2017-11\",\"2017-12\",\"2018-01\",\"2018-02\",\"2018-03\",\"2018-04\",\"2018-05\",\"2018-06\",\"2018-07\",\"2018-08\",\"2018-09\",\"2018-10\",\"2018-11\",\"2018-12\",\"2019-01\",\"2019-02\",\"2019-03\",\"2019-04\",\"2019-05\",\"2019-06\",\"2019-07\",\"2019-08\",\"2019-09\",\"2019-10\",\"2019-11\"],\"xaxis\":\"x\",\"y\":[null,null,null,null,null,null,null,null,null,null,null,null,null,null,null,null,null,7600.0,7200.0,6995.0,6350.0,6200.0,6500.0,7000.0,6995.0,6499.0,6697.5,6797.5,6972.5,6947.5,6350.0,6700.0,5750.0,6742.5,6200.0,6500.0,6150.0,6200.0,5900.0,6200.0,6500.0,6500.0,6495.0,6397.5,6200.0,5997.5,6472.5,6495.0,6200.0,6200.0,6500.0,6650.0,6800.0,6850.0,6800.0,6795.0,6497.5,6747.5,6495.0,6899.5,7000.0,6595.0,6850.0,6825.0,6872.5,6999.5,6995.0,7195.0,6850.0,6500.0],\"yaxis\":\"y\"}],                        {\"legend\":{\"orientation\":\"h\",\"title\":{\"text\":\"variable\"},\"tracegroupgap\":0},\"showlegend\":true,\"template\":{\"data\":{\"bar\":[{\"error_x\":{\"color\":\"#2a3f5f\"},\"error_y\":{\"color\":\"#2a3f5f\"},\"marker\":{\"line\":{\"color\":\"#E5ECF6\",\"width\":0.5},\"pattern\":{\"fillmode\":\"overlay\",\"size\":10,\"solidity\":0.2}},\"type\":\"bar\"}],\"barpolar\":[{\"marker\":{\"line\":{\"color\":\"#E5ECF6\",\"width\":0.5},\"pattern\":{\"fillmode\":\"overlay\",\"size\":10,\"solidity\":0.2}},\"type\":\"barpolar\"}],\"carpet\":[{\"aaxis\":{\"endlinecolor\":\"#2a3f5f\",\"gridcolor\":\"white\",\"linecolor\":\"white\",\"minorgridcolor\":\"white\",\"startlinecolor\":\"#2a3f5f\"},\"baxis\":{\"endlinecolor\":\"#2a3f5f\",\"gridcolor\":\"white\",\"linecolor\":\"white\",\"minorgridcolor\":\"white\",\"startlinecolor\":\"#2a3f5f\"},\"type\":\"carpet\"}],\"choropleth\":[{\"colorbar\":{\"outlinewidth\":0,\"ticks\":\"\"},\"type\":\"choropleth\"}],\"contour\":[{\"colorbar\":{\"outlinewidth\":0,\"ticks\":\"\"},\"colorscale\":[[0.0,\"#0d0887\"],[0.1111111111111111,\"#46039f\"],[0.2222222222222222,\"#7201a8\"],[0.3333333333333333,\"#9c179e\"],[0.4444444444444444,\"#bd3786\"],[0.5555555555555556,\"#d8576b\"],[0.6666666666666666,\"#ed7953\"],[0.7777777777777778,\"#fb9f3a\"],[0.8888888888888888,\"#fdca26\"],[1.0,\"#f0f921\"]],\"type\":\"contour\"}],\"contourcarpet\":[{\"colorbar\":{\"outlinewidth\":0,\"ticks\":\"\"},\"type\":\"contourcarpet\"}],\"heatmap\":[{\"colorbar\":{\"outlinewidth\":0,\"ticks\":\"\"},\"colorscale\":[[0.0,\"#0d0887\"],[0.1111111111111111,\"#46039f\"],[0.2222222222222222,\"#7201a8\"],[0.3333333333333333,\"#9c179e\"],[0.4444444444444444,\"#bd3786\"],[0.5555555555555556,\"#d8576b\"],[0.6666666666666666,\"#ed7953\"],[0.7777777777777778,\"#fb9f3a\"],[0.8888888888888888,\"#fdca26\"],[1.0,\"#f0f921\"]],\"type\":\"heatmap\"}],\"heatmapgl\":[{\"colorbar\":{\"outlinewidth\":0,\"ticks\":\"\"},\"colorscale\":[[0.0,\"#0d0887\"],[0.1111111111111111,\"#46039f\"],[0.2222222222222222,\"#7201a8\"],[0.3333333333333333,\"#9c179e\"],[0.4444444444444444,\"#bd3786\"],[0.5555555555555556,\"#d8576b\"],[0.6666666666666666,\"#ed7953\"],[0.7777777777777778,\"#fb9f3a\"],[0.8888888888888888,\"#fdca26\"],[1.0,\"#f0f921\"]],\"type\":\"heatmapgl\"}],\"histogram\":[{\"marker\":{\"pattern\":{\"fillmode\":\"overlay\",\"size\":10,\"solidity\":0.2}},\"type\":\"histogram\"}],\"histogram2d\":[{\"colorbar\":{\"outlinewidth\":0,\"ticks\":\"\"},\"colorscale\":[[0.0,\"#0d0887\"],[0.1111111111111111,\"#46039f\"],[0.2222222222222222,\"#7201a8\"],[0.3333333333333333,\"#9c179e\"],[0.4444444444444444,\"#bd3786\"],[0.5555555555555556,\"#d8576b\"],[0.6666666666666666,\"#ed7953\"],[0.7777777777777778,\"#fb9f3a\"],[0.8888888888888888,\"#fdca26\"],[1.0,\"#f0f921\"]],\"type\":\"histogram2d\"}],\"histogram2dcontour\":[{\"colorbar\":{\"outlinewidth\":0,\"ticks\":\"\"},\"colorscale\":[[0.0,\"#0d0887\"],[0.1111111111111111,\"#46039f\"],[0.2222222222222222,\"#7201a8\"],[0.3333333333333333,\"#9c179e\"],[0.4444444444444444,\"#bd3786\"],[0.5555555555555556,\"#d8576b\"],[0.6666666666666666,\"#ed7953\"],[0.7777777777777778,\"#fb9f3a\"],[0.8888888888888888,\"#fdca26\"],[1.0,\"#f0f921\"]],\"type\":\"histogram2dcontour\"}],\"mesh3d\":[{\"colorbar\":{\"outlinewidth\":0,\"ticks\":\"\"},\"type\":\"mesh3d\"}],\"parcoords\":[{\"line\":{\"colorbar\":{\"outlinewidth\":0,\"ticks\":\"\"}},\"type\":\"parcoords\"}],\"pie\":[{\"automargin\":true,\"type\":\"pie\"}],\"scatter\":[{\"marker\":{\"colorbar\":{\"outlinewidth\":0,\"ticks\":\"\"}},\"type\":\"scatter\"}],\"scatter3d\":[{\"line\":{\"colorbar\":{\"outlinewidth\":0,\"ticks\":\"\"}},\"marker\":{\"colorbar\":{\"outlinewidth\":0,\"ticks\":\"\"}},\"type\":\"scatter3d\"}],\"scattercarpet\":[{\"marker\":{\"colorbar\":{\"outlinewidth\":0,\"ticks\":\"\"}},\"type\":\"scattercarpet\"}],\"scattergeo\":[{\"marker\":{\"colorbar\":{\"outlinewidth\":0,\"ticks\":\"\"}},\"type\":\"scattergeo\"}],\"scattergl\":[{\"marker\":{\"colorbar\":{\"outlinewidth\":0,\"ticks\":\"\"}},\"type\":\"scattergl\"}],\"scattermapbox\":[{\"marker\":{\"colorbar\":{\"outlinewidth\":0,\"ticks\":\"\"}},\"type\":\"scattermapbox\"}],\"scatterpolar\":[{\"marker\":{\"colorbar\":{\"outlinewidth\":0,\"ticks\":\"\"}},\"type\":\"scatterpolar\"}],\"scatterpolargl\":[{\"marker\":{\"colorbar\":{\"outlinewidth\":0,\"ticks\":\"\"}},\"type\":\"scatterpolargl\"}],\"scatterternary\":[{\"marker\":{\"colorbar\":{\"outlinewidth\":0,\"ticks\":\"\"}},\"type\":\"scatterternary\"}],\"surface\":[{\"colorbar\":{\"outlinewidth\":0,\"ticks\":\"\"},\"colorscale\":[[0.0,\"#0d0887\"],[0.1111111111111111,\"#46039f\"],[0.2222222222222222,\"#7201a8\"],[0.3333333333333333,\"#9c179e\"],[0.4444444444444444,\"#bd3786\"],[0.5555555555555556,\"#d8576b\"],[0.6666666666666666,\"#ed7953\"],[0.7777777777777778,\"#fb9f3a\"],[0.8888888888888888,\"#fdca26\"],[1.0,\"#f0f921\"]],\"type\":\"surface\"}],\"table\":[{\"cells\":{\"fill\":{\"color\":\"#EBF0F8\"},\"line\":{\"color\":\"white\"}},\"header\":{\"fill\":{\"color\":\"#C8D4E3\"},\"line\":{\"color\":\"white\"}},\"type\":\"table\"}]},\"layout\":{\"annotationdefaults\":{\"arrowcolor\":\"#2a3f5f\",\"arrowhead\":0,\"arrowwidth\":1},\"autotypenumbers\":\"strict\",\"coloraxis\":{\"colorbar\":{\"outlinewidth\":0,\"ticks\":\"\"}},\"colorscale\":{\"diverging\":[[0,\"#8e0152\"],[0.1,\"#c51b7d\"],[0.2,\"#de77ae\"],[0.3,\"#f1b6da\"],[0.4,\"#fde0ef\"],[0.5,\"#f7f7f7\"],[0.6,\"#e6f5d0\"],[0.7,\"#b8e186\"],[0.8,\"#7fbc41\"],[0.9,\"#4d9221\"],[1,\"#276419\"]],\"sequential\":[[0.0,\"#0d0887\"],[0.1111111111111111,\"#46039f\"],[0.2222222222222222,\"#7201a8\"],[0.3333333333333333,\"#9c179e\"],[0.4444444444444444,\"#bd3786\"],[0.5555555555555556,\"#d8576b\"],[0.6666666666666666,\"#ed7953\"],[0.7777777777777778,\"#fb9f3a\"],[0.8888888888888888,\"#fdca26\"],[1.0,\"#f0f921\"]],\"sequentialminus\":[[0.0,\"#0d0887\"],[0.1111111111111111,\"#46039f\"],[0.2222222222222222,\"#7201a8\"],[0.3333333333333333,\"#9c179e\"],[0.4444444444444444,\"#bd3786\"],[0.5555555555555556,\"#d8576b\"],[0.6666666666666666,\"#ed7953\"],[0.7777777777777778,\"#fb9f3a\"],[0.8888888888888888,\"#fdca26\"],[1.0,\"#f0f921\"]]},\"colorway\":[\"#636efa\",\"#EF553B\",\"#00cc96\",\"#ab63fa\",\"#FFA15A\",\"#19d3f3\",\"#FF6692\",\"#B6E880\",\"#FF97FF\",\"#FECB52\"],\"font\":{\"color\":\"#2a3f5f\"},\"geo\":{\"bgcolor\":\"white\",\"lakecolor\":\"white\",\"landcolor\":\"#E5ECF6\",\"showlakes\":true,\"showland\":true,\"subunitcolor\":\"white\"},\"hoverlabel\":{\"align\":\"left\"},\"hovermode\":\"closest\",\"mapbox\":{\"style\":\"light\"},\"paper_bgcolor\":\"white\",\"plot_bgcolor\":\"#E5ECF6\",\"polar\":{\"angularaxis\":{\"gridcolor\":\"white\",\"linecolor\":\"white\",\"ticks\":\"\"},\"bgcolor\":\"#E5ECF6\",\"radialaxis\":{\"gridcolor\":\"white\",\"linecolor\":\"white\",\"ticks\":\"\"}},\"scene\":{\"xaxis\":{\"backgroundcolor\":\"#E5ECF6\",\"gridcolor\":\"white\",\"gridwidth\":2,\"linecolor\":\"white\",\"showbackground\":true,\"ticks\":\"\",\"zerolinecolor\":\"white\"},\"yaxis\":{\"backgroundcolor\":\"#E5ECF6\",\"gridcolor\":\"white\",\"gridwidth\":2,\"linecolor\":\"white\",\"showbackground\":true,\"ticks\":\"\",\"zerolinecolor\":\"white\"},\"zaxis\":{\"backgroundcolor\":\"#E5ECF6\",\"gridcolor\":\"white\",\"gridwidth\":2,\"linecolor\":\"white\",\"showbackground\":true,\"ticks\":\"\",\"zerolinecolor\":\"white\"}},\"shapedefaults\":{\"line\":{\"color\":\"#2a3f5f\"}},\"ternary\":{\"aaxis\":{\"gridcolor\":\"white\",\"linecolor\":\"white\",\"ticks\":\"\"},\"baxis\":{\"gridcolor\":\"white\",\"linecolor\":\"white\",\"ticks\":\"\"},\"bgcolor\":\"#E5ECF6\",\"caxis\":{\"gridcolor\":\"white\",\"linecolor\":\"white\",\"ticks\":\"\"}},\"title\":{\"x\":0.05},\"xaxis\":{\"automargin\":true,\"gridcolor\":\"white\",\"linecolor\":\"white\",\"ticks\":\"\",\"title\":{\"standoff\":15},\"zerolinecolor\":\"white\",\"zerolinewidth\":2},\"yaxis\":{\"automargin\":true,\"gridcolor\":\"white\",\"linecolor\":\"white\",\"ticks\":\"\",\"title\":{\"standoff\":15},\"zerolinecolor\":\"white\",\"zerolinewidth\":2}}},\"title\":{\"text\":\"Median Rental Prices in San Francisco, CA\"},\"xaxis\":{\"anchor\":\"y\",\"domain\":[0.0,1.0],\"range\":[\"2014-02-01\",\"2019-12-31\"],\"title\":{\"text\":\"Date\"}},\"yaxis\":{\"anchor\":\"x\",\"domain\":[0.0,1.0],\"title\":{\"text\":\"Median Rent ($USD)\"}}},                        {\"responsive\": true}                    ).then(function(){\n",
       "                            \n",
       "var gd = document.getElementById('296a2bd4-dc3f-4e58-9ff9-9d39cc92d817');\n",
       "var x = new MutationObserver(function (mutations, observer) {{\n",
       "        var display = window.getComputedStyle(gd).display;\n",
       "        if (!display || display === 'none') {{\n",
       "            console.log([gd, 'removed!']);\n",
       "            Plotly.purge(gd);\n",
       "            observer.disconnect();\n",
       "        }}\n",
       "}});\n",
       "\n",
       "// Listen for the removal of the full notebook cells\n",
       "var notebookContainer = gd.closest('#notebook-container');\n",
       "if (notebookContainer) {{\n",
       "    x.observe(notebookContainer, {childList: true});\n",
       "}}\n",
       "\n",
       "// Listen for the clearing of the current output cell\n",
       "var outputEl = gd.closest('.output');\n",
       "if (outputEl) {{\n",
       "    x.observe(outputEl, {childList: true});\n",
       "}}\n",
       "\n",
       "                        })                };                });            </script>        </div>"
      ]
     },
     "metadata": {},
     "output_type": "display_data"
    }
   ],
   "source": [
    "plot_four_columns_using_plotly_express(sanfrancisco_df,'Studio','1 Bedroom','2 Bedrooms','3 Bedrooms',\n",
    "                                       'Median Rental Prices in San Francisco, CA','2014-02-01','2019-12-31')"
   ]
  },
  {
   "cell_type": "code",
   "execution_count": null,
   "id": "6b7b429e",
   "metadata": {},
   "outputs": [],
   "source": []
  },
  {
   "cell_type": "markdown",
   "id": "71674ced",
   "metadata": {},
   "source": [
    "# Potential Research Questions\n",
    "1. Is there a relationship between median rental price and federal interest rate?\n",
    "2. In general, are inflation rate and median house prices in the United States correlated?\n",
    "3. Could we predict median rental price in San Francisco in 2025 using a machine learning model?"
   ]
  },
  {
   "cell_type": "markdown",
   "id": "203afd3f",
   "metadata": {
    "hideCode": false,
    "hidePrompt": false
   },
   "source": [
    "### Relationship Between Price and Interest Rate"
   ]
  },
  {
   "cell_type": "code",
   "execution_count": 315,
   "id": "7c9bf036",
   "metadata": {},
   "outputs": [],
   "source": [
    "interest_rate = pd.read_csv('dataset/interest_rate.csv')\n",
    "interest_rate.columns = interest_rate.columns.str.replace(' ', '_')"
   ]
  },
  {
   "cell_type": "code",
   "execution_count": 316,
   "id": "004f3455",
   "metadata": {},
   "outputs": [
    {
     "data": {
      "text/html": [
       "<div>\n",
       "<style scoped>\n",
       "    .dataframe tbody tr th:only-of-type {\n",
       "        vertical-align: middle;\n",
       "    }\n",
       "\n",
       "    .dataframe tbody tr th {\n",
       "        vertical-align: top;\n",
       "    }\n",
       "\n",
       "    .dataframe thead th {\n",
       "        text-align: right;\n",
       "    }\n",
       "</style>\n",
       "<table border=\"1\" class=\"dataframe\">\n",
       "  <thead>\n",
       "    <tr style=\"text-align: right;\">\n",
       "      <th></th>\n",
       "      <th>Year</th>\n",
       "      <th>Month</th>\n",
       "      <th>Day</th>\n",
       "      <th>Federal_Funds_Target_Rate</th>\n",
       "      <th>Federal_Funds_Upper_Target</th>\n",
       "      <th>Federal_Funds_Lower_Target</th>\n",
       "      <th>Effective_Federal_Funds_Rate</th>\n",
       "      <th>Real_GDP_(Percent_Change)</th>\n",
       "      <th>Unemployment_Rate</th>\n",
       "      <th>Inflation_Rate</th>\n",
       "    </tr>\n",
       "  </thead>\n",
       "  <tbody>\n",
       "    <tr>\n",
       "      <th>0</th>\n",
       "      <td>1954</td>\n",
       "      <td>7</td>\n",
       "      <td>1</td>\n",
       "      <td>NaN</td>\n",
       "      <td>NaN</td>\n",
       "      <td>NaN</td>\n",
       "      <td>0.80</td>\n",
       "      <td>4.6</td>\n",
       "      <td>5.8</td>\n",
       "      <td>NaN</td>\n",
       "    </tr>\n",
       "    <tr>\n",
       "      <th>1</th>\n",
       "      <td>1954</td>\n",
       "      <td>8</td>\n",
       "      <td>1</td>\n",
       "      <td>NaN</td>\n",
       "      <td>NaN</td>\n",
       "      <td>NaN</td>\n",
       "      <td>1.22</td>\n",
       "      <td>NaN</td>\n",
       "      <td>6.0</td>\n",
       "      <td>NaN</td>\n",
       "    </tr>\n",
       "    <tr>\n",
       "      <th>2</th>\n",
       "      <td>1954</td>\n",
       "      <td>9</td>\n",
       "      <td>1</td>\n",
       "      <td>NaN</td>\n",
       "      <td>NaN</td>\n",
       "      <td>NaN</td>\n",
       "      <td>1.06</td>\n",
       "      <td>NaN</td>\n",
       "      <td>6.1</td>\n",
       "      <td>NaN</td>\n",
       "    </tr>\n",
       "    <tr>\n",
       "      <th>3</th>\n",
       "      <td>1954</td>\n",
       "      <td>10</td>\n",
       "      <td>1</td>\n",
       "      <td>NaN</td>\n",
       "      <td>NaN</td>\n",
       "      <td>NaN</td>\n",
       "      <td>0.85</td>\n",
       "      <td>8.0</td>\n",
       "      <td>5.7</td>\n",
       "      <td>NaN</td>\n",
       "    </tr>\n",
       "    <tr>\n",
       "      <th>4</th>\n",
       "      <td>1954</td>\n",
       "      <td>11</td>\n",
       "      <td>1</td>\n",
       "      <td>NaN</td>\n",
       "      <td>NaN</td>\n",
       "      <td>NaN</td>\n",
       "      <td>0.83</td>\n",
       "      <td>NaN</td>\n",
       "      <td>5.3</td>\n",
       "      <td>NaN</td>\n",
       "    </tr>\n",
       "    <tr>\n",
       "      <th>...</th>\n",
       "      <td>...</td>\n",
       "      <td>...</td>\n",
       "      <td>...</td>\n",
       "      <td>...</td>\n",
       "      <td>...</td>\n",
       "      <td>...</td>\n",
       "      <td>...</td>\n",
       "      <td>...</td>\n",
       "      <td>...</td>\n",
       "      <td>...</td>\n",
       "    </tr>\n",
       "    <tr>\n",
       "      <th>899</th>\n",
       "      <td>2016</td>\n",
       "      <td>12</td>\n",
       "      <td>14</td>\n",
       "      <td>NaN</td>\n",
       "      <td>0.75</td>\n",
       "      <td>0.50</td>\n",
       "      <td>NaN</td>\n",
       "      <td>NaN</td>\n",
       "      <td>NaN</td>\n",
       "      <td>NaN</td>\n",
       "    </tr>\n",
       "    <tr>\n",
       "      <th>900</th>\n",
       "      <td>2017</td>\n",
       "      <td>1</td>\n",
       "      <td>1</td>\n",
       "      <td>NaN</td>\n",
       "      <td>0.75</td>\n",
       "      <td>0.50</td>\n",
       "      <td>0.65</td>\n",
       "      <td>NaN</td>\n",
       "      <td>4.8</td>\n",
       "      <td>2.3</td>\n",
       "    </tr>\n",
       "    <tr>\n",
       "      <th>901</th>\n",
       "      <td>2017</td>\n",
       "      <td>2</td>\n",
       "      <td>1</td>\n",
       "      <td>NaN</td>\n",
       "      <td>0.75</td>\n",
       "      <td>0.50</td>\n",
       "      <td>0.66</td>\n",
       "      <td>NaN</td>\n",
       "      <td>4.7</td>\n",
       "      <td>2.2</td>\n",
       "    </tr>\n",
       "    <tr>\n",
       "      <th>902</th>\n",
       "      <td>2017</td>\n",
       "      <td>3</td>\n",
       "      <td>1</td>\n",
       "      <td>NaN</td>\n",
       "      <td>0.75</td>\n",
       "      <td>0.50</td>\n",
       "      <td>NaN</td>\n",
       "      <td>NaN</td>\n",
       "      <td>NaN</td>\n",
       "      <td>NaN</td>\n",
       "    </tr>\n",
       "    <tr>\n",
       "      <th>903</th>\n",
       "      <td>2017</td>\n",
       "      <td>3</td>\n",
       "      <td>16</td>\n",
       "      <td>NaN</td>\n",
       "      <td>1.00</td>\n",
       "      <td>0.75</td>\n",
       "      <td>NaN</td>\n",
       "      <td>NaN</td>\n",
       "      <td>NaN</td>\n",
       "      <td>NaN</td>\n",
       "    </tr>\n",
       "  </tbody>\n",
       "</table>\n",
       "<p>904 rows × 10 columns</p>\n",
       "</div>"
      ],
      "text/plain": [
       "     Year  Month  Day  Federal_Funds_Target_Rate  Federal_Funds_Upper_Target  \\\n",
       "0    1954      7    1                        NaN                         NaN   \n",
       "1    1954      8    1                        NaN                         NaN   \n",
       "2    1954      9    1                        NaN                         NaN   \n",
       "3    1954     10    1                        NaN                         NaN   \n",
       "4    1954     11    1                        NaN                         NaN   \n",
       "..    ...    ...  ...                        ...                         ...   \n",
       "899  2016     12   14                        NaN                        0.75   \n",
       "900  2017      1    1                        NaN                        0.75   \n",
       "901  2017      2    1                        NaN                        0.75   \n",
       "902  2017      3    1                        NaN                        0.75   \n",
       "903  2017      3   16                        NaN                        1.00   \n",
       "\n",
       "     Federal_Funds_Lower_Target  Effective_Federal_Funds_Rate  \\\n",
       "0                           NaN                          0.80   \n",
       "1                           NaN                          1.22   \n",
       "2                           NaN                          1.06   \n",
       "3                           NaN                          0.85   \n",
       "4                           NaN                          0.83   \n",
       "..                          ...                           ...   \n",
       "899                        0.50                           NaN   \n",
       "900                        0.50                          0.65   \n",
       "901                        0.50                          0.66   \n",
       "902                        0.50                           NaN   \n",
       "903                        0.75                           NaN   \n",
       "\n",
       "     Real_GDP_(Percent_Change)  Unemployment_Rate  Inflation_Rate  \n",
       "0                          4.6                5.8             NaN  \n",
       "1                          NaN                6.0             NaN  \n",
       "2                          NaN                6.1             NaN  \n",
       "3                          8.0                5.7             NaN  \n",
       "4                          NaN                5.3             NaN  \n",
       "..                         ...                ...             ...  \n",
       "899                        NaN                NaN             NaN  \n",
       "900                        NaN                4.8             2.3  \n",
       "901                        NaN                4.7             2.2  \n",
       "902                        NaN                NaN             NaN  \n",
       "903                        NaN                NaN             NaN  \n",
       "\n",
       "[904 rows x 10 columns]"
      ]
     },
     "execution_count": 316,
     "metadata": {},
     "output_type": "execute_result"
    }
   ],
   "source": [
    "interest_rate"
   ]
  },
  {
   "cell_type": "code",
   "execution_count": 317,
   "id": "77924bfa",
   "metadata": {},
   "outputs": [],
   "source": [
    "interest_rate = interest_rate.loc[(interest_rate['Year'] >= 2014) & (interest_rate['Year'] <= 2019)]"
   ]
  },
  {
   "cell_type": "code",
   "execution_count": 318,
   "id": "4209753c",
   "metadata": {},
   "outputs": [],
   "source": [
    "interest_rate = interest_rate.drop(\"Federal_Funds_Target_Rate\", axis=1)"
   ]
  },
  {
   "cell_type": "code",
   "execution_count": 319,
   "id": "4de3180a",
   "metadata": {},
   "outputs": [],
   "source": [
    "interest_rate = interest_rate.dropna(subset=[\"Inflation_Rate\"])"
   ]
  },
  {
   "cell_type": "code",
   "execution_count": 320,
   "id": "c7e06026",
   "metadata": {},
   "outputs": [
    {
     "data": {
      "text/html": [
       "<div>\n",
       "<style scoped>\n",
       "    .dataframe tbody tr th:only-of-type {\n",
       "        vertical-align: middle;\n",
       "    }\n",
       "\n",
       "    .dataframe tbody tr th {\n",
       "        vertical-align: top;\n",
       "    }\n",
       "\n",
       "    .dataframe thead th {\n",
       "        text-align: right;\n",
       "    }\n",
       "</style>\n",
       "<table border=\"1\" class=\"dataframe\">\n",
       "  <thead>\n",
       "    <tr style=\"text-align: right;\">\n",
       "      <th></th>\n",
       "      <th>Year (int64)</th>\n",
       "      <th>Month (int64)</th>\n",
       "      <th>Day (int64)</th>\n",
       "      <th>Federal_Funds_Upper_Target (float64)</th>\n",
       "      <th>Federal_Funds_Lower_Target (float64)</th>\n",
       "      <th>Effective_Federal_Funds_Rate (float64)</th>\n",
       "      <th>Real_GDP_(Percent_Change) (float64)</th>\n",
       "      <th>Unemployment_Rate (float64)</th>\n",
       "      <th>Inflation_Rate (float64)</th>\n",
       "    </tr>\n",
       "  </thead>\n",
       "  <tbody>\n",
       "    <tr>\n",
       "      <th>862</th>\n",
       "      <td>2014</td>\n",
       "      <td>1</td>\n",
       "      <td>1</td>\n",
       "      <td>0.25</td>\n",
       "      <td>0.00</td>\n",
       "      <td>0.07</td>\n",
       "      <td>-1.2</td>\n",
       "      <td>6.6</td>\n",
       "      <td>1.6</td>\n",
       "    </tr>\n",
       "    <tr>\n",
       "      <th>863</th>\n",
       "      <td>2014</td>\n",
       "      <td>2</td>\n",
       "      <td>1</td>\n",
       "      <td>0.25</td>\n",
       "      <td>0.00</td>\n",
       "      <td>0.07</td>\n",
       "      <td>NaN</td>\n",
       "      <td>6.7</td>\n",
       "      <td>1.6</td>\n",
       "    </tr>\n",
       "    <tr>\n",
       "      <th>864</th>\n",
       "      <td>2014</td>\n",
       "      <td>3</td>\n",
       "      <td>1</td>\n",
       "      <td>0.25</td>\n",
       "      <td>0.00</td>\n",
       "      <td>0.08</td>\n",
       "      <td>NaN</td>\n",
       "      <td>6.7</td>\n",
       "      <td>1.7</td>\n",
       "    </tr>\n",
       "    <tr>\n",
       "      <th>865</th>\n",
       "      <td>2014</td>\n",
       "      <td>4</td>\n",
       "      <td>1</td>\n",
       "      <td>0.25</td>\n",
       "      <td>0.00</td>\n",
       "      <td>0.09</td>\n",
       "      <td>4.0</td>\n",
       "      <td>6.2</td>\n",
       "      <td>1.8</td>\n",
       "    </tr>\n",
       "    <tr>\n",
       "      <th>866</th>\n",
       "      <td>2014</td>\n",
       "      <td>5</td>\n",
       "      <td>1</td>\n",
       "      <td>0.25</td>\n",
       "      <td>0.00</td>\n",
       "      <td>0.09</td>\n",
       "      <td>NaN</td>\n",
       "      <td>6.3</td>\n",
       "      <td>2.0</td>\n",
       "    </tr>\n",
       "    <tr>\n",
       "      <th>867</th>\n",
       "      <td>2014</td>\n",
       "      <td>6</td>\n",
       "      <td>1</td>\n",
       "      <td>0.25</td>\n",
       "      <td>0.00</td>\n",
       "      <td>0.10</td>\n",
       "      <td>NaN</td>\n",
       "      <td>6.1</td>\n",
       "      <td>1.9</td>\n",
       "    </tr>\n",
       "    <tr>\n",
       "      <th>868</th>\n",
       "      <td>2014</td>\n",
       "      <td>7</td>\n",
       "      <td>1</td>\n",
       "      <td>0.25</td>\n",
       "      <td>0.00</td>\n",
       "      <td>0.09</td>\n",
       "      <td>5.0</td>\n",
       "      <td>6.2</td>\n",
       "      <td>1.9</td>\n",
       "    </tr>\n",
       "    <tr>\n",
       "      <th>869</th>\n",
       "      <td>2014</td>\n",
       "      <td>8</td>\n",
       "      <td>1</td>\n",
       "      <td>0.25</td>\n",
       "      <td>0.00</td>\n",
       "      <td>0.09</td>\n",
       "      <td>NaN</td>\n",
       "      <td>6.2</td>\n",
       "      <td>1.7</td>\n",
       "    </tr>\n",
       "    <tr>\n",
       "      <th>870</th>\n",
       "      <td>2014</td>\n",
       "      <td>9</td>\n",
       "      <td>1</td>\n",
       "      <td>0.25</td>\n",
       "      <td>0.00</td>\n",
       "      <td>0.09</td>\n",
       "      <td>NaN</td>\n",
       "      <td>5.9</td>\n",
       "      <td>1.7</td>\n",
       "    </tr>\n",
       "    <tr>\n",
       "      <th>871</th>\n",
       "      <td>2014</td>\n",
       "      <td>10</td>\n",
       "      <td>1</td>\n",
       "      <td>0.25</td>\n",
       "      <td>0.00</td>\n",
       "      <td>0.09</td>\n",
       "      <td>2.3</td>\n",
       "      <td>5.7</td>\n",
       "      <td>1.8</td>\n",
       "    </tr>\n",
       "    <tr>\n",
       "      <th>872</th>\n",
       "      <td>2014</td>\n",
       "      <td>11</td>\n",
       "      <td>1</td>\n",
       "      <td>0.25</td>\n",
       "      <td>0.00</td>\n",
       "      <td>0.09</td>\n",
       "      <td>NaN</td>\n",
       "      <td>5.8</td>\n",
       "      <td>1.7</td>\n",
       "    </tr>\n",
       "    <tr>\n",
       "      <th>873</th>\n",
       "      <td>2014</td>\n",
       "      <td>12</td>\n",
       "      <td>1</td>\n",
       "      <td>0.25</td>\n",
       "      <td>0.00</td>\n",
       "      <td>0.12</td>\n",
       "      <td>NaN</td>\n",
       "      <td>5.6</td>\n",
       "      <td>1.6</td>\n",
       "    </tr>\n",
       "    <tr>\n",
       "      <th>874</th>\n",
       "      <td>2015</td>\n",
       "      <td>1</td>\n",
       "      <td>1</td>\n",
       "      <td>0.25</td>\n",
       "      <td>0.00</td>\n",
       "      <td>0.11</td>\n",
       "      <td>2.0</td>\n",
       "      <td>5.7</td>\n",
       "      <td>1.6</td>\n",
       "    </tr>\n",
       "    <tr>\n",
       "      <th>875</th>\n",
       "      <td>2015</td>\n",
       "      <td>2</td>\n",
       "      <td>1</td>\n",
       "      <td>0.25</td>\n",
       "      <td>0.00</td>\n",
       "      <td>0.11</td>\n",
       "      <td>NaN</td>\n",
       "      <td>5.5</td>\n",
       "      <td>1.7</td>\n",
       "    </tr>\n",
       "    <tr>\n",
       "      <th>876</th>\n",
       "      <td>2015</td>\n",
       "      <td>3</td>\n",
       "      <td>1</td>\n",
       "      <td>0.25</td>\n",
       "      <td>0.00</td>\n",
       "      <td>0.11</td>\n",
       "      <td>NaN</td>\n",
       "      <td>5.4</td>\n",
       "      <td>1.8</td>\n",
       "    </tr>\n",
       "    <tr>\n",
       "      <th>877</th>\n",
       "      <td>2015</td>\n",
       "      <td>4</td>\n",
       "      <td>1</td>\n",
       "      <td>0.25</td>\n",
       "      <td>0.00</td>\n",
       "      <td>0.12</td>\n",
       "      <td>2.6</td>\n",
       "      <td>5.4</td>\n",
       "      <td>1.8</td>\n",
       "    </tr>\n",
       "    <tr>\n",
       "      <th>878</th>\n",
       "      <td>2015</td>\n",
       "      <td>5</td>\n",
       "      <td>1</td>\n",
       "      <td>0.25</td>\n",
       "      <td>0.00</td>\n",
       "      <td>0.12</td>\n",
       "      <td>NaN</td>\n",
       "      <td>5.5</td>\n",
       "      <td>1.7</td>\n",
       "    </tr>\n",
       "    <tr>\n",
       "      <th>879</th>\n",
       "      <td>2015</td>\n",
       "      <td>6</td>\n",
       "      <td>1</td>\n",
       "      <td>0.25</td>\n",
       "      <td>0.00</td>\n",
       "      <td>0.13</td>\n",
       "      <td>NaN</td>\n",
       "      <td>5.3</td>\n",
       "      <td>1.8</td>\n",
       "    </tr>\n",
       "    <tr>\n",
       "      <th>880</th>\n",
       "      <td>2015</td>\n",
       "      <td>7</td>\n",
       "      <td>1</td>\n",
       "      <td>0.25</td>\n",
       "      <td>0.00</td>\n",
       "      <td>0.13</td>\n",
       "      <td>2.0</td>\n",
       "      <td>5.2</td>\n",
       "      <td>1.8</td>\n",
       "    </tr>\n",
       "    <tr>\n",
       "      <th>881</th>\n",
       "      <td>2015</td>\n",
       "      <td>8</td>\n",
       "      <td>1</td>\n",
       "      <td>0.25</td>\n",
       "      <td>0.00</td>\n",
       "      <td>0.14</td>\n",
       "      <td>NaN</td>\n",
       "      <td>5.1</td>\n",
       "      <td>1.8</td>\n",
       "    </tr>\n",
       "    <tr>\n",
       "      <th>882</th>\n",
       "      <td>2015</td>\n",
       "      <td>9</td>\n",
       "      <td>1</td>\n",
       "      <td>0.25</td>\n",
       "      <td>0.00</td>\n",
       "      <td>0.14</td>\n",
       "      <td>NaN</td>\n",
       "      <td>5.0</td>\n",
       "      <td>1.9</td>\n",
       "    </tr>\n",
       "    <tr>\n",
       "      <th>883</th>\n",
       "      <td>2015</td>\n",
       "      <td>10</td>\n",
       "      <td>1</td>\n",
       "      <td>0.25</td>\n",
       "      <td>0.00</td>\n",
       "      <td>0.12</td>\n",
       "      <td>0.9</td>\n",
       "      <td>5.0</td>\n",
       "      <td>1.9</td>\n",
       "    </tr>\n",
       "    <tr>\n",
       "      <th>884</th>\n",
       "      <td>2015</td>\n",
       "      <td>11</td>\n",
       "      <td>1</td>\n",
       "      <td>0.25</td>\n",
       "      <td>0.00</td>\n",
       "      <td>0.12</td>\n",
       "      <td>NaN</td>\n",
       "      <td>5.0</td>\n",
       "      <td>2.0</td>\n",
       "    </tr>\n",
       "    <tr>\n",
       "      <th>885</th>\n",
       "      <td>2015</td>\n",
       "      <td>12</td>\n",
       "      <td>1</td>\n",
       "      <td>0.25</td>\n",
       "      <td>0.00</td>\n",
       "      <td>0.24</td>\n",
       "      <td>NaN</td>\n",
       "      <td>5.0</td>\n",
       "      <td>2.1</td>\n",
       "    </tr>\n",
       "    <tr>\n",
       "      <th>887</th>\n",
       "      <td>2016</td>\n",
       "      <td>1</td>\n",
       "      <td>1</td>\n",
       "      <td>0.50</td>\n",
       "      <td>0.25</td>\n",
       "      <td>0.34</td>\n",
       "      <td>0.8</td>\n",
       "      <td>4.9</td>\n",
       "      <td>2.2</td>\n",
       "    </tr>\n",
       "    <tr>\n",
       "      <th>888</th>\n",
       "      <td>2016</td>\n",
       "      <td>2</td>\n",
       "      <td>1</td>\n",
       "      <td>0.50</td>\n",
       "      <td>0.25</td>\n",
       "      <td>0.38</td>\n",
       "      <td>NaN</td>\n",
       "      <td>4.9</td>\n",
       "      <td>2.3</td>\n",
       "    </tr>\n",
       "    <tr>\n",
       "      <th>889</th>\n",
       "      <td>2016</td>\n",
       "      <td>3</td>\n",
       "      <td>1</td>\n",
       "      <td>0.50</td>\n",
       "      <td>0.25</td>\n",
       "      <td>0.36</td>\n",
       "      <td>NaN</td>\n",
       "      <td>5.0</td>\n",
       "      <td>2.2</td>\n",
       "    </tr>\n",
       "    <tr>\n",
       "      <th>890</th>\n",
       "      <td>2016</td>\n",
       "      <td>4</td>\n",
       "      <td>1</td>\n",
       "      <td>0.50</td>\n",
       "      <td>0.25</td>\n",
       "      <td>0.37</td>\n",
       "      <td>1.4</td>\n",
       "      <td>5.0</td>\n",
       "      <td>2.1</td>\n",
       "    </tr>\n",
       "    <tr>\n",
       "      <th>891</th>\n",
       "      <td>2016</td>\n",
       "      <td>5</td>\n",
       "      <td>1</td>\n",
       "      <td>0.50</td>\n",
       "      <td>0.25</td>\n",
       "      <td>0.37</td>\n",
       "      <td>NaN</td>\n",
       "      <td>4.7</td>\n",
       "      <td>2.2</td>\n",
       "    </tr>\n",
       "    <tr>\n",
       "      <th>892</th>\n",
       "      <td>2016</td>\n",
       "      <td>6</td>\n",
       "      <td>1</td>\n",
       "      <td>0.50</td>\n",
       "      <td>0.25</td>\n",
       "      <td>0.38</td>\n",
       "      <td>NaN</td>\n",
       "      <td>4.9</td>\n",
       "      <td>2.2</td>\n",
       "    </tr>\n",
       "    <tr>\n",
       "      <th>893</th>\n",
       "      <td>2016</td>\n",
       "      <td>7</td>\n",
       "      <td>1</td>\n",
       "      <td>0.50</td>\n",
       "      <td>0.25</td>\n",
       "      <td>0.39</td>\n",
       "      <td>3.5</td>\n",
       "      <td>4.9</td>\n",
       "      <td>2.2</td>\n",
       "    </tr>\n",
       "    <tr>\n",
       "      <th>894</th>\n",
       "      <td>2016</td>\n",
       "      <td>8</td>\n",
       "      <td>1</td>\n",
       "      <td>0.50</td>\n",
       "      <td>0.25</td>\n",
       "      <td>0.40</td>\n",
       "      <td>NaN</td>\n",
       "      <td>4.9</td>\n",
       "      <td>2.3</td>\n",
       "    </tr>\n",
       "    <tr>\n",
       "      <th>895</th>\n",
       "      <td>2016</td>\n",
       "      <td>9</td>\n",
       "      <td>1</td>\n",
       "      <td>0.50</td>\n",
       "      <td>0.25</td>\n",
       "      <td>0.40</td>\n",
       "      <td>NaN</td>\n",
       "      <td>4.9</td>\n",
       "      <td>2.2</td>\n",
       "    </tr>\n",
       "    <tr>\n",
       "      <th>896</th>\n",
       "      <td>2016</td>\n",
       "      <td>10</td>\n",
       "      <td>1</td>\n",
       "      <td>0.50</td>\n",
       "      <td>0.25</td>\n",
       "      <td>0.40</td>\n",
       "      <td>1.9</td>\n",
       "      <td>4.8</td>\n",
       "      <td>2.1</td>\n",
       "    </tr>\n",
       "    <tr>\n",
       "      <th>897</th>\n",
       "      <td>2016</td>\n",
       "      <td>11</td>\n",
       "      <td>1</td>\n",
       "      <td>0.50</td>\n",
       "      <td>0.25</td>\n",
       "      <td>0.41</td>\n",
       "      <td>NaN</td>\n",
       "      <td>4.6</td>\n",
       "      <td>2.1</td>\n",
       "    </tr>\n",
       "    <tr>\n",
       "      <th>898</th>\n",
       "      <td>2016</td>\n",
       "      <td>12</td>\n",
       "      <td>1</td>\n",
       "      <td>0.50</td>\n",
       "      <td>0.25</td>\n",
       "      <td>0.54</td>\n",
       "      <td>NaN</td>\n",
       "      <td>4.7</td>\n",
       "      <td>2.2</td>\n",
       "    </tr>\n",
       "    <tr>\n",
       "      <th>900</th>\n",
       "      <td>2017</td>\n",
       "      <td>1</td>\n",
       "      <td>1</td>\n",
       "      <td>0.75</td>\n",
       "      <td>0.50</td>\n",
       "      <td>0.65</td>\n",
       "      <td>NaN</td>\n",
       "      <td>4.8</td>\n",
       "      <td>2.3</td>\n",
       "    </tr>\n",
       "    <tr>\n",
       "      <th>901</th>\n",
       "      <td>2017</td>\n",
       "      <td>2</td>\n",
       "      <td>1</td>\n",
       "      <td>0.75</td>\n",
       "      <td>0.50</td>\n",
       "      <td>0.66</td>\n",
       "      <td>NaN</td>\n",
       "      <td>4.7</td>\n",
       "      <td>2.2</td>\n",
       "    </tr>\n",
       "  </tbody>\n",
       "</table>\n",
       "</div>"
      ],
      "text/plain": [
       "     Year (int64)  Month (int64)  Day (int64)  \\\n",
       "862          2014              1            1   \n",
       "863          2014              2            1   \n",
       "864          2014              3            1   \n",
       "865          2014              4            1   \n",
       "866          2014              5            1   \n",
       "867          2014              6            1   \n",
       "868          2014              7            1   \n",
       "869          2014              8            1   \n",
       "870          2014              9            1   \n",
       "871          2014             10            1   \n",
       "872          2014             11            1   \n",
       "873          2014             12            1   \n",
       "874          2015              1            1   \n",
       "875          2015              2            1   \n",
       "876          2015              3            1   \n",
       "877          2015              4            1   \n",
       "878          2015              5            1   \n",
       "879          2015              6            1   \n",
       "880          2015              7            1   \n",
       "881          2015              8            1   \n",
       "882          2015              9            1   \n",
       "883          2015             10            1   \n",
       "884          2015             11            1   \n",
       "885          2015             12            1   \n",
       "887          2016              1            1   \n",
       "888          2016              2            1   \n",
       "889          2016              3            1   \n",
       "890          2016              4            1   \n",
       "891          2016              5            1   \n",
       "892          2016              6            1   \n",
       "893          2016              7            1   \n",
       "894          2016              8            1   \n",
       "895          2016              9            1   \n",
       "896          2016             10            1   \n",
       "897          2016             11            1   \n",
       "898          2016             12            1   \n",
       "900          2017              1            1   \n",
       "901          2017              2            1   \n",
       "\n",
       "     Federal_Funds_Upper_Target (float64)  \\\n",
       "862                                  0.25   \n",
       "863                                  0.25   \n",
       "864                                  0.25   \n",
       "865                                  0.25   \n",
       "866                                  0.25   \n",
       "867                                  0.25   \n",
       "868                                  0.25   \n",
       "869                                  0.25   \n",
       "870                                  0.25   \n",
       "871                                  0.25   \n",
       "872                                  0.25   \n",
       "873                                  0.25   \n",
       "874                                  0.25   \n",
       "875                                  0.25   \n",
       "876                                  0.25   \n",
       "877                                  0.25   \n",
       "878                                  0.25   \n",
       "879                                  0.25   \n",
       "880                                  0.25   \n",
       "881                                  0.25   \n",
       "882                                  0.25   \n",
       "883                                  0.25   \n",
       "884                                  0.25   \n",
       "885                                  0.25   \n",
       "887                                  0.50   \n",
       "888                                  0.50   \n",
       "889                                  0.50   \n",
       "890                                  0.50   \n",
       "891                                  0.50   \n",
       "892                                  0.50   \n",
       "893                                  0.50   \n",
       "894                                  0.50   \n",
       "895                                  0.50   \n",
       "896                                  0.50   \n",
       "897                                  0.50   \n",
       "898                                  0.50   \n",
       "900                                  0.75   \n",
       "901                                  0.75   \n",
       "\n",
       "     Federal_Funds_Lower_Target (float64)  \\\n",
       "862                                  0.00   \n",
       "863                                  0.00   \n",
       "864                                  0.00   \n",
       "865                                  0.00   \n",
       "866                                  0.00   \n",
       "867                                  0.00   \n",
       "868                                  0.00   \n",
       "869                                  0.00   \n",
       "870                                  0.00   \n",
       "871                                  0.00   \n",
       "872                                  0.00   \n",
       "873                                  0.00   \n",
       "874                                  0.00   \n",
       "875                                  0.00   \n",
       "876                                  0.00   \n",
       "877                                  0.00   \n",
       "878                                  0.00   \n",
       "879                                  0.00   \n",
       "880                                  0.00   \n",
       "881                                  0.00   \n",
       "882                                  0.00   \n",
       "883                                  0.00   \n",
       "884                                  0.00   \n",
       "885                                  0.00   \n",
       "887                                  0.25   \n",
       "888                                  0.25   \n",
       "889                                  0.25   \n",
       "890                                  0.25   \n",
       "891                                  0.25   \n",
       "892                                  0.25   \n",
       "893                                  0.25   \n",
       "894                                  0.25   \n",
       "895                                  0.25   \n",
       "896                                  0.25   \n",
       "897                                  0.25   \n",
       "898                                  0.25   \n",
       "900                                  0.50   \n",
       "901                                  0.50   \n",
       "\n",
       "     Effective_Federal_Funds_Rate (float64)  \\\n",
       "862                                    0.07   \n",
       "863                                    0.07   \n",
       "864                                    0.08   \n",
       "865                                    0.09   \n",
       "866                                    0.09   \n",
       "867                                    0.10   \n",
       "868                                    0.09   \n",
       "869                                    0.09   \n",
       "870                                    0.09   \n",
       "871                                    0.09   \n",
       "872                                    0.09   \n",
       "873                                    0.12   \n",
       "874                                    0.11   \n",
       "875                                    0.11   \n",
       "876                                    0.11   \n",
       "877                                    0.12   \n",
       "878                                    0.12   \n",
       "879                                    0.13   \n",
       "880                                    0.13   \n",
       "881                                    0.14   \n",
       "882                                    0.14   \n",
       "883                                    0.12   \n",
       "884                                    0.12   \n",
       "885                                    0.24   \n",
       "887                                    0.34   \n",
       "888                                    0.38   \n",
       "889                                    0.36   \n",
       "890                                    0.37   \n",
       "891                                    0.37   \n",
       "892                                    0.38   \n",
       "893                                    0.39   \n",
       "894                                    0.40   \n",
       "895                                    0.40   \n",
       "896                                    0.40   \n",
       "897                                    0.41   \n",
       "898                                    0.54   \n",
       "900                                    0.65   \n",
       "901                                    0.66   \n",
       "\n",
       "     Real_GDP_(Percent_Change) (float64)  Unemployment_Rate (float64)  \\\n",
       "862                                 -1.2                          6.6   \n",
       "863                                  NaN                          6.7   \n",
       "864                                  NaN                          6.7   \n",
       "865                                  4.0                          6.2   \n",
       "866                                  NaN                          6.3   \n",
       "867                                  NaN                          6.1   \n",
       "868                                  5.0                          6.2   \n",
       "869                                  NaN                          6.2   \n",
       "870                                  NaN                          5.9   \n",
       "871                                  2.3                          5.7   \n",
       "872                                  NaN                          5.8   \n",
       "873                                  NaN                          5.6   \n",
       "874                                  2.0                          5.7   \n",
       "875                                  NaN                          5.5   \n",
       "876                                  NaN                          5.4   \n",
       "877                                  2.6                          5.4   \n",
       "878                                  NaN                          5.5   \n",
       "879                                  NaN                          5.3   \n",
       "880                                  2.0                          5.2   \n",
       "881                                  NaN                          5.1   \n",
       "882                                  NaN                          5.0   \n",
       "883                                  0.9                          5.0   \n",
       "884                                  NaN                          5.0   \n",
       "885                                  NaN                          5.0   \n",
       "887                                  0.8                          4.9   \n",
       "888                                  NaN                          4.9   \n",
       "889                                  NaN                          5.0   \n",
       "890                                  1.4                          5.0   \n",
       "891                                  NaN                          4.7   \n",
       "892                                  NaN                          4.9   \n",
       "893                                  3.5                          4.9   \n",
       "894                                  NaN                          4.9   \n",
       "895                                  NaN                          4.9   \n",
       "896                                  1.9                          4.8   \n",
       "897                                  NaN                          4.6   \n",
       "898                                  NaN                          4.7   \n",
       "900                                  NaN                          4.8   \n",
       "901                                  NaN                          4.7   \n",
       "\n",
       "     Inflation_Rate (float64)  \n",
       "862                       1.6  \n",
       "863                       1.6  \n",
       "864                       1.7  \n",
       "865                       1.8  \n",
       "866                       2.0  \n",
       "867                       1.9  \n",
       "868                       1.9  \n",
       "869                       1.7  \n",
       "870                       1.7  \n",
       "871                       1.8  \n",
       "872                       1.7  \n",
       "873                       1.6  \n",
       "874                       1.6  \n",
       "875                       1.7  \n",
       "876                       1.8  \n",
       "877                       1.8  \n",
       "878                       1.7  \n",
       "879                       1.8  \n",
       "880                       1.8  \n",
       "881                       1.8  \n",
       "882                       1.9  \n",
       "883                       1.9  \n",
       "884                       2.0  \n",
       "885                       2.1  \n",
       "887                       2.2  \n",
       "888                       2.3  \n",
       "889                       2.2  \n",
       "890                       2.1  \n",
       "891                       2.2  \n",
       "892                       2.2  \n",
       "893                       2.2  \n",
       "894                       2.3  \n",
       "895                       2.2  \n",
       "896                       2.1  \n",
       "897                       2.1  \n",
       "898                       2.2  \n",
       "900                       2.3  \n",
       "901                       2.2  "
      ]
     },
     "execution_count": 320,
     "metadata": {},
     "output_type": "execute_result"
    }
   ],
   "source": [
    "interest_rate.rename(columns = {\n",
    "    col : f\"{col} ({dtype})\"\n",
    "    for col, dtype in interest_rate.dtypes.to_dict().items()\n",
    "})"
   ]
  },
  {
   "cell_type": "code",
   "execution_count": 321,
   "id": "28b193ba",
   "metadata": {},
   "outputs": [],
   "source": [
    "dropped_columns = ['2017-04', '2017-05', '2017-06', '2017-07', '2017-08', '2017-09', '2017-10', '2017-11', '2017-12',\n",
    "                   '2018-01', '2018-02', '2018-03', '2018-04', '2018-05', '2018-06', '2018-07', '2018-08', '2018-09', '2018-10', '2018-11', '2018-12',\n",
    "                   '2019-01', '2019-02', '2019-03', '2019-04', '2019-05', '2019-06', '2019-07', '2019-08', '2019-09', '2019-10', '2019-11', '2019-12']\n",
    "one_bed_subset = one_bed.drop(columns=dropped_columns)"
   ]
  },
  {
   "cell_type": "code",
   "execution_count": 322,
   "id": "297fe5d1",
   "metadata": {},
   "outputs": [],
   "source": [
    "one_bed_subset = one_bed_subset.loc[(one_bed_subset['State'] == 'CA') & (one_bed_subset['CountyName'] == 'San Francisco County') & (one_bed_subset['RegionName'] == 'San Francisco') & (one_bed_subset['Metro'] == 'San Francisco-Oakland-Hayward')]"
   ]
  },
  {
   "cell_type": "code",
   "execution_count": 323,
   "id": "809d42bf",
   "metadata": {},
   "outputs": [],
   "source": [
    "effective_Federal_Funds_Rate = interest_rate[\"Effective_Federal_Funds_Rate\"]\n",
    "one_bed_by_city = one_bed_subset.iloc[:, 5:].squeeze()"
   ]
  },
  {
   "cell_type": "markdown",
   "id": "f7c02d69",
   "metadata": {},
   "source": [
    "### Based on our initial analysis, there's no correlation between federal interest rate and the median price of one bedroom units in San Francisco."
   ]
  },
  {
   "cell_type": "code",
   "execution_count": 324,
   "id": "a7eaf950",
   "metadata": {},
   "outputs": [
    {
     "data": {
      "text/plain": [
       "nan"
      ]
     },
     "execution_count": 324,
     "metadata": {},
     "output_type": "execute_result"
    }
   ],
   "source": [
    "effective_Federal_Funds_Rate.corr(one_bed_by_city)"
   ]
  },
  {
   "cell_type": "markdown",
   "id": "7cbe5390",
   "metadata": {},
   "source": [
    "# (Part 2) - More plots"
   ]
  },
  {
   "cell_type": "markdown",
   "id": "36d99a95",
   "metadata": {},
   "source": [
    "## 1. Interest rate and rent in San Francisco, CA from 2014-02 to 2019-12"
   ]
  },
  {
   "cell_type": "code",
   "execution_count": 325,
   "id": "90e247a4",
   "metadata": {},
   "outputs": [
    {
     "data": {
      "application/vnd.plotly.v1+json": {
       "config": {
        "plotlyServerURL": "https://plotly.com"
       },
       "data": [
        {
         "hovertemplate": "variable=Studio<br>Date=%{x}<br>value=%{y}<extra></extra>",
         "legendgroup": "Studio",
         "line": {
          "dash": "solid"
         },
         "mode": "lines",
         "name": "Studio",
         "showlegend": true,
         "type": "scattergl",
         "x": [
          "2014-02",
          "2014-03",
          "2014-04",
          "2014-05",
          "2014-06",
          "2014-07",
          "2014-08",
          "2014-09",
          "2014-10",
          "2014-11",
          "2014-12",
          "2015-01",
          "2015-02",
          "2015-03",
          "2015-04",
          "2015-05",
          "2015-06",
          "2015-07",
          "2015-08",
          "2015-09",
          "2015-10",
          "2015-11",
          "2015-12",
          "2016-01",
          "2016-02",
          "2016-03",
          "2016-04",
          "2016-05",
          "2016-06",
          "2016-07",
          "2016-08",
          "2016-09",
          "2016-10",
          "2016-11",
          "2016-12",
          "2017-01",
          "2017-02",
          "2017-03",
          "2017-04",
          "2017-05",
          "2017-06",
          "2017-07",
          "2017-08",
          "2017-09",
          "2017-10",
          "2017-11",
          "2017-12",
          "2018-01",
          "2018-02",
          "2018-03",
          "2018-04",
          "2018-05",
          "2018-06",
          "2018-07",
          "2018-08",
          "2018-09",
          "2018-10",
          "2018-11",
          "2018-12",
          "2019-01",
          "2019-02",
          "2019-03",
          "2019-04",
          "2019-05",
          "2019-06",
          "2019-07",
          "2019-08",
          "2019-09",
          "2019-10",
          "2019-11"
         ],
         "xaxis": "x",
         "y": [
          3000,
          2995,
          3064,
          3250,
          3295,
          3270,
          3315.5,
          3350,
          3379.5,
          3379,
          3419,
          3500,
          3500,
          3495,
          3500,
          3500,
          3600,
          3495,
          3552.5,
          3507,
          3500,
          3495,
          3402.5,
          3632,
          3638,
          3600,
          3600,
          3601,
          3518,
          3450,
          3338,
          3300,
          3223,
          3223.5,
          3100,
          3250,
          3295,
          3295,
          3306,
          3376,
          3400,
          3433,
          3387,
          3312,
          3295,
          3349,
          3303.5,
          3300,
          3395,
          3400,
          3405,
          3429.5,
          3475,
          3476.5,
          3495,
          3495,
          3495,
          3474,
          3426,
          3495,
          3500,
          3500,
          3534,
          3600,
          3641.5,
          3615,
          3600,
          3650,
          3580,
          3499
         ],
         "yaxis": "y"
        },
        {
         "hovertemplate": "variable=1 Bedroom<br>Date=%{x}<br>value=%{y}<extra></extra>",
         "legendgroup": "1 Bedroom",
         "line": {
          "dash": "solid"
         },
         "mode": "lines",
         "name": "1 Bedroom",
         "showlegend": true,
         "type": "scattergl",
         "x": [
          "2014-02",
          "2014-03",
          "2014-04",
          "2014-05",
          "2014-06",
          "2014-07",
          "2014-08",
          "2014-09",
          "2014-10",
          "2014-11",
          "2014-12",
          "2015-01",
          "2015-02",
          "2015-03",
          "2015-04",
          "2015-05",
          "2015-06",
          "2015-07",
          "2015-08",
          "2015-09",
          "2015-10",
          "2015-11",
          "2015-12",
          "2016-01",
          "2016-02",
          "2016-03",
          "2016-04",
          "2016-05",
          "2016-06",
          "2016-07",
          "2016-08",
          "2016-09",
          "2016-10",
          "2016-11",
          "2016-12",
          "2017-01",
          "2017-02",
          "2017-03",
          "2017-04",
          "2017-05",
          "2017-06",
          "2017-07",
          "2017-08",
          "2017-09",
          "2017-10",
          "2017-11",
          "2017-12",
          "2018-01",
          "2018-02",
          "2018-03",
          "2018-04",
          "2018-05",
          "2018-06",
          "2018-07",
          "2018-08",
          "2018-09",
          "2018-10",
          "2018-11",
          "2018-12",
          "2019-01",
          "2019-02",
          "2019-03",
          "2019-04",
          "2019-05",
          "2019-06",
          "2019-07",
          "2019-08",
          "2019-09",
          "2019-10",
          "2019-11"
         ],
         "xaxis": "x",
         "y": [
          4100,
          4100,
          4250,
          4339.5,
          4400,
          4450,
          4550,
          4600,
          4600,
          4550,
          4695,
          4700,
          4705,
          4600,
          4635,
          4700,
          4754.5,
          4718,
          4947,
          4800,
          4785,
          4698,
          4692.5,
          4900,
          4900,
          4809,
          4724,
          4709,
          4600,
          4550,
          4500,
          4500,
          4462.5,
          4355,
          4355,
          4495,
          4495,
          4400,
          4500,
          4500,
          4450,
          4500,
          4500,
          4395,
          4375,
          4450,
          4385,
          4459,
          4495,
          4500,
          4500,
          4500,
          4500,
          4599.5,
          4650,
          4694.5,
          4598,
          4500,
          4500,
          4500,
          4500,
          4500,
          4579.5,
          4656,
          4709,
          4800,
          4750,
          4799,
          4600,
          4535
         ],
         "yaxis": "y"
        },
        {
         "hovertemplate": "variable=2 Bedrooms<br>Date=%{x}<br>value=%{y}<extra></extra>",
         "legendgroup": "2 Bedrooms",
         "line": {
          "dash": "solid"
         },
         "mode": "lines",
         "name": "2 Bedrooms",
         "showlegend": true,
         "type": "scattergl",
         "x": [
          "2014-02",
          "2014-03",
          "2014-04",
          "2014-05",
          "2014-06",
          "2014-07",
          "2014-08",
          "2014-09",
          "2014-10",
          "2014-11",
          "2014-12",
          "2015-01",
          "2015-02",
          "2015-03",
          "2015-04",
          "2015-05",
          "2015-06",
          "2015-07",
          "2015-08",
          "2015-09",
          "2015-10",
          "2015-11",
          "2015-12",
          "2016-01",
          "2016-02",
          "2016-03",
          "2016-04",
          "2016-05",
          "2016-06",
          "2016-07",
          "2016-08",
          "2016-09",
          "2016-10",
          "2016-11",
          "2016-12",
          "2017-01",
          "2017-02",
          "2017-03",
          "2017-04",
          "2017-05",
          "2017-06",
          "2017-07",
          "2017-08",
          "2017-09",
          "2017-10",
          "2017-11",
          "2017-12",
          "2018-01",
          "2018-02",
          "2018-03",
          "2018-04",
          "2018-05",
          "2018-06",
          "2018-07",
          "2018-08",
          "2018-09",
          "2018-10",
          "2018-11",
          "2018-12",
          "2019-01",
          "2019-02",
          "2019-03",
          "2019-04",
          "2019-05",
          "2019-06",
          "2019-07",
          "2019-08",
          "2019-09",
          "2019-10",
          "2019-11"
         ],
         "xaxis": "x",
         "y": [
          5195,
          5000,
          5172.5,
          5500,
          4995,
          4950,
          5800,
          5500,
          5800,
          5500,
          5950,
          5995,
          5999,
          5975,
          5722.5,
          5650,
          5920,
          6147.5,
          6500,
          6250,
          5900,
          5800,
          5886,
          5995,
          5935.5,
          5897,
          5687.5,
          5975,
          5595,
          5675,
          5700,
          5600,
          5400,
          5547.5,
          5132,
          5000,
          5450,
          5500,
          5395,
          5495,
          5495,
          5500,
          5495,
          5495,
          5495,
          5495,
          5495,
          5495,
          5395,
          5500,
          5500,
          5499,
          5500,
          5500,
          5500,
          5697.5,
          5495,
          5397.5,
          5495,
          5400,
          5350,
          5300,
          5350,
          5400,
          5600,
          5788.5,
          5800,
          5744.5,
          5585,
          5495
         ],
         "yaxis": "y"
        },
        {
         "hovertemplate": "variable=3 Bedrooms<br>Date=%{x}<br>value=%{y}<extra></extra>",
         "legendgroup": "3 Bedrooms",
         "line": {
          "dash": "solid"
         },
         "mode": "lines",
         "name": "3 Bedrooms",
         "showlegend": true,
         "type": "scattergl",
         "x": [
          "2014-02",
          "2014-03",
          "2014-04",
          "2014-05",
          "2014-06",
          "2014-07",
          "2014-08",
          "2014-09",
          "2014-10",
          "2014-11",
          "2014-12",
          "2015-01",
          "2015-02",
          "2015-03",
          "2015-04",
          "2015-05",
          "2015-06",
          "2015-07",
          "2015-08",
          "2015-09",
          "2015-10",
          "2015-11",
          "2015-12",
          "2016-01",
          "2016-02",
          "2016-03",
          "2016-04",
          "2016-05",
          "2016-06",
          "2016-07",
          "2016-08",
          "2016-09",
          "2016-10",
          "2016-11",
          "2016-12",
          "2017-01",
          "2017-02",
          "2017-03",
          "2017-04",
          "2017-05",
          "2017-06",
          "2017-07",
          "2017-08",
          "2017-09",
          "2017-10",
          "2017-11",
          "2017-12",
          "2018-01",
          "2018-02",
          "2018-03",
          "2018-04",
          "2018-05",
          "2018-06",
          "2018-07",
          "2018-08",
          "2018-09",
          "2018-10",
          "2018-11",
          "2018-12",
          "2019-01",
          "2019-02",
          "2019-03",
          "2019-04",
          "2019-05",
          "2019-06",
          "2019-07",
          "2019-08",
          "2019-09",
          "2019-10",
          "2019-11"
         ],
         "xaxis": "x",
         "y": [
          null,
          null,
          null,
          null,
          null,
          null,
          null,
          null,
          null,
          null,
          null,
          null,
          null,
          null,
          null,
          null,
          null,
          7600,
          7200,
          6995,
          6350,
          6200,
          6500,
          7000,
          6995,
          6499,
          6697.5,
          6797.5,
          6972.5,
          6947.5,
          6350,
          6700,
          5750,
          6742.5,
          6200,
          6500,
          6150,
          6200,
          5900,
          6200,
          6500,
          6500,
          6495,
          6397.5,
          6200,
          5997.5,
          6472.5,
          6495,
          6200,
          6200,
          6500,
          6650,
          6800,
          6850,
          6800,
          6795,
          6497.5,
          6747.5,
          6495,
          6899.5,
          7000,
          6595,
          6850,
          6825,
          6872.5,
          6999.5,
          6995,
          7195,
          6850,
          6500
         ],
         "yaxis": "y"
        },
        {
         "hovertemplate": "variable=Effective_Federal_Funds_Rate<br>Date=%{x}<br>value=%{y}<extra></extra>",
         "legendgroup": "Effective_Federal_Funds_Rate",
         "line": {
          "dash": "solid"
         },
         "mode": "lines",
         "name": "Effective_Federal_Funds_Rate",
         "showlegend": true,
         "type": "scattergl",
         "x": [
          "2014-02-01",
          "2014-03-01",
          "2014-04-01",
          "2014-05-01",
          "2014-06-01",
          "2014-07-01",
          "2014-08-01",
          "2014-09-01",
          "2014-10-01",
          "2014-11-01",
          "2014-12-01",
          "2015-01-01",
          "2015-02-01",
          "2015-03-01",
          "2015-04-01",
          "2015-05-01",
          "2015-06-01",
          "2015-07-01",
          "2015-08-01",
          "2015-09-01",
          "2015-10-01",
          "2015-11-01",
          "2015-12-01",
          "2016-01-01",
          "2016-02-01",
          "2016-03-01",
          "2016-04-01",
          "2016-05-01",
          "2016-06-01",
          "2016-07-01",
          "2016-08-01",
          "2016-09-01",
          "2016-10-01",
          "2016-11-01",
          "2016-12-01",
          "2017-01-01",
          "2017-02-01",
          "2017-03-01",
          "2017-04-01",
          "2017-05-01",
          "2017-06-01",
          "2017-07-01",
          "2017-08-01",
          "2017-09-01",
          "2017-10-01",
          "2017-11-01",
          "2017-12-01",
          "2018-01-01",
          "2018-02-01",
          "2018-03-01",
          "2018-04-01",
          "2018-05-01",
          "2018-06-01",
          "2018-07-01",
          "2018-08-01",
          "2018-09-01",
          "2018-10-01",
          "2018-11-01",
          "2018-12-01",
          "2019-01-01",
          "2019-02-01",
          "2019-03-01",
          "2019-04-01",
          "2019-05-01",
          "2019-06-01",
          "2019-07-01",
          "2019-08-01",
          "2019-09-01",
          "2019-10-01",
          "2019-11-01",
          "2019-12-01",
          "2020-01-01",
          "2020-02-01",
          "2020-03-01",
          "2020-04-01",
          "2020-05-01",
          "2020-06-01",
          "2020-07-01",
          "2020-08-01",
          "2020-09-01",
          "2020-10-01",
          "2020-11-01",
          "2020-12-01"
         ],
         "xaxis": "x",
         "y": [
          0.07,
          0.08,
          0.09,
          0.09,
          0.1,
          0.09,
          0.09,
          0.09,
          0.09,
          0.09,
          0.12,
          0.11,
          0.11,
          0.11,
          0.12,
          0.12,
          0.13,
          0.13,
          0.14,
          0.14,
          0.12,
          0.12,
          0.24,
          0.34,
          0.38,
          0.36,
          0.37,
          0.37,
          0.38,
          0.39,
          0.4,
          0.4,
          0.4,
          0.41,
          0.54,
          0.65,
          0.66,
          0.79,
          0.9,
          0.91,
          1.04,
          1.15,
          1.16,
          1.15,
          1.15,
          1.16,
          1.3,
          1.41,
          1.42,
          1.51,
          1.67,
          1.7,
          1.82,
          1.91,
          1.91,
          1.95,
          2.19,
          2.2,
          2.27,
          2.4,
          2.4,
          2.41,
          2.42,
          2.39,
          2.38,
          2.4,
          2.13,
          2.04,
          1.83,
          1.55,
          1.55,
          1.55,
          1.58,
          0.65,
          0.05,
          0.05,
          0.08,
          0.09,
          0.1,
          0.09,
          0.09,
          0.09,
          0.09
         ],
         "yaxis": "y2"
        }
       ],
       "layout": {
        "template": {
         "data": {
          "bar": [
           {
            "error_x": {
             "color": "#2a3f5f"
            },
            "error_y": {
             "color": "#2a3f5f"
            },
            "marker": {
             "line": {
              "color": "#E5ECF6",
              "width": 0.5
             },
             "pattern": {
              "fillmode": "overlay",
              "size": 10,
              "solidity": 0.2
             }
            },
            "type": "bar"
           }
          ],
          "barpolar": [
           {
            "marker": {
             "line": {
              "color": "#E5ECF6",
              "width": 0.5
             },
             "pattern": {
              "fillmode": "overlay",
              "size": 10,
              "solidity": 0.2
             }
            },
            "type": "barpolar"
           }
          ],
          "carpet": [
           {
            "aaxis": {
             "endlinecolor": "#2a3f5f",
             "gridcolor": "white",
             "linecolor": "white",
             "minorgridcolor": "white",
             "startlinecolor": "#2a3f5f"
            },
            "baxis": {
             "endlinecolor": "#2a3f5f",
             "gridcolor": "white",
             "linecolor": "white",
             "minorgridcolor": "white",
             "startlinecolor": "#2a3f5f"
            },
            "type": "carpet"
           }
          ],
          "choropleth": [
           {
            "colorbar": {
             "outlinewidth": 0,
             "ticks": ""
            },
            "type": "choropleth"
           }
          ],
          "contour": [
           {
            "colorbar": {
             "outlinewidth": 0,
             "ticks": ""
            },
            "colorscale": [
             [
              0,
              "#0d0887"
             ],
             [
              0.1111111111111111,
              "#46039f"
             ],
             [
              0.2222222222222222,
              "#7201a8"
             ],
             [
              0.3333333333333333,
              "#9c179e"
             ],
             [
              0.4444444444444444,
              "#bd3786"
             ],
             [
              0.5555555555555556,
              "#d8576b"
             ],
             [
              0.6666666666666666,
              "#ed7953"
             ],
             [
              0.7777777777777778,
              "#fb9f3a"
             ],
             [
              0.8888888888888888,
              "#fdca26"
             ],
             [
              1,
              "#f0f921"
             ]
            ],
            "type": "contour"
           }
          ],
          "contourcarpet": [
           {
            "colorbar": {
             "outlinewidth": 0,
             "ticks": ""
            },
            "type": "contourcarpet"
           }
          ],
          "heatmap": [
           {
            "colorbar": {
             "outlinewidth": 0,
             "ticks": ""
            },
            "colorscale": [
             [
              0,
              "#0d0887"
             ],
             [
              0.1111111111111111,
              "#46039f"
             ],
             [
              0.2222222222222222,
              "#7201a8"
             ],
             [
              0.3333333333333333,
              "#9c179e"
             ],
             [
              0.4444444444444444,
              "#bd3786"
             ],
             [
              0.5555555555555556,
              "#d8576b"
             ],
             [
              0.6666666666666666,
              "#ed7953"
             ],
             [
              0.7777777777777778,
              "#fb9f3a"
             ],
             [
              0.8888888888888888,
              "#fdca26"
             ],
             [
              1,
              "#f0f921"
             ]
            ],
            "type": "heatmap"
           }
          ],
          "heatmapgl": [
           {
            "colorbar": {
             "outlinewidth": 0,
             "ticks": ""
            },
            "colorscale": [
             [
              0,
              "#0d0887"
             ],
             [
              0.1111111111111111,
              "#46039f"
             ],
             [
              0.2222222222222222,
              "#7201a8"
             ],
             [
              0.3333333333333333,
              "#9c179e"
             ],
             [
              0.4444444444444444,
              "#bd3786"
             ],
             [
              0.5555555555555556,
              "#d8576b"
             ],
             [
              0.6666666666666666,
              "#ed7953"
             ],
             [
              0.7777777777777778,
              "#fb9f3a"
             ],
             [
              0.8888888888888888,
              "#fdca26"
             ],
             [
              1,
              "#f0f921"
             ]
            ],
            "type": "heatmapgl"
           }
          ],
          "histogram": [
           {
            "marker": {
             "pattern": {
              "fillmode": "overlay",
              "size": 10,
              "solidity": 0.2
             }
            },
            "type": "histogram"
           }
          ],
          "histogram2d": [
           {
            "colorbar": {
             "outlinewidth": 0,
             "ticks": ""
            },
            "colorscale": [
             [
              0,
              "#0d0887"
             ],
             [
              0.1111111111111111,
              "#46039f"
             ],
             [
              0.2222222222222222,
              "#7201a8"
             ],
             [
              0.3333333333333333,
              "#9c179e"
             ],
             [
              0.4444444444444444,
              "#bd3786"
             ],
             [
              0.5555555555555556,
              "#d8576b"
             ],
             [
              0.6666666666666666,
              "#ed7953"
             ],
             [
              0.7777777777777778,
              "#fb9f3a"
             ],
             [
              0.8888888888888888,
              "#fdca26"
             ],
             [
              1,
              "#f0f921"
             ]
            ],
            "type": "histogram2d"
           }
          ],
          "histogram2dcontour": [
           {
            "colorbar": {
             "outlinewidth": 0,
             "ticks": ""
            },
            "colorscale": [
             [
              0,
              "#0d0887"
             ],
             [
              0.1111111111111111,
              "#46039f"
             ],
             [
              0.2222222222222222,
              "#7201a8"
             ],
             [
              0.3333333333333333,
              "#9c179e"
             ],
             [
              0.4444444444444444,
              "#bd3786"
             ],
             [
              0.5555555555555556,
              "#d8576b"
             ],
             [
              0.6666666666666666,
              "#ed7953"
             ],
             [
              0.7777777777777778,
              "#fb9f3a"
             ],
             [
              0.8888888888888888,
              "#fdca26"
             ],
             [
              1,
              "#f0f921"
             ]
            ],
            "type": "histogram2dcontour"
           }
          ],
          "mesh3d": [
           {
            "colorbar": {
             "outlinewidth": 0,
             "ticks": ""
            },
            "type": "mesh3d"
           }
          ],
          "parcoords": [
           {
            "line": {
             "colorbar": {
              "outlinewidth": 0,
              "ticks": ""
             }
            },
            "type": "parcoords"
           }
          ],
          "pie": [
           {
            "automargin": true,
            "type": "pie"
           }
          ],
          "scatter": [
           {
            "marker": {
             "colorbar": {
              "outlinewidth": 0,
              "ticks": ""
             }
            },
            "type": "scatter"
           }
          ],
          "scatter3d": [
           {
            "line": {
             "colorbar": {
              "outlinewidth": 0,
              "ticks": ""
             }
            },
            "marker": {
             "colorbar": {
              "outlinewidth": 0,
              "ticks": ""
             }
            },
            "type": "scatter3d"
           }
          ],
          "scattercarpet": [
           {
            "marker": {
             "colorbar": {
              "outlinewidth": 0,
              "ticks": ""
             }
            },
            "type": "scattercarpet"
           }
          ],
          "scattergeo": [
           {
            "marker": {
             "colorbar": {
              "outlinewidth": 0,
              "ticks": ""
             }
            },
            "type": "scattergeo"
           }
          ],
          "scattergl": [
           {
            "marker": {
             "colorbar": {
              "outlinewidth": 0,
              "ticks": ""
             }
            },
            "type": "scattergl"
           }
          ],
          "scattermapbox": [
           {
            "marker": {
             "colorbar": {
              "outlinewidth": 0,
              "ticks": ""
             }
            },
            "type": "scattermapbox"
           }
          ],
          "scatterpolar": [
           {
            "marker": {
             "colorbar": {
              "outlinewidth": 0,
              "ticks": ""
             }
            },
            "type": "scatterpolar"
           }
          ],
          "scatterpolargl": [
           {
            "marker": {
             "colorbar": {
              "outlinewidth": 0,
              "ticks": ""
             }
            },
            "type": "scatterpolargl"
           }
          ],
          "scatterternary": [
           {
            "marker": {
             "colorbar": {
              "outlinewidth": 0,
              "ticks": ""
             }
            },
            "type": "scatterternary"
           }
          ],
          "surface": [
           {
            "colorbar": {
             "outlinewidth": 0,
             "ticks": ""
            },
            "colorscale": [
             [
              0,
              "#0d0887"
             ],
             [
              0.1111111111111111,
              "#46039f"
             ],
             [
              0.2222222222222222,
              "#7201a8"
             ],
             [
              0.3333333333333333,
              "#9c179e"
             ],
             [
              0.4444444444444444,
              "#bd3786"
             ],
             [
              0.5555555555555556,
              "#d8576b"
             ],
             [
              0.6666666666666666,
              "#ed7953"
             ],
             [
              0.7777777777777778,
              "#fb9f3a"
             ],
             [
              0.8888888888888888,
              "#fdca26"
             ],
             [
              1,
              "#f0f921"
             ]
            ],
            "type": "surface"
           }
          ],
          "table": [
           {
            "cells": {
             "fill": {
              "color": "#EBF0F8"
             },
             "line": {
              "color": "white"
             }
            },
            "header": {
             "fill": {
              "color": "#C8D4E3"
             },
             "line": {
              "color": "white"
             }
            },
            "type": "table"
           }
          ]
         },
         "layout": {
          "annotationdefaults": {
           "arrowcolor": "#2a3f5f",
           "arrowhead": 0,
           "arrowwidth": 1
          },
          "autotypenumbers": "strict",
          "coloraxis": {
           "colorbar": {
            "outlinewidth": 0,
            "ticks": ""
           }
          },
          "colorscale": {
           "diverging": [
            [
             0,
             "#8e0152"
            ],
            [
             0.1,
             "#c51b7d"
            ],
            [
             0.2,
             "#de77ae"
            ],
            [
             0.3,
             "#f1b6da"
            ],
            [
             0.4,
             "#fde0ef"
            ],
            [
             0.5,
             "#f7f7f7"
            ],
            [
             0.6,
             "#e6f5d0"
            ],
            [
             0.7,
             "#b8e186"
            ],
            [
             0.8,
             "#7fbc41"
            ],
            [
             0.9,
             "#4d9221"
            ],
            [
             1,
             "#276419"
            ]
           ],
           "sequential": [
            [
             0,
             "#0d0887"
            ],
            [
             0.1111111111111111,
             "#46039f"
            ],
            [
             0.2222222222222222,
             "#7201a8"
            ],
            [
             0.3333333333333333,
             "#9c179e"
            ],
            [
             0.4444444444444444,
             "#bd3786"
            ],
            [
             0.5555555555555556,
             "#d8576b"
            ],
            [
             0.6666666666666666,
             "#ed7953"
            ],
            [
             0.7777777777777778,
             "#fb9f3a"
            ],
            [
             0.8888888888888888,
             "#fdca26"
            ],
            [
             1,
             "#f0f921"
            ]
           ],
           "sequentialminus": [
            [
             0,
             "#0d0887"
            ],
            [
             0.1111111111111111,
             "#46039f"
            ],
            [
             0.2222222222222222,
             "#7201a8"
            ],
            [
             0.3333333333333333,
             "#9c179e"
            ],
            [
             0.4444444444444444,
             "#bd3786"
            ],
            [
             0.5555555555555556,
             "#d8576b"
            ],
            [
             0.6666666666666666,
             "#ed7953"
            ],
            [
             0.7777777777777778,
             "#fb9f3a"
            ],
            [
             0.8888888888888888,
             "#fdca26"
            ],
            [
             1,
             "#f0f921"
            ]
           ]
          },
          "colorway": [
           "#636efa",
           "#EF553B",
           "#00cc96",
           "#ab63fa",
           "#FFA15A",
           "#19d3f3",
           "#FF6692",
           "#B6E880",
           "#FF97FF",
           "#FECB52"
          ],
          "font": {
           "color": "#2a3f5f"
          },
          "geo": {
           "bgcolor": "white",
           "lakecolor": "white",
           "landcolor": "#E5ECF6",
           "showlakes": true,
           "showland": true,
           "subunitcolor": "white"
          },
          "hoverlabel": {
           "align": "left"
          },
          "hovermode": "closest",
          "mapbox": {
           "style": "light"
          },
          "paper_bgcolor": "white",
          "plot_bgcolor": "#E5ECF6",
          "polar": {
           "angularaxis": {
            "gridcolor": "white",
            "linecolor": "white",
            "ticks": ""
           },
           "bgcolor": "#E5ECF6",
           "radialaxis": {
            "gridcolor": "white",
            "linecolor": "white",
            "ticks": ""
           }
          },
          "scene": {
           "xaxis": {
            "backgroundcolor": "#E5ECF6",
            "gridcolor": "white",
            "gridwidth": 2,
            "linecolor": "white",
            "showbackground": true,
            "ticks": "",
            "zerolinecolor": "white"
           },
           "yaxis": {
            "backgroundcolor": "#E5ECF6",
            "gridcolor": "white",
            "gridwidth": 2,
            "linecolor": "white",
            "showbackground": true,
            "ticks": "",
            "zerolinecolor": "white"
           },
           "zaxis": {
            "backgroundcolor": "#E5ECF6",
            "gridcolor": "white",
            "gridwidth": 2,
            "linecolor": "white",
            "showbackground": true,
            "ticks": "",
            "zerolinecolor": "white"
           }
          },
          "shapedefaults": {
           "line": {
            "color": "#2a3f5f"
           }
          },
          "ternary": {
           "aaxis": {
            "gridcolor": "white",
            "linecolor": "white",
            "ticks": ""
           },
           "baxis": {
            "gridcolor": "white",
            "linecolor": "white",
            "ticks": ""
           },
           "bgcolor": "#E5ECF6",
           "caxis": {
            "gridcolor": "white",
            "linecolor": "white",
            "ticks": ""
           }
          },
          "title": {
           "x": 0.05
          },
          "xaxis": {
           "automargin": true,
           "gridcolor": "white",
           "linecolor": "white",
           "ticks": "",
           "title": {
            "standoff": 15
           },
           "zerolinecolor": "white",
           "zerolinewidth": 2
          },
          "yaxis": {
           "automargin": true,
           "gridcolor": "white",
           "linecolor": "white",
           "ticks": "",
           "title": {
            "standoff": 15
           },
           "zerolinecolor": "white",
           "zerolinewidth": 2
          }
         }
        },
        "title": {
         "text": "Interest rate and median rent in San Francisco, CA, from 2014-02 to 2019-12"
        },
        "xaxis": {
         "anchor": "y",
         "domain": [
          0,
          0.94
         ],
         "range": [
          "2014-02-01",
          "2019-12-31"
         ],
         "title": {
          "text": "Date"
         }
        },
        "yaxis": {
         "anchor": "x",
         "domain": [
          0,
          1
         ],
         "title": {
          "text": "Median Rent ($ USD)"
         }
        },
        "yaxis2": {
         "anchor": "x",
         "overlaying": "y",
         "side": "right",
         "title": {
          "text": "Federal Interest Rate (%)"
         }
        }
       }
      },
      "text/html": [
       "<div>                            <div id=\"fef27cf4-fca5-4a1a-9e76-8c9a3aafd0e2\" class=\"plotly-graph-div\" style=\"height:525px; width:100%;\"></div>            <script type=\"text/javascript\">                require([\"plotly\"], function(Plotly) {                    window.PLOTLYENV=window.PLOTLYENV || {};                                    if (document.getElementById(\"fef27cf4-fca5-4a1a-9e76-8c9a3aafd0e2\")) {                    Plotly.newPlot(                        \"fef27cf4-fca5-4a1a-9e76-8c9a3aafd0e2\",                        [{\"hovertemplate\":\"variable=Studio<br>Date=%{x}<br>value=%{y}<extra></extra>\",\"legendgroup\":\"Studio\",\"line\":{\"dash\":\"solid\"},\"mode\":\"lines\",\"name\":\"Studio\",\"showlegend\":true,\"type\":\"scattergl\",\"x\":[\"2014-02\",\"2014-03\",\"2014-04\",\"2014-05\",\"2014-06\",\"2014-07\",\"2014-08\",\"2014-09\",\"2014-10\",\"2014-11\",\"2014-12\",\"2015-01\",\"2015-02\",\"2015-03\",\"2015-04\",\"2015-05\",\"2015-06\",\"2015-07\",\"2015-08\",\"2015-09\",\"2015-10\",\"2015-11\",\"2015-12\",\"2016-01\",\"2016-02\",\"2016-03\",\"2016-04\",\"2016-05\",\"2016-06\",\"2016-07\",\"2016-08\",\"2016-09\",\"2016-10\",\"2016-11\",\"2016-12\",\"2017-01\",\"2017-02\",\"2017-03\",\"2017-04\",\"2017-05\",\"2017-06\",\"2017-07\",\"2017-08\",\"2017-09\",\"2017-10\",\"2017-11\",\"2017-12\",\"2018-01\",\"2018-02\",\"2018-03\",\"2018-04\",\"2018-05\",\"2018-06\",\"2018-07\",\"2018-08\",\"2018-09\",\"2018-10\",\"2018-11\",\"2018-12\",\"2019-01\",\"2019-02\",\"2019-03\",\"2019-04\",\"2019-05\",\"2019-06\",\"2019-07\",\"2019-08\",\"2019-09\",\"2019-10\",\"2019-11\"],\"xaxis\":\"x\",\"y\":[3000.0,2995.0,3064.0,3250.0,3295.0,3270.0,3315.5,3350.0,3379.5,3379.0,3419.0,3500.0,3500.0,3495.0,3500.0,3500.0,3600.0,3495.0,3552.5,3507.0,3500.0,3495.0,3402.5,3632.0,3638.0,3600.0,3600.0,3601.0,3518.0,3450.0,3338.0,3300.0,3223.0,3223.5,3100.0,3250.0,3295.0,3295.0,3306.0,3376.0,3400.0,3433.0,3387.0,3312.0,3295.0,3349.0,3303.5,3300.0,3395.0,3400.0,3405.0,3429.5,3475.0,3476.5,3495.0,3495.0,3495.0,3474.0,3426.0,3495.0,3500.0,3500.0,3534.0,3600.0,3641.5,3615.0,3600.0,3650.0,3580.0,3499.0],\"yaxis\":\"y\"},{\"hovertemplate\":\"variable=1 Bedroom<br>Date=%{x}<br>value=%{y}<extra></extra>\",\"legendgroup\":\"1 Bedroom\",\"line\":{\"dash\":\"solid\"},\"mode\":\"lines\",\"name\":\"1 Bedroom\",\"showlegend\":true,\"type\":\"scattergl\",\"x\":[\"2014-02\",\"2014-03\",\"2014-04\",\"2014-05\",\"2014-06\",\"2014-07\",\"2014-08\",\"2014-09\",\"2014-10\",\"2014-11\",\"2014-12\",\"2015-01\",\"2015-02\",\"2015-03\",\"2015-04\",\"2015-05\",\"2015-06\",\"2015-07\",\"2015-08\",\"2015-09\",\"2015-10\",\"2015-11\",\"2015-12\",\"2016-01\",\"2016-02\",\"2016-03\",\"2016-04\",\"2016-05\",\"2016-06\",\"2016-07\",\"2016-08\",\"2016-09\",\"2016-10\",\"2016-11\",\"2016-12\",\"2017-01\",\"2017-02\",\"2017-03\",\"2017-04\",\"2017-05\",\"2017-06\",\"2017-07\",\"2017-08\",\"2017-09\",\"2017-10\",\"2017-11\",\"2017-12\",\"2018-01\",\"2018-02\",\"2018-03\",\"2018-04\",\"2018-05\",\"2018-06\",\"2018-07\",\"2018-08\",\"2018-09\",\"2018-10\",\"2018-11\",\"2018-12\",\"2019-01\",\"2019-02\",\"2019-03\",\"2019-04\",\"2019-05\",\"2019-06\",\"2019-07\",\"2019-08\",\"2019-09\",\"2019-10\",\"2019-11\"],\"xaxis\":\"x\",\"y\":[4100.0,4100.0,4250.0,4339.5,4400.0,4450.0,4550.0,4600.0,4600.0,4550.0,4695.0,4700.0,4705.0,4600.0,4635.0,4700.0,4754.5,4718.0,4947.0,4800.0,4785.0,4698.0,4692.5,4900.0,4900.0,4809.0,4724.0,4709.0,4600.0,4550.0,4500.0,4500.0,4462.5,4355.0,4355.0,4495.0,4495.0,4400.0,4500.0,4500.0,4450.0,4500.0,4500.0,4395.0,4375.0,4450.0,4385.0,4459.0,4495.0,4500.0,4500.0,4500.0,4500.0,4599.5,4650.0,4694.5,4598.0,4500.0,4500.0,4500.0,4500.0,4500.0,4579.5,4656.0,4709.0,4800.0,4750.0,4799.0,4600.0,4535.0],\"yaxis\":\"y\"},{\"hovertemplate\":\"variable=2 Bedrooms<br>Date=%{x}<br>value=%{y}<extra></extra>\",\"legendgroup\":\"2 Bedrooms\",\"line\":{\"dash\":\"solid\"},\"mode\":\"lines\",\"name\":\"2 Bedrooms\",\"showlegend\":true,\"type\":\"scattergl\",\"x\":[\"2014-02\",\"2014-03\",\"2014-04\",\"2014-05\",\"2014-06\",\"2014-07\",\"2014-08\",\"2014-09\",\"2014-10\",\"2014-11\",\"2014-12\",\"2015-01\",\"2015-02\",\"2015-03\",\"2015-04\",\"2015-05\",\"2015-06\",\"2015-07\",\"2015-08\",\"2015-09\",\"2015-10\",\"2015-11\",\"2015-12\",\"2016-01\",\"2016-02\",\"2016-03\",\"2016-04\",\"2016-05\",\"2016-06\",\"2016-07\",\"2016-08\",\"2016-09\",\"2016-10\",\"2016-11\",\"2016-12\",\"2017-01\",\"2017-02\",\"2017-03\",\"2017-04\",\"2017-05\",\"2017-06\",\"2017-07\",\"2017-08\",\"2017-09\",\"2017-10\",\"2017-11\",\"2017-12\",\"2018-01\",\"2018-02\",\"2018-03\",\"2018-04\",\"2018-05\",\"2018-06\",\"2018-07\",\"2018-08\",\"2018-09\",\"2018-10\",\"2018-11\",\"2018-12\",\"2019-01\",\"2019-02\",\"2019-03\",\"2019-04\",\"2019-05\",\"2019-06\",\"2019-07\",\"2019-08\",\"2019-09\",\"2019-10\",\"2019-11\"],\"xaxis\":\"x\",\"y\":[5195.0,5000.0,5172.5,5500.0,4995.0,4950.0,5800.0,5500.0,5800.0,5500.0,5950.0,5995.0,5999.0,5975.0,5722.5,5650.0,5920.0,6147.5,6500.0,6250.0,5900.0,5800.0,5886.0,5995.0,5935.5,5897.0,5687.5,5975.0,5595.0,5675.0,5700.0,5600.0,5400.0,5547.5,5132.0,5000.0,5450.0,5500.0,5395.0,5495.0,5495.0,5500.0,5495.0,5495.0,5495.0,5495.0,5495.0,5495.0,5395.0,5500.0,5500.0,5499.0,5500.0,5500.0,5500.0,5697.5,5495.0,5397.5,5495.0,5400.0,5350.0,5300.0,5350.0,5400.0,5600.0,5788.5,5800.0,5744.5,5585.0,5495.0],\"yaxis\":\"y\"},{\"hovertemplate\":\"variable=3 Bedrooms<br>Date=%{x}<br>value=%{y}<extra></extra>\",\"legendgroup\":\"3 Bedrooms\",\"line\":{\"dash\":\"solid\"},\"mode\":\"lines\",\"name\":\"3 Bedrooms\",\"showlegend\":true,\"type\":\"scattergl\",\"x\":[\"2014-02\",\"2014-03\",\"2014-04\",\"2014-05\",\"2014-06\",\"2014-07\",\"2014-08\",\"2014-09\",\"2014-10\",\"2014-11\",\"2014-12\",\"2015-01\",\"2015-02\",\"2015-03\",\"2015-04\",\"2015-05\",\"2015-06\",\"2015-07\",\"2015-08\",\"2015-09\",\"2015-10\",\"2015-11\",\"2015-12\",\"2016-01\",\"2016-02\",\"2016-03\",\"2016-04\",\"2016-05\",\"2016-06\",\"2016-07\",\"2016-08\",\"2016-09\",\"2016-10\",\"2016-11\",\"2016-12\",\"2017-01\",\"2017-02\",\"2017-03\",\"2017-04\",\"2017-05\",\"2017-06\",\"2017-07\",\"2017-08\",\"2017-09\",\"2017-10\",\"2017-11\",\"2017-12\",\"2018-01\",\"2018-02\",\"2018-03\",\"2018-04\",\"2018-05\",\"2018-06\",\"2018-07\",\"2018-08\",\"2018-09\",\"2018-10\",\"2018-11\",\"2018-12\",\"2019-01\",\"2019-02\",\"2019-03\",\"2019-04\",\"2019-05\",\"2019-06\",\"2019-07\",\"2019-08\",\"2019-09\",\"2019-10\",\"2019-11\"],\"xaxis\":\"x\",\"y\":[null,null,null,null,null,null,null,null,null,null,null,null,null,null,null,null,null,7600.0,7200.0,6995.0,6350.0,6200.0,6500.0,7000.0,6995.0,6499.0,6697.5,6797.5,6972.5,6947.5,6350.0,6700.0,5750.0,6742.5,6200.0,6500.0,6150.0,6200.0,5900.0,6200.0,6500.0,6500.0,6495.0,6397.5,6200.0,5997.5,6472.5,6495.0,6200.0,6200.0,6500.0,6650.0,6800.0,6850.0,6800.0,6795.0,6497.5,6747.5,6495.0,6899.5,7000.0,6595.0,6850.0,6825.0,6872.5,6999.5,6995.0,7195.0,6850.0,6500.0],\"yaxis\":\"y\"},{\"hovertemplate\":\"variable=Effective_Federal_Funds_Rate<br>Date=%{x}<br>value=%{y}<extra></extra>\",\"legendgroup\":\"Effective_Federal_Funds_Rate\",\"line\":{\"dash\":\"solid\"},\"mode\":\"lines\",\"name\":\"Effective_Federal_Funds_Rate\",\"showlegend\":true,\"type\":\"scattergl\",\"x\":[\"2014-02-01\",\"2014-03-01\",\"2014-04-01\",\"2014-05-01\",\"2014-06-01\",\"2014-07-01\",\"2014-08-01\",\"2014-09-01\",\"2014-10-01\",\"2014-11-01\",\"2014-12-01\",\"2015-01-01\",\"2015-02-01\",\"2015-03-01\",\"2015-04-01\",\"2015-05-01\",\"2015-06-01\",\"2015-07-01\",\"2015-08-01\",\"2015-09-01\",\"2015-10-01\",\"2015-11-01\",\"2015-12-01\",\"2016-01-01\",\"2016-02-01\",\"2016-03-01\",\"2016-04-01\",\"2016-05-01\",\"2016-06-01\",\"2016-07-01\",\"2016-08-01\",\"2016-09-01\",\"2016-10-01\",\"2016-11-01\",\"2016-12-01\",\"2017-01-01\",\"2017-02-01\",\"2017-03-01\",\"2017-04-01\",\"2017-05-01\",\"2017-06-01\",\"2017-07-01\",\"2017-08-01\",\"2017-09-01\",\"2017-10-01\",\"2017-11-01\",\"2017-12-01\",\"2018-01-01\",\"2018-02-01\",\"2018-03-01\",\"2018-04-01\",\"2018-05-01\",\"2018-06-01\",\"2018-07-01\",\"2018-08-01\",\"2018-09-01\",\"2018-10-01\",\"2018-11-01\",\"2018-12-01\",\"2019-01-01\",\"2019-02-01\",\"2019-03-01\",\"2019-04-01\",\"2019-05-01\",\"2019-06-01\",\"2019-07-01\",\"2019-08-01\",\"2019-09-01\",\"2019-10-01\",\"2019-11-01\",\"2019-12-01\",\"2020-01-01\",\"2020-02-01\",\"2020-03-01\",\"2020-04-01\",\"2020-05-01\",\"2020-06-01\",\"2020-07-01\",\"2020-08-01\",\"2020-09-01\",\"2020-10-01\",\"2020-11-01\",\"2020-12-01\"],\"xaxis\":\"x\",\"y\":[0.07,0.08,0.09,0.09,0.1,0.09,0.09,0.09,0.09,0.09,0.12,0.11,0.11,0.11,0.12,0.12,0.13,0.13,0.14,0.14,0.12,0.12,0.24,0.34,0.38,0.36,0.37,0.37,0.38,0.39,0.4,0.4,0.4,0.41,0.54,0.65,0.66,0.79,0.9,0.91,1.04,1.15,1.16,1.15,1.15,1.16,1.3,1.41,1.42,1.51,1.67,1.7,1.82,1.91,1.91,1.95,2.19,2.2,2.27,2.4,2.4,2.41,2.42,2.39,2.38,2.4,2.13,2.04,1.83,1.55,1.55,1.55,1.58,0.65,0.05,0.05,0.08,0.09,0.1,0.09,0.09,0.09,0.09],\"yaxis\":\"y2\"}],                        {\"template\":{\"data\":{\"bar\":[{\"error_x\":{\"color\":\"#2a3f5f\"},\"error_y\":{\"color\":\"#2a3f5f\"},\"marker\":{\"line\":{\"color\":\"#E5ECF6\",\"width\":0.5},\"pattern\":{\"fillmode\":\"overlay\",\"size\":10,\"solidity\":0.2}},\"type\":\"bar\"}],\"barpolar\":[{\"marker\":{\"line\":{\"color\":\"#E5ECF6\",\"width\":0.5},\"pattern\":{\"fillmode\":\"overlay\",\"size\":10,\"solidity\":0.2}},\"type\":\"barpolar\"}],\"carpet\":[{\"aaxis\":{\"endlinecolor\":\"#2a3f5f\",\"gridcolor\":\"white\",\"linecolor\":\"white\",\"minorgridcolor\":\"white\",\"startlinecolor\":\"#2a3f5f\"},\"baxis\":{\"endlinecolor\":\"#2a3f5f\",\"gridcolor\":\"white\",\"linecolor\":\"white\",\"minorgridcolor\":\"white\",\"startlinecolor\":\"#2a3f5f\"},\"type\":\"carpet\"}],\"choropleth\":[{\"colorbar\":{\"outlinewidth\":0,\"ticks\":\"\"},\"type\":\"choropleth\"}],\"contour\":[{\"colorbar\":{\"outlinewidth\":0,\"ticks\":\"\"},\"colorscale\":[[0.0,\"#0d0887\"],[0.1111111111111111,\"#46039f\"],[0.2222222222222222,\"#7201a8\"],[0.3333333333333333,\"#9c179e\"],[0.4444444444444444,\"#bd3786\"],[0.5555555555555556,\"#d8576b\"],[0.6666666666666666,\"#ed7953\"],[0.7777777777777778,\"#fb9f3a\"],[0.8888888888888888,\"#fdca26\"],[1.0,\"#f0f921\"]],\"type\":\"contour\"}],\"contourcarpet\":[{\"colorbar\":{\"outlinewidth\":0,\"ticks\":\"\"},\"type\":\"contourcarpet\"}],\"heatmap\":[{\"colorbar\":{\"outlinewidth\":0,\"ticks\":\"\"},\"colorscale\":[[0.0,\"#0d0887\"],[0.1111111111111111,\"#46039f\"],[0.2222222222222222,\"#7201a8\"],[0.3333333333333333,\"#9c179e\"],[0.4444444444444444,\"#bd3786\"],[0.5555555555555556,\"#d8576b\"],[0.6666666666666666,\"#ed7953\"],[0.7777777777777778,\"#fb9f3a\"],[0.8888888888888888,\"#fdca26\"],[1.0,\"#f0f921\"]],\"type\":\"heatmap\"}],\"heatmapgl\":[{\"colorbar\":{\"outlinewidth\":0,\"ticks\":\"\"},\"colorscale\":[[0.0,\"#0d0887\"],[0.1111111111111111,\"#46039f\"],[0.2222222222222222,\"#7201a8\"],[0.3333333333333333,\"#9c179e\"],[0.4444444444444444,\"#bd3786\"],[0.5555555555555556,\"#d8576b\"],[0.6666666666666666,\"#ed7953\"],[0.7777777777777778,\"#fb9f3a\"],[0.8888888888888888,\"#fdca26\"],[1.0,\"#f0f921\"]],\"type\":\"heatmapgl\"}],\"histogram\":[{\"marker\":{\"pattern\":{\"fillmode\":\"overlay\",\"size\":10,\"solidity\":0.2}},\"type\":\"histogram\"}],\"histogram2d\":[{\"colorbar\":{\"outlinewidth\":0,\"ticks\":\"\"},\"colorscale\":[[0.0,\"#0d0887\"],[0.1111111111111111,\"#46039f\"],[0.2222222222222222,\"#7201a8\"],[0.3333333333333333,\"#9c179e\"],[0.4444444444444444,\"#bd3786\"],[0.5555555555555556,\"#d8576b\"],[0.6666666666666666,\"#ed7953\"],[0.7777777777777778,\"#fb9f3a\"],[0.8888888888888888,\"#fdca26\"],[1.0,\"#f0f921\"]],\"type\":\"histogram2d\"}],\"histogram2dcontour\":[{\"colorbar\":{\"outlinewidth\":0,\"ticks\":\"\"},\"colorscale\":[[0.0,\"#0d0887\"],[0.1111111111111111,\"#46039f\"],[0.2222222222222222,\"#7201a8\"],[0.3333333333333333,\"#9c179e\"],[0.4444444444444444,\"#bd3786\"],[0.5555555555555556,\"#d8576b\"],[0.6666666666666666,\"#ed7953\"],[0.7777777777777778,\"#fb9f3a\"],[0.8888888888888888,\"#fdca26\"],[1.0,\"#f0f921\"]],\"type\":\"histogram2dcontour\"}],\"mesh3d\":[{\"colorbar\":{\"outlinewidth\":0,\"ticks\":\"\"},\"type\":\"mesh3d\"}],\"parcoords\":[{\"line\":{\"colorbar\":{\"outlinewidth\":0,\"ticks\":\"\"}},\"type\":\"parcoords\"}],\"pie\":[{\"automargin\":true,\"type\":\"pie\"}],\"scatter\":[{\"marker\":{\"colorbar\":{\"outlinewidth\":0,\"ticks\":\"\"}},\"type\":\"scatter\"}],\"scatter3d\":[{\"line\":{\"colorbar\":{\"outlinewidth\":0,\"ticks\":\"\"}},\"marker\":{\"colorbar\":{\"outlinewidth\":0,\"ticks\":\"\"}},\"type\":\"scatter3d\"}],\"scattercarpet\":[{\"marker\":{\"colorbar\":{\"outlinewidth\":0,\"ticks\":\"\"}},\"type\":\"scattercarpet\"}],\"scattergeo\":[{\"marker\":{\"colorbar\":{\"outlinewidth\":0,\"ticks\":\"\"}},\"type\":\"scattergeo\"}],\"scattergl\":[{\"marker\":{\"colorbar\":{\"outlinewidth\":0,\"ticks\":\"\"}},\"type\":\"scattergl\"}],\"scattermapbox\":[{\"marker\":{\"colorbar\":{\"outlinewidth\":0,\"ticks\":\"\"}},\"type\":\"scattermapbox\"}],\"scatterpolar\":[{\"marker\":{\"colorbar\":{\"outlinewidth\":0,\"ticks\":\"\"}},\"type\":\"scatterpolar\"}],\"scatterpolargl\":[{\"marker\":{\"colorbar\":{\"outlinewidth\":0,\"ticks\":\"\"}},\"type\":\"scatterpolargl\"}],\"scatterternary\":[{\"marker\":{\"colorbar\":{\"outlinewidth\":0,\"ticks\":\"\"}},\"type\":\"scatterternary\"}],\"surface\":[{\"colorbar\":{\"outlinewidth\":0,\"ticks\":\"\"},\"colorscale\":[[0.0,\"#0d0887\"],[0.1111111111111111,\"#46039f\"],[0.2222222222222222,\"#7201a8\"],[0.3333333333333333,\"#9c179e\"],[0.4444444444444444,\"#bd3786\"],[0.5555555555555556,\"#d8576b\"],[0.6666666666666666,\"#ed7953\"],[0.7777777777777778,\"#fb9f3a\"],[0.8888888888888888,\"#fdca26\"],[1.0,\"#f0f921\"]],\"type\":\"surface\"}],\"table\":[{\"cells\":{\"fill\":{\"color\":\"#EBF0F8\"},\"line\":{\"color\":\"white\"}},\"header\":{\"fill\":{\"color\":\"#C8D4E3\"},\"line\":{\"color\":\"white\"}},\"type\":\"table\"}]},\"layout\":{\"annotationdefaults\":{\"arrowcolor\":\"#2a3f5f\",\"arrowhead\":0,\"arrowwidth\":1},\"autotypenumbers\":\"strict\",\"coloraxis\":{\"colorbar\":{\"outlinewidth\":0,\"ticks\":\"\"}},\"colorscale\":{\"diverging\":[[0,\"#8e0152\"],[0.1,\"#c51b7d\"],[0.2,\"#de77ae\"],[0.3,\"#f1b6da\"],[0.4,\"#fde0ef\"],[0.5,\"#f7f7f7\"],[0.6,\"#e6f5d0\"],[0.7,\"#b8e186\"],[0.8,\"#7fbc41\"],[0.9,\"#4d9221\"],[1,\"#276419\"]],\"sequential\":[[0.0,\"#0d0887\"],[0.1111111111111111,\"#46039f\"],[0.2222222222222222,\"#7201a8\"],[0.3333333333333333,\"#9c179e\"],[0.4444444444444444,\"#bd3786\"],[0.5555555555555556,\"#d8576b\"],[0.6666666666666666,\"#ed7953\"],[0.7777777777777778,\"#fb9f3a\"],[0.8888888888888888,\"#fdca26\"],[1.0,\"#f0f921\"]],\"sequentialminus\":[[0.0,\"#0d0887\"],[0.1111111111111111,\"#46039f\"],[0.2222222222222222,\"#7201a8\"],[0.3333333333333333,\"#9c179e\"],[0.4444444444444444,\"#bd3786\"],[0.5555555555555556,\"#d8576b\"],[0.6666666666666666,\"#ed7953\"],[0.7777777777777778,\"#fb9f3a\"],[0.8888888888888888,\"#fdca26\"],[1.0,\"#f0f921\"]]},\"colorway\":[\"#636efa\",\"#EF553B\",\"#00cc96\",\"#ab63fa\",\"#FFA15A\",\"#19d3f3\",\"#FF6692\",\"#B6E880\",\"#FF97FF\",\"#FECB52\"],\"font\":{\"color\":\"#2a3f5f\"},\"geo\":{\"bgcolor\":\"white\",\"lakecolor\":\"white\",\"landcolor\":\"#E5ECF6\",\"showlakes\":true,\"showland\":true,\"subunitcolor\":\"white\"},\"hoverlabel\":{\"align\":\"left\"},\"hovermode\":\"closest\",\"mapbox\":{\"style\":\"light\"},\"paper_bgcolor\":\"white\",\"plot_bgcolor\":\"#E5ECF6\",\"polar\":{\"angularaxis\":{\"gridcolor\":\"white\",\"linecolor\":\"white\",\"ticks\":\"\"},\"bgcolor\":\"#E5ECF6\",\"radialaxis\":{\"gridcolor\":\"white\",\"linecolor\":\"white\",\"ticks\":\"\"}},\"scene\":{\"xaxis\":{\"backgroundcolor\":\"#E5ECF6\",\"gridcolor\":\"white\",\"gridwidth\":2,\"linecolor\":\"white\",\"showbackground\":true,\"ticks\":\"\",\"zerolinecolor\":\"white\"},\"yaxis\":{\"backgroundcolor\":\"#E5ECF6\",\"gridcolor\":\"white\",\"gridwidth\":2,\"linecolor\":\"white\",\"showbackground\":true,\"ticks\":\"\",\"zerolinecolor\":\"white\"},\"zaxis\":{\"backgroundcolor\":\"#E5ECF6\",\"gridcolor\":\"white\",\"gridwidth\":2,\"linecolor\":\"white\",\"showbackground\":true,\"ticks\":\"\",\"zerolinecolor\":\"white\"}},\"shapedefaults\":{\"line\":{\"color\":\"#2a3f5f\"}},\"ternary\":{\"aaxis\":{\"gridcolor\":\"white\",\"linecolor\":\"white\",\"ticks\":\"\"},\"baxis\":{\"gridcolor\":\"white\",\"linecolor\":\"white\",\"ticks\":\"\"},\"bgcolor\":\"#E5ECF6\",\"caxis\":{\"gridcolor\":\"white\",\"linecolor\":\"white\",\"ticks\":\"\"}},\"title\":{\"x\":0.05},\"xaxis\":{\"automargin\":true,\"gridcolor\":\"white\",\"linecolor\":\"white\",\"ticks\":\"\",\"title\":{\"standoff\":15},\"zerolinecolor\":\"white\",\"zerolinewidth\":2},\"yaxis\":{\"automargin\":true,\"gridcolor\":\"white\",\"linecolor\":\"white\",\"ticks\":\"\",\"title\":{\"standoff\":15},\"zerolinecolor\":\"white\",\"zerolinewidth\":2}}},\"title\":{\"text\":\"Interest rate and median rent in San Francisco, CA, from 2014-02 to 2019-12\"},\"xaxis\":{\"anchor\":\"y\",\"domain\":[0.0,0.94],\"range\":[\"2014-02-01\",\"2019-12-31\"],\"title\":{\"text\":\"Date\"}},\"yaxis\":{\"anchor\":\"x\",\"domain\":[0.0,1.0],\"title\":{\"text\":\"Median Rent ($ USD)\"}},\"yaxis2\":{\"anchor\":\"x\",\"overlaying\":\"y\",\"side\":\"right\",\"title\":{\"text\":\"Federal Interest Rate (%)\"}}},                        {\"responsive\": true}                    ).then(function(){\n",
       "                            \n",
       "var gd = document.getElementById('fef27cf4-fca5-4a1a-9e76-8c9a3aafd0e2');\n",
       "var x = new MutationObserver(function (mutations, observer) {{\n",
       "        var display = window.getComputedStyle(gd).display;\n",
       "        if (!display || display === 'none') {{\n",
       "            console.log([gd, 'removed!']);\n",
       "            Plotly.purge(gd);\n",
       "            observer.disconnect();\n",
       "        }}\n",
       "}});\n",
       "\n",
       "// Listen for the removal of the full notebook cells\n",
       "var notebookContainer = gd.closest('#notebook-container');\n",
       "if (notebookContainer) {{\n",
       "    x.observe(notebookContainer, {childList: true});\n",
       "}}\n",
       "\n",
       "// Listen for the clearing of the current output cell\n",
       "var outputEl = gd.closest('.output');\n",
       "if (outputEl) {{\n",
       "    x.observe(outputEl, {childList: true});\n",
       "}}\n",
       "\n",
       "                        })                };                });            </script>        </div>"
      ]
     },
     "metadata": {},
     "output_type": "display_data"
    },
    {
     "data": {
      "text/plain": [
       "'https://plotly.com/~edtsoi430/13/'"
      ]
     },
     "execution_count": 325,
     "metadata": {},
     "output_type": "execute_result"
    }
   ],
   "source": [
    "df_rate = pd.read_csv('dataset/interest_rate_cleaned.csv')\n",
    "rent_data_with_rates = plotly_double_y_axes(sanfrancisco_df, df_rate, 'Studio','1 Bedroom','2 Bedrooms','3 Bedrooms',\n",
    "                                       'Interest rate and median rent in San Francisco, CA, from 2014-02 to 2019-12','2014-02-01','2019-12-31')\n",
    "rent_data_with_rates\n",
    "# Upload graph to plotly website.\n",
    "py.plot(rent_data_with_rates, filename=\"Interest rate and median rent in San Francisco, CA, from 2014-02 to 2019-12\", auto_open=False)"
   ]
  },
  {
   "cell_type": "markdown",
   "id": "b0a69e6c",
   "metadata": {},
   "source": [
    "## 2. Unemployment rate and rent in San Francisco"
   ]
  },
  {
   "cell_type": "code",
   "execution_count": 336,
   "id": "9ccd65db",
   "metadata": {},
   "outputs": [],
   "source": [
    "# Combine year month into \"Date\"\n",
    "cols = [\"Year\", \"Month\", \"Day\"]\n",
    "df_rate = pd.read_csv('dataset/interest_rate.csv')\n",
    "df_rate['Date'] = df_rate[cols].apply(lambda x: '-'.join(x.values.astype(str)), axis=\"columns\")\n",
    "# Convert \"date\" into date type.\n",
    "df_rate[\"Date\"] = pd.to_datetime(df_rate[\"Date\"]).dt.date\n",
    "mask = (df_rate['Date'] >= datetime.date(2010, 1, 1)) & (df_rate['Date'] <= datetime.date(2019, 12, 31)) & (df_rate['Day'] == 1)\n",
    "df_rate = df_rate.loc[mask]\n",
    "# df_rate.to_excel(\"test.xlsx\")"
   ]
  },
  {
   "cell_type": "code",
   "execution_count": 363,
   "id": "494a1258",
   "metadata": {},
   "outputs": [
    {
     "data": {
      "text/html": [
       "<div>\n",
       "<style scoped>\n",
       "    .dataframe tbody tr th:only-of-type {\n",
       "        vertical-align: middle;\n",
       "    }\n",
       "\n",
       "    .dataframe tbody tr th {\n",
       "        vertical-align: top;\n",
       "    }\n",
       "\n",
       "    .dataframe thead th {\n",
       "        text-align: right;\n",
       "    }\n",
       "</style>\n",
       "<table border=\"1\" class=\"dataframe\">\n",
       "  <thead>\n",
       "    <tr style=\"text-align: right;\">\n",
       "      <th></th>\n",
       "      <th>Sale_Prices_City</th>\n",
       "      <th>Studio</th>\n",
       "      <th>1 Bedroom</th>\n",
       "      <th>2 Bedrooms</th>\n",
       "      <th>3 Bedrooms</th>\n",
       "      <th>Date</th>\n",
       "    </tr>\n",
       "  </thead>\n",
       "  <tbody>\n",
       "    <tr>\n",
       "      <th>2014-02</th>\n",
       "      <td>1467.0</td>\n",
       "      <td>1549.0</td>\n",
       "      <td>1681.0</td>\n",
       "      <td>1700.0</td>\n",
       "      <td>NaN</td>\n",
       "      <td>2014-02</td>\n",
       "    </tr>\n",
       "    <tr>\n",
       "      <th>2014-03</th>\n",
       "      <td>1450.0</td>\n",
       "      <td>1510.0</td>\n",
       "      <td>1695.0</td>\n",
       "      <td>1749.0</td>\n",
       "      <td>NaN</td>\n",
       "      <td>2014-03</td>\n",
       "    </tr>\n",
       "    <tr>\n",
       "      <th>2014-04</th>\n",
       "      <td>1450.0</td>\n",
       "      <td>1498.0</td>\n",
       "      <td>1681.0</td>\n",
       "      <td>1825.0</td>\n",
       "      <td>NaN</td>\n",
       "      <td>2014-04</td>\n",
       "    </tr>\n",
       "    <tr>\n",
       "      <th>2014-05</th>\n",
       "      <td>1495.0</td>\n",
       "      <td>1495.0</td>\n",
       "      <td>1710.0</td>\n",
       "      <td>1999.0</td>\n",
       "      <td>NaN</td>\n",
       "      <td>2014-05</td>\n",
       "    </tr>\n",
       "    <tr>\n",
       "      <th>2014-06</th>\n",
       "      <td>1532.0</td>\n",
       "      <td>1544.0</td>\n",
       "      <td>1780.0</td>\n",
       "      <td>2100.0</td>\n",
       "      <td>NaN</td>\n",
       "      <td>2014-06</td>\n",
       "    </tr>\n",
       "    <tr>\n",
       "      <th>...</th>\n",
       "      <td>...</td>\n",
       "      <td>...</td>\n",
       "      <td>...</td>\n",
       "      <td>...</td>\n",
       "      <td>...</td>\n",
       "      <td>...</td>\n",
       "    </tr>\n",
       "    <tr>\n",
       "      <th>2019-07</th>\n",
       "      <td>1410.0</td>\n",
       "      <td>1600.0</td>\n",
       "      <td>1850.0</td>\n",
       "      <td>2225.0</td>\n",
       "      <td>3000.0</td>\n",
       "      <td>2019-07</td>\n",
       "    </tr>\n",
       "    <tr>\n",
       "      <th>2019-08</th>\n",
       "      <td>1430.0</td>\n",
       "      <td>1582.0</td>\n",
       "      <td>1825.0</td>\n",
       "      <td>2100.0</td>\n",
       "      <td>2800.0</td>\n",
       "      <td>2019-08</td>\n",
       "    </tr>\n",
       "    <tr>\n",
       "      <th>2019-09</th>\n",
       "      <td>1458.0</td>\n",
       "      <td>1595.0</td>\n",
       "      <td>1825.0</td>\n",
       "      <td>2000.0</td>\n",
       "      <td>2600.0</td>\n",
       "      <td>2019-09</td>\n",
       "    </tr>\n",
       "    <tr>\n",
       "      <th>2019-10</th>\n",
       "      <td>1405.0</td>\n",
       "      <td>1542.0</td>\n",
       "      <td>1750.0</td>\n",
       "      <td>1950.0</td>\n",
       "      <td>2400.0</td>\n",
       "      <td>2019-10</td>\n",
       "    </tr>\n",
       "    <tr>\n",
       "      <th>2019-11</th>\n",
       "      <td>1450.0</td>\n",
       "      <td>1550.0</td>\n",
       "      <td>1730.0</td>\n",
       "      <td>1895.0</td>\n",
       "      <td>2395.0</td>\n",
       "      <td>2019-11</td>\n",
       "    </tr>\n",
       "  </tbody>\n",
       "</table>\n",
       "<p>70 rows × 6 columns</p>\n",
       "</div>"
      ],
      "text/plain": [
       "        Sale_Prices_City  Studio 1 Bedroom 2 Bedrooms 3 Bedrooms     Date\n",
       "2014-02           1467.0  1549.0    1681.0     1700.0        NaN  2014-02\n",
       "2014-03           1450.0  1510.0    1695.0     1749.0        NaN  2014-03\n",
       "2014-04           1450.0  1498.0    1681.0     1825.0        NaN  2014-04\n",
       "2014-05           1495.0  1495.0    1710.0     1999.0        NaN  2014-05\n",
       "2014-06           1532.0  1544.0    1780.0     2100.0        NaN  2014-06\n",
       "...                  ...     ...       ...        ...        ...      ...\n",
       "2019-07           1410.0  1600.0    1850.0     2225.0     3000.0  2019-07\n",
       "2019-08           1430.0  1582.0    1825.0     2100.0     2800.0  2019-08\n",
       "2019-09           1458.0  1595.0    1825.0     2000.0     2600.0  2019-09\n",
       "2019-10           1405.0  1542.0    1750.0     1950.0     2400.0  2019-10\n",
       "2019-11           1450.0  1550.0    1730.0     1895.0     2395.0  2019-11\n",
       "\n",
       "[70 rows x 6 columns]"
      ]
     },
     "execution_count": 363,
     "metadata": {},
     "output_type": "execute_result"
    }
   ],
   "source": [
    "# sanfrancisco_df = load_zillow_data(state='CA',county='San Francisco County',\n",
    "#                               region='San Francisco',city='San Francisco-Oakland-Hayward')\n",
    "queens_df = load_zillow_data(state=\"NY\", county=\"Queens County\")\n",
    "\n",
    "dallas_df = load_zillow_data(state='TX', county=\"Dallas County\", region='Dallas')\n",
    "\n",
    "tucson_df = load_zillow_data(state='AZ', region='Tucson')\n",
    "\n",
    "columbus_df = load_zillow_data(state='OH', region='Columbus')\n",
    "\n",
    "seattle_df = load_zillow_data(state='WA', region='Seattle')\n",
    "\n",
    "chicago_df = load_zillow_data(state='IL', region='Chicago')\n",
    "\n",
    "chicago_df"
   ]
  },
  {
   "cell_type": "code",
   "execution_count": null,
   "id": "917e33c6",
   "metadata": {},
   "outputs": [],
   "source": []
  }
 ],
 "metadata": {
  "hide_code_all_hidden": false,
  "kernelspec": {
   "display_name": "Python 3 (ipykernel)",
   "language": "python",
   "name": "python3"
  },
  "language_info": {
   "codemirror_mode": {
    "name": "ipython",
    "version": 3
   },
   "file_extension": ".py",
   "mimetype": "text/x-python",
   "name": "python",
   "nbconvert_exporter": "python",
   "pygments_lexer": "ipython3",
   "version": "3.9.7"
  }
 },
 "nbformat": 4,
 "nbformat_minor": 5
}
